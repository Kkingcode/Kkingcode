{
 "cells": [
  {
   "cell_type": "code",
   "execution_count": 37,
   "id": "a9ce171d",
   "metadata": {},
   "outputs": [
    {
     "name": "stdout",
     "output_type": "stream",
     "text": [
      "[0, 1, 2, 3, 4, 5, 6, 7, 8, 9, 10, 11, 12, 13, 14, 15, 16, 17, 18, 19, 20, 21, 22, 23, 24, 25, 26, 27, 28, 29, 30, 31, 32, 33, 34, 35, 36, 37, 38, 39, 40, 41, 42, 43, 44, 45, 46, 47, 48, 49, 50, 51, 52, 53, 54, 55, 56, 57, 58, 59, 60, 61, 62, 63, 64, 65, 66, 67, 68, 69, 70, 71, 72, 73, 74, 75, 76, 77, 78, 79, 80, 81, 82, 83, 84, 85, 86, 87, 88, 89, 90, 91, 92, 93, 94, 95, 96, 97, 98, 99]\n"
     ]
    }
   ],
   "source": [
    "a = [x for x in range (0, 100)]\n",
    "print (a)"
   ]
  },
  {
   "cell_type": "code",
   "execution_count": 38,
   "id": "4d5cbf0e",
   "metadata": {},
   "outputs": [
    {
     "name": "stdout",
     "output_type": "stream",
     "text": [
      "[0, 1, 2, 3, 4, 5, 6, 7, 8, 9, 10, 11, 12, 13, 14, 15, 16, 17, 18, 19, 20, 21, 22, 23, 24, 25, 26, 27, 28, 29, 30, 31, 32, 33, 34, 35, 36, 37, 38, 39, 40, 41, 42, 43, 44, 45, 46, 47, 48, 49, 50, 51, 52, 53, 54, 55, 56, 57, 58, 59, 60, 61, 62, 63, 64, 65, 66, 67, 68, 69, 70, 71, 72, 73, 74, 75, 76, 77, 78, 79, 80, 81, 82, 83, 84, 85, 86, 87, 88, 89, 90, 91, 92, 93, 94, 95, 96, 97, 98, 99]\n"
     ]
    }
   ],
   "source": [
    "a = []\n",
    "for i in range (0, 100):\n",
    "    a.append(i)\n",
    "print (a)"
   ]
  },
  {
   "cell_type": "code",
   "execution_count": 6,
   "id": "e9e6149b",
   "metadata": {},
   "outputs": [
    {
     "name": "stdout",
     "output_type": "stream",
     "text": [
      "[10, 20, 30, 40, 50, 60, 70, 80, 90]\n"
     ]
    }
   ],
   "source": [
    "a = []\n",
    "for i in range (0, 100, 10):\n",
    "    if i > 0:\n",
    "        a.append(i)\n",
    "print (a)"
   ]
  },
  {
   "cell_type": "code",
   "execution_count": 7,
   "id": "81b620f1",
   "metadata": {},
   "outputs": [
    {
     "name": "stdout",
     "output_type": "stream",
     "text": [
      "[10, 20, 30, 40, 50, 60, 70, 80, 90]\n"
     ]
    }
   ],
   "source": [
    "a = [x for x in range (0, 100) if x % 10 == 0 and x>0]\n",
    "print (a)\n",
    "\n"
   ]
  },
  {
   "cell_type": "code",
   "execution_count": 39,
   "id": "3867575d",
   "metadata": {},
   "outputs": [],
   "source": [
    "a = [34, 5, 7, 23]\n",
    "b = [89, 1, 98]"
   ]
  },
  {
   "cell_type": "code",
   "execution_count": 40,
   "id": "cd3b23b4",
   "metadata": {},
   "outputs": [
    {
     "name": "stdout",
     "output_type": "stream",
     "text": [
      "[34, 5, 7, 23, 89, 1, 98]\n"
     ]
    }
   ],
   "source": [
    "c = a+b\n",
    "print(c)"
   ]
  },
  {
   "cell_type": "code",
   "execution_count": 46,
   "id": "9838927d",
   "metadata": {},
   "outputs": [
    {
     "name": "stdout",
     "output_type": "stream",
     "text": [
      "[34, 5, 7, 23, 89, 1, 89, 1, 98, 89, 1, 89, 1, 98]\n"
     ]
    }
   ],
   "source": [
    "# Extend is used if you still want to make change to the previous variables\n",
    "# So, if you want to add one thing to your list, use append(). \n",
    "# But if you want to add many things to your list at once, use extend().\n",
    "\n",
    "a.extend(b)\n",
    "print(a)"
   ]
  },
  {
   "cell_type": "code",
   "execution_count": 45,
   "id": "bc09c01a-bd7d-47bc-9fb3-bab471b03cc8",
   "metadata": {},
   "outputs": [
    {
     "data": {
      "text/plain": [
       "98"
      ]
     },
     "execution_count": 45,
     "metadata": {},
     "output_type": "execute_result"
    }
   ],
   "source": [
    "# If you added elements to a list multiple times using the extend() method, \n",
    "# you can remove those elements by using the pop() method.\n",
    "\n",
    "a.pop()"
   ]
  },
  {
   "cell_type": "code",
   "execution_count": 36,
   "id": "0f951642-5199-445b-9605-865267bb1e5d",
   "metadata": {},
   "outputs": [
    {
     "name": "stdout",
     "output_type": "stream",
     "text": [
      "[]\n"
     ]
    }
   ],
   "source": [
    "# If you want to remove all the elements from a list at once, \n",
    "# you can use the clear() method.\n",
    "\n",
    "a.clear()\n",
    "print (a)"
   ]
  },
  {
   "cell_type": "code",
   "execution_count": 27,
   "id": "b1e1c4d1",
   "metadata": {},
   "outputs": [],
   "source": [
    "# Iterating over a ist and checking membership\n",
    "list_1 = [x for x in range (0, 100)]\n",
    "if list_1 == 25:\n",
    "    print (\"True\")\n",
    "    if list_1 == -45:\n",
    "        print (\"False\")\n",
    "        list_1"
   ]
  },
  {
   "cell_type": "code",
   "execution_count": 22,
   "id": "26df933e",
   "metadata": {},
   "outputs": [
    {
     "name": "stdout",
     "output_type": "stream",
     "text": [
      "True\n",
      "False\n"
     ]
    }
   ],
   "source": [
    "list_1 = [x for x in range (0, 100)]\n",
    "print (25 in list_1)\n",
    "print (-45 in list_1)"
   ]
  },
  {
   "cell_type": "code",
   "execution_count": 25,
   "id": "9c053e42",
   "metadata": {},
   "outputs": [
    {
     "data": {
      "text/plain": [
       "[-9, 1, 2, 10, 45]"
      ]
     },
     "execution_count": 25,
     "metadata": {},
     "output_type": "execute_result"
    }
   ],
   "source": [
    "# SORTING\n",
    "list_1 = [2, 45, 1, -9, 10]\n",
    "list_1.sort()\n",
    "list_1"
   ]
  },
  {
   "cell_type": "code",
   "execution_count": 28,
   "id": "78ba29c2",
   "metadata": {},
   "outputs": [
    {
     "data": {
      "text/plain": [
       "[45, 10, 2, 1, -9]"
      ]
     },
     "execution_count": 28,
     "metadata": {},
     "output_type": "execute_result"
    }
   ],
   "source": [
    "list_1.reverse()\n",
    "list_1"
   ]
  },
  {
   "cell_type": "code",
   "execution_count": 29,
   "id": "504c33c7",
   "metadata": {},
   "outputs": [
    {
     "data": {
      "text/plain": [
       "[45, 10, 2, 1, -9]"
      ]
     },
     "execution_count": 29,
     "metadata": {},
     "output_type": "execute_result"
    }
   ],
   "source": [
    "list_1 = [2, 45, 1, -9, 10]\n",
    "list_1.sort(reverse = True)\n",
    "list_1"
   ]
  },
  {
   "cell_type": "code",
   "execution_count": 56,
   "id": "257c80e0",
   "metadata": {},
   "outputs": [
    {
     "name": "stdout",
     "output_type": "stream",
     "text": [
      "False\n",
      "True\n",
      "True\n",
      "[9, 20, 3, 1, 23, 29, 11, 29, 6, 13, 7, 4, 11, 16, 25, 2, 16, 25, 2, 9, 7, 22, 7, 1, 6, 26, 27, 20, 7, 22, 8, 23, 30, 26, 14, 18, 0, 21, 7, 9, 15, 3, 13, 4, 18, 1, 25, 22, 14, 5, 2, 0, 24, 26, 20, 4, 26, 30, 9, 12, 20, 22, 4, 21, 17, 26, 14, 2, 7, 18, 1, 20, 23, 17, 28, 17, 5, 13, 5, 6, 12, 1, 19, 27, 10, 27, 16, 1, 16, 28, 15, 10, 22, 16, 5, 11, 4, 14, 22, 5]\n"
     ]
    }
   ],
   "source": [
    "import random\n",
    "list_1 = [random.randint(0,30) for i in range (0,100)]\n",
    "print(50 in list_1)\n",
    "print(30 in list_1)\n",
    "print(26 in list_1)\n",
    "\n",
    "\n",
    "print(list_1)"
   ]
  },
  {
   "cell_type": "markdown",
   "id": "58b35604",
   "metadata": {},
   "source": [
    "### Assignment\n",
    "##### Aim: To create and handle lists gracefully\n",
    "scenario: Generate a list of random numbers and then generate another list from the first one that only contains numbers that are divisible by three. Repeat the experiment a few times. What is the average difference in lenght between the two lists?"
   ]
  },
  {
   "cell_type": "code",
   "execution_count": 6,
   "id": "d7778a06",
   "metadata": {},
   "outputs": [
    {
     "name": "stdout",
     "output_type": "stream",
     "text": [
      "[74, 20, 50, 25, 98, 57, 50, 12, 49, 13, 55, 16, 66, 84, 54, 81, 50, 45, 88, 19, 66, 59, 79, 91, 35]\n",
      "[57, 12, 66, 84, 54, 81, 45, 66]\n",
      "[12, 66, 84, 54, 66]\n",
      "[]\n",
      "Sum of all lenght is:  9.5\n",
      "The Average difference is:  15.5\n"
     ]
    }
   ],
   "source": [
    "# Soln\n",
    "import random\n",
    "list1=[random.randint(1,100) for x in range(0, 25)]\n",
    "\n",
    "print (list1)\n",
    "list2 =[x for x in list1 if x % 3 == 0 and x > 0]\n",
    "print (list2)\n",
    "list3 = [x for x in list2 if x % 2 == 0 and x > 0]\n",
    "print (list3)\n",
    "list4 = [x for x in list3 if x % 5 == 0 and x > 0]\n",
    "print (list4)\n",
    "\n",
    "a = (len(list1))\n",
    "b = (len(list2))\n",
    "c = (len(list3))\n",
    "d = (len(list4))\n",
    "sum_len = (a+b+c+d)/4\n",
    "print (\"Sum of all lenght is: \",sum_len)\n",
    "\n",
    "ave_dif = (a - sum_len) \n",
    "print (\"The Average difference is: \",ave_dif)"
   ]
  },
  {
   "cell_type": "code",
   "execution_count": 12,
   "id": "d18884c6",
   "metadata": {
    "scrolled": true
   },
   "outputs": [
    {
     "name": "stdout",
     "output_type": "stream",
     "text": [
      "Enter number of times2\n",
      "Enter Limit: \n"
     ]
    },
    {
     "ename": "ValueError",
     "evalue": "invalid literal for int() with base 10: ''",
     "output_type": "error",
     "traceback": [
      "\u001b[1;31m---------------------------------------------------------------------------\u001b[0m",
      "\u001b[1;31mValueError\u001b[0m                                Traceback (most recent call last)",
      "Input \u001b[1;32mIn [12]\u001b[0m, in \u001b[0;36m<cell line: 5>\u001b[1;34m()\u001b[0m\n\u001b[0;32m      4\u001b[0m avgdiff1 \u001b[38;5;241m=\u001b[39m []\n\u001b[0;32m      5\u001b[0m \u001b[38;5;28;01mfor\u001b[39;00m i \u001b[38;5;129;01min\u001b[39;00m \u001b[38;5;28mrange\u001b[39m (exper):\n\u001b[1;32m----> 6\u001b[0m     limit \u001b[38;5;241m=\u001b[39m \u001b[38;5;28;43mint\u001b[39;49m\u001b[43m(\u001b[49m\u001b[38;5;28;43minput\u001b[39;49m\u001b[43m(\u001b[49m\u001b[38;5;124;43m\"\u001b[39;49m\u001b[38;5;124;43mEnter Limit: \u001b[39;49m\u001b[38;5;124;43m\"\u001b[39;49m\u001b[43m)\u001b[49m\u001b[43m)\u001b[49m\n\u001b[0;32m      8\u001b[0m     list1\u001b[38;5;241m=\u001b[39m[random\u001b[38;5;241m.\u001b[39mrandrange(\u001b[38;5;241m0\u001b[39m,limit) \u001b[38;5;28;01mfor\u001b[39;00m x \u001b[38;5;129;01min\u001b[39;00m \u001b[38;5;28mrange\u001b[39m(\u001b[38;5;241m0\u001b[39m, limit)]\n\u001b[0;32m      9\u001b[0m     len1 \u001b[38;5;241m=\u001b[39m \u001b[38;5;28mlen\u001b[39m(list1)\n",
      "\u001b[1;31mValueError\u001b[0m: invalid literal for int() with base 10: ''"
     ]
    }
   ],
   "source": [
    "# correction\n",
    "import random\n",
    "exper = int(input('Enter number of times'))\n",
    "avgdiff1 = []\n",
    "for i in range (exper):\n",
    "    limit = int(input(\"Enter Limit: \"))\n",
    "    \n",
    "    list1=[random.randrange(0,limit) for x in range(0, limit)]\n",
    "    len1 = len(list1)\n",
    "    \n",
    "    listdivby3 = [x for x in list1 if x % 3 == 0 and x > 0]\n",
    "    lenlistdiv = len(listdivby3)\n",
    "    \n",
    "    diff = len1 - lenlistdiv\n",
    "    avediff = diff/2\n",
    "    avgdiff1.append(avediff)\n",
    "avg_diff = sum(avgdiff1)/len(avgdiff1)\n",
    "return avg_diff"
   ]
  },
  {
   "cell_type": "code",
   "execution_count": 15,
   "id": "8bea0723",
   "metadata": {},
   "outputs": [
    {
     "name": "stdout",
     "output_type": "stream",
     "text": [
      "Enter number of times3\n",
      "Enter Limit: 3\n",
      "Enter Limit: 3\n",
      "Enter Limit: 3\n"
     ]
    },
    {
     "ename": "SyntaxError",
     "evalue": "'return' outside function (3439656993.py, line 17)",
     "output_type": "error",
     "traceback": [
      "\u001b[1;36m  Input \u001b[1;32mIn [15]\u001b[1;36m\u001b[0m\n\u001b[1;33m    return avg_diff\u001b[0m\n\u001b[1;37m    ^\u001b[0m\n\u001b[1;31mSyntaxError\u001b[0m\u001b[1;31m:\u001b[0m 'return' outside function\n"
     ]
    }
   ],
   "source": [
    "# correction\n",
    "import random\n",
    "exper = int(input('Enter number of times'))\n",
    "avgdiff1 = []\n",
    "for i in range (exper):\n",
    "    limit = int(input(\"Enter Limit: \"))\n",
    "    list1=[random.randrange(0,limit) for x in range(0, limit)]\n",
    "    len1 = len(list1)\n",
    "\n",
    "    listdivby3 = [x for x in list1 if x % 3 == 0 and x > 0]\n",
    "    lenlistdiv = len(listdivby3)\n",
    "\n",
    "    diff = len1 - lenlistdiv\n",
    "    avediff = diff/2\n",
    "    avgdiff1.append(avediff)\n",
    "avg_diff = sum(avgdiff1)/len(avgdiff1)\n",
    "return avg_diff"
   ]
  },
  {
   "cell_type": "markdown",
   "id": "2be34ae0",
   "metadata": {},
   "source": [
    "## SET\n",
    "#### we can create a null set\n",
    "#### my_null_set = set{()}\n",
    "#### nullset = {}"
   ]
  },
  {
   "cell_type": "code",
   "execution_count": null,
   "id": "a682baa4",
   "metadata": {},
   "outputs": [],
   "source": [
    "set1 = {\"apple\", \"orange\", \"banana\"}\n",
    "set2 = {'pear', 'peach', 'mango', 'banana'}\n"
   ]
  },
  {
   "cell_type": "code",
   "execution_count": 22,
   "id": "040e9322",
   "metadata": {},
   "outputs": [
    {
     "name": "stdout",
     "output_type": "stream",
     "text": [
      "<class 'set'> <class 'dict'>\n"
     ]
    }
   ],
   "source": [
    "set1 = set({})\n",
    "set2 = {}\n",
    "print (type(set1), type(set2))"
   ]
  },
  {
   "cell_type": "markdown",
   "id": "79b8cf57",
   "metadata": {},
   "source": [
    "### DIctionary\n",
    "#### dict1 = {'oshin', 'adeniyi', 'sodiq'}"
   ]
  },
  {
   "cell_type": "code",
   "execution_count": 23,
   "id": "a6ceb174",
   "metadata": {},
   "outputs": [
    {
     "name": "stdout",
     "output_type": "stream",
     "text": [
      "2\n"
     ]
    }
   ],
   "source": [
    "my_dict = {'dayo':'08069686594', 'tayo':'080838343'}\n",
    "print (len(my_dict))"
   ]
  },
  {
   "cell_type": "code",
   "execution_count": 24,
   "id": "3e1c26e9",
   "metadata": {},
   "outputs": [
    {
     "name": "stdout",
     "output_type": "stream",
     "text": [
      "3\n"
     ]
    }
   ],
   "source": [
    "# add new element to dict\n",
    "my_dict ['taiwo'] = '9749375'\n",
    "print (len(my_dict))"
   ]
  },
  {
   "cell_type": "code",
   "execution_count": 26,
   "id": "c5a7ab76",
   "metadata": {},
   "outputs": [
    {
     "name": "stdout",
     "output_type": "stream",
     "text": [
      "3\n"
     ]
    }
   ],
   "source": [
    "# dictionary dont accept duplicate element\n",
    "my_dict['dayo'] = '38483'\n",
    "print (len(my_dict))"
   ]
  },
  {
   "cell_type": "code",
   "execution_count": 27,
   "id": "86af76e1",
   "metadata": {},
   "outputs": [
    {
     "data": {
      "text/plain": [
       "{'dayo': '38483', 'tayo': '080838343', 'taiwo': '9749375'}"
      ]
     },
     "execution_count": 27,
     "metadata": {},
     "output_type": "execute_result"
    }
   ],
   "source": [
    "my_dict"
   ]
  },
  {
   "cell_type": "code",
   "execution_count": 34,
   "id": "0739c25a",
   "metadata": {},
   "outputs": [
    {
     "name": "stdout",
     "output_type": "stream",
     "text": [
      "080838343\n",
      "080838343\n"
     ]
    }
   ],
   "source": [
    "# to get tayo number\n",
    "# practice sets and dictionary\n",
    "print (my_dict['tayo'])\n",
    "print (my_dict['tayo'])"
   ]
  },
  {
   "cell_type": "code",
   "execution_count": 35,
   "id": "5d0ba2ef",
   "metadata": {},
   "outputs": [
    {
     "name": "stdout",
     "output_type": "stream",
     "text": [
      "dayo\n",
      "tayo\n",
      "taiwo\n"
     ]
    }
   ],
   "source": [
    "# Itreating in Dictionary\n",
    "for i  in my_dict:\n",
    "    print(i)"
   ]
  },
  {
   "cell_type": "code",
   "execution_count": 36,
   "id": "c4dbc6dd",
   "metadata": {},
   "outputs": [
    {
     "name": "stdout",
     "output_type": "stream",
     "text": [
      "dayo 38483\n",
      "tayo 080838343\n",
      "taiwo 9749375\n"
     ]
    }
   ],
   "source": [
    "for i  in my_dict:\n",
    "    print(i, my_dict[i])"
   ]
  },
  {
   "cell_type": "code",
   "execution_count": 37,
   "id": "734bbcd6",
   "metadata": {},
   "outputs": [
    {
     "name": "stdout",
     "output_type": "stream",
     "text": [
      "dayo 38483\n",
      "tayo 080838343\n",
      "taiwo 9749375\n"
     ]
    }
   ],
   "source": [
    "for key, value  in my_dict.items():\n",
    "    print(key, value)"
   ]
  },
  {
   "cell_type": "code",
   "execution_count": 38,
   "id": "dc070d5b",
   "metadata": {},
   "outputs": [
    {
     "name": "stdout",
     "output_type": "stream",
     "text": [
      "38483\n"
     ]
    }
   ],
   "source": [
    "print (my_dict['dayo'])"
   ]
  },
  {
   "cell_type": "code",
   "execution_count": 39,
   "id": "ac5737c4",
   "metadata": {},
   "outputs": [
    {
     "data": {
      "text/plain": [
       "False"
      ]
     },
     "execution_count": 39,
     "metadata": {},
     "output_type": "execute_result"
    }
   ],
   "source": [
    "'bayo' in my_dict"
   ]
  },
  {
   "cell_type": "code",
   "execution_count": 44,
   "id": "d1186df6",
   "metadata": {},
   "outputs": [
    {
     "name": "stdout",
     "output_type": "stream",
     "text": [
      "81\n"
     ]
    }
   ],
   "source": [
    "# freestyle\n",
    "letter = \"Q\"\n",
    "ascii_code = ord(letter)\n",
    "# binary_code = bin(ascii_code)\n",
    "print(ascii_code)\n"
   ]
  },
  {
   "cell_type": "code",
   "execution_count": 46,
   "id": "590ddf30",
   "metadata": {},
   "outputs": [],
   "source": [
    "# to delet element in a dictionary\n"
   ]
  },
  {
   "cell_type": "code",
   "execution_count": 47,
   "id": "260bb1cf",
   "metadata": {},
   "outputs": [
    {
     "name": "stdout",
     "output_type": "stream",
     "text": [
      "[0, 1, 2, 3, 4, 5, 6, 7, 8, 9]\n",
      "{0: 0, 1: 1, 2: 4, 3: 9, 4: 16, 5: 25, 6: 36, 7: 49, 8: 64, 9: 81}\n"
     ]
    }
   ],
   "source": [
    "list1 = [x for x in range(0,10)]\n",
    "print(list1)\n",
    "dict1 = {x: x**2 for x in list1}\n",
    "print(dict1)"
   ]
  },
  {
   "cell_type": "code",
   "execution_count": 48,
   "id": "2ab7eeb3",
   "metadata": {},
   "outputs": [
    {
     "name": "stdout",
     "output_type": "stream",
     "text": [
      "{0: 1, 1: 1, 2: 4, 3: 27, 4: 256, 5: 3125, 6: 46656, 7: 823543, 8: 16777216, 9: 387420489}\n"
     ]
    }
   ],
   "source": [
    "dict1 = {x: x**x for x in list1}\n",
    "print(dict1)"
   ]
  },
  {
   "cell_type": "code",
   "execution_count": 49,
   "id": "77935e85",
   "metadata": {},
   "outputs": [
    {
     "name": "stdout",
     "output_type": "stream",
     "text": [
      "{0: 0, 1: 1, 2: 16, 3: 81, 4: 256, 5: 625, 6: 1296, 7: 2401, 8: 4096, 9: 6561}\n"
     ]
    }
   ],
   "source": [
    "dict1 = {x: x**4 for x in list1}\n",
    "print(dict1)"
   ]
  },
  {
   "cell_type": "markdown",
   "id": "fbde2c13",
   "metadata": {},
   "source": [
    "## TUPLE\n",
    "uesd to create data you cannot change"
   ]
  },
  {
   "cell_type": "code",
   "execution_count": 52,
   "id": "b85edc75",
   "metadata": {},
   "outputs": [
    {
     "name": "stdout",
     "output_type": "stream",
     "text": [
      "<class 'str'>\n",
      "<class 'tuple'>\n"
     ]
    }
   ],
   "source": [
    "my_tuple = 'Hello'\n",
    "print(type(my_tuple))\n",
    "my_tuplee = 'Hello',\n",
    "print(type(my_tuplee))"
   ]
  },
  {
   "cell_type": "code",
   "execution_count": 56,
   "id": "fd1730c6",
   "metadata": {},
   "outputs": [
    {
     "name": "stdout",
     "output_type": "stream",
     "text": [
      "1\n"
     ]
    }
   ],
   "source": [
    "my_tuple =(45,)\n",
    "print(len(my_tuple))"
   ]
  },
  {
   "cell_type": "code",
   "execution_count": 30,
   "id": "9afd1f68",
   "metadata": {},
   "outputs": [
    {
     "name": "stdout",
     "output_type": "stream",
     "text": [
      "Enter a multiline text: Good GOOD Good GOd GOD God\n",
      "Unique words and occurrences (case sensitive):  {'Good': 2, 'GOOD': 1, 'GOd': 1, 'GOD': 1, 'God': 1}\n"
     ]
    }
   ],
   "source": []
  },
  {
   "cell_type": "code",
   "execution_count": 31,
   "id": "97fcbceb",
   "metadata": {},
   "outputs": [
    {
     "name": "stdout",
     "output_type": "stream",
     "text": [
      "Unique words and occurrences (case insensitive):  {'good': 3, 'god': 3}\n"
     ]
    }
   ],
   "source": []
  },
  {
   "cell_type": "code",
   "execution_count": 15,
   "id": "30137cda",
   "metadata": {},
   "outputs": [
    {
     "name": "stdout",
     "output_type": "stream",
     "text": [
      "1\n",
      "<class 'tuple'>\n"
     ]
    }
   ],
   "source": [
    "my_tuple = ('Hello',)\n",
    "print(len(my_tuple))\n",
    "print(type(my_tuple))"
   ]
  },
  {
   "cell_type": "code",
   "execution_count": 18,
   "id": "db2cbba3",
   "metadata": {},
   "outputs": [
    {
     "name": "stdout",
     "output_type": "stream",
     "text": [
      "3\n",
      "(('Hello', 'There'), 45, 'sam')\n"
     ]
    }
   ],
   "source": [
    "tuple1 = 'Hello', 'There'\n",
    "tuple12 = tuple1, 45, 'sam'\n",
    "print(len(tuple12))\n",
    "print(tuple12)"
   ]
  },
  {
   "cell_type": "markdown",
   "id": "ea6a2221",
   "metadata": {
    "toc-hr-collapsed": true
   },
   "source": [
    "### Activity 2:  Analyze a multiline string and generate the unique word count\n",
    "1. Get a muiltiline text and save it in a python variable\n",
    "2. Get rid of all new lines in it using string methods\n",
    "3. Get all the unique words and their occurrences from the string\n",
    "4. Repeat the step to find unique words and occurrences, without considering case sensitivity."
   ]
  },
  {
   "cell_type": "code",
   "execution_count": 33,
   "id": "aee41ce1",
   "metadata": {},
   "outputs": [
    {
     "name": "stdout",
     "output_type": "stream",
     "text": [
      "Enter a multiline text: male Male MaLE\n",
      "Unique words {'Male', 'MaLE', 'male'}\n",
      "Male : 1\n",
      "MaLE : 1\n",
      "male : 1\n"
     ]
    }
   ],
   "source": [
    "multiline_text = input(\"Enter a multiline text: \")\n",
    "\n",
    "# Remove new lines\n",
    "multiline_text = multiline_text.replace(\"\\n\", \" \")\n",
    "\n",
    "# Split the text into words\n",
    "words = multiline_text.split()\n",
    "\n",
    "# Get unique words (case sensitive)\n",
    "unique_words = set(words)\n",
    "print(\"Unique words\", unique_words)\n",
    "\n",
    "# Get occurrences of each unique word (case sensitive)\n",
    "for word in unique_words:\n",
    "    print(f\"{word} : {words.count(word)}\")\n",
    "\n",
    "\n"
   ]
  },
  {
   "cell_type": "code",
   "execution_count": 34,
   "id": "9e1baf35",
   "metadata": {},
   "outputs": [
    {
     "name": "stdout",
     "output_type": "stream",
     "text": [
      "Unique words (case insensitive):  {'male'}\n",
      "male : 1\n"
     ]
    }
   ],
   "source": [
    "# Get unique words (case insensitive)\n",
    "unique_words = set([word.lower() for word in words])\n",
    "print(\"Unique words (case insensitive): \", unique_words)\n",
    "\n",
    "# Get occurrences of each unique word (case insensitive)\n",
    "for word in unique_words:\n",
    "    print(f\"{word} : {words.count(word.lower())}\")"
   ]
  },
  {
   "cell_type": "code",
   "execution_count": 10,
   "id": "61de4300",
   "metadata": {},
   "outputs": [
    {
     "name": "stdout",
     "output_type": "stream",
     "text": [
      "Enter a multiline text: hi\n",
      "Unique words and occurrences (case sensitive):  \n",
      " {'hi': 1}\n"
     ]
    }
   ],
   "source": [
    "multiline_text = input(\"Enter a multiline text: \")\n",
    "\n",
    "# Remove new lines\n",
    "multiline_text = multiline_text.replace(\"\\n\", \" \")\n",
    "\n",
    "# Split the text into words\n",
    "words = multiline_text.split()\n",
    "\n",
    "# Get unique words and occurrences (case sensitive)\n",
    "unique_words = {}\n",
    "for word in words:\n",
    "    if word in unique_words:\n",
    "        unique_words[word] += 1\n",
    "    else:\n",
    "        unique_words[word] = 1\n",
    "\n",
    "print(\"Unique words and occurrences (case sensitive): \",'\\n', unique_words )\n",
    "\n",
    "\n"
   ]
  },
  {
   "cell_type": "code",
   "execution_count": 14,
   "id": "783143b5",
   "metadata": {},
   "outputs": [
    {
     "name": "stdout",
     "output_type": "stream",
     "text": [
      "Unique words and occurrences (case insensitive):  {'hi': 1}\n"
     ]
    }
   ],
   "source": [
    "# Get unique words and occurrences (case insensitive)\n",
    "unique_words = {}\n",
    "for word in words:\n",
    "    lower_word = word.lower()\n",
    "    if lower_word in unique_words:\n",
    "        unique_words[lower_word] += 1\n",
    "    else:\n",
    "        unique_words[lower_word] = 1\n",
    "\n",
    "print(\"Unique words and occurrences (case insensitive): \", unique_words)"
   ]
  },
  {
   "cell_type": "code",
   "execution_count": 37,
   "id": "69376820",
   "metadata": {},
   "outputs": [
    {
     "name": "stdout",
     "output_type": "stream",
     "text": [
      "\n",
      "Welcome to Python 3.9's help utility!\n",
      "\n",
      "If this is your first time using Python, you should definitely check out\n",
      "the tutorial on the Internet at https://docs.python.org/3.9/tutorial/.\n",
      "\n",
      "Enter the name of any module, keyword, or topic to get help on writing\n",
      "Python programs and using Python modules.  To quit this help utility and\n",
      "return to the interpreter, just type \"quit\".\n",
      "\n",
      "To get a list of available modules, keywords, symbols, or topics, type\n",
      "\"modules\", \"keywords\", \"symbols\", or \"topics\".  Each module also comes\n",
      "with a one-line summary of what it does; to list the modules whose name\n",
      "or summary contain a given string such as \"spam\", type \"modules spam\".\n",
      "\n",
      "\n",
      "You are now leaving help and returning to the Python interpreter.\n",
      "If you want to ask for help on a particular object directly from the\n",
      "interpreter, you can type \"help(object)\".  Executing \"help('string')\"\n",
      "has the same effect as typing a particular string at the help> prompt.\n"
     ]
    }
   ],
   "source": [
    "help()"
   ]
  },
  {
   "cell_type": "code",
   "execution_count": null,
   "id": "dc1d8814",
   "metadata": {},
   "outputs": [],
   "source": []
  },
  {
   "cell_type": "markdown",
   "id": "67f75d0b",
   "metadata": {},
   "source": [
    "ASSIGNMENT SOLUTION"
   ]
  },
  {
   "cell_type": "code",
   "execution_count": 10,
   "id": "88ad76fd",
   "metadata": {},
   "outputs": [],
   "source": [
    "mt = \"\"\"It is a truth universally acknowledged, that a single man in possession of a good fortune, must be in want of a wife.\n",
    " \n",
    "However little known the feelings or views of such a man may be on his first entering a neighbourhood, this truth is so well fixed in the minds of the surrounding families, that he is considered the rightful property of some one or other of their daughters.\n",
    " \n",
    "\"My dear Mr. Bennet,\" said his lady to him one day, \"have you heard that Netherfield Park is let at last?\"\n",
    " \n",
    "Mr. Bennet replied that he had not.\n",
    " \n",
    "\"But it is,\" returned she; \"for Mrs. Long has just been here, and she told me all about it.\"\n",
    " \n",
    "Mr. Bennet made no answer.\n",
    " \n",
    "\"Do you not want to know who has taken it?\" cried his wife impatiently.\n",
    " \n",
    "\"You want to tell me, and I have no objection to hearing it.\"\n",
    " \n",
    "This was invitation enough.\n",
    " \n",
    "\"Why, my dear, you must know, Mrs. Long says that Netherfield is taken by a young man of large fortune from the north of England; that he came down on Monday in a chaise and four to see the place, and was so much delighted with it, that he agreed with Mr. Morris immediately; that he is to take possession before Michaelmas, and some of his servants are to be in the house by the end of next week.\"\n",
    " \n",
    "\"What is his name?\"\n",
    " \n",
    "\"Bingley.\"\n",
    " \n",
    "\"Is he married or single?\"\n",
    " \n",
    "\"Oh! Single, my dear, to be sure! A single man of large fortune; four or five thousand a year. What a fine thing for our girls!\"\n",
    " \n",
    "\"How so? How can it affect them?\"\n",
    " \n",
    "\"My dear Mr. Bennet,\" replied his wife, \"how can you be so tiresome! You must know that I am thinking of his marrying one of them.\"\n",
    " \n",
    "\"Is that his design in settling here?\"\n",
    " \n",
    "\"Design! Nonsense, how can you talk so! But it is very likely that he may fall in love with one of them, and therefore you must visit him as soon as he comes.\"\n",
    " \n",
    "\"I see no occasion for that. You and the girls may go, or you may send them by themselves, which perhaps will be still better, for as you are as handsome as any of them, Mr. Bingley may like you the best of the party.\"\n",
    " \n",
    "\"My dear, you flatter me. I certainly have had my share of beauty, but I do not pretend to be anything extraordinary now. When a woman has five grown-up daughters, she ought to give over thinking of her own beauty.\"\n",
    " \n",
    "\"In such cases, a woman has not often much beauty to think of.\"\n",
    " \n",
    "\"But, my dear, you must indeed go and see Mr. Bingley when he comes into the neighbourhood.\"\n",
    " \n",
    "\"It is more than I engage for, I assure you.\"\n",
    " \n",
    "\"But consider your daughters. Only think what an establishment it would be for one of them. Sir William and Lady Lucas are determined to go, merely on that account, for in general, you know, they visit no newcomers. Indeed you must go, for it will be impossible for us to visit him if you do not.\"\n",
    " \n",
    "\"You are over-scrupulous, surely. I dare say Mr. Bingley will be very glad to see you; and I will send a few lines by you to assure him of my hearty consent to his marrying whichever he chooses of the girls; though I must throw in a good word for my little Lizzy.\"\n",
    " \n",
    "\"I desire you will do no such thing. Lizzy is not a bit better than the others; and I am sure she is not half so handsome as Jane, nor half so good-humoured as Lydia. But you are always giving her the preference.\"\n",
    " \n",
    "\"They have none of them much to recommend them,\" replied he; \"they are all silly and ignorant like other girls; but Lizzy has something more of quickness than her sisters.\"\n",
    " \n",
    "\"Mr. Bennet, how can you abuse your own children in such a way? You take delight in vexing me. You have no compassion for my poor nerves.\"\n",
    " \n",
    "\"You mistake me, my dear. I have a high respect for your nerves. They are my old friends. I have heard you mention them with consideration these last twenty years at least.\"\n",
    " \n",
    "\"Ah, you do not know what I suffer.\"\n",
    " \n",
    "\"But I hope you will get over it, and live to see many young men of four thousand a year come into the neighbourhood.\"\n",
    " \n",
    "\"It will be no use to us, if twenty such should come, since you will not visit them.\"\n",
    " \n",
    "\"Depend upon it, my dear, that when there are twenty, I will visit them all.\"\n",
    " \n",
    "Mr. Bennet was so odd a mixture of quick parts, sarcastic humour, reserve, and caprice, that the experience of three-and-twenty years had been insufficient to make his wife understand his character. Her mind was less difficult to develop. She was a woman of mean understanding, little information, and uncertain temper. When she was discontented, she fancied herself nervous. The business of her life was to get her daughters married; its solace was visiting and news. \"\"\"\n",
    " "
   ]
  },
  {
   "cell_type": "code",
   "execution_count": 5,
   "id": "fc0d50e4",
   "metadata": {},
   "outputs": [
    {
     "data": {
      "text/plain": [
       "4508"
      ]
     },
     "execution_count": 5,
     "metadata": {},
     "output_type": "execute_result"
    }
   ],
   "source": [
    "len(mt)"
   ]
  },
  {
   "cell_type": "code",
   "execution_count": 6,
   "id": "87943358",
   "metadata": {},
   "outputs": [
    {
     "data": {
      "text/plain": [
       "str"
      ]
     },
     "execution_count": 6,
     "metadata": {},
     "output_type": "execute_result"
    }
   ],
   "source": [
    "type(mt)"
   ]
  },
  {
   "cell_type": "code",
   "execution_count": 7,
   "id": "0ea848f3",
   "metadata": {},
   "outputs": [],
   "source": [
    "# Remove new lines\n",
    "mt = mt.replace(\"\\n\", \"\")"
   ]
  },
  {
   "cell_type": "code",
   "execution_count": 8,
   "id": "476400d2",
   "metadata": {},
   "outputs": [
    {
     "data": {
      "text/plain": [
       "4442"
      ]
     },
     "execution_count": 8,
     "metadata": {},
     "output_type": "execute_result"
    }
   ],
   "source": [
    "len(mt)"
   ]
  },
  {
   "cell_type": "code",
   "execution_count": 9,
   "id": "83340ef0",
   "metadata": {},
   "outputs": [
    {
     "name": "stdout",
     "output_type": "stream",
     "text": [
      "3388\n"
     ]
    }
   ],
   "source": [
    "clean_multi = []\n",
    "for char in mt:\n",
    "    if char.isalnum():\n",
    "        clean_multi.append(char)\n",
    "print(len(clean_multi))\n",
    "        "
   ]
  },
  {
   "cell_type": "code",
   "execution_count": 11,
   "id": "0eaba355",
   "metadata": {},
   "outputs": [
    {
     "name": "stdout",
     "output_type": "stream",
     "text": [
      "4235\n"
     ]
    }
   ],
   "source": [
    "# To remove all special symbol like comma, question mark and all.\n",
    "cleaned_multi = \"\"\n",
    "for char in mt:\n",
    "    if char == \" \":\n",
    "        cleaned_multi += char\n",
    "    elif char.isalnum():\n",
    "        cleaned_multi += char\n",
    "print(len(cleaned_multi))\n",
    "            "
   ]
  },
  {
   "cell_type": "code",
   "execution_count": 12,
   "id": "c6253c42",
   "metadata": {},
   "outputs": [],
   "source": [
    "words = cleaned_multi.split(' ')\n"
   ]
  },
  {
   "cell_type": "code",
   "execution_count": 13,
   "id": "6a54adcf",
   "metadata": {},
   "outputs": [
    {
     "name": "stdout",
     "output_type": "stream",
     "text": [
      "339\n"
     ]
    }
   ],
   "source": [
    "# to get unique words\n",
    "unique_word = list (set(words))\n",
    "unique_word.remove('')\n",
    "print(len(unique_word))"
   ]
  },
  {
   "cell_type": "code",
   "execution_count": 1,
   "id": "5e45a528",
   "metadata": {
    "scrolled": true
   },
   "outputs": [
    {
     "ename": "NameError",
     "evalue": "name 'words' is not defined",
     "output_type": "error",
     "traceback": [
      "\u001b[1;31m---------------------------------------------------------------------------\u001b[0m",
      "\u001b[1;31mNameError\u001b[0m                                 Traceback (most recent call last)",
      "Cell \u001b[1;32mIn[1], line 3\u001b[0m\n\u001b[0;32m      1\u001b[0m \u001b[38;5;66;03m# Get unique words and occurrences (case sensitive)\u001b[39;00m\n\u001b[0;32m      2\u001b[0m count_occur \u001b[38;5;241m=\u001b[39m {}\n\u001b[1;32m----> 3\u001b[0m \u001b[38;5;28;01mfor\u001b[39;00m word \u001b[38;5;129;01min\u001b[39;00m \u001b[43mwords\u001b[49m:\n\u001b[0;32m      4\u001b[0m     \u001b[38;5;28;01mif\u001b[39;00m word \u001b[38;5;129;01min\u001b[39;00m count_occur:\n\u001b[0;32m      5\u001b[0m         count_occur[word] \u001b[38;5;241m+\u001b[39m\u001b[38;5;241m=\u001b[39m \u001b[38;5;241m1\u001b[39m\n",
      "\u001b[1;31mNameError\u001b[0m: name 'words' is not defined"
     ]
    }
   ],
   "source": [
    "# Get unique words and occurrences (case sensitive)\n",
    "count_occur = {}\n",
    "for word in words:\n",
    "    if word in count_occur:\n",
    "        count_occur[word] += 1\n",
    "    else:\n",
    "        count_occur[word] = 1\n",
    "\n",
    "print(\"Unique words and occurrences: \",'\\n', count_occur )\n"
   ]
  },
  {
   "cell_type": "code",
   "execution_count": null,
   "id": "2a73964c",
   "metadata": {},
   "outputs": [],
   "source": []
  },
  {
   "cell_type": "markdown",
   "id": "b70f75e3",
   "metadata": {},
   "source": [
    "### January 31 \n",
    "#### ITERATOR\n",
    "ITERATOR web: \n",
    "https://docs.python.org/3/library/itertools.html#itertools.islice"
   ]
  },
  {
   "cell_type": "code",
   "execution_count": 42,
   "id": "829ee2ce",
   "metadata": {},
   "outputs": [
    {
     "name": "stdout",
     "output_type": "stream",
     "text": [
      "1111111111111111111111111111111111111111111111111111111111111111111111111111111111111111111111111111111111111111111111111111111111111111111111111111111111111111111111111111111111111111111111111111111111111111111111111111111111111111111111111111111111111111111111111111111111111111111111111111111111111111111111111111111111111111111111111111111111111111111111111111111111111111111111111111111111111111111111111111111111111111111111111111111111111111111111111111111111111111111111111111111111111111111111111111111111111111111111111111111111111111111111111111111111111111111111111111111111111111111111111111111111111111111111111111111111111111111111111111111111111111111111111111111111111111111111111111111111111111111111111111111111111111111111111111111111111111111111111111111111111111111111111111111111111111111111111111111111111111111111111111111111111111111111111111111111111111111111111111111111111111111111111111111111111111111111111111111111111111111111111111111111111111111111111111111111111111"
     ]
    }
   ],
   "source": [
    "# Exercise get value (1) in 10 million times\n",
    "# Use an Iterator(itertool) to reduce memory utilization\n",
    "# Generate a number and repeat it ten million times\n",
    "# use the  other conventional way to do same thing and compare the size\n",
    "from itertools import repeat\n",
    "small_list_of_numbers = repeat(1, times=1000)\n",
    "# get size of (small)\n",
    "for i in small_list_of_numbers:\n",
    "    print(i, end='')"
   ]
  },
  {
   "cell_type": "code",
   "execution_count": 14,
   "id": "d6f9d57a",
   "metadata": {},
   "outputs": [
    {
     "name": "stdout",
     "output_type": "stream",
     "text": [
      "1111111111111111111111111111111111111111111111111111111111111111111111111111111111111111111111111111"
     ]
    }
   ],
   "source": [
    "# another way to get same answer without using a Iterator (itertools)\n",
    "# these uses alot of memory\n",
    "\n",
    "a = [1 for i in range (100)]\n",
    "for i in a:\n",
    "    print(i, end='')"
   ]
  },
  {
   "cell_type": "code",
   "execution_count": 29,
   "id": "45865fd7",
   "metadata": {},
   "outputs": [
    {
     "name": "stdout",
     "output_type": "stream",
     "text": [
      "48\n"
     ]
    }
   ],
   "source": [
    "# to check the memory size used \n",
    "from sys import getsizeof\n",
    "print(getsizeof(small_list_of_numbers))\n"
   ]
  },
  {
   "cell_type": "code",
   "execution_count": 30,
   "id": "1f53d96f",
   "metadata": {},
   "outputs": [
    {
     "name": "stdout",
     "output_type": "stream",
     "text": [
      "920\n"
     ]
    }
   ],
   "source": [
    "print(getsizeof(a))"
   ]
  },
  {
   "cell_type": "code",
   "execution_count": null,
   "id": "0365b54c",
   "metadata": {},
   "outputs": [],
   "source": []
  },
  {
   "cell_type": "code",
   "execution_count": 36,
   "id": "d290c1d4",
   "metadata": {},
   "outputs": [
    {
     "name": "stdout",
     "output_type": "stream",
     "text": [
      "0 1 28\n",
      "1 1 28\n",
      "2 1 28\n",
      "3 1 28\n",
      "4 1 28\n",
      "5 1 28\n",
      "6 1 28\n",
      "7 1 28\n",
      "8 1 28\n",
      "9 1 28\n",
      "10 1 28\n",
      "11 1 28\n",
      "12 1 28\n",
      "13 1 28\n",
      "14 1 28\n",
      "15 1 28\n",
      "16 1 28\n",
      "17 1 28\n",
      "18 1 28\n",
      "19 1 28\n",
      "20 1 28\n",
      "21 1 28\n",
      "22 1 28\n",
      "23 1 28\n",
      "24 1 28\n",
      "25 1 28\n",
      "26 1 28\n",
      "27 1 28\n",
      "28 1 28\n",
      "29 1 28\n",
      "30 1 28\n",
      "31 1 28\n",
      "32 1 28\n",
      "33 1 28\n",
      "34 1 28\n",
      "35 1 28\n",
      "36 1 28\n",
      "37 1 28\n",
      "38 1 28\n",
      "39 1 28\n",
      "40 1 28\n",
      "41 1 28\n",
      "42 1 28\n",
      "43 1 28\n",
      "44 1 28\n",
      "45 1 28\n",
      "46 1 28\n",
      "47 1 28\n",
      "48 1 28\n",
      "49 1 28\n",
      "50 1 28\n",
      "51 1 28\n",
      "52 1 28\n",
      "53 1 28\n",
      "54 1 28\n",
      "55 1 28\n",
      "56 1 28\n",
      "57 1 28\n",
      "58 1 28\n",
      "59 1 28\n",
      "60 1 28\n",
      "61 1 28\n",
      "62 1 28\n",
      "63 1 28\n",
      "64 1 28\n",
      "65 1 28\n",
      "66 1 28\n",
      "67 1 28\n",
      "68 1 28\n",
      "69 1 28\n",
      "70 1 28\n",
      "71 1 28\n",
      "72 1 28\n",
      "73 1 28\n",
      "74 1 28\n",
      "75 1 28\n",
      "76 1 28\n",
      "77 1 28\n",
      "78 1 28\n",
      "79 1 28\n",
      "80 1 28\n",
      "81 1 28\n",
      "82 1 28\n",
      "83 1 28\n",
      "84 1 28\n",
      "85 1 28\n",
      "86 1 28\n",
      "87 1 28\n",
      "88 1 28\n",
      "89 1 28\n",
      "90 1 28\n",
      "91 1 28\n",
      "92 1 28\n",
      "93 1 28\n",
      "94 1 28\n",
      "95 1 28\n",
      "96 1 28\n",
      "97 1 28\n",
      "98 1 28\n",
      "99 1 28\n"
     ]
    }
   ],
   "source": [
    "# To ge the index, number and size\n",
    "for x, i in enumerate(a):\n",
    "    print(x, i, getsizeof(i, x))"
   ]
  },
  {
   "cell_type": "code",
   "execution_count": 47,
   "id": "23f88aac",
   "metadata": {},
   "outputs": [
    {
     "name": "stdout",
     "output_type": "stream",
     "text": [
      "<class 'itertools.repeat'> 48\n",
      "<class 'generator'> 112\n",
      "<class 'list'> 8856\n",
      "<class 'set'> 32984\n"
     ]
    }
   ],
   "source": [
    "# Know that python saves different values in different sizes.\n",
    "from sys import getsizeof\n",
    "from itertools import repeat\n",
    "\n",
    "small_list = repeat(1, times=1000)\n",
    "a = (i for i in range (1, 1000))\n",
    "b = [i for i in range (1, 1000)]\n",
    "c = {i for i in range (1, 1000)}\n",
    "\n",
    "print (type(small_list), getsizeof(small_list))\n",
    "print (type(a), getsizeof(a))\n",
    "print (type(b), getsizeof(b))\n",
    "print (type(c), getsizeof(c))"
   ]
  },
  {
   "cell_type": "markdown",
   "id": "cd11f42a",
   "metadata": {},
   "source": [
    "# QUEUE\n",
    "#### queue: FIFO, LILO\n",
    "#### deque: Allows to add and remove from any direction\n",
    "#### stack: LIFO, FILO"
   ]
  },
  {
   "cell_type": "code",
   "execution_count": 72,
   "id": "1f331e66",
   "metadata": {},
   "outputs": [],
   "source": [
    "# STACK\n",
    "class stack(list):\n",
    "    def __init__(self):\n",
    "        list.__init__(self)\n",
    "        \n",
    "    def add(self, e):\n",
    "        self.append(e)\n",
    "        \n",
    "    def delete(self):\n",
    "        self.pop()\n",
    "    \n",
    "    \n",
    "    def insert(self, index, object):\n",
    "        print ('you cannot insert')"
   ]
  },
  {
   "cell_type": "code",
   "execution_count": 74,
   "id": "e3817c38",
   "metadata": {},
   "outputs": [
    {
     "name": "stdout",
     "output_type": "stream",
     "text": [
      "[5, 'A', True]\n",
      "you cannot insert\n",
      "[5, 'A', True]\n",
      "[5, 'A', True, 8]\n"
     ]
    }
   ],
   "source": [
    "card = stack()\n",
    "card.add(5)\n",
    "card.add('A')\n",
    "card.add(True)\n",
    "print(card)\n",
    "\n",
    "card.insert(stack, 45)\n",
    "print(card)\n",
    "\n",
    "\n",
    "card.add(8)\n",
    "print(card)\n"
   ]
  },
  {
   "cell_type": "code",
   "execution_count": 87,
   "id": "8a880ef3",
   "metadata": {},
   "outputs": [],
   "source": [
    "# QUEUE [First in first out]\n",
    "class queue(list):\n",
    "    def __init__(self):\n",
    "        list.__init__(self)\n",
    "        \n",
    "    def add(self, e):\n",
    "        self.append(e)\n",
    "        \n",
    "    def delete(self, e):\n",
    "        self.pop(0)\n",
    "    \n",
    "    \n",
    "    def insert(self, index, object):\n",
    "        print ('cannot insert')"
   ]
  },
  {
   "cell_type": "code",
   "execution_count": 88,
   "id": "ffb28a33",
   "metadata": {},
   "outputs": [
    {
     "name": "stdout",
     "output_type": "stream",
     "text": [
      "[5, 'A', True]\n",
      "cannot insert\n",
      "[5, 'A', True]\n",
      "[5, 'A', True, 8]\n",
      "['A', True, 8]\n"
     ]
    }
   ],
   "source": [
    "card = queue()\n",
    "card.add(5)\n",
    "card.add('A')\n",
    "card.add(True)\n",
    "print(card)\n",
    "\n",
    "card.insert(stack, 45)\n",
    "print(card)\n",
    "\n",
    "\n",
    "card.add(8)\n",
    "print(card)\n",
    "card.delete(8)\n",
    "print(card)"
   ]
  },
  {
   "cell_type": "code",
   "execution_count": 122,
   "id": "1792dfb1",
   "metadata": {},
   "outputs": [],
   "source": [
    "# Deque [First in first out]\n",
    "class deque(list):\n",
    "    def __init__(self):\n",
    "        list.__init__(self)\n",
    "        \n",
    "    def add(self, e):\n",
    "        super().append(e)\n",
    "        \n",
    "    def add_front(self, e):\n",
    "        super().insert(0, e)\n",
    "        \n",
    "    def delete(self, e):\n",
    "        super().pop(0)\n",
    "    \n",
    "    def delete_front(self, e):\n",
    "        super().pop()\n",
    "        \n",
    "    # @overide\n",
    "    def insert(self, index, object):\n",
    "        pass\n",
    "    \n",
    "    def append(self, object):\n",
    "        pass\n",
    "    \n",
    "    def pop(self, index, object):\n",
    "        pass\n",
    " "
   ]
  },
  {
   "cell_type": "code",
   "execution_count": 128,
   "id": "3328fede",
   "metadata": {},
   "outputs": [
    {
     "name": "stdout",
     "output_type": "stream",
     "text": [
      "[20]\n",
      "[24, 20]\n",
      "[24, 20, 34]\n",
      "[24, 20]\n"
     ]
    }
   ],
   "source": [
    "card = deque()\n",
    "\n",
    "card.add(20)\n",
    "print(card)\n",
    "\n",
    "card.add_front(24)\n",
    "print(card)\n",
    "\n",
    "card.add(34)\n",
    "print(card)\n",
    "\n",
    "card.delete_front(34)\n",
    "print(card)"
   ]
  },
  {
   "cell_type": "code",
   "execution_count": 130,
   "id": "833072f9",
   "metadata": {},
   "outputs": [
    {
     "name": "stdout",
     "output_type": "stream",
     "text": [
      "8\n",
      "16\n",
      "81\n",
      "25\n",
      "Function used in partial function pow2 : <function power at 0x0000023324381310>\n",
      "Default keywords for pow2 : {'b': 2}\n",
      "Default arguments for power_of_5 : (5,)\n"
     ]
    }
   ],
   "source": [
    "from functools import partial\n",
    "\n",
    "\n",
    "def power(a, b):\n",
    "\treturn a**b\n",
    "\n",
    "\n",
    "# partial functions\n",
    "pow2 = partial(power, b=2)\n",
    "pow4 = partial(power, b=4)\n",
    "power_of_5 = partial(power, 5)\n",
    "\n",
    "print(power(2, 3))\n",
    "print(pow2(4))\n",
    "print(pow4(3))\n",
    "print(power_of_5(2))\n",
    "\n",
    "print('Function used in partial function pow2 :', pow2.func)\n",
    "print('Default keywords for pow2 :', pow2.keywords)\n",
    "print('Default arguments for power_of_5 :', power_of_5.args)\n"
   ]
  },
  {
   "cell_type": "code",
   "execution_count": 138,
   "id": "b254f398",
   "metadata": {},
   "outputs": [],
   "source": [
    "#Lamda [learn]"
   ]
  },
  {
   "cell_type": "markdown",
   "id": "10124f68",
   "metadata": {},
   "source": [
    "   Character = Meaning\n",
    " - 'r' = Open for reading only\n",
    " - 'w' = Open for writing only\n",
    " - 'x' = Create new file and open for writing\n",
    " - 'a' = Open for writing in append mode. if it exists\n",
    " - 'b' = Binary mode\n",
    " - 'r' = Test mode (default)\n",
    " - '+' = Update mode (both read and write)"
   ]
  },
  {
   "cell_type": "code",
   "execution_count": 165,
   "id": "00e748d4",
   "metadata": {},
   "outputs": [
    {
     "ename": "UnsupportedOperation",
     "evalue": "not readable",
     "output_type": "error",
     "traceback": [
      "\u001b[1;31m---------------------------------------------------------------------------\u001b[0m",
      "\u001b[1;31mUnsupportedOperation\u001b[0m                      Traceback (most recent call last)",
      "Cell \u001b[1;32mIn[165], line 2\u001b[0m\n\u001b[0;32m      1\u001b[0m file \u001b[38;5;241m=\u001b[39m \u001b[38;5;28mopen\u001b[39m(\u001b[38;5;124m'\u001b[39m\u001b[38;5;124mC:/Users/Admin/untitled.txt\u001b[39m\u001b[38;5;124m'\u001b[39m, \u001b[38;5;124m'\u001b[39m\u001b[38;5;124mw\u001b[39m\u001b[38;5;124m'\u001b[39m)\n\u001b[1;32m----> 2\u001b[0m \u001b[43mfile\u001b[49m\u001b[38;5;241;43m.\u001b[39;49m\u001b[43mread\u001b[49m\u001b[43m(\u001b[49m\u001b[43m)\u001b[49m\n",
      "\u001b[1;31mUnsupportedOperation\u001b[0m: not readable"
     ]
    }
   ],
   "source": [
    "file = open('C:/Users/Admin/untitled.txt', 'w')\n",
    "file.read()"
   ]
  },
  {
   "cell_type": "code",
   "execution_count": 164,
   "id": "3690b371",
   "metadata": {},
   "outputs": [
    {
     "data": {
      "text/plain": [
       "<function TextIOWrapper.close()>"
      ]
     },
     "execution_count": 164,
     "metadata": {},
     "output_type": "execute_result"
    }
   ],
   "source": [
    "# Feb - 02 - 2023\n",
    "#File management\n",
    "\n",
    "file = open('C:/Users/Admin/untitled.txt', 'w')\n",
    "file.write(\"i am a programmer...\")\n",
    "file.close"
   ]
  },
  {
   "cell_type": "code",
   "execution_count": 168,
   "id": "690af966",
   "metadata": {},
   "outputs": [],
   "source": [
    "# second option to consider close program\n",
    "# write to file\n",
    "with open('C:/Users/Admin/testing.txt', 'w') as file:\n",
    "    file.write(\"hello world \\n\")"
   ]
  },
  {
   "cell_type": "code",
   "execution_count": 167,
   "id": "65030389",
   "metadata": {},
   "outputs": [
    {
     "name": "stdout",
     "output_type": "stream",
     "text": [
      "hello world\n"
     ]
    }
   ],
   "source": [
    "#Read from file\n",
    "with open('C:/Users/Admin/testing.txt') as file:\n",
    "    data = file.read()\n",
    "    print(data)"
   ]
  },
  {
   "cell_type": "code",
   "execution_count": 170,
   "id": "fa3a9760",
   "metadata": {},
   "outputs": [],
   "source": [
    "# Append \n",
    "with open('C:/Users/Admin/testing.txt', 'a') as file:\n",
    "    file.write(\"hello world\")"
   ]
  },
  {
   "cell_type": "code",
   "execution_count": 175,
   "id": "d8eaf24c",
   "metadata": {},
   "outputs": [
    {
     "name": "stdout",
     "output_type": "stream",
     "text": [
      "file False\n",
      "f False\n",
      "file False\n",
      "f False\n",
      "file True\n",
      "f True\n"
     ]
    }
   ],
   "source": [
    "with open('C:/Users/Admin/testing.txt', 'a') as file:\n",
    "    file.write(\"hello world...\\n\")\n",
    "    \n",
    "    with open('C:/Users/Admin/testing.txt') as f:\n",
    "        file.read\n",
    "    \n",
    "        print('file', file.closed)\n",
    "        print('f', f.closed)\n",
    "        \n",
    "        print('file', file.closed)\n",
    "        print('f', f.closed)\n",
    "    \n",
    "print('file', file.closed)\n",
    "print('f', file.closed)"
   ]
  },
  {
   "cell_type": "code",
   "execution_count": 188,
   "id": "b7f0ffcc",
   "metadata": {},
   "outputs": [],
   "source": [
    "# Writing to file\n",
    "data_dict = {\"india\": \"Delhi\", \"France\":\"Paris\", \"UK\":\"London\", \"USA\":\"Washington\"}\n",
    "with open('data_temp.text', 'w') as fd:\n",
    "    for country, capital in data_dict.items():\n",
    "        fd.write(\"The Capital of {} is {}\\n\".format(country, capital))"
   ]
  },
  {
   "cell_type": "code",
   "execution_count": 191,
   "id": "957a0454",
   "metadata": {},
   "outputs": [
    {
     "name": "stdout",
     "output_type": "stream",
     "text": [
      "The Capital of india is Delhi\n",
      "The Capital of France is Paris\n",
      "The Capital of UK is London\n",
      "The Capital of USA is Washington\n",
      "\n"
     ]
    }
   ],
   "source": [
    "fd = open('C:/Users/Admin/DATA SCIENCE CLASS/data_temp.text')\n",
    "f= fd.read()\n",
    "\n",
    "print(f)"
   ]
  },
  {
   "cell_type": "code",
   "execution_count": 225,
   "id": "95c528e6",
   "metadata": {},
   "outputs": [],
   "source": [
    "data_dict = {\"india\": \"Delhi\", \"France\":\"Paris\", \"UK\":\"London\", \"USA\":\"Washington\"}\n",
    "with open('data_temp3.text', 'w') as fd:\n",
    "    for country, capital in data_dict.items():\n",
    "        fd.write(\"The Capital of {} is {}\".format(country, capital))"
   ]
  },
  {
   "cell_type": "code",
   "execution_count": 230,
   "id": "ad33f97c",
   "metadata": {},
   "outputs": [
    {
     "name": "stdout",
     "output_type": "stream",
     "text": [
      "The Capital of india is Delhi\n",
      " The Capital of France is Paris\n",
      " The Capital of UK is London\n",
      " The Capital of USA is Washington\n"
     ]
    }
   ],
   "source": [
    "# class work. To convert commas to new line and remove white space(.strip)\n",
    "fd = open('C:/Users/Admin/DATA SCIENCE CLASS/data_temp.text')\n",
    "f= fd.read().replace(',','\\n').strip()\n",
    "\n",
    "print(f)"
   ]
  },
  {
   "cell_type": "code",
   "execution_count": 231,
   "id": "05f9925d",
   "metadata": {},
   "outputs": [
    {
     "ename": "UnsupportedOperation",
     "evalue": "not readable",
     "output_type": "error",
     "traceback": [
      "\u001b[1;31m---------------------------------------------------------------------------\u001b[0m",
      "\u001b[1;31mUnsupportedOperation\u001b[0m                      Traceback (most recent call last)",
      "Cell \u001b[1;32mIn[231], line 2\u001b[0m\n\u001b[0;32m      1\u001b[0m \u001b[38;5;28;01mwith\u001b[39;00m \u001b[38;5;28mopen\u001b[39m(\u001b[38;5;124m'\u001b[39m\u001b[38;5;124mdata_temp3.text\u001b[39m\u001b[38;5;124m'\u001b[39m, \u001b[38;5;124m'\u001b[39m\u001b[38;5;124mw\u001b[39m\u001b[38;5;124m'\u001b[39m) \u001b[38;5;28;01mas\u001b[39;00m fd:\n\u001b[1;32m----> 2\u001b[0m     \u001b[38;5;28mprint\u001b[39m(\u001b[43mfd\u001b[49m\u001b[38;5;241;43m.\u001b[39;49m\u001b[43mread\u001b[49m\u001b[43m(\u001b[49m\u001b[43m)\u001b[49m)\n",
      "\u001b[1;31mUnsupportedOperation\u001b[0m: not readable"
     ]
    }
   ],
   "source": [
    "with open('data_temp3.text', 'w') as fd:\n",
    "    print(fd.read())"
   ]
  },
  {
   "cell_type": "code",
   "execution_count": 227,
   "id": "76615d2d",
   "metadata": {},
   "outputs": [
    {
     "ename": "IndexError",
     "evalue": "list index out of range",
     "output_type": "error",
     "traceback": [
      "\u001b[1;31m---------------------------------------------------------------------------\u001b[0m",
      "\u001b[1;31mIndexError\u001b[0m                                Traceback (most recent call last)",
      "Cell \u001b[1;32mIn[227], line 1\u001b[0m\n\u001b[1;32m----> 1\u001b[0m \u001b[38;5;28mprint\u001b[39m(\u001b[43mfd\u001b[49m\u001b[38;5;241;43m.\u001b[39;49m\u001b[43mreadlines\u001b[49m\u001b[43m(\u001b[49m\u001b[43m)\u001b[49m\u001b[43m[\u001b[49m\u001b[38;5;241;43m1\u001b[39;49m\u001b[43m]\u001b[49m)\n",
      "\u001b[1;31mIndexError\u001b[0m: list index out of range"
     ]
    }
   ],
   "source": [
    " print(fd.readlines()[1])"
   ]
  },
  {
   "cell_type": "code",
   "execution_count": 234,
   "id": "8f3a35df",
   "metadata": {},
   "outputs": [],
   "source": [
    "data_dict = {\"india\": \"Delhi\", \"France\":\"Paris\", \"UK\":\"London\", \"USA\":\"Washington\"}\n",
    "with open('data_temp4.text', 'w') as fd:\n",
    "    for country, capital in data_dict.items():\n",
    "        fd.write(\"The Capital of {} is {}\".format(country, capital))"
   ]
  },
  {
   "cell_type": "code",
   "execution_count": 235,
   "id": "1ecbb188",
   "metadata": {},
   "outputs": [
    {
     "name": "stdout",
     "output_type": "stream",
     "text": [
      "The Capital of india is Delhi\n",
      " The Capital of France is Paris\n",
      " The Capital of UK is London\n",
      " The Capital of USA is Washington\n"
     ]
    }
   ],
   "source": [
    "# class work. To convert commas to new line and remove white space(.strip)\n",
    "fd = open('C:/Users/Admin/DATA SCIENCE CLASS/data_temp.text')\n",
    "f= fd.read().replace(',','\\n').strip()\n",
    "\n",
    "print(f)"
   ]
  },
  {
   "cell_type": "code",
   "execution_count": 261,
   "id": "e8b4bf10",
   "metadata": {},
   "outputs": [
    {
     "name": "stdout",
     "output_type": "stream",
     "text": [
      "The Capital of india is Delhi\n",
      "\n",
      "The Capital of France is Paris\n",
      "\n",
      "The Capital of UK is London\n",
      "\n",
      "The Capital of USA is Washington\n"
     ]
    }
   ],
   "source": [
    "data=[]\n",
    "with open('data_temp4.text')as fd:\n",
    "    for line in fd.readlines():\n",
    "        print(line)\n",
    "        for x in line:\n",
    "            \n",
    "            data.append(x)\n",
    "        \n",
    "    \n",
    "        \n",
    "        #data.append(line)\n",
    "#print(data)\n",
    "        #print(fd.readlines()[2])"
   ]
  },
  {
   "cell_type": "code",
   "execution_count": 271,
   "id": "c850c12e",
   "metadata": {},
   "outputs": [
    {
     "name": "stdout",
     "output_type": "stream",
     "text": [
      "india\n",
      "France\n",
      "UK\n",
      "USA\n"
     ]
    }
   ],
   "source": [
    "with open('data_temp4.text')as fd:\n",
    "    data = fd.readlines()\n",
    "    for line in data:\n",
    "        words = line.strip().split(' ')\n",
    "        print(words[3])"
   ]
  },
  {
   "cell_type": "markdown",
   "id": "c390f6a9",
   "metadata": {},
   "source": [
    "# ASSIGNMENT!!!\n",
    " - A micro bank has customers that maintain one or two account types with the bank.\n",
    " - Customers can perform operations (any of account balance, withdrawal, deposit, transfer) from any of their accounts (Savings, Currents, etc). \n",
    "\n",
    "### Every account has the followings: \n",
    " - Account Type,  Account No,   Account Names,   Digits pin,    balance\n",
    " - Customer operations require authentication which is be based on both the account no and pin\n",
    " - All Customers' operations must be stored (credits, debits, etc).\n",
    " - All transactions must be record to file. \n",
    " -- Analyze, design and model micro bank data using file. (all data must be written to file)\n",
    " -- You are expected to used OOP, file handling, exception management..\n",
    " -- All data must be written in tabular form"
   ]
  },
  {
   "cell_type": "code",
   "execution_count": null,
   "id": "7d7274f8",
   "metadata": {},
   "outputs": [],
   "source": [
    "# See BANK ASSIGNMENT in assignment folder"
   ]
  },
  {
   "cell_type": "markdown",
   "id": "def4a904-dc89-4dc0-84cd-1ec44b4ccb38",
   "metadata": {
    "tags": []
   },
   "source": [
    "# PANDAS >> NUMPY >> MATPLOTLIB\n",
    "###### - Pandas is a sublibrary under Numpy, therefor you cannot use pandas without first calling Numpy."
   ]
  },
  {
   "cell_type": "code",
   "execution_count": 2,
   "id": "54c12a15-69e2-4b7f-913f-b6eeab995778",
   "metadata": {},
   "outputs": [
    {
     "data": {
      "text/plain": [
       "list"
      ]
     },
     "execution_count": 2,
     "metadata": {},
     "output_type": "execute_result"
    }
   ],
   "source": [
    "lst1 = [1,2,3]\n",
    "type(lst1)"
   ]
  },
  {
   "cell_type": "code",
   "execution_count": 12,
   "id": "6ae3dafb-f77f-42cc-b36d-ee398a27d0ce",
   "metadata": {},
   "outputs": [
    {
     "data": {
      "text/plain": [
       "numpy.ndarray"
      ]
     },
     "execution_count": 12,
     "metadata": {},
     "output_type": "execute_result"
    }
   ],
   "source": [
    "import numpy as np\n",
    "array1 = np.array(lst1)\n",
    "type(array1)"
   ]
  },
  {
   "cell_type": "code",
   "execution_count": 3,
   "id": "73fb48ec-1af9-4738-ad9f-8ddcb84f3755",
   "metadata": {},
   "outputs": [
    {
     "data": {
      "text/plain": [
       "[1, 2, 3, 1, 2, 3]"
      ]
     },
     "execution_count": 3,
     "metadata": {},
     "output_type": "execute_result"
    }
   ],
   "source": [
    "# Python\n",
    "lst2 = lst1 + lst1\n",
    "lst2"
   ]
  },
  {
   "cell_type": "code",
   "execution_count": 13,
   "id": "0e432369-78bf-412d-80d3-a0c36ee9d4b5",
   "metadata": {},
   "outputs": [
    {
     "data": {
      "text/plain": [
       "array([2, 4, 6])"
      ]
     },
     "execution_count": 13,
     "metadata": {},
     "output_type": "execute_result"
    }
   ],
   "source": [
    "# Numpy\n",
    "array2 = array1 + array1\n",
    "array2"
   ]
  },
  {
   "cell_type": "code",
   "execution_count": 20,
   "id": "cbac8943-4a11-481e-9fce-8f1751e6cd2b",
   "metadata": {},
   "outputs": [
    {
     "data": {
      "text/plain": [
       "array([1, 1, 1])"
      ]
     },
     "execution_count": 20,
     "metadata": {},
     "output_type": "execute_result"
    }
   ],
   "source": [
    "array3 = array1 // array1\n",
    "array3"
   ]
  },
  {
   "cell_type": "code",
   "execution_count": 21,
   "id": "d92c2684-8d9f-4a02-8cb8-fb83c4ff2e9a",
   "metadata": {},
   "outputs": [
    {
     "data": {
      "text/plain": [
       "array([1., 1., 1.])"
      ]
     },
     "execution_count": 21,
     "metadata": {},
     "output_type": "execute_result"
    }
   ],
   "source": [
    "array3 = array1 / array1\n",
    "array3"
   ]
  },
  {
   "cell_type": "code",
   "execution_count": 22,
   "id": "9da8b310-72dc-4901-98f3-ae6c644bacb4",
   "metadata": {},
   "outputs": [
    {
     "data": {
      "text/plain": [
       "array([ 1,  4, 27])"
      ]
     },
     "execution_count": 22,
     "metadata": {},
     "output_type": "execute_result"
    }
   ],
   "source": [
    "array3 = array1 ** array1\n",
    "array3"
   ]
  },
  {
   "cell_type": "code",
   "execution_count": 27,
   "id": "3046dbed-a6a1-4b9d-a12c-696f44e0f91d",
   "metadata": {},
   "outputs": [
    {
     "data": {
      "text/plain": [
       "array([ True,  True,  True])"
      ]
     },
     "execution_count": 27,
     "metadata": {},
     "output_type": "execute_result"
    }
   ],
   "source": [
    "array3 = array1 == array1\n",
    "array3"
   ]
  },
  {
   "cell_type": "code",
   "execution_count": 28,
   "id": "19800642-7b2c-425c-bb37-59d83e52545a",
   "metadata": {},
   "outputs": [
    {
     "data": {
      "text/plain": [
       "array([0, 0, 0])"
      ]
     },
     "execution_count": 28,
     "metadata": {},
     "output_type": "execute_result"
    }
   ],
   "source": [
    "array3 = array1 % array1\n",
    "array3"
   ]
  },
  {
   "cell_type": "code",
   "execution_count": 32,
   "id": "59ee74b1-cfec-4f31-8def-2f2939698de6",
   "metadata": {},
   "outputs": [
    {
     "data": {
      "text/plain": [
       "[1, 2, 3, 4, 5]"
      ]
     },
     "execution_count": 32,
     "metadata": {},
     "output_type": "execute_result"
    }
   ],
   "source": [
    "lst_5 = [i for i in range(1,6)]\n",
    "lst_5"
   ]
  },
  {
   "cell_type": "code",
   "execution_count": 33,
   "id": "87206945-464b-487b-800c-07b31426353f",
   "metadata": {},
   "outputs": [
    {
     "data": {
      "text/plain": [
       "array([1, 2, 3, 4, 5])"
      ]
     },
     "execution_count": 33,
     "metadata": {},
     "output_type": "execute_result"
    }
   ],
   "source": [
    "array_5 = np.array(lst_5)\n",
    "array_5"
   ]
  },
  {
   "cell_type": "code",
   "execution_count": 34,
   "id": "d27d047a-a7e0-486a-b9b5-f713add6f455",
   "metadata": {},
   "outputs": [
    {
     "data": {
      "text/plain": [
       "-0.3048106211022167"
      ]
     },
     "execution_count": 34,
     "metadata": {},
     "output_type": "execute_result"
    }
   ],
   "source": [
    "import math\n",
    "math.sin(60)"
   ]
  },
  {
   "cell_type": "code",
   "execution_count": 35,
   "id": "a250ecae-9349-48f3-8747-6263e60f52e5",
   "metadata": {
    "collapsed": true,
    "jupyter": {
     "outputs_hidden": true
    },
    "tags": []
   },
   "outputs": [
    {
     "ename": "TypeError",
     "evalue": "only size-1 arrays can be converted to Python scalars",
     "output_type": "error",
     "traceback": [
      "\u001b[1;31m---------------------------------------------------------------------------\u001b[0m",
      "\u001b[1;31mTypeError\u001b[0m                                 Traceback (most recent call last)",
      "Cell \u001b[1;32mIn[35], line 1\u001b[0m\n\u001b[1;32m----> 1\u001b[0m \u001b[43mmath\u001b[49m\u001b[38;5;241;43m.\u001b[39;49m\u001b[43msin\u001b[49m\u001b[43m(\u001b[49m\u001b[43marray_5\u001b[49m\u001b[43m)\u001b[49m\n",
      "\u001b[1;31mTypeError\u001b[0m: only size-1 arrays can be converted to Python scalars"
     ]
    }
   ],
   "source": [
    "math.sin(array_5)"
   ]
  },
  {
   "cell_type": "code",
   "execution_count": 39,
   "id": "8867aa78-3d1c-469f-b29e-27f1a063f124",
   "metadata": {
    "tags": []
   },
   "outputs": [
    {
     "name": "stdout",
     "output_type": "stream",
     "text": [
      "^C\n",
      "\n",
      "Note: you may need to restart the kernel to use updated packages.\n"
     ]
    }
   ],
   "source": [
    "conda install -c conda-forge nodejs"
   ]
  },
  {
   "cell_type": "code",
   "execution_count": 36,
   "id": "5d383d87-70e3-45f8-a518-2135f9e228ee",
   "metadata": {},
   "outputs": [
    {
     "data": {
      "text/plain": [
       "array([ 0.84147098,  0.90929743,  0.14112001, -0.7568025 , -0.95892427])"
      ]
     },
     "execution_count": 36,
     "metadata": {},
     "output_type": "execute_result"
    }
   ],
   "source": [
    "np.sin(array_5)"
   ]
  },
  {
   "cell_type": "code",
   "execution_count": 37,
   "id": "879fbdd8-0697-4ebd-b541-6eff448cb20d",
   "metadata": {},
   "outputs": [
    {
     "name": "stdout",
     "output_type": "stream",
     "text": [
      "Natural Logarithm :  [0.         0.69314718 1.09861229 1.38629436 1.60943791]\n",
      "Base-10 Logarithm :  [0.         0.30103    0.47712125 0.60205999 0.69897   ]\n",
      "Base-2 Logarithm :  [0.         1.         1.5849625  2.         2.32192809]\n"
     ]
    }
   ],
   "source": [
    "print (\"Natural Logarithm : \", np.log(array_5))\n",
    "print (\"Base-10 Logarithm : \", np.log10(array_5))\n",
    "print (\"Base-2 Logarithm : \", np.log2(array_5))"
   ]
  },
  {
   "cell_type": "code",
   "execution_count": 50,
   "id": "39b5f780-77d2-4736-a960-4f609a7db721",
   "metadata": {},
   "outputs": [
    {
     "data": {
      "text/plain": [
       "array([ 2,  3,  4,  5,  6,  7,  8,  9, 10, 11, 12, 13, 14, 15])"
      ]
     },
     "execution_count": 50,
     "metadata": {},
     "output_type": "execute_result"
    }
   ],
   "source": [
    "range_val = np.arange(2,16)\n",
    "range_val"
   ]
  },
  {
   "cell_type": "code",
   "execution_count": 55,
   "id": "aceadc3d-3e37-4bb2-ad2b-b0cfcb9232b1",
   "metadata": {},
   "outputs": [
    {
     "data": {
      "text/plain": [
       "array([1. , 1.4, 1.8, 2.2, 2.6, 3. , 3.4, 3.8, 4.2, 4.6, 5. ])"
      ]
     },
     "execution_count": 55,
     "metadata": {},
     "output_type": "execute_result"
    }
   ],
   "source": [
    "b = np.linspace(1,5,11)\n",
    "b\n",
    "# in line space, you tell the programe to partision the \n",
    "# number of partision we want will be generated, so the code say, start from 1 to five \n",
    "# and generate 11 in the range of value.\n",
    "# LEAARN more about it."
   ]
  },
  {
   "cell_type": "code",
   "execution_count": 61,
   "id": "66c2b2b7-601d-44ed-b042-81f090ce7dd0",
   "metadata": {},
   "outputs": [
    {
     "data": {
      "text/plain": [
       "array([30, 25, 20, 15, 10,  5,  0])"
      ]
     },
     "execution_count": 61,
     "metadata": {},
     "output_type": "execute_result"
    }
   ],
   "source": [
    "np.arange(30,-1,-5)"
   ]
  },
  {
   "cell_type": "markdown",
   "id": "74dd6b7b-7cf1-450e-95e9-e6f4c588d11d",
   "metadata": {},
   "source": [
    "# Multi-dimensional array"
   ]
  },
  {
   "cell_type": "code",
   "execution_count": 63,
   "id": "86a2e11e-c574-4da7-9354-35703834adb3",
   "metadata": {},
   "outputs": [
    {
     "data": {
      "text/plain": [
       "[[1, 2, 3], [4, 5, 6], [7, 8, 9]]"
      ]
     },
     "execution_count": 63,
     "metadata": {},
     "output_type": "execute_result"
    }
   ],
   "source": [
    "list1 = [[1,2,3],[4,5,6],[7,8,9]]\n",
    "list1"
   ]
  },
  {
   "cell_type": "code",
   "execution_count": 64,
   "id": "03a84f5b-29bd-4bc6-b559-b583151b3160",
   "metadata": {},
   "outputs": [
    {
     "data": {
      "text/plain": [
       "array([[1, 2, 3],\n",
       "       [4, 5, 6],\n",
       "       [7, 8, 9]])"
      ]
     },
     "execution_count": 64,
     "metadata": {},
     "output_type": "execute_result"
    }
   ],
   "source": [
    "arrayd = np.array(list1)\n",
    "arrayd"
   ]
  },
  {
   "cell_type": "code",
   "execution_count": 72,
   "id": "649ba571-dcc0-4622-8094-b5be0527e758",
   "metadata": {},
   "outputs": [
    {
     "data": {
      "text/plain": [
       "array([[8, 5],\n",
       "       [2, 6],\n",
       "       [3, 9]])"
      ]
     },
     "execution_count": 72,
     "metadata": {},
     "output_type": "execute_result"
    }
   ],
   "source": [
    "# Exercise\n",
    "a = [[2,4],[1,4],[3,2]]\n",
    "a1 = np.array(a)\n",
    "b = [[6,1],[1,2],[0,7]]\n",
    "b2 = np.array(b)\n",
    "c = np.array(a1+b2)\n",
    "c"
   ]
  },
  {
   "cell_type": "code",
   "execution_count": 74,
   "id": "4cbc3521-fdd7-4c7c-a368-85d205c7deed",
   "metadata": {},
   "outputs": [
    {
     "name": "stdout",
     "output_type": "stream",
     "text": [
      "<class 'numpy.ndarray'>\n",
      "2\n",
      "6\n",
      "(3, 2)\n"
     ]
    }
   ],
   "source": [
    "print(type(c))\n",
    "print(c.ndim) #dimension\n",
    "print(c.size) #size\n",
    "print(c.shape)# shape"
   ]
  },
  {
   "cell_type": "code",
   "execution_count": 76,
   "id": "67c37e4f-057e-4f3f-b97e-4fb83dda4e28",
   "metadata": {},
   "outputs": [
    {
     "name": "stdout",
     "output_type": "stream",
     "text": [
      "[[5. 5. 5.]\n",
      " [5. 5. 5.]\n",
      " [5. 5. 5.]]\n"
     ]
    }
   ],
   "source": [
    "print (5 * np.ones((3,3)))"
   ]
  },
  {
   "cell_type": "code",
   "execution_count": 79,
   "id": "d5a8aaf7-db1d-49f8-85be-993c67561177",
   "metadata": {},
   "outputs": [
    {
     "data": {
      "text/plain": [
       "array([[1., 0., 0., 0.],\n",
       "       [0., 1., 0., 0.],\n",
       "       [0., 0., 1., 0.],\n",
       "       [0., 0., 0., 1.]])"
      ]
     },
     "execution_count": 79,
     "metadata": {},
     "output_type": "execute_result"
    }
   ],
   "source": [
    "np.eye(4)"
   ]
  },
  {
   "cell_type": "code",
   "execution_count": 84,
   "id": "bc0756a5-7741-4671-842a-a2140e114fc4",
   "metadata": {},
   "outputs": [
    {
     "name": "stdout",
     "output_type": "stream",
     "text": [
      "[[9 2 6]\n",
      " [3 5 7]\n",
      " [8 7 2]\n",
      " [5 5 4]]\n"
     ]
    }
   ],
   "source": [
    "a = np.random.randint(low = 1, high = 10, size=(4,3))\n",
    "print (a)"
   ]
  },
  {
   "cell_type": "code",
   "execution_count": 85,
   "id": "1b77dc41-aad6-4003-8790-8582a1d5c3a5",
   "metadata": {},
   "outputs": [
    {
     "name": "stdout",
     "output_type": "stream",
     "text": [
      "[92 62  4 55 55 64 29 74 45 31  5 17 69  3 19 79 52 43 73 83 57 27 66 18\n",
      " 81 61 61 15 90 78]\n"
     ]
    }
   ],
   "source": [
    "a = np.random.randint(1,100,30)\n",
    "print(a)"
   ]
  },
  {
   "cell_type": "code",
   "execution_count": 86,
   "id": "618f90b7-5437-47bf-9bc8-b666e0785a76",
   "metadata": {},
   "outputs": [
    {
     "name": "stdout",
     "output_type": "stream",
     "text": [
      "(30,)\n"
     ]
    }
   ],
   "source": [
    "print (a.shape)"
   ]
  },
  {
   "cell_type": "code",
   "execution_count": 90,
   "id": "e3c5efa5-93e2-4e0d-aa3c-2f374b7f1526",
   "metadata": {},
   "outputs": [
    {
     "name": "stdout",
     "output_type": "stream",
     "text": [
      "[[92 62  4 55 55 64 29 74 45 31]\n",
      " [ 5 17 69  3 19 79 52 43 73 83]\n",
      " [57 27 66 18 81 61 61 15 90 78]]\n"
     ]
    }
   ],
   "source": [
    "print(a.reshape(3, 10))"
   ]
  },
  {
   "cell_type": "code",
   "execution_count": 92,
   "id": "8bc890db-1cd7-4994-9e92-77054b1347f8",
   "metadata": {},
   "outputs": [
    {
     "name": "stdout",
     "output_type": "stream",
     "text": [
      "[[[92 62  4 55 55]\n",
      "  [64 29 74 45 31]\n",
      "  [ 5 17 69  3 19]]\n",
      "\n",
      " [[79 52 43 73 83]\n",
      "  [57 27 66 18 81]\n",
      "  [61 61 15 90 78]]]\n"
     ]
    }
   ],
   "source": [
    "print(a.reshape(2,3,5))"
   ]
  },
  {
   "cell_type": "code",
   "execution_count": 93,
   "id": "95248892-8508-4b4a-8f1d-be0cba57864d",
   "metadata": {},
   "outputs": [
    {
     "name": "stdout",
     "output_type": "stream",
     "text": [
      "[92 62  4 55 55 64 29 74 45 31  5 17 69  3 19 79 52 43 73 83 57 27 66 18\n",
      " 81 61 61 15 90 78]\n"
     ]
    }
   ],
   "source": [
    "print(a.ravel())"
   ]
  },
  {
   "cell_type": "code",
   "execution_count": 102,
   "id": "0ac7ce1a-c664-43ed-999c-5d18dbef90c7",
   "metadata": {},
   "outputs": [
    {
     "name": "stdout",
     "output_type": "stream",
     "text": [
      "[ 10.          16.42857143  22.85714286  29.28571429  35.71428571\n",
      "  42.14285714  48.57142857  55.          61.42857143  67.85714286\n",
      "  74.28571429  80.71428571  87.14285714  93.57142857 100.        ]\n"
     ]
    }
   ],
   "source": [
    "mat = np.array(np.linspace(10,100,15))\n",
    "print (mat)"
   ]
  },
  {
   "cell_type": "code",
   "execution_count": 103,
   "id": "6a8f4ff8-1853-45ab-ac7e-6632f1c94108",
   "metadata": {},
   "outputs": [
    {
     "name": "stdout",
     "output_type": "stream",
     "text": [
      "[[ 10.          16.42857143  22.85714286  29.28571429  35.71428571]\n",
      " [ 42.14285714  48.57142857  55.          61.42857143  67.85714286]\n",
      " [ 74.28571429  80.71428571  87.14285714  93.57142857 100.        ]]\n"
     ]
    }
   ],
   "source": [
    "matr = mat.reshape(3,5)\n",
    "print(matr)"
   ]
  },
  {
   "cell_type": "code",
   "execution_count": 104,
   "id": "bca5cf72-36ae-4164-a012-4d235ee3d9b4",
   "metadata": {},
   "outputs": [
    {
     "name": "stdout",
     "output_type": "stream",
     "text": [
      "(15,)\n",
      "(3, 5)\n"
     ]
    }
   ],
   "source": [
    "print(mat.shape)\n",
    "print(matr.shape)"
   ]
  },
  {
   "cell_type": "code",
   "execution_count": 105,
   "id": "79221738-2dbd-45a5-bcde-5b4da35751f1",
   "metadata": {},
   "outputs": [
    {
     "name": "stdout",
     "output_type": "stream",
     "text": [
      "1\n",
      "2\n"
     ]
    }
   ],
   "source": [
    "print(mat.ndim)\n",
    "print(matr.ndim)"
   ]
  },
  {
   "cell_type": "code",
   "execution_count": 106,
   "id": "ce9eab4f-4cee-4ec4-9a5f-3928a3ddd50a",
   "metadata": {},
   "outputs": [
    {
     "name": "stdout",
     "output_type": "stream",
     "text": [
      "[ 55.          61.42857143  67.85714286  74.28571429  80.71428571\n",
      "  87.14285714  93.57142857 100.        ]\n"
     ]
    }
   ],
   "source": [
    "print(mat[mat>50])"
   ]
  },
  {
   "cell_type": "markdown",
   "id": "c28e1fe5-0c2e-44cc-a8f6-fa6f4e628b41",
   "metadata": {},
   "source": [
    "## ARRAY OPERATIONS"
   ]
  },
  {
   "cell_type": "code",
   "execution_count": 108,
   "id": "1f2766c4-f93d-4583-8bfc-c18eb4148dbc",
   "metadata": {},
   "outputs": [
    {
     "name": "stdout",
     "output_type": "stream",
     "text": [
      "[[7 1 9]\n",
      " [8 9 7]\n",
      " [2 2 3]]\n",
      "\n",
      "[[2 8 1]\n",
      " [6 5 5]\n",
      " [7 4 1]]\n"
     ]
    }
   ],
   "source": [
    "mat1 = np.random.randint(1,10,9). reshape(3,3)\n",
    "mat2 = np.random.randint(1,10,9). reshape(3,3)\n",
    "print(mat1)\n",
    "print()\n",
    "print(mat2)"
   ]
  },
  {
   "cell_type": "code",
   "execution_count": 113,
   "id": "29056bd3-34dd-47ae-bc04-5f6fc17f92c7",
   "metadata": {},
   "outputs": [
    {
     "name": "stdout",
     "output_type": "stream",
     "text": [
      "Addition: [[ 9  9 10]\n",
      " [14 14 12]\n",
      " [ 9  6  4]]\n",
      "\n",
      "Mulstiplication: [[14  8  9]\n",
      " [48 45 35]\n",
      " [14  8  3]]\n",
      "\n",
      "Division: [[3.5        0.125      9.        ]\n",
      " [1.33333333 1.8        1.4       ]\n",
      " [0.28571429 0.5        3.        ]]\n"
     ]
    }
   ],
   "source": [
    "print(\"Addition:\", mat1+mat2)\n",
    "print(\"\\nMulstiplication:\", mat1*mat2)\n",
    "print(\"\\nDivision:\", mat1/mat2)"
   ]
  },
  {
   "cell_type": "code",
   "execution_count": 1,
   "id": "3c84b29e-67b8-4dce-a6f3-a059636ddb23",
   "metadata": {},
   "outputs": [
    {
     "name": "stdout",
     "output_type": "stream",
     "text": [
      "Linear combination: 3*A - 2*B\n"
     ]
    }
   ],
   "source": [
    "print(\"Linear combination: 3*A - 2*B\")"
   ]
  },
  {
   "cell_type": "markdown",
   "id": "cb11d5fd-94b4-4a47-a2e2-d4f78cad7caf",
   "metadata": {},
   "source": [
    "## PANDAS DATAFRAMES\n",
    "when you want to work with unprocessed data and it is in a tabular form it is called \n",
    "dataframe. if it is only one row then it is a series."
   ]
  },
  {
   "cell_type": "code",
   "execution_count": 5,
   "id": "d2183660-0c10-4445-8dab-f1298702a27c",
   "metadata": {},
   "outputs": [],
   "source": [
    "import numpy as np\n",
    "import pandas as pd"
   ]
  },
  {
   "cell_type": "code",
   "execution_count": 6,
   "id": "9e13f9d0-d573-40ad-83d2-86b593ad6bd1",
   "metadata": {},
   "outputs": [],
   "source": [
    "my_data = np.matrix('22,66,140;42,70,148;30,62,125;35,62,152')\n",
    "labels = ['A', 'B', 'C', 'D']\n",
    "cols = ['Age', 'Height', 'Weight']"
   ]
  },
  {
   "cell_type": "code",
   "execution_count": 7,
   "id": "6c6b713c-bbc8-4eda-830c-f69e16fb46c2",
   "metadata": {},
   "outputs": [
    {
     "name": "stdout",
     "output_type": "stream",
     "text": [
      "['Age', 'Height', 'Weight']\n"
     ]
    }
   ],
   "source": [
    "print(cols)"
   ]
  },
  {
   "cell_type": "code",
   "execution_count": 8,
   "id": "8ca0d9e7-fdf9-47d2-a9a1-61597d40e57b",
   "metadata": {},
   "outputs": [
    {
     "data": {
      "text/html": [
       "<div>\n",
       "<style scoped>\n",
       "    .dataframe tbody tr th:only-of-type {\n",
       "        vertical-align: middle;\n",
       "    }\n",
       "\n",
       "    .dataframe tbody tr th {\n",
       "        vertical-align: top;\n",
       "    }\n",
       "\n",
       "    .dataframe thead th {\n",
       "        text-align: right;\n",
       "    }\n",
       "</style>\n",
       "<table border=\"1\" class=\"dataframe\">\n",
       "  <thead>\n",
       "    <tr style=\"text-align: right;\">\n",
       "      <th></th>\n",
       "      <th>0</th>\n",
       "      <th>1</th>\n",
       "      <th>2</th>\n",
       "    </tr>\n",
       "  </thead>\n",
       "  <tbody>\n",
       "    <tr>\n",
       "      <th>0</th>\n",
       "      <td>22</td>\n",
       "      <td>66</td>\n",
       "      <td>140</td>\n",
       "    </tr>\n",
       "    <tr>\n",
       "      <th>1</th>\n",
       "      <td>42</td>\n",
       "      <td>70</td>\n",
       "      <td>148</td>\n",
       "    </tr>\n",
       "    <tr>\n",
       "      <th>2</th>\n",
       "      <td>30</td>\n",
       "      <td>62</td>\n",
       "      <td>125</td>\n",
       "    </tr>\n",
       "    <tr>\n",
       "      <th>3</th>\n",
       "      <td>35</td>\n",
       "      <td>62</td>\n",
       "      <td>152</td>\n",
       "    </tr>\n",
       "  </tbody>\n",
       "</table>\n",
       "</div>"
      ],
      "text/plain": [
       "    0   1    2\n",
       "0  22  66  140\n",
       "1  42  70  148\n",
       "2  30  62  125\n",
       "3  35  62  152"
      ]
     },
     "execution_count": 8,
     "metadata": {},
     "output_type": "execute_result"
    }
   ],
   "source": [
    "df = pd.DataFrame(my_data)\n",
    "df"
   ]
  },
  {
   "cell_type": "code",
   "execution_count": 9,
   "id": "b9e7f386-47f8-4e96-9c5a-02395db5555c",
   "metadata": {},
   "outputs": [
    {
     "data": {
      "text/html": [
       "<div>\n",
       "<style scoped>\n",
       "    .dataframe tbody tr th:only-of-type {\n",
       "        vertical-align: middle;\n",
       "    }\n",
       "\n",
       "    .dataframe tbody tr th {\n",
       "        vertical-align: top;\n",
       "    }\n",
       "\n",
       "    .dataframe thead th {\n",
       "        text-align: right;\n",
       "    }\n",
       "</style>\n",
       "<table border=\"1\" class=\"dataframe\">\n",
       "  <thead>\n",
       "    <tr style=\"text-align: right;\">\n",
       "      <th></th>\n",
       "      <th>Age</th>\n",
       "      <th>Height</th>\n",
       "      <th>Weight</th>\n",
       "    </tr>\n",
       "  </thead>\n",
       "  <tbody>\n",
       "    <tr>\n",
       "      <th>A</th>\n",
       "      <td>22</td>\n",
       "      <td>66</td>\n",
       "      <td>140</td>\n",
       "    </tr>\n",
       "    <tr>\n",
       "      <th>B</th>\n",
       "      <td>42</td>\n",
       "      <td>70</td>\n",
       "      <td>148</td>\n",
       "    </tr>\n",
       "    <tr>\n",
       "      <th>C</th>\n",
       "      <td>30</td>\n",
       "      <td>62</td>\n",
       "      <td>125</td>\n",
       "    </tr>\n",
       "    <tr>\n",
       "      <th>D</th>\n",
       "      <td>35</td>\n",
       "      <td>62</td>\n",
       "      <td>152</td>\n",
       "    </tr>\n",
       "  </tbody>\n",
       "</table>\n",
       "</div>"
      ],
      "text/plain": [
       "   Age  Height  Weight\n",
       "A   22      66     140\n",
       "B   42      70     148\n",
       "C   30      62     125\n",
       "D   35      62     152"
      ]
     },
     "execution_count": 9,
     "metadata": {},
     "output_type": "execute_result"
    }
   ],
   "source": [
    "df = pd.DataFrame(data = my_data, columns = cols, index = labels )\n",
    "df"
   ]
  },
  {
   "cell_type": "code",
   "execution_count": 10,
   "id": "6cfa4d72-d7fc-4539-8a58-f23369b56955",
   "metadata": {},
   "outputs": [],
   "source": [
    "# to join data to the dataframe\n",
    "df['profession'] = ['Doctor', 'Agbero', 'Politician', 'G-boy']"
   ]
  },
  {
   "cell_type": "code",
   "execution_count": 11,
   "id": "1db38cca-375c-4c3e-875b-bca4fd4a684e",
   "metadata": {},
   "outputs": [
    {
     "data": {
      "text/html": [
       "<div>\n",
       "<style scoped>\n",
       "    .dataframe tbody tr th:only-of-type {\n",
       "        vertical-align: middle;\n",
       "    }\n",
       "\n",
       "    .dataframe tbody tr th {\n",
       "        vertical-align: top;\n",
       "    }\n",
       "\n",
       "    .dataframe thead th {\n",
       "        text-align: right;\n",
       "    }\n",
       "</style>\n",
       "<table border=\"1\" class=\"dataframe\">\n",
       "  <thead>\n",
       "    <tr style=\"text-align: right;\">\n",
       "      <th></th>\n",
       "      <th>Age</th>\n",
       "      <th>Height</th>\n",
       "      <th>Weight</th>\n",
       "      <th>profession</th>\n",
       "    </tr>\n",
       "  </thead>\n",
       "  <tbody>\n",
       "    <tr>\n",
       "      <th>A</th>\n",
       "      <td>22</td>\n",
       "      <td>66</td>\n",
       "      <td>140</td>\n",
       "      <td>Doctor</td>\n",
       "    </tr>\n",
       "    <tr>\n",
       "      <th>B</th>\n",
       "      <td>42</td>\n",
       "      <td>70</td>\n",
       "      <td>148</td>\n",
       "      <td>Agbero</td>\n",
       "    </tr>\n",
       "    <tr>\n",
       "      <th>C</th>\n",
       "      <td>30</td>\n",
       "      <td>62</td>\n",
       "      <td>125</td>\n",
       "      <td>Politician</td>\n",
       "    </tr>\n",
       "    <tr>\n",
       "      <th>D</th>\n",
       "      <td>35</td>\n",
       "      <td>62</td>\n",
       "      <td>152</td>\n",
       "      <td>G-boy</td>\n",
       "    </tr>\n",
       "  </tbody>\n",
       "</table>\n",
       "</div>"
      ],
      "text/plain": [
       "   Age  Height  Weight  profession\n",
       "A   22      66     140      Doctor\n",
       "B   42      70     148      Agbero\n",
       "C   30      62     125  Politician\n",
       "D   35      62     152       G-boy"
      ]
     },
     "execution_count": 11,
     "metadata": {},
     "output_type": "execute_result"
    }
   ],
   "source": [
    "df"
   ]
  },
  {
   "cell_type": "code",
   "execution_count": 12,
   "id": "f1dd311e-9a6d-40bd-b9bf-da94902c5202",
   "metadata": {},
   "outputs": [
    {
     "data": {
      "text/html": [
       "<div>\n",
       "<style scoped>\n",
       "    .dataframe tbody tr th:only-of-type {\n",
       "        vertical-align: middle;\n",
       "    }\n",
       "\n",
       "    .dataframe tbody tr th {\n",
       "        vertical-align: top;\n",
       "    }\n",
       "\n",
       "    .dataframe thead th {\n",
       "        text-align: right;\n",
       "    }\n",
       "</style>\n",
       "<table border=\"1\" class=\"dataframe\">\n",
       "  <thead>\n",
       "    <tr style=\"text-align: right;\">\n",
       "      <th></th>\n",
       "      <th>Age</th>\n",
       "      <th>Height</th>\n",
       "      <th>Weight</th>\n",
       "      <th>profession</th>\n",
       "      <th>Firstname</th>\n",
       "    </tr>\n",
       "  </thead>\n",
       "  <tbody>\n",
       "    <tr>\n",
       "      <th>A</th>\n",
       "      <td>22</td>\n",
       "      <td>66</td>\n",
       "      <td>140</td>\n",
       "      <td>Doctor</td>\n",
       "      <td>Ayo</td>\n",
       "    </tr>\n",
       "    <tr>\n",
       "      <th>B</th>\n",
       "      <td>42</td>\n",
       "      <td>70</td>\n",
       "      <td>148</td>\n",
       "      <td>Agbero</td>\n",
       "      <td>Bolanle</td>\n",
       "    </tr>\n",
       "    <tr>\n",
       "      <th>C</th>\n",
       "      <td>30</td>\n",
       "      <td>62</td>\n",
       "      <td>125</td>\n",
       "      <td>Politician</td>\n",
       "      <td>Obi</td>\n",
       "    </tr>\n",
       "    <tr>\n",
       "      <th>D</th>\n",
       "      <td>35</td>\n",
       "      <td>62</td>\n",
       "      <td>152</td>\n",
       "      <td>G-boy</td>\n",
       "      <td>Hush</td>\n",
       "    </tr>\n",
       "  </tbody>\n",
       "</table>\n",
       "</div>"
      ],
      "text/plain": [
       "   Age  Height  Weight  profession Firstname\n",
       "A   22      66     140      Doctor       Ayo\n",
       "B   42      70     148      Agbero   Bolanle\n",
       "C   30      62     125  Politician       Obi\n",
       "D   35      62     152       G-boy      Hush"
      ]
     },
     "execution_count": 12,
     "metadata": {},
     "output_type": "execute_result"
    }
   ],
   "source": [
    "df['Firstname'] = 'Ayo Bolanle Obi Hush'.split(' ')\n",
    "df"
   ]
  },
  {
   "cell_type": "code",
   "execution_count": 13,
   "id": "084a2460-b7e8-4886-91e1-10837d1d6143",
   "metadata": {},
   "outputs": [
    {
     "data": {
      "text/html": [
       "<div>\n",
       "<style scoped>\n",
       "    .dataframe tbody tr th:only-of-type {\n",
       "        vertical-align: middle;\n",
       "    }\n",
       "\n",
       "    .dataframe tbody tr th {\n",
       "        vertical-align: top;\n",
       "    }\n",
       "\n",
       "    .dataframe thead th {\n",
       "        text-align: right;\n",
       "    }\n",
       "</style>\n",
       "<table border=\"1\" class=\"dataframe\">\n",
       "  <thead>\n",
       "    <tr style=\"text-align: right;\">\n",
       "      <th></th>\n",
       "      <th>Age</th>\n",
       "      <th>Height</th>\n",
       "      <th>Weight</th>\n",
       "      <th>profession</th>\n",
       "    </tr>\n",
       "    <tr>\n",
       "      <th>Firstname</th>\n",
       "      <th></th>\n",
       "      <th></th>\n",
       "      <th></th>\n",
       "      <th></th>\n",
       "    </tr>\n",
       "  </thead>\n",
       "  <tbody>\n",
       "    <tr>\n",
       "      <th>Ayo</th>\n",
       "      <td>22</td>\n",
       "      <td>66</td>\n",
       "      <td>140</td>\n",
       "      <td>Doctor</td>\n",
       "    </tr>\n",
       "    <tr>\n",
       "      <th>Bolanle</th>\n",
       "      <td>42</td>\n",
       "      <td>70</td>\n",
       "      <td>148</td>\n",
       "      <td>Agbero</td>\n",
       "    </tr>\n",
       "    <tr>\n",
       "      <th>Obi</th>\n",
       "      <td>30</td>\n",
       "      <td>62</td>\n",
       "      <td>125</td>\n",
       "      <td>Politician</td>\n",
       "    </tr>\n",
       "    <tr>\n",
       "      <th>Hush</th>\n",
       "      <td>35</td>\n",
       "      <td>62</td>\n",
       "      <td>152</td>\n",
       "      <td>G-boy</td>\n",
       "    </tr>\n",
       "  </tbody>\n",
       "</table>\n",
       "</div>"
      ],
      "text/plain": [
       "           Age  Height  Weight  profession\n",
       "Firstname                                 \n",
       "Ayo         22      66     140      Doctor\n",
       "Bolanle     42      70     148      Agbero\n",
       "Obi         30      62     125  Politician\n",
       "Hush        35      62     152       G-boy"
      ]
     },
     "execution_count": 13,
     "metadata": {},
     "output_type": "execute_result"
    }
   ],
   "source": [
    "df1 = df.set_index('Firstname')\n",
    "df1"
   ]
  },
  {
   "cell_type": "code",
   "execution_count": 14,
   "id": "92617a70-7010-43da-8f44-e674c4965f1f",
   "metadata": {},
   "outputs": [],
   "source": [
    "# inplace is used to make the changes to be true. it is preferable to use another variable \n",
    "# because any changes it makes is going to be permanent\n",
    "\n",
    "df2 = df.set_index('Firstname', inplace = True)\n",
    "df2"
   ]
  },
  {
   "cell_type": "code",
   "execution_count": 15,
   "id": "19a115c2-40cb-4d42-8159-6ea00ca982b3",
   "metadata": {},
   "outputs": [
    {
     "data": {
      "text/html": [
       "<div>\n",
       "<style scoped>\n",
       "    .dataframe tbody tr th:only-of-type {\n",
       "        vertical-align: middle;\n",
       "    }\n",
       "\n",
       "    .dataframe tbody tr th {\n",
       "        vertical-align: top;\n",
       "    }\n",
       "\n",
       "    .dataframe thead th {\n",
       "        text-align: right;\n",
       "    }\n",
       "</style>\n",
       "<table border=\"1\" class=\"dataframe\">\n",
       "  <thead>\n",
       "    <tr style=\"text-align: right;\">\n",
       "      <th></th>\n",
       "      <th>Firstname</th>\n",
       "      <th>Age</th>\n",
       "      <th>Height</th>\n",
       "      <th>Weight</th>\n",
       "      <th>profession</th>\n",
       "    </tr>\n",
       "  </thead>\n",
       "  <tbody>\n",
       "    <tr>\n",
       "      <th>0</th>\n",
       "      <td>Ayo</td>\n",
       "      <td>22</td>\n",
       "      <td>66</td>\n",
       "      <td>140</td>\n",
       "      <td>Doctor</td>\n",
       "    </tr>\n",
       "    <tr>\n",
       "      <th>1</th>\n",
       "      <td>Bolanle</td>\n",
       "      <td>42</td>\n",
       "      <td>70</td>\n",
       "      <td>148</td>\n",
       "      <td>Agbero</td>\n",
       "    </tr>\n",
       "    <tr>\n",
       "      <th>2</th>\n",
       "      <td>Obi</td>\n",
       "      <td>30</td>\n",
       "      <td>62</td>\n",
       "      <td>125</td>\n",
       "      <td>Politician</td>\n",
       "    </tr>\n",
       "    <tr>\n",
       "      <th>3</th>\n",
       "      <td>Hush</td>\n",
       "      <td>35</td>\n",
       "      <td>62</td>\n",
       "      <td>152</td>\n",
       "      <td>G-boy</td>\n",
       "    </tr>\n",
       "  </tbody>\n",
       "</table>\n",
       "</div>"
      ],
      "text/plain": [
       "  Firstname  Age  Height  Weight  profession\n",
       "0       Ayo   22      66     140      Doctor\n",
       "1   Bolanle   42      70     148      Agbero\n",
       "2       Obi   30      62     125  Politician\n",
       "3      Hush   35      62     152       G-boy"
      ]
     },
     "execution_count": 15,
     "metadata": {},
     "output_type": "execute_result"
    }
   ],
   "source": [
    "df3 = df.reset_index()\n",
    "df3"
   ]
  },
  {
   "cell_type": "code",
   "execution_count": 16,
   "id": "3f3b8c42-7aaf-4f61-b677-bb03fb21b98a",
   "metadata": {},
   "outputs": [
    {
     "data": {
      "text/html": [
       "<div>\n",
       "<style scoped>\n",
       "    .dataframe tbody tr th:only-of-type {\n",
       "        vertical-align: middle;\n",
       "    }\n",
       "\n",
       "    .dataframe tbody tr th {\n",
       "        vertical-align: top;\n",
       "    }\n",
       "\n",
       "    .dataframe thead th {\n",
       "        text-align: right;\n",
       "    }\n",
       "</style>\n",
       "<table border=\"1\" class=\"dataframe\">\n",
       "  <thead>\n",
       "    <tr style=\"text-align: right;\">\n",
       "      <th></th>\n",
       "      <th>Age</th>\n",
       "      <th>Height</th>\n",
       "      <th>Weight</th>\n",
       "      <th>profession</th>\n",
       "    </tr>\n",
       "    <tr>\n",
       "      <th>Firstname</th>\n",
       "      <th></th>\n",
       "      <th></th>\n",
       "      <th></th>\n",
       "      <th></th>\n",
       "    </tr>\n",
       "  </thead>\n",
       "  <tbody>\n",
       "    <tr>\n",
       "      <th>Ayo</th>\n",
       "      <td>22</td>\n",
       "      <td>66</td>\n",
       "      <td>140</td>\n",
       "      <td>Doctor</td>\n",
       "    </tr>\n",
       "    <tr>\n",
       "      <th>Bolanle</th>\n",
       "      <td>42</td>\n",
       "      <td>70</td>\n",
       "      <td>148</td>\n",
       "      <td>Agbero</td>\n",
       "    </tr>\n",
       "    <tr>\n",
       "      <th>Obi</th>\n",
       "      <td>30</td>\n",
       "      <td>62</td>\n",
       "      <td>125</td>\n",
       "      <td>Politician</td>\n",
       "    </tr>\n",
       "    <tr>\n",
       "      <th>Hush</th>\n",
       "      <td>35</td>\n",
       "      <td>62</td>\n",
       "      <td>152</td>\n",
       "      <td>G-boy</td>\n",
       "    </tr>\n",
       "  </tbody>\n",
       "</table>\n",
       "</div>"
      ],
      "text/plain": [
       "           Age  Height  Weight  profession\n",
       "Firstname                                 \n",
       "Ayo         22      66     140      Doctor\n",
       "Bolanle     42      70     148      Agbero\n",
       "Obi         30      62     125  Politician\n",
       "Hush        35      62     152       G-boy"
      ]
     },
     "execution_count": 16,
     "metadata": {},
     "output_type": "execute_result"
    }
   ],
   "source": [
    "df"
   ]
  },
  {
   "cell_type": "code",
   "execution_count": 23,
   "id": "ce0af1cc-e4b5-4e68-ac1c-39b3f55ab0f8",
   "metadata": {},
   "outputs": [
    {
     "ename": "ValueError",
     "evalue": "Length of values (4) does not match length of index (9994)",
     "output_type": "error",
     "traceback": [
      "\u001b[1;31m---------------------------------------------------------------------------\u001b[0m",
      "\u001b[1;31mValueError\u001b[0m                                Traceback (most recent call last)",
      "Cell \u001b[1;32mIn[23], line 1\u001b[0m\n\u001b[1;32m----> 1\u001b[0m df[\u001b[38;5;124m'\u001b[39m\u001b[38;5;124mLastname\u001b[39m\u001b[38;5;124m'\u001b[39m] \u001b[38;5;241m=\u001b[39m \u001b[38;5;124m'\u001b[39m\u001b[38;5;124mBalogun Jegede Jagaban Abass\u001b[39m\u001b[38;5;124m'\u001b[39m\u001b[38;5;241m.\u001b[39msplit(\u001b[38;5;124m'\u001b[39m\u001b[38;5;124m \u001b[39m\u001b[38;5;124m'\u001b[39m)\n\u001b[0;32m      2\u001b[0m df\n",
      "File \u001b[1;32m~\\anaconda3\\lib\\site-packages\\pandas\\core\\frame.py:3655\u001b[0m, in \u001b[0;36mDataFrame.__setitem__\u001b[1;34m(self, key, value)\u001b[0m\n\u001b[0;32m   3652\u001b[0m     \u001b[38;5;28mself\u001b[39m\u001b[38;5;241m.\u001b[39m_setitem_array([key], value)\n\u001b[0;32m   3653\u001b[0m \u001b[38;5;28;01melse\u001b[39;00m:\n\u001b[0;32m   3654\u001b[0m     \u001b[38;5;66;03m# set column\u001b[39;00m\n\u001b[1;32m-> 3655\u001b[0m     \u001b[38;5;28;43mself\u001b[39;49m\u001b[38;5;241;43m.\u001b[39;49m\u001b[43m_set_item\u001b[49m\u001b[43m(\u001b[49m\u001b[43mkey\u001b[49m\u001b[43m,\u001b[49m\u001b[43m \u001b[49m\u001b[43mvalue\u001b[49m\u001b[43m)\u001b[49m\n",
      "File \u001b[1;32m~\\anaconda3\\lib\\site-packages\\pandas\\core\\frame.py:3832\u001b[0m, in \u001b[0;36mDataFrame._set_item\u001b[1;34m(self, key, value)\u001b[0m\n\u001b[0;32m   3822\u001b[0m \u001b[38;5;28;01mdef\u001b[39;00m \u001b[38;5;21m_set_item\u001b[39m(\u001b[38;5;28mself\u001b[39m, key, value) \u001b[38;5;241m-\u001b[39m\u001b[38;5;241m>\u001b[39m \u001b[38;5;28;01mNone\u001b[39;00m:\n\u001b[0;32m   3823\u001b[0m     \u001b[38;5;124;03m\"\"\"\u001b[39;00m\n\u001b[0;32m   3824\u001b[0m \u001b[38;5;124;03m    Add series to DataFrame in specified column.\u001b[39;00m\n\u001b[0;32m   3825\u001b[0m \n\u001b[1;32m   (...)\u001b[0m\n\u001b[0;32m   3830\u001b[0m \u001b[38;5;124;03m    ensure homogeneity.\u001b[39;00m\n\u001b[0;32m   3831\u001b[0m \u001b[38;5;124;03m    \"\"\"\u001b[39;00m\n\u001b[1;32m-> 3832\u001b[0m     value \u001b[38;5;241m=\u001b[39m \u001b[38;5;28;43mself\u001b[39;49m\u001b[38;5;241;43m.\u001b[39;49m\u001b[43m_sanitize_column\u001b[49m\u001b[43m(\u001b[49m\u001b[43mvalue\u001b[49m\u001b[43m)\u001b[49m\n\u001b[0;32m   3834\u001b[0m     \u001b[38;5;28;01mif\u001b[39;00m (\n\u001b[0;32m   3835\u001b[0m         key \u001b[38;5;129;01min\u001b[39;00m \u001b[38;5;28mself\u001b[39m\u001b[38;5;241m.\u001b[39mcolumns\n\u001b[0;32m   3836\u001b[0m         \u001b[38;5;129;01mand\u001b[39;00m value\u001b[38;5;241m.\u001b[39mndim \u001b[38;5;241m==\u001b[39m \u001b[38;5;241m1\u001b[39m\n\u001b[0;32m   3837\u001b[0m         \u001b[38;5;129;01mand\u001b[39;00m \u001b[38;5;129;01mnot\u001b[39;00m is_extension_array_dtype(value)\n\u001b[0;32m   3838\u001b[0m     ):\n\u001b[0;32m   3839\u001b[0m         \u001b[38;5;66;03m# broadcast across multiple columns if necessary\u001b[39;00m\n\u001b[0;32m   3840\u001b[0m         \u001b[38;5;28;01mif\u001b[39;00m \u001b[38;5;129;01mnot\u001b[39;00m \u001b[38;5;28mself\u001b[39m\u001b[38;5;241m.\u001b[39mcolumns\u001b[38;5;241m.\u001b[39mis_unique \u001b[38;5;129;01mor\u001b[39;00m \u001b[38;5;28misinstance\u001b[39m(\u001b[38;5;28mself\u001b[39m\u001b[38;5;241m.\u001b[39mcolumns, MultiIndex):\n",
      "File \u001b[1;32m~\\anaconda3\\lib\\site-packages\\pandas\\core\\frame.py:4538\u001b[0m, in \u001b[0;36mDataFrame._sanitize_column\u001b[1;34m(self, value)\u001b[0m\n\u001b[0;32m   4535\u001b[0m     \u001b[38;5;28;01mreturn\u001b[39;00m _reindex_for_setitem(value, \u001b[38;5;28mself\u001b[39m\u001b[38;5;241m.\u001b[39mindex)\n\u001b[0;32m   4537\u001b[0m \u001b[38;5;28;01mif\u001b[39;00m is_list_like(value):\n\u001b[1;32m-> 4538\u001b[0m     \u001b[43mcom\u001b[49m\u001b[38;5;241;43m.\u001b[39;49m\u001b[43mrequire_length_match\u001b[49m\u001b[43m(\u001b[49m\u001b[43mvalue\u001b[49m\u001b[43m,\u001b[49m\u001b[43m \u001b[49m\u001b[38;5;28;43mself\u001b[39;49m\u001b[38;5;241;43m.\u001b[39;49m\u001b[43mindex\u001b[49m\u001b[43m)\u001b[49m\n\u001b[0;32m   4539\u001b[0m \u001b[38;5;28;01mreturn\u001b[39;00m sanitize_array(value, \u001b[38;5;28mself\u001b[39m\u001b[38;5;241m.\u001b[39mindex, copy\u001b[38;5;241m=\u001b[39m\u001b[38;5;28;01mTrue\u001b[39;00m, allow_2d\u001b[38;5;241m=\u001b[39m\u001b[38;5;28;01mTrue\u001b[39;00m)\n",
      "File \u001b[1;32m~\\anaconda3\\lib\\site-packages\\pandas\\core\\common.py:557\u001b[0m, in \u001b[0;36mrequire_length_match\u001b[1;34m(data, index)\u001b[0m\n\u001b[0;32m    553\u001b[0m \u001b[38;5;124;03m\"\"\"\u001b[39;00m\n\u001b[0;32m    554\u001b[0m \u001b[38;5;124;03mCheck the length of data matches the length of the index.\u001b[39;00m\n\u001b[0;32m    555\u001b[0m \u001b[38;5;124;03m\"\"\"\u001b[39;00m\n\u001b[0;32m    556\u001b[0m \u001b[38;5;28;01mif\u001b[39;00m \u001b[38;5;28mlen\u001b[39m(data) \u001b[38;5;241m!=\u001b[39m \u001b[38;5;28mlen\u001b[39m(index):\n\u001b[1;32m--> 557\u001b[0m     \u001b[38;5;28;01mraise\u001b[39;00m \u001b[38;5;167;01mValueError\u001b[39;00m(\n\u001b[0;32m    558\u001b[0m         \u001b[38;5;124m\"\u001b[39m\u001b[38;5;124mLength of values \u001b[39m\u001b[38;5;124m\"\u001b[39m\n\u001b[0;32m    559\u001b[0m         \u001b[38;5;124mf\u001b[39m\u001b[38;5;124m\"\u001b[39m\u001b[38;5;124m(\u001b[39m\u001b[38;5;132;01m{\u001b[39;00m\u001b[38;5;28mlen\u001b[39m(data)\u001b[38;5;132;01m}\u001b[39;00m\u001b[38;5;124m) \u001b[39m\u001b[38;5;124m\"\u001b[39m\n\u001b[0;32m    560\u001b[0m         \u001b[38;5;124m\"\u001b[39m\u001b[38;5;124mdoes not match length of index \u001b[39m\u001b[38;5;124m\"\u001b[39m\n\u001b[0;32m    561\u001b[0m         \u001b[38;5;124mf\u001b[39m\u001b[38;5;124m\"\u001b[39m\u001b[38;5;124m(\u001b[39m\u001b[38;5;132;01m{\u001b[39;00m\u001b[38;5;28mlen\u001b[39m(index)\u001b[38;5;132;01m}\u001b[39;00m\u001b[38;5;124m)\u001b[39m\u001b[38;5;124m\"\u001b[39m\n\u001b[0;32m    562\u001b[0m     )\n",
      "\u001b[1;31mValueError\u001b[0m: Length of values (4) does not match length of index (9994)"
     ]
    }
   ],
   "source": [
    "df['Lastname'] = 'Balogun Jegede Jagaban Abass'.split(' ')\n",
    "df"
   ]
  },
  {
   "cell_type": "code",
   "execution_count": 18,
   "id": "44554398-113f-4963-8ea9-3d7f6c7cd5a3",
   "metadata": {},
   "outputs": [
    {
     "data": {
      "text/html": [
       "<div>\n",
       "<style scoped>\n",
       "    .dataframe tbody tr th:only-of-type {\n",
       "        vertical-align: middle;\n",
       "    }\n",
       "\n",
       "    .dataframe tbody tr th {\n",
       "        vertical-align: top;\n",
       "    }\n",
       "\n",
       "    .dataframe thead th {\n",
       "        text-align: right;\n",
       "    }\n",
       "</style>\n",
       "<table border=\"1\" class=\"dataframe\">\n",
       "  <thead>\n",
       "    <tr style=\"text-align: right;\">\n",
       "      <th></th>\n",
       "      <th>Firstname</th>\n",
       "      <th>Age</th>\n",
       "      <th>Height</th>\n",
       "      <th>Weight</th>\n",
       "      <th>profession</th>\n",
       "      <th>Lastname</th>\n",
       "    </tr>\n",
       "  </thead>\n",
       "  <tbody>\n",
       "    <tr>\n",
       "      <th>0</th>\n",
       "      <td>Ayo</td>\n",
       "      <td>22</td>\n",
       "      <td>66</td>\n",
       "      <td>140</td>\n",
       "      <td>Doctor</td>\n",
       "      <td>Balogun</td>\n",
       "    </tr>\n",
       "    <tr>\n",
       "      <th>1</th>\n",
       "      <td>Bolanle</td>\n",
       "      <td>42</td>\n",
       "      <td>70</td>\n",
       "      <td>148</td>\n",
       "      <td>Agbero</td>\n",
       "      <td>Jegede</td>\n",
       "    </tr>\n",
       "    <tr>\n",
       "      <th>2</th>\n",
       "      <td>Obi</td>\n",
       "      <td>30</td>\n",
       "      <td>62</td>\n",
       "      <td>125</td>\n",
       "      <td>Politician</td>\n",
       "      <td>Jagaban</td>\n",
       "    </tr>\n",
       "    <tr>\n",
       "      <th>3</th>\n",
       "      <td>Hush</td>\n",
       "      <td>35</td>\n",
       "      <td>62</td>\n",
       "      <td>152</td>\n",
       "      <td>G-boy</td>\n",
       "      <td>Abass</td>\n",
       "    </tr>\n",
       "  </tbody>\n",
       "</table>\n",
       "</div>"
      ],
      "text/plain": [
       "  Firstname  Age  Height  Weight  profession Lastname\n",
       "0       Ayo   22      66     140      Doctor  Balogun\n",
       "1   Bolanle   42      70     148      Agbero   Jegede\n",
       "2       Obi   30      62     125  Politician  Jagaban\n",
       "3      Hush   35      62     152       G-boy    Abass"
      ]
     },
     "execution_count": 18,
     "metadata": {},
     "output_type": "execute_result"
    }
   ],
   "source": [
    "df.reset_index()"
   ]
  },
  {
   "cell_type": "code",
   "execution_count": 20,
   "id": "f6ee8722-678e-4792-a68c-f76c4ac01cce",
   "metadata": {},
   "outputs": [
    {
     "ename": "KeyError",
     "evalue": "\"['Firstname'] not in index\"",
     "output_type": "error",
     "traceback": [
      "\u001b[1;31m---------------------------------------------------------------------------\u001b[0m",
      "\u001b[1;31mKeyError\u001b[0m                                  Traceback (most recent call last)",
      "Cell \u001b[1;32mIn[20], line 2\u001b[0m\n\u001b[0;32m      1\u001b[0m \u001b[38;5;66;03m# to rearrange dataframe\u001b[39;00m\n\u001b[1;32m----> 2\u001b[0m df \u001b[38;5;241m=\u001b[39m \u001b[43mdf\u001b[49m\u001b[43m[\u001b[49m\u001b[43m[\u001b[49m\u001b[38;5;124;43m'\u001b[39;49m\u001b[38;5;124;43mFirstname\u001b[39;49m\u001b[38;5;124;43m'\u001b[39;49m\u001b[43m,\u001b[49m\u001b[43m \u001b[49m\u001b[38;5;124;43m'\u001b[39;49m\u001b[38;5;124;43mLastname\u001b[39;49m\u001b[38;5;124;43m'\u001b[39;49m\u001b[43m,\u001b[49m\u001b[43m \u001b[49m\n\u001b[0;32m      3\u001b[0m \u001b[43m         \u001b[49m\u001b[38;5;124;43m'\u001b[39;49m\u001b[38;5;124;43mAge\u001b[39;49m\u001b[38;5;124;43m'\u001b[39;49m\u001b[43m,\u001b[49m\u001b[43m \u001b[49m\u001b[38;5;124;43m'\u001b[39;49m\u001b[38;5;124;43mHeight\u001b[39;49m\u001b[38;5;124;43m'\u001b[39;49m\u001b[43m,\u001b[49m\u001b[43m \u001b[49m\u001b[38;5;124;43m'\u001b[39;49m\u001b[38;5;124;43mWeight\u001b[39;49m\u001b[38;5;124;43m'\u001b[39;49m\u001b[43m,\u001b[49m\u001b[43m \u001b[49m\n\u001b[0;32m      4\u001b[0m \u001b[43m         \u001b[49m\u001b[38;5;124;43m'\u001b[39;49m\u001b[38;5;124;43mprofession\u001b[39;49m\u001b[38;5;124;43m'\u001b[39;49m\u001b[43m]\u001b[49m\u001b[43m]\u001b[49m\n\u001b[0;32m      5\u001b[0m df\n",
      "File \u001b[1;32m~\\anaconda3\\lib\\site-packages\\pandas\\core\\frame.py:3511\u001b[0m, in \u001b[0;36mDataFrame.__getitem__\u001b[1;34m(self, key)\u001b[0m\n\u001b[0;32m   3509\u001b[0m     \u001b[38;5;28;01mif\u001b[39;00m is_iterator(key):\n\u001b[0;32m   3510\u001b[0m         key \u001b[38;5;241m=\u001b[39m \u001b[38;5;28mlist\u001b[39m(key)\n\u001b[1;32m-> 3511\u001b[0m     indexer \u001b[38;5;241m=\u001b[39m \u001b[38;5;28;43mself\u001b[39;49m\u001b[38;5;241;43m.\u001b[39;49m\u001b[43mcolumns\u001b[49m\u001b[38;5;241;43m.\u001b[39;49m\u001b[43m_get_indexer_strict\u001b[49m\u001b[43m(\u001b[49m\u001b[43mkey\u001b[49m\u001b[43m,\u001b[49m\u001b[43m \u001b[49m\u001b[38;5;124;43m\"\u001b[39;49m\u001b[38;5;124;43mcolumns\u001b[39;49m\u001b[38;5;124;43m\"\u001b[39;49m\u001b[43m)\u001b[49m[\u001b[38;5;241m1\u001b[39m]\n\u001b[0;32m   3513\u001b[0m \u001b[38;5;66;03m# take() does not accept boolean indexers\u001b[39;00m\n\u001b[0;32m   3514\u001b[0m \u001b[38;5;28;01mif\u001b[39;00m \u001b[38;5;28mgetattr\u001b[39m(indexer, \u001b[38;5;124m\"\u001b[39m\u001b[38;5;124mdtype\u001b[39m\u001b[38;5;124m\"\u001b[39m, \u001b[38;5;28;01mNone\u001b[39;00m) \u001b[38;5;241m==\u001b[39m \u001b[38;5;28mbool\u001b[39m:\n",
      "File \u001b[1;32m~\\anaconda3\\lib\\site-packages\\pandas\\core\\indexes\\base.py:5796\u001b[0m, in \u001b[0;36mIndex._get_indexer_strict\u001b[1;34m(self, key, axis_name)\u001b[0m\n\u001b[0;32m   5793\u001b[0m \u001b[38;5;28;01melse\u001b[39;00m:\n\u001b[0;32m   5794\u001b[0m     keyarr, indexer, new_indexer \u001b[38;5;241m=\u001b[39m \u001b[38;5;28mself\u001b[39m\u001b[38;5;241m.\u001b[39m_reindex_non_unique(keyarr)\n\u001b[1;32m-> 5796\u001b[0m \u001b[38;5;28;43mself\u001b[39;49m\u001b[38;5;241;43m.\u001b[39;49m\u001b[43m_raise_if_missing\u001b[49m\u001b[43m(\u001b[49m\u001b[43mkeyarr\u001b[49m\u001b[43m,\u001b[49m\u001b[43m \u001b[49m\u001b[43mindexer\u001b[49m\u001b[43m,\u001b[49m\u001b[43m \u001b[49m\u001b[43maxis_name\u001b[49m\u001b[43m)\u001b[49m\n\u001b[0;32m   5798\u001b[0m keyarr \u001b[38;5;241m=\u001b[39m \u001b[38;5;28mself\u001b[39m\u001b[38;5;241m.\u001b[39mtake(indexer)\n\u001b[0;32m   5799\u001b[0m \u001b[38;5;28;01mif\u001b[39;00m \u001b[38;5;28misinstance\u001b[39m(key, Index):\n\u001b[0;32m   5800\u001b[0m     \u001b[38;5;66;03m# GH 42790 - Preserve name from an Index\u001b[39;00m\n",
      "File \u001b[1;32m~\\anaconda3\\lib\\site-packages\\pandas\\core\\indexes\\base.py:5859\u001b[0m, in \u001b[0;36mIndex._raise_if_missing\u001b[1;34m(self, key, indexer, axis_name)\u001b[0m\n\u001b[0;32m   5856\u001b[0m     \u001b[38;5;28;01mraise\u001b[39;00m \u001b[38;5;167;01mKeyError\u001b[39;00m(\u001b[38;5;124mf\u001b[39m\u001b[38;5;124m\"\u001b[39m\u001b[38;5;124mNone of [\u001b[39m\u001b[38;5;132;01m{\u001b[39;00mkey\u001b[38;5;132;01m}\u001b[39;00m\u001b[38;5;124m] are in the [\u001b[39m\u001b[38;5;132;01m{\u001b[39;00maxis_name\u001b[38;5;132;01m}\u001b[39;00m\u001b[38;5;124m]\u001b[39m\u001b[38;5;124m\"\u001b[39m)\n\u001b[0;32m   5858\u001b[0m not_found \u001b[38;5;241m=\u001b[39m \u001b[38;5;28mlist\u001b[39m(ensure_index(key)[missing_mask\u001b[38;5;241m.\u001b[39mnonzero()[\u001b[38;5;241m0\u001b[39m]]\u001b[38;5;241m.\u001b[39munique())\n\u001b[1;32m-> 5859\u001b[0m \u001b[38;5;28;01mraise\u001b[39;00m \u001b[38;5;167;01mKeyError\u001b[39;00m(\u001b[38;5;124mf\u001b[39m\u001b[38;5;124m\"\u001b[39m\u001b[38;5;132;01m{\u001b[39;00mnot_found\u001b[38;5;132;01m}\u001b[39;00m\u001b[38;5;124m not in index\u001b[39m\u001b[38;5;124m\"\u001b[39m)\n",
      "\u001b[1;31mKeyError\u001b[0m: \"['Firstname'] not in index\""
     ]
    }
   ],
   "source": [
    "# to rearrange dataframe\n",
    "df = df[['Firstname', 'Lastname', \n",
    "         'Age', 'Height', 'Weight', \n",
    "         'profession']]\n",
    "df"
   ]
  },
  {
   "cell_type": "code",
   "execution_count": 24,
   "id": "238582f4-6bdf-40d4-aa2b-84d80f9de666",
   "metadata": {},
   "outputs": [
    {
     "data": {
      "text/html": [
       "<div>\n",
       "<style scoped>\n",
       "    .dataframe tbody tr th:only-of-type {\n",
       "        vertical-align: middle;\n",
       "    }\n",
       "\n",
       "    .dataframe tbody tr th {\n",
       "        vertical-align: top;\n",
       "    }\n",
       "\n",
       "    .dataframe thead th {\n",
       "        text-align: right;\n",
       "    }\n",
       "</style>\n",
       "<table border=\"1\" class=\"dataframe\">\n",
       "  <thead>\n",
       "    <tr style=\"text-align: right;\">\n",
       "      <th></th>\n",
       "      <th>Row ID</th>\n",
       "      <th>Order ID</th>\n",
       "      <th>Order Date</th>\n",
       "      <th>Ship Date</th>\n",
       "      <th>Ship Mode</th>\n",
       "      <th>Customer ID</th>\n",
       "      <th>Customer Name</th>\n",
       "      <th>Segment</th>\n",
       "      <th>Country</th>\n",
       "      <th>City</th>\n",
       "      <th>...</th>\n",
       "      <th>Postal Code</th>\n",
       "      <th>Region</th>\n",
       "      <th>Product ID</th>\n",
       "      <th>Category</th>\n",
       "      <th>Sub-Category</th>\n",
       "      <th>Product Name</th>\n",
       "      <th>Sales</th>\n",
       "      <th>Quantity</th>\n",
       "      <th>Discount</th>\n",
       "      <th>Profit</th>\n",
       "    </tr>\n",
       "  </thead>\n",
       "  <tbody>\n",
       "    <tr>\n",
       "      <th>0</th>\n",
       "      <td>1</td>\n",
       "      <td>CA-2016-152156</td>\n",
       "      <td>2016-11-08</td>\n",
       "      <td>2016-11-11</td>\n",
       "      <td>Second Class</td>\n",
       "      <td>CG-12520</td>\n",
       "      <td>Claire Gute</td>\n",
       "      <td>Consumer</td>\n",
       "      <td>United States</td>\n",
       "      <td>Henderson</td>\n",
       "      <td>...</td>\n",
       "      <td>42420</td>\n",
       "      <td>South</td>\n",
       "      <td>FUR-BO-10001798</td>\n",
       "      <td>Furniture</td>\n",
       "      <td>Bookcases</td>\n",
       "      <td>Bush Somerset Collection Bookcase</td>\n",
       "      <td>261.9600</td>\n",
       "      <td>2</td>\n",
       "      <td>0.00</td>\n",
       "      <td>41.9136</td>\n",
       "    </tr>\n",
       "    <tr>\n",
       "      <th>1</th>\n",
       "      <td>2</td>\n",
       "      <td>CA-2016-152156</td>\n",
       "      <td>2016-11-08</td>\n",
       "      <td>2016-11-11</td>\n",
       "      <td>Second Class</td>\n",
       "      <td>CG-12520</td>\n",
       "      <td>Claire Gute</td>\n",
       "      <td>Consumer</td>\n",
       "      <td>United States</td>\n",
       "      <td>Henderson</td>\n",
       "      <td>...</td>\n",
       "      <td>42420</td>\n",
       "      <td>South</td>\n",
       "      <td>FUR-CH-10000454</td>\n",
       "      <td>Furniture</td>\n",
       "      <td>Chairs</td>\n",
       "      <td>Hon Deluxe Fabric Upholstered Stacking Chairs,...</td>\n",
       "      <td>731.9400</td>\n",
       "      <td>3</td>\n",
       "      <td>0.00</td>\n",
       "      <td>219.5820</td>\n",
       "    </tr>\n",
       "    <tr>\n",
       "      <th>2</th>\n",
       "      <td>3</td>\n",
       "      <td>CA-2016-138688</td>\n",
       "      <td>2016-06-12</td>\n",
       "      <td>2016-06-16</td>\n",
       "      <td>Second Class</td>\n",
       "      <td>DV-13045</td>\n",
       "      <td>Darrin Van Huff</td>\n",
       "      <td>Corporate</td>\n",
       "      <td>United States</td>\n",
       "      <td>Los Angeles</td>\n",
       "      <td>...</td>\n",
       "      <td>90036</td>\n",
       "      <td>West</td>\n",
       "      <td>OFF-LA-10000240</td>\n",
       "      <td>Office Supplies</td>\n",
       "      <td>Labels</td>\n",
       "      <td>Self-Adhesive Address Labels for Typewriters b...</td>\n",
       "      <td>14.6200</td>\n",
       "      <td>2</td>\n",
       "      <td>0.00</td>\n",
       "      <td>6.8714</td>\n",
       "    </tr>\n",
       "    <tr>\n",
       "      <th>3</th>\n",
       "      <td>4</td>\n",
       "      <td>US-2015-108966</td>\n",
       "      <td>2015-10-11</td>\n",
       "      <td>2015-10-18</td>\n",
       "      <td>Standard Class</td>\n",
       "      <td>SO-20335</td>\n",
       "      <td>Sean O'Donnell</td>\n",
       "      <td>Consumer</td>\n",
       "      <td>United States</td>\n",
       "      <td>Fort Lauderdale</td>\n",
       "      <td>...</td>\n",
       "      <td>33311</td>\n",
       "      <td>South</td>\n",
       "      <td>FUR-TA-10000577</td>\n",
       "      <td>Furniture</td>\n",
       "      <td>Tables</td>\n",
       "      <td>Bretford CR4500 Series Slim Rectangular Table</td>\n",
       "      <td>957.5775</td>\n",
       "      <td>5</td>\n",
       "      <td>0.45</td>\n",
       "      <td>-383.0310</td>\n",
       "    </tr>\n",
       "    <tr>\n",
       "      <th>4</th>\n",
       "      <td>5</td>\n",
       "      <td>US-2015-108966</td>\n",
       "      <td>2015-10-11</td>\n",
       "      <td>2015-10-18</td>\n",
       "      <td>Standard Class</td>\n",
       "      <td>SO-20335</td>\n",
       "      <td>Sean O'Donnell</td>\n",
       "      <td>Consumer</td>\n",
       "      <td>United States</td>\n",
       "      <td>Fort Lauderdale</td>\n",
       "      <td>...</td>\n",
       "      <td>33311</td>\n",
       "      <td>South</td>\n",
       "      <td>OFF-ST-10000760</td>\n",
       "      <td>Office Supplies</td>\n",
       "      <td>Storage</td>\n",
       "      <td>Eldon Fold 'N Roll Cart System</td>\n",
       "      <td>22.3680</td>\n",
       "      <td>2</td>\n",
       "      <td>0.20</td>\n",
       "      <td>2.5164</td>\n",
       "    </tr>\n",
       "  </tbody>\n",
       "</table>\n",
       "<p>5 rows × 21 columns</p>\n",
       "</div>"
      ],
      "text/plain": [
       "   Row ID        Order ID Order Date  Ship Date       Ship Mode Customer ID  \\\n",
       "0       1  CA-2016-152156 2016-11-08 2016-11-11    Second Class    CG-12520   \n",
       "1       2  CA-2016-152156 2016-11-08 2016-11-11    Second Class    CG-12520   \n",
       "2       3  CA-2016-138688 2016-06-12 2016-06-16    Second Class    DV-13045   \n",
       "3       4  US-2015-108966 2015-10-11 2015-10-18  Standard Class    SO-20335   \n",
       "4       5  US-2015-108966 2015-10-11 2015-10-18  Standard Class    SO-20335   \n",
       "\n",
       "     Customer Name    Segment        Country             City  ...  \\\n",
       "0      Claire Gute   Consumer  United States        Henderson  ...   \n",
       "1      Claire Gute   Consumer  United States        Henderson  ...   \n",
       "2  Darrin Van Huff  Corporate  United States      Los Angeles  ...   \n",
       "3   Sean O'Donnell   Consumer  United States  Fort Lauderdale  ...   \n",
       "4   Sean O'Donnell   Consumer  United States  Fort Lauderdale  ...   \n",
       "\n",
       "  Postal Code  Region       Product ID         Category Sub-Category  \\\n",
       "0       42420   South  FUR-BO-10001798        Furniture    Bookcases   \n",
       "1       42420   South  FUR-CH-10000454        Furniture       Chairs   \n",
       "2       90036    West  OFF-LA-10000240  Office Supplies       Labels   \n",
       "3       33311   South  FUR-TA-10000577        Furniture       Tables   \n",
       "4       33311   South  OFF-ST-10000760  Office Supplies      Storage   \n",
       "\n",
       "                                        Product Name     Sales  Quantity  \\\n",
       "0                  Bush Somerset Collection Bookcase  261.9600         2   \n",
       "1  Hon Deluxe Fabric Upholstered Stacking Chairs,...  731.9400         3   \n",
       "2  Self-Adhesive Address Labels for Typewriters b...   14.6200         2   \n",
       "3      Bretford CR4500 Series Slim Rectangular Table  957.5775         5   \n",
       "4                     Eldon Fold 'N Roll Cart System   22.3680         2   \n",
       "\n",
       "   Discount    Profit  \n",
       "0      0.00   41.9136  \n",
       "1      0.00  219.5820  \n",
       "2      0.00    6.8714  \n",
       "3      0.45 -383.0310  \n",
       "4      0.20    2.5164  \n",
       "\n",
       "[5 rows x 21 columns]"
      ]
     },
     "execution_count": 24,
     "metadata": {},
     "output_type": "execute_result"
    }
   ],
   "source": [
    "import numpy as np\n",
    "import pandas as pd\n",
    "\n",
    "df = pd.read_excel('C:/Users/Admin/DATA SCIENCE CLASS/data/Sample - Superstore.xls')\n",
    "df.head()"
   ]
  },
  {
   "cell_type": "code",
   "execution_count": 25,
   "id": "8fb0b911-aaab-4dd8-a5f3-e9cfd57c3a2e",
   "metadata": {},
   "outputs": [],
   "source": [
    "# df1 = pd.read_excel('C:/Users/Admin/DATA SCIENCE CLASS/data/Sample - Superstore.xls', 'Returns')\n",
    "# df1.head()"
   ]
  },
  {
   "cell_type": "code",
   "execution_count": 26,
   "id": "e0841ecb-35a9-43bf-8df0-4d5e945ac9ee",
   "metadata": {},
   "outputs": [],
   "source": [
    "# Filter useful columns\n",
    "df4 = df[['Row ID','Order ID', 'Order Date', 'Ship Date', 'Customer ID', 'Customer Name', \n",
    "        'Country', 'City', 'Region', 'Product ID', 'Product Name', 'Sales', \n",
    "         'Quantity', 'Discount', 'Profit'] ]"
   ]
  },
  {
   "cell_type": "code",
   "execution_count": 27,
   "id": "ff7262e9-ab97-4094-bc5e-dee92ec718a9",
   "metadata": {},
   "outputs": [
    {
     "data": {
      "text/html": [
       "<div>\n",
       "<style scoped>\n",
       "    .dataframe tbody tr th:only-of-type {\n",
       "        vertical-align: middle;\n",
       "    }\n",
       "\n",
       "    .dataframe tbody tr th {\n",
       "        vertical-align: top;\n",
       "    }\n",
       "\n",
       "    .dataframe thead th {\n",
       "        text-align: right;\n",
       "    }\n",
       "</style>\n",
       "<table border=\"1\" class=\"dataframe\">\n",
       "  <thead>\n",
       "    <tr style=\"text-align: right;\">\n",
       "      <th></th>\n",
       "      <th>Row ID</th>\n",
       "      <th>Order ID</th>\n",
       "      <th>Order Date</th>\n",
       "      <th>Ship Date</th>\n",
       "      <th>Customer ID</th>\n",
       "      <th>Customer Name</th>\n",
       "      <th>Country</th>\n",
       "      <th>City</th>\n",
       "      <th>Region</th>\n",
       "      <th>Product ID</th>\n",
       "      <th>Product Name</th>\n",
       "      <th>Sales</th>\n",
       "      <th>Quantity</th>\n",
       "      <th>Discount</th>\n",
       "      <th>Profit</th>\n",
       "    </tr>\n",
       "  </thead>\n",
       "  <tbody>\n",
       "    <tr>\n",
       "      <th>0</th>\n",
       "      <td>1</td>\n",
       "      <td>CA-2016-152156</td>\n",
       "      <td>2016-11-08</td>\n",
       "      <td>2016-11-11</td>\n",
       "      <td>CG-12520</td>\n",
       "      <td>Claire Gute</td>\n",
       "      <td>United States</td>\n",
       "      <td>Henderson</td>\n",
       "      <td>South</td>\n",
       "      <td>FUR-BO-10001798</td>\n",
       "      <td>Bush Somerset Collection Bookcase</td>\n",
       "      <td>261.9600</td>\n",
       "      <td>2</td>\n",
       "      <td>0.00</td>\n",
       "      <td>41.9136</td>\n",
       "    </tr>\n",
       "    <tr>\n",
       "      <th>1</th>\n",
       "      <td>2</td>\n",
       "      <td>CA-2016-152156</td>\n",
       "      <td>2016-11-08</td>\n",
       "      <td>2016-11-11</td>\n",
       "      <td>CG-12520</td>\n",
       "      <td>Claire Gute</td>\n",
       "      <td>United States</td>\n",
       "      <td>Henderson</td>\n",
       "      <td>South</td>\n",
       "      <td>FUR-CH-10000454</td>\n",
       "      <td>Hon Deluxe Fabric Upholstered Stacking Chairs,...</td>\n",
       "      <td>731.9400</td>\n",
       "      <td>3</td>\n",
       "      <td>0.00</td>\n",
       "      <td>219.5820</td>\n",
       "    </tr>\n",
       "    <tr>\n",
       "      <th>2</th>\n",
       "      <td>3</td>\n",
       "      <td>CA-2016-138688</td>\n",
       "      <td>2016-06-12</td>\n",
       "      <td>2016-06-16</td>\n",
       "      <td>DV-13045</td>\n",
       "      <td>Darrin Van Huff</td>\n",
       "      <td>United States</td>\n",
       "      <td>Los Angeles</td>\n",
       "      <td>West</td>\n",
       "      <td>OFF-LA-10000240</td>\n",
       "      <td>Self-Adhesive Address Labels for Typewriters b...</td>\n",
       "      <td>14.6200</td>\n",
       "      <td>2</td>\n",
       "      <td>0.00</td>\n",
       "      <td>6.8714</td>\n",
       "    </tr>\n",
       "    <tr>\n",
       "      <th>3</th>\n",
       "      <td>4</td>\n",
       "      <td>US-2015-108966</td>\n",
       "      <td>2015-10-11</td>\n",
       "      <td>2015-10-18</td>\n",
       "      <td>SO-20335</td>\n",
       "      <td>Sean O'Donnell</td>\n",
       "      <td>United States</td>\n",
       "      <td>Fort Lauderdale</td>\n",
       "      <td>South</td>\n",
       "      <td>FUR-TA-10000577</td>\n",
       "      <td>Bretford CR4500 Series Slim Rectangular Table</td>\n",
       "      <td>957.5775</td>\n",
       "      <td>5</td>\n",
       "      <td>0.45</td>\n",
       "      <td>-383.0310</td>\n",
       "    </tr>\n",
       "    <tr>\n",
       "      <th>4</th>\n",
       "      <td>5</td>\n",
       "      <td>US-2015-108966</td>\n",
       "      <td>2015-10-11</td>\n",
       "      <td>2015-10-18</td>\n",
       "      <td>SO-20335</td>\n",
       "      <td>Sean O'Donnell</td>\n",
       "      <td>United States</td>\n",
       "      <td>Fort Lauderdale</td>\n",
       "      <td>South</td>\n",
       "      <td>OFF-ST-10000760</td>\n",
       "      <td>Eldon Fold 'N Roll Cart System</td>\n",
       "      <td>22.3680</td>\n",
       "      <td>2</td>\n",
       "      <td>0.20</td>\n",
       "      <td>2.5164</td>\n",
       "    </tr>\n",
       "  </tbody>\n",
       "</table>\n",
       "</div>"
      ],
      "text/plain": [
       "   Row ID        Order ID Order Date  Ship Date Customer ID    Customer Name  \\\n",
       "0       1  CA-2016-152156 2016-11-08 2016-11-11    CG-12520      Claire Gute   \n",
       "1       2  CA-2016-152156 2016-11-08 2016-11-11    CG-12520      Claire Gute   \n",
       "2       3  CA-2016-138688 2016-06-12 2016-06-16    DV-13045  Darrin Van Huff   \n",
       "3       4  US-2015-108966 2015-10-11 2015-10-18    SO-20335   Sean O'Donnell   \n",
       "4       5  US-2015-108966 2015-10-11 2015-10-18    SO-20335   Sean O'Donnell   \n",
       "\n",
       "         Country             City Region       Product ID  \\\n",
       "0  United States        Henderson  South  FUR-BO-10001798   \n",
       "1  United States        Henderson  South  FUR-CH-10000454   \n",
       "2  United States      Los Angeles   West  OFF-LA-10000240   \n",
       "3  United States  Fort Lauderdale  South  FUR-TA-10000577   \n",
       "4  United States  Fort Lauderdale  South  OFF-ST-10000760   \n",
       "\n",
       "                                        Product Name     Sales  Quantity  \\\n",
       "0                  Bush Somerset Collection Bookcase  261.9600         2   \n",
       "1  Hon Deluxe Fabric Upholstered Stacking Chairs,...  731.9400         3   \n",
       "2  Self-Adhesive Address Labels for Typewriters b...   14.6200         2   \n",
       "3      Bretford CR4500 Series Slim Rectangular Table  957.5775         5   \n",
       "4                     Eldon Fold 'N Roll Cart System   22.3680         2   \n",
       "\n",
       "   Discount    Profit  \n",
       "0      0.00   41.9136  \n",
       "1      0.00  219.5820  \n",
       "2      0.00    6.8714  \n",
       "3      0.45 -383.0310  \n",
       "4      0.20    2.5164  "
      ]
     },
     "execution_count": 27,
     "metadata": {},
     "output_type": "execute_result"
    }
   ],
   "source": [
    "df4.head()"
   ]
  },
  {
   "cell_type": "code",
   "execution_count": 28,
   "id": "00dff851-85d7-41b2-8691-1579967e6a17",
   "metadata": {},
   "outputs": [
    {
     "data": {
      "text/html": [
       "<div>\n",
       "<style scoped>\n",
       "    .dataframe tbody tr th:only-of-type {\n",
       "        vertical-align: middle;\n",
       "    }\n",
       "\n",
       "    .dataframe tbody tr th {\n",
       "        vertical-align: top;\n",
       "    }\n",
       "\n",
       "    .dataframe thead th {\n",
       "        text-align: right;\n",
       "    }\n",
       "</style>\n",
       "<table border=\"1\" class=\"dataframe\">\n",
       "  <thead>\n",
       "    <tr style=\"text-align: right;\">\n",
       "      <th></th>\n",
       "      <th>Row ID</th>\n",
       "      <th>Order ID</th>\n",
       "      <th>Order Date</th>\n",
       "      <th>Ship Date</th>\n",
       "      <th>Customer ID</th>\n",
       "      <th>Customer Name</th>\n",
       "      <th>Country</th>\n",
       "      <th>City</th>\n",
       "      <th>Product ID</th>\n",
       "      <th>Product Name</th>\n",
       "      <th>Sales</th>\n",
       "      <th>Quantity</th>\n",
       "      <th>Discount</th>\n",
       "      <th>Profit</th>\n",
       "    </tr>\n",
       "  </thead>\n",
       "  <tbody>\n",
       "    <tr>\n",
       "      <th>0</th>\n",
       "      <td>1</td>\n",
       "      <td>CA-2016-152156</td>\n",
       "      <td>2016-11-08</td>\n",
       "      <td>2016-11-11</td>\n",
       "      <td>CG-12520</td>\n",
       "      <td>Claire Gute</td>\n",
       "      <td>United States</td>\n",
       "      <td>Henderson</td>\n",
       "      <td>FUR-BO-10001798</td>\n",
       "      <td>Bush Somerset Collection Bookcase</td>\n",
       "      <td>261.9600</td>\n",
       "      <td>2</td>\n",
       "      <td>0.00</td>\n",
       "      <td>41.9136</td>\n",
       "    </tr>\n",
       "    <tr>\n",
       "      <th>1</th>\n",
       "      <td>2</td>\n",
       "      <td>CA-2016-152156</td>\n",
       "      <td>2016-11-08</td>\n",
       "      <td>2016-11-11</td>\n",
       "      <td>CG-12520</td>\n",
       "      <td>Claire Gute</td>\n",
       "      <td>United States</td>\n",
       "      <td>Henderson</td>\n",
       "      <td>FUR-CH-10000454</td>\n",
       "      <td>Hon Deluxe Fabric Upholstered Stacking Chairs,...</td>\n",
       "      <td>731.9400</td>\n",
       "      <td>3</td>\n",
       "      <td>0.00</td>\n",
       "      <td>219.5820</td>\n",
       "    </tr>\n",
       "    <tr>\n",
       "      <th>2</th>\n",
       "      <td>3</td>\n",
       "      <td>CA-2016-138688</td>\n",
       "      <td>2016-06-12</td>\n",
       "      <td>2016-06-16</td>\n",
       "      <td>DV-13045</td>\n",
       "      <td>Darrin Van Huff</td>\n",
       "      <td>United States</td>\n",
       "      <td>Los Angeles</td>\n",
       "      <td>OFF-LA-10000240</td>\n",
       "      <td>Self-Adhesive Address Labels for Typewriters b...</td>\n",
       "      <td>14.6200</td>\n",
       "      <td>2</td>\n",
       "      <td>0.00</td>\n",
       "      <td>6.8714</td>\n",
       "    </tr>\n",
       "    <tr>\n",
       "      <th>3</th>\n",
       "      <td>4</td>\n",
       "      <td>US-2015-108966</td>\n",
       "      <td>2015-10-11</td>\n",
       "      <td>2015-10-18</td>\n",
       "      <td>SO-20335</td>\n",
       "      <td>Sean O'Donnell</td>\n",
       "      <td>United States</td>\n",
       "      <td>Fort Lauderdale</td>\n",
       "      <td>FUR-TA-10000577</td>\n",
       "      <td>Bretford CR4500 Series Slim Rectangular Table</td>\n",
       "      <td>957.5775</td>\n",
       "      <td>5</td>\n",
       "      <td>0.45</td>\n",
       "      <td>-383.0310</td>\n",
       "    </tr>\n",
       "    <tr>\n",
       "      <th>4</th>\n",
       "      <td>5</td>\n",
       "      <td>US-2015-108966</td>\n",
       "      <td>2015-10-11</td>\n",
       "      <td>2015-10-18</td>\n",
       "      <td>SO-20335</td>\n",
       "      <td>Sean O'Donnell</td>\n",
       "      <td>United States</td>\n",
       "      <td>Fort Lauderdale</td>\n",
       "      <td>OFF-ST-10000760</td>\n",
       "      <td>Eldon Fold 'N Roll Cart System</td>\n",
       "      <td>22.3680</td>\n",
       "      <td>2</td>\n",
       "      <td>0.20</td>\n",
       "      <td>2.5164</td>\n",
       "    </tr>\n",
       "    <tr>\n",
       "      <th>...</th>\n",
       "      <td>...</td>\n",
       "      <td>...</td>\n",
       "      <td>...</td>\n",
       "      <td>...</td>\n",
       "      <td>...</td>\n",
       "      <td>...</td>\n",
       "      <td>...</td>\n",
       "      <td>...</td>\n",
       "      <td>...</td>\n",
       "      <td>...</td>\n",
       "      <td>...</td>\n",
       "      <td>...</td>\n",
       "      <td>...</td>\n",
       "      <td>...</td>\n",
       "    </tr>\n",
       "    <tr>\n",
       "      <th>9989</th>\n",
       "      <td>9990</td>\n",
       "      <td>CA-2014-110422</td>\n",
       "      <td>2014-01-21</td>\n",
       "      <td>2014-01-23</td>\n",
       "      <td>TB-21400</td>\n",
       "      <td>Tom Boeckenhauer</td>\n",
       "      <td>United States</td>\n",
       "      <td>Miami</td>\n",
       "      <td>FUR-FU-10001889</td>\n",
       "      <td>Ultra Door Pull Handle</td>\n",
       "      <td>25.2480</td>\n",
       "      <td>3</td>\n",
       "      <td>0.20</td>\n",
       "      <td>4.1028</td>\n",
       "    </tr>\n",
       "    <tr>\n",
       "      <th>9990</th>\n",
       "      <td>9991</td>\n",
       "      <td>CA-2017-121258</td>\n",
       "      <td>2017-02-26</td>\n",
       "      <td>2017-03-03</td>\n",
       "      <td>DB-13060</td>\n",
       "      <td>Dave Brooks</td>\n",
       "      <td>United States</td>\n",
       "      <td>Costa Mesa</td>\n",
       "      <td>FUR-FU-10000747</td>\n",
       "      <td>Tenex B1-RE Series Chair Mats for Low Pile Car...</td>\n",
       "      <td>91.9600</td>\n",
       "      <td>2</td>\n",
       "      <td>0.00</td>\n",
       "      <td>15.6332</td>\n",
       "    </tr>\n",
       "    <tr>\n",
       "      <th>9991</th>\n",
       "      <td>9992</td>\n",
       "      <td>CA-2017-121258</td>\n",
       "      <td>2017-02-26</td>\n",
       "      <td>2017-03-03</td>\n",
       "      <td>DB-13060</td>\n",
       "      <td>Dave Brooks</td>\n",
       "      <td>United States</td>\n",
       "      <td>Costa Mesa</td>\n",
       "      <td>TEC-PH-10003645</td>\n",
       "      <td>Aastra 57i VoIP phone</td>\n",
       "      <td>258.5760</td>\n",
       "      <td>2</td>\n",
       "      <td>0.20</td>\n",
       "      <td>19.3932</td>\n",
       "    </tr>\n",
       "    <tr>\n",
       "      <th>9992</th>\n",
       "      <td>9993</td>\n",
       "      <td>CA-2017-121258</td>\n",
       "      <td>2017-02-26</td>\n",
       "      <td>2017-03-03</td>\n",
       "      <td>DB-13060</td>\n",
       "      <td>Dave Brooks</td>\n",
       "      <td>United States</td>\n",
       "      <td>Costa Mesa</td>\n",
       "      <td>OFF-PA-10004041</td>\n",
       "      <td>It's Hot Message Books with Stickers, 2 3/4\" x 5\"</td>\n",
       "      <td>29.6000</td>\n",
       "      <td>4</td>\n",
       "      <td>0.00</td>\n",
       "      <td>13.3200</td>\n",
       "    </tr>\n",
       "    <tr>\n",
       "      <th>9993</th>\n",
       "      <td>9994</td>\n",
       "      <td>CA-2017-119914</td>\n",
       "      <td>2017-05-04</td>\n",
       "      <td>2017-05-09</td>\n",
       "      <td>CC-12220</td>\n",
       "      <td>Chris Cortes</td>\n",
       "      <td>United States</td>\n",
       "      <td>Westminster</td>\n",
       "      <td>OFF-AP-10002684</td>\n",
       "      <td>Acco 7-Outlet Masterpiece Power Center, Wihtou...</td>\n",
       "      <td>243.1600</td>\n",
       "      <td>2</td>\n",
       "      <td>0.00</td>\n",
       "      <td>72.9480</td>\n",
       "    </tr>\n",
       "  </tbody>\n",
       "</table>\n",
       "<p>9994 rows × 14 columns</p>\n",
       "</div>"
      ],
      "text/plain": [
       "      Row ID        Order ID Order Date  Ship Date Customer ID  \\\n",
       "0          1  CA-2016-152156 2016-11-08 2016-11-11    CG-12520   \n",
       "1          2  CA-2016-152156 2016-11-08 2016-11-11    CG-12520   \n",
       "2          3  CA-2016-138688 2016-06-12 2016-06-16    DV-13045   \n",
       "3          4  US-2015-108966 2015-10-11 2015-10-18    SO-20335   \n",
       "4          5  US-2015-108966 2015-10-11 2015-10-18    SO-20335   \n",
       "...      ...             ...        ...        ...         ...   \n",
       "9989    9990  CA-2014-110422 2014-01-21 2014-01-23    TB-21400   \n",
       "9990    9991  CA-2017-121258 2017-02-26 2017-03-03    DB-13060   \n",
       "9991    9992  CA-2017-121258 2017-02-26 2017-03-03    DB-13060   \n",
       "9992    9993  CA-2017-121258 2017-02-26 2017-03-03    DB-13060   \n",
       "9993    9994  CA-2017-119914 2017-05-04 2017-05-09    CC-12220   \n",
       "\n",
       "         Customer Name        Country             City       Product ID  \\\n",
       "0          Claire Gute  United States        Henderson  FUR-BO-10001798   \n",
       "1          Claire Gute  United States        Henderson  FUR-CH-10000454   \n",
       "2      Darrin Van Huff  United States      Los Angeles  OFF-LA-10000240   \n",
       "3       Sean O'Donnell  United States  Fort Lauderdale  FUR-TA-10000577   \n",
       "4       Sean O'Donnell  United States  Fort Lauderdale  OFF-ST-10000760   \n",
       "...                ...            ...              ...              ...   \n",
       "9989  Tom Boeckenhauer  United States            Miami  FUR-FU-10001889   \n",
       "9990       Dave Brooks  United States       Costa Mesa  FUR-FU-10000747   \n",
       "9991       Dave Brooks  United States       Costa Mesa  TEC-PH-10003645   \n",
       "9992       Dave Brooks  United States       Costa Mesa  OFF-PA-10004041   \n",
       "9993      Chris Cortes  United States      Westminster  OFF-AP-10002684   \n",
       "\n",
       "                                           Product Name     Sales  Quantity  \\\n",
       "0                     Bush Somerset Collection Bookcase  261.9600         2   \n",
       "1     Hon Deluxe Fabric Upholstered Stacking Chairs,...  731.9400         3   \n",
       "2     Self-Adhesive Address Labels for Typewriters b...   14.6200         2   \n",
       "3         Bretford CR4500 Series Slim Rectangular Table  957.5775         5   \n",
       "4                        Eldon Fold 'N Roll Cart System   22.3680         2   \n",
       "...                                                 ...       ...       ...   \n",
       "9989                             Ultra Door Pull Handle   25.2480         3   \n",
       "9990  Tenex B1-RE Series Chair Mats for Low Pile Car...   91.9600         2   \n",
       "9991                              Aastra 57i VoIP phone  258.5760         2   \n",
       "9992  It's Hot Message Books with Stickers, 2 3/4\" x 5\"   29.6000         4   \n",
       "9993  Acco 7-Outlet Masterpiece Power Center, Wihtou...  243.1600         2   \n",
       "\n",
       "      Discount    Profit  \n",
       "0         0.00   41.9136  \n",
       "1         0.00  219.5820  \n",
       "2         0.00    6.8714  \n",
       "3         0.45 -383.0310  \n",
       "4         0.20    2.5164  \n",
       "...        ...       ...  \n",
       "9989      0.20    4.1028  \n",
       "9990      0.00   15.6332  \n",
       "9991      0.20   19.3932  \n",
       "9992      0.00   13.3200  \n",
       "9993      0.00   72.9480  \n",
       "\n",
       "[9994 rows x 14 columns]"
      ]
     },
     "execution_count": 28,
     "metadata": {},
     "output_type": "execute_result"
    }
   ],
   "source": [
    "df5 = df4.drop('Region', axis = 1)\n",
    "df5"
   ]
  },
  {
   "cell_type": "code",
   "execution_count": 29,
   "id": "9f248049-0f98-42c3-97f3-04ac7176b348",
   "metadata": {},
   "outputs": [
    {
     "data": {
      "text/html": [
       "<div>\n",
       "<style scoped>\n",
       "    .dataframe tbody tr th:only-of-type {\n",
       "        vertical-align: middle;\n",
       "    }\n",
       "\n",
       "    .dataframe tbody tr th {\n",
       "        vertical-align: top;\n",
       "    }\n",
       "\n",
       "    .dataframe thead th {\n",
       "        text-align: right;\n",
       "    }\n",
       "</style>\n",
       "<table border=\"1\" class=\"dataframe\">\n",
       "  <thead>\n",
       "    <tr style=\"text-align: right;\">\n",
       "      <th></th>\n",
       "      <th>Row ID</th>\n",
       "      <th>Sales</th>\n",
       "      <th>Quantity</th>\n",
       "      <th>Discount</th>\n",
       "      <th>Profit</th>\n",
       "    </tr>\n",
       "  </thead>\n",
       "  <tbody>\n",
       "    <tr>\n",
       "      <th>count</th>\n",
       "      <td>9994.000000</td>\n",
       "      <td>9994.000000</td>\n",
       "      <td>9994.000000</td>\n",
       "      <td>9994.000000</td>\n",
       "      <td>9994.000000</td>\n",
       "    </tr>\n",
       "    <tr>\n",
       "      <th>mean</th>\n",
       "      <td>4997.500000</td>\n",
       "      <td>229.858001</td>\n",
       "      <td>3.789574</td>\n",
       "      <td>0.156203</td>\n",
       "      <td>28.656896</td>\n",
       "    </tr>\n",
       "    <tr>\n",
       "      <th>std</th>\n",
       "      <td>2885.163629</td>\n",
       "      <td>623.245101</td>\n",
       "      <td>2.225110</td>\n",
       "      <td>0.206452</td>\n",
       "      <td>234.260108</td>\n",
       "    </tr>\n",
       "    <tr>\n",
       "      <th>min</th>\n",
       "      <td>1.000000</td>\n",
       "      <td>0.444000</td>\n",
       "      <td>1.000000</td>\n",
       "      <td>0.000000</td>\n",
       "      <td>-6599.978000</td>\n",
       "    </tr>\n",
       "    <tr>\n",
       "      <th>25%</th>\n",
       "      <td>2499.250000</td>\n",
       "      <td>17.280000</td>\n",
       "      <td>2.000000</td>\n",
       "      <td>0.000000</td>\n",
       "      <td>1.728750</td>\n",
       "    </tr>\n",
       "    <tr>\n",
       "      <th>50%</th>\n",
       "      <td>4997.500000</td>\n",
       "      <td>54.490000</td>\n",
       "      <td>3.000000</td>\n",
       "      <td>0.200000</td>\n",
       "      <td>8.666500</td>\n",
       "    </tr>\n",
       "    <tr>\n",
       "      <th>75%</th>\n",
       "      <td>7495.750000</td>\n",
       "      <td>209.940000</td>\n",
       "      <td>5.000000</td>\n",
       "      <td>0.200000</td>\n",
       "      <td>29.364000</td>\n",
       "    </tr>\n",
       "    <tr>\n",
       "      <th>max</th>\n",
       "      <td>9994.000000</td>\n",
       "      <td>22638.480000</td>\n",
       "      <td>14.000000</td>\n",
       "      <td>0.800000</td>\n",
       "      <td>8399.976000</td>\n",
       "    </tr>\n",
       "  </tbody>\n",
       "</table>\n",
       "</div>"
      ],
      "text/plain": [
       "            Row ID         Sales     Quantity     Discount       Profit\n",
       "count  9994.000000   9994.000000  9994.000000  9994.000000  9994.000000\n",
       "mean   4997.500000    229.858001     3.789574     0.156203    28.656896\n",
       "std    2885.163629    623.245101     2.225110     0.206452   234.260108\n",
       "min       1.000000      0.444000     1.000000     0.000000 -6599.978000\n",
       "25%    2499.250000     17.280000     2.000000     0.000000     1.728750\n",
       "50%    4997.500000     54.490000     3.000000     0.200000     8.666500\n",
       "75%    7495.750000    209.940000     5.000000     0.200000    29.364000\n",
       "max    9994.000000  22638.480000    14.000000     0.800000  8399.976000"
      ]
     },
     "execution_count": 29,
     "metadata": {},
     "output_type": "execute_result"
    }
   ],
   "source": [
    "df4.describe()\n",
    "# Gives only numeric "
   ]
  },
  {
   "cell_type": "code",
   "execution_count": 30,
   "id": "4f80136b-74bc-4233-baa6-04e22236985d",
   "metadata": {},
   "outputs": [
    {
     "data": {
      "text/html": [
       "<div>\n",
       "<style scoped>\n",
       "    .dataframe tbody tr th:only-of-type {\n",
       "        vertical-align: middle;\n",
       "    }\n",
       "\n",
       "    .dataframe tbody tr th {\n",
       "        vertical-align: top;\n",
       "    }\n",
       "\n",
       "    .dataframe thead th {\n",
       "        text-align: right;\n",
       "    }\n",
       "</style>\n",
       "<table border=\"1\" class=\"dataframe\">\n",
       "  <thead>\n",
       "    <tr style=\"text-align: right;\">\n",
       "      <th></th>\n",
       "      <th>Row ID</th>\n",
       "      <th>Order ID</th>\n",
       "      <th>Order Date</th>\n",
       "      <th>Ship Date</th>\n",
       "      <th>Customer ID</th>\n",
       "      <th>Customer Name</th>\n",
       "      <th>Country</th>\n",
       "      <th>City</th>\n",
       "      <th>Region</th>\n",
       "      <th>Product ID</th>\n",
       "      <th>Product Name</th>\n",
       "      <th>Sales</th>\n",
       "      <th>Quantity</th>\n",
       "      <th>Discount</th>\n",
       "      <th>Profit</th>\n",
       "    </tr>\n",
       "  </thead>\n",
       "  <tbody>\n",
       "    <tr>\n",
       "      <th>0</th>\n",
       "      <td>1</td>\n",
       "      <td>CA-2016-152156</td>\n",
       "      <td>2016-11-08</td>\n",
       "      <td>2016-11-11</td>\n",
       "      <td>CG-12520</td>\n",
       "      <td>Claire Gute</td>\n",
       "      <td>United States</td>\n",
       "      <td>Henderson</td>\n",
       "      <td>South</td>\n",
       "      <td>FUR-BO-10001798</td>\n",
       "      <td>Bush Somerset Collection Bookcase</td>\n",
       "      <td>261.9600</td>\n",
       "      <td>2</td>\n",
       "      <td>0.00</td>\n",
       "      <td>41.9136</td>\n",
       "    </tr>\n",
       "    <tr>\n",
       "      <th>1</th>\n",
       "      <td>2</td>\n",
       "      <td>CA-2016-152156</td>\n",
       "      <td>2016-11-08</td>\n",
       "      <td>2016-11-11</td>\n",
       "      <td>CG-12520</td>\n",
       "      <td>Claire Gute</td>\n",
       "      <td>United States</td>\n",
       "      <td>Henderson</td>\n",
       "      <td>South</td>\n",
       "      <td>FUR-CH-10000454</td>\n",
       "      <td>Hon Deluxe Fabric Upholstered Stacking Chairs,...</td>\n",
       "      <td>731.9400</td>\n",
       "      <td>3</td>\n",
       "      <td>0.00</td>\n",
       "      <td>219.5820</td>\n",
       "    </tr>\n",
       "    <tr>\n",
       "      <th>2</th>\n",
       "      <td>3</td>\n",
       "      <td>CA-2016-138688</td>\n",
       "      <td>2016-06-12</td>\n",
       "      <td>2016-06-16</td>\n",
       "      <td>DV-13045</td>\n",
       "      <td>Darrin Van Huff</td>\n",
       "      <td>United States</td>\n",
       "      <td>Los Angeles</td>\n",
       "      <td>West</td>\n",
       "      <td>OFF-LA-10000240</td>\n",
       "      <td>Self-Adhesive Address Labels for Typewriters b...</td>\n",
       "      <td>14.6200</td>\n",
       "      <td>2</td>\n",
       "      <td>0.00</td>\n",
       "      <td>6.8714</td>\n",
       "    </tr>\n",
       "    <tr>\n",
       "      <th>3</th>\n",
       "      <td>4</td>\n",
       "      <td>US-2015-108966</td>\n",
       "      <td>2015-10-11</td>\n",
       "      <td>2015-10-18</td>\n",
       "      <td>SO-20335</td>\n",
       "      <td>Sean O'Donnell</td>\n",
       "      <td>United States</td>\n",
       "      <td>Fort Lauderdale</td>\n",
       "      <td>South</td>\n",
       "      <td>FUR-TA-10000577</td>\n",
       "      <td>Bretford CR4500 Series Slim Rectangular Table</td>\n",
       "      <td>957.5775</td>\n",
       "      <td>5</td>\n",
       "      <td>0.45</td>\n",
       "      <td>-383.0310</td>\n",
       "    </tr>\n",
       "    <tr>\n",
       "      <th>4</th>\n",
       "      <td>5</td>\n",
       "      <td>US-2015-108966</td>\n",
       "      <td>2015-10-11</td>\n",
       "      <td>2015-10-18</td>\n",
       "      <td>SO-20335</td>\n",
       "      <td>Sean O'Donnell</td>\n",
       "      <td>United States</td>\n",
       "      <td>Fort Lauderdale</td>\n",
       "      <td>South</td>\n",
       "      <td>OFF-ST-10000760</td>\n",
       "      <td>Eldon Fold 'N Roll Cart System</td>\n",
       "      <td>22.3680</td>\n",
       "      <td>2</td>\n",
       "      <td>0.20</td>\n",
       "      <td>2.5164</td>\n",
       "    </tr>\n",
       "  </tbody>\n",
       "</table>\n",
       "</div>"
      ],
      "text/plain": [
       "   Row ID        Order ID Order Date  Ship Date Customer ID    Customer Name  \\\n",
       "0       1  CA-2016-152156 2016-11-08 2016-11-11    CG-12520      Claire Gute   \n",
       "1       2  CA-2016-152156 2016-11-08 2016-11-11    CG-12520      Claire Gute   \n",
       "2       3  CA-2016-138688 2016-06-12 2016-06-16    DV-13045  Darrin Van Huff   \n",
       "3       4  US-2015-108966 2015-10-11 2015-10-18    SO-20335   Sean O'Donnell   \n",
       "4       5  US-2015-108966 2015-10-11 2015-10-18    SO-20335   Sean O'Donnell   \n",
       "\n",
       "         Country             City Region       Product ID  \\\n",
       "0  United States        Henderson  South  FUR-BO-10001798   \n",
       "1  United States        Henderson  South  FUR-CH-10000454   \n",
       "2  United States      Los Angeles   West  OFF-LA-10000240   \n",
       "3  United States  Fort Lauderdale  South  FUR-TA-10000577   \n",
       "4  United States  Fort Lauderdale  South  OFF-ST-10000760   \n",
       "\n",
       "                                        Product Name     Sales  Quantity  \\\n",
       "0                  Bush Somerset Collection Bookcase  261.9600         2   \n",
       "1  Hon Deluxe Fabric Upholstered Stacking Chairs,...  731.9400         3   \n",
       "2  Self-Adhesive Address Labels for Typewriters b...   14.6200         2   \n",
       "3      Bretford CR4500 Series Slim Rectangular Table  957.5775         5   \n",
       "4                     Eldon Fold 'N Roll Cart System   22.3680         2   \n",
       "\n",
       "   Discount    Profit  \n",
       "0      0.00   41.9136  \n",
       "1      0.00  219.5820  \n",
       "2      0.00    6.8714  \n",
       "3      0.45 -383.0310  \n",
       "4      0.20    2.5164  "
      ]
     },
     "execution_count": 30,
     "metadata": {},
     "output_type": "execute_result"
    }
   ],
   "source": [
    "df4.head()"
   ]
  },
  {
   "cell_type": "code",
   "execution_count": 31,
   "id": "eacfbea8-6bf8-4329-a408-10da94602c33",
   "metadata": {},
   "outputs": [
    {
     "data": {
      "text/html": [
       "<div>\n",
       "<style scoped>\n",
       "    .dataframe tbody tr th:only-of-type {\n",
       "        vertical-align: middle;\n",
       "    }\n",
       "\n",
       "    .dataframe tbody tr th {\n",
       "        vertical-align: top;\n",
       "    }\n",
       "\n",
       "    .dataframe thead th {\n",
       "        text-align: right;\n",
       "    }\n",
       "</style>\n",
       "<table border=\"1\" class=\"dataframe\">\n",
       "  <thead>\n",
       "    <tr style=\"text-align: right;\">\n",
       "      <th></th>\n",
       "      <th>Row ID</th>\n",
       "      <th>Order ID</th>\n",
       "      <th>Order Date</th>\n",
       "      <th>Ship Date</th>\n",
       "      <th>Customer ID</th>\n",
       "      <th>Customer Name</th>\n",
       "      <th>Country</th>\n",
       "      <th>City</th>\n",
       "      <th>Region</th>\n",
       "      <th>Product ID</th>\n",
       "      <th>Product Name</th>\n",
       "      <th>Sales</th>\n",
       "      <th>Quantity</th>\n",
       "      <th>Discount</th>\n",
       "      <th>Profit</th>\n",
       "    </tr>\n",
       "  </thead>\n",
       "  <tbody>\n",
       "    <tr>\n",
       "      <th>2630</th>\n",
       "      <td>2631</td>\n",
       "      <td>CA-2015-168186</td>\n",
       "      <td>2015-09-10</td>\n",
       "      <td>2015-09-15</td>\n",
       "      <td>AB-10150</td>\n",
       "      <td>Aimee Bixby</td>\n",
       "      <td>United States</td>\n",
       "      <td>Tulsa</td>\n",
       "      <td>Central</td>\n",
       "      <td>OFF-PA-10000477</td>\n",
       "      <td>Xerox 1952</td>\n",
       "      <td>14.94</td>\n",
       "      <td>3</td>\n",
       "      <td>0.0</td>\n",
       "      <td>7.0218</td>\n",
       "    </tr>\n",
       "  </tbody>\n",
       "</table>\n",
       "</div>"
      ],
      "text/plain": [
       "      Row ID        Order ID Order Date  Ship Date Customer ID Customer Name  \\\n",
       "2630    2631  CA-2015-168186 2015-09-10 2015-09-15    AB-10150   Aimee Bixby   \n",
       "\n",
       "            Country   City   Region       Product ID Product Name  Sales  \\\n",
       "2630  United States  Tulsa  Central  OFF-PA-10000477   Xerox 1952  14.94   \n",
       "\n",
       "      Quantity  Discount  Profit  \n",
       "2630         3       0.0  7.0218  "
      ]
     },
     "execution_count": 31,
     "metadata": {},
     "output_type": "execute_result"
    }
   ],
   "source": [
    "df4.sample()"
   ]
  },
  {
   "cell_type": "code",
   "execution_count": 32,
   "id": "adcf2db6-d1ea-4043-ab46-d9db5b2878e5",
   "metadata": {},
   "outputs": [
    {
     "data": {
      "text/html": [
       "<div>\n",
       "<style scoped>\n",
       "    .dataframe tbody tr th:only-of-type {\n",
       "        vertical-align: middle;\n",
       "    }\n",
       "\n",
       "    .dataframe tbody tr th {\n",
       "        vertical-align: top;\n",
       "    }\n",
       "\n",
       "    .dataframe thead th {\n",
       "        text-align: right;\n",
       "    }\n",
       "</style>\n",
       "<table border=\"1\" class=\"dataframe\">\n",
       "  <thead>\n",
       "    <tr style=\"text-align: right;\">\n",
       "      <th></th>\n",
       "      <th>Row ID</th>\n",
       "      <th>Order ID</th>\n",
       "      <th>Order Date</th>\n",
       "      <th>Ship Date</th>\n",
       "      <th>Ship Mode</th>\n",
       "      <th>Customer ID</th>\n",
       "      <th>Customer Name</th>\n",
       "      <th>Segment</th>\n",
       "      <th>Country</th>\n",
       "      <th>City</th>\n",
       "      <th>...</th>\n",
       "      <th>Postal Code</th>\n",
       "      <th>Region</th>\n",
       "      <th>Product ID</th>\n",
       "      <th>Category</th>\n",
       "      <th>Sub-Category</th>\n",
       "      <th>Product Name</th>\n",
       "      <th>Sales</th>\n",
       "      <th>Quantity</th>\n",
       "      <th>Discount</th>\n",
       "      <th>Profit</th>\n",
       "    </tr>\n",
       "  </thead>\n",
       "  <tbody>\n",
       "    <tr>\n",
       "      <th>2048</th>\n",
       "      <td>2049</td>\n",
       "      <td>CA-2015-142237</td>\n",
       "      <td>2015-07-11</td>\n",
       "      <td>2015-07-13</td>\n",
       "      <td>First Class</td>\n",
       "      <td>CK-12595</td>\n",
       "      <td>Clytie Kelty</td>\n",
       "      <td>Consumer</td>\n",
       "      <td>United States</td>\n",
       "      <td>Philadelphia</td>\n",
       "      <td>...</td>\n",
       "      <td>19134</td>\n",
       "      <td>East</td>\n",
       "      <td>FUR-FU-10004848</td>\n",
       "      <td>Furniture</td>\n",
       "      <td>Furnishings</td>\n",
       "      <td>Howard Miller 13-3/4\" Diameter Brushed Chrome ...</td>\n",
       "      <td>289.800</td>\n",
       "      <td>7</td>\n",
       "      <td>0.2</td>\n",
       "      <td>36.2250</td>\n",
       "    </tr>\n",
       "    <tr>\n",
       "      <th>753</th>\n",
       "      <td>754</td>\n",
       "      <td>CA-2016-110499</td>\n",
       "      <td>2016-04-07</td>\n",
       "      <td>2016-04-09</td>\n",
       "      <td>First Class</td>\n",
       "      <td>YC-21895</td>\n",
       "      <td>Yoseph Carroll</td>\n",
       "      <td>Corporate</td>\n",
       "      <td>United States</td>\n",
       "      <td>San Francisco</td>\n",
       "      <td>...</td>\n",
       "      <td>94110</td>\n",
       "      <td>West</td>\n",
       "      <td>TEC-CO-10002095</td>\n",
       "      <td>Technology</td>\n",
       "      <td>Copiers</td>\n",
       "      <td>Hewlett Packard 610 Color Digital Copier / Pri...</td>\n",
       "      <td>1199.976</td>\n",
       "      <td>3</td>\n",
       "      <td>0.2</td>\n",
       "      <td>374.9925</td>\n",
       "    </tr>\n",
       "    <tr>\n",
       "      <th>6315</th>\n",
       "      <td>6316</td>\n",
       "      <td>CA-2014-100762</td>\n",
       "      <td>2014-11-24</td>\n",
       "      <td>2014-11-29</td>\n",
       "      <td>Standard Class</td>\n",
       "      <td>NG-18355</td>\n",
       "      <td>Nat Gilpin</td>\n",
       "      <td>Corporate</td>\n",
       "      <td>United States</td>\n",
       "      <td>Jackson</td>\n",
       "      <td>...</td>\n",
       "      <td>49201</td>\n",
       "      <td>Central</td>\n",
       "      <td>OFF-LA-10003930</td>\n",
       "      <td>Office Supplies</td>\n",
       "      <td>Labels</td>\n",
       "      <td>Dot Matrix Printer Tape Reel Labels, White, 50...</td>\n",
       "      <td>196.620</td>\n",
       "      <td>2</td>\n",
       "      <td>0.0</td>\n",
       "      <td>96.3438</td>\n",
       "    </tr>\n",
       "  </tbody>\n",
       "</table>\n",
       "<p>3 rows × 21 columns</p>\n",
       "</div>"
      ],
      "text/plain": [
       "      Row ID        Order ID Order Date  Ship Date       Ship Mode  \\\n",
       "2048    2049  CA-2015-142237 2015-07-11 2015-07-13     First Class   \n",
       "753      754  CA-2016-110499 2016-04-07 2016-04-09     First Class   \n",
       "6315    6316  CA-2014-100762 2014-11-24 2014-11-29  Standard Class   \n",
       "\n",
       "     Customer ID   Customer Name    Segment        Country           City  \\\n",
       "2048    CK-12595    Clytie Kelty   Consumer  United States   Philadelphia   \n",
       "753     YC-21895  Yoseph Carroll  Corporate  United States  San Francisco   \n",
       "6315    NG-18355      Nat Gilpin  Corporate  United States        Jackson   \n",
       "\n",
       "      ... Postal Code   Region       Product ID         Category Sub-Category  \\\n",
       "2048  ...       19134     East  FUR-FU-10004848        Furniture  Furnishings   \n",
       "753   ...       94110     West  TEC-CO-10002095       Technology      Copiers   \n",
       "6315  ...       49201  Central  OFF-LA-10003930  Office Supplies       Labels   \n",
       "\n",
       "                                           Product Name     Sales  Quantity  \\\n",
       "2048  Howard Miller 13-3/4\" Diameter Brushed Chrome ...   289.800         7   \n",
       "753   Hewlett Packard 610 Color Digital Copier / Pri...  1199.976         3   \n",
       "6315  Dot Matrix Printer Tape Reel Labels, White, 50...   196.620         2   \n",
       "\n",
       "      Discount    Profit  \n",
       "2048       0.2   36.2250  \n",
       "753        0.2  374.9925  \n",
       "6315       0.0   96.3438  \n",
       "\n",
       "[3 rows x 21 columns]"
      ]
     },
     "execution_count": 32,
     "metadata": {},
     "output_type": "execute_result"
    }
   ],
   "source": [
    "a = df.sample(3)\n",
    "b = df.sample(3)\n",
    "c = df.sample(3)\n",
    "a"
   ]
  },
  {
   "cell_type": "markdown",
   "id": "92335c89-d01f-4345-8559-f9a9492b896b",
   "metadata": {},
   "source": [
    "### 21-02-2023\n"
   ]
  },
  {
   "cell_type": "code",
   "execution_count": 33,
   "id": "5f048176-8ab1-4491-be02-7cd133aa7edf",
   "metadata": {},
   "outputs": [
    {
     "data": {
      "text/plain": [
       "531"
      ]
     },
     "execution_count": 33,
     "metadata": {},
     "output_type": "execute_result"
    }
   ],
   "source": [
    "# Count the number of rows\n",
    "df4['City'].nunique()"
   ]
  },
  {
   "cell_type": "code",
   "execution_count": 34,
   "id": "d41a7401-b16d-43ae-9722-82e84e2a735d",
   "metadata": {},
   "outputs": [
    {
     "data": {
      "text/plain": [
       "array(['Henderson', 'Los Angeles', 'Fort Lauderdale', 'Concord',\n",
       "       'Seattle', 'Fort Worth', 'Madison', 'West Jordan', 'San Francisco',\n",
       "       'Fremont', 'Philadelphia', 'Orem', 'Houston', 'Richardson',\n",
       "       'Naperville', 'Melbourne', 'Eagan', 'Westland', 'Dover',\n",
       "       'New Albany', 'New York City', 'Troy', 'Chicago', 'Gilbert',\n",
       "       'Springfield', 'Jackson', 'Memphis', 'Decatur', 'Durham',\n",
       "       'Columbia', 'Rochester', 'Minneapolis', 'Portland', 'Saint Paul',\n",
       "       'Aurora', 'Charlotte', 'Orland Park', 'Urbandale', 'Columbus',\n",
       "       'Bristol', 'Wilmington', 'Bloomington', 'Phoenix', 'Roseville',\n",
       "       'Independence', 'Pasadena', 'Newark', 'Franklin', 'Scottsdale',\n",
       "       'San Jose', 'Edmond', 'Carlsbad', 'San Antonio', 'Monroe',\n",
       "       'Fairfield', 'Grand Prairie', 'Redlands', 'Hamilton', 'Westfield',\n",
       "       'Akron', 'Denver', 'Dallas', 'Whittier', 'Saginaw', 'Medina',\n",
       "       'Dublin', 'Detroit', 'Tampa', 'Santa Clara', 'Lakeville',\n",
       "       'San Diego', 'Brentwood', 'Chapel Hill', 'Morristown',\n",
       "       'Cincinnati', 'Inglewood', 'Tamarac', 'Colorado Springs',\n",
       "       'Belleville', 'Taylor', 'Lakewood', 'Arlington', 'Arvada',\n",
       "       'Hackensack', 'Saint Petersburg', 'Long Beach', 'Hesperia',\n",
       "       'Murfreesboro', 'Layton', 'Austin', 'Lowell', 'Manchester',\n",
       "       'Harlingen', 'Tucson', 'Quincy', 'Pembroke Pines', 'Des Moines',\n",
       "       'Peoria', 'Las Vegas', 'Warwick', 'Miami', 'Huntington Beach',\n",
       "       'Richmond', 'Louisville', 'Lawrence', 'Canton', 'New Rochelle',\n",
       "       'Gastonia', 'Jacksonville', 'Auburn', 'Norman', 'Park Ridge',\n",
       "       'Amarillo', 'Lindenhurst', 'Huntsville', 'Fayetteville',\n",
       "       'Costa Mesa', 'Parker', 'Atlanta', 'Gladstone', 'Great Falls',\n",
       "       'Lakeland', 'Montgomery', 'Mesa', 'Green Bay', 'Anaheim',\n",
       "       'Marysville', 'Salem', 'Laredo', 'Grove City', 'Dearborn',\n",
       "       'Warner Robins', 'Vallejo', 'Mission Viejo', 'Rochester Hills',\n",
       "       'Plainfield', 'Sierra Vista', 'Vancouver', 'Cleveland', 'Tyler',\n",
       "       'Burlington', 'Waynesboro', 'Chester', 'Cary', 'Palm Coast',\n",
       "       'Mount Vernon', 'Hialeah', 'Oceanside', 'Evanston', 'Trenton',\n",
       "       'Cottage Grove', 'Bossier City', 'Lancaster', 'Asheville',\n",
       "       'Lake Elsinore', 'Omaha', 'Edmonds', 'Santa Ana', 'Milwaukee',\n",
       "       'Florence', 'Lorain', 'Linden', 'Salinas', 'New Brunswick',\n",
       "       'Garland', 'Norwich', 'Alexandria', 'Toledo', 'Farmington',\n",
       "       'Riverside', 'Torrance', 'Round Rock', 'Boca Raton',\n",
       "       'Virginia Beach', 'Murrieta', 'Olympia', 'Washington',\n",
       "       'Jefferson City', 'Saint Peters', 'Rockford', 'Brownsville',\n",
       "       'Yonkers', 'Oakland', 'Clinton', 'Encinitas', 'Roswell',\n",
       "       'Jonesboro', 'Antioch', 'Homestead', 'La Porte', 'Lansing',\n",
       "       'Cuyahoga Falls', 'Reno', 'Harrisonburg', 'Escondido', 'Royal Oak',\n",
       "       'Rockville', 'Coral Springs', 'Buffalo', 'Boynton Beach',\n",
       "       'Gulfport', 'Fresno', 'Greenville', 'Macon', 'Cedar Rapids',\n",
       "       'Providence', 'Pueblo', 'Deltona', 'Murray', 'Middletown',\n",
       "       'Freeport', 'Pico Rivera', 'Provo', 'Pleasant Grove', 'Smyrna',\n",
       "       'Parma', 'Mobile', 'New Bedford', 'Irving', 'Vineland', 'Glendale',\n",
       "       'Niagara Falls', 'Thomasville', 'Westminster', 'Coppell', 'Pomona',\n",
       "       'North Las Vegas', 'Allentown', 'Tempe', 'Laguna Niguel',\n",
       "       'Bridgeton', 'Everett', 'Watertown', 'Appleton', 'Bellevue',\n",
       "       'Allen', 'El Paso', 'Grapevine', 'Carrollton', 'Kent', 'Lafayette',\n",
       "       'Tigard', 'Skokie', 'Plano', 'Suffolk', 'Indianapolis', 'Bayonne',\n",
       "       'Greensboro', 'Baltimore', 'Kenosha', 'Olathe', 'Tulsa', 'Redmond',\n",
       "       'Raleigh', 'Muskogee', 'Meriden', 'Bowling Green', 'South Bend',\n",
       "       'Spokane', 'Keller', 'Port Orange', 'Medford', 'Charlottesville',\n",
       "       'Missoula', 'Apopka', 'Reading', 'Broomfield', 'Paterson',\n",
       "       'Oklahoma City', 'Chesapeake', 'Lubbock', 'Johnson City',\n",
       "       'San Bernardino', 'Leominster', 'Bozeman', 'Perth Amboy',\n",
       "       'Ontario', 'Rancho Cucamonga', 'Moorhead', 'Mesquite', 'Stockton',\n",
       "       'Ormond Beach', 'Sunnyvale', 'York', 'College Station',\n",
       "       'Saint Louis', 'Manteca', 'San Angelo', 'Salt Lake City',\n",
       "       'Knoxville', 'Little Rock', 'Lincoln Park', 'Marion', 'Littleton',\n",
       "       'Bangor', 'Southaven', 'New Castle', 'Midland', 'Sioux Falls',\n",
       "       'Fort Collins', 'Clarksville', 'Sacramento', 'Thousand Oaks',\n",
       "       'Malden', 'Holyoke', 'Albuquerque', 'Sparks', 'Coachella',\n",
       "       'Elmhurst', 'Passaic', 'North Charleston', 'Newport News',\n",
       "       'Jamestown', 'Mishawaka', 'La Quinta', 'Tallahassee', 'Nashville',\n",
       "       'Bellingham', 'Woodstock', 'Haltom City', 'Wheeling',\n",
       "       'Summerville', 'Hot Springs', 'Englewood', 'Las Cruces', 'Hoover',\n",
       "       'Frisco', 'Vacaville', 'Waukesha', 'Bakersfield', 'Pompano Beach',\n",
       "       'Corpus Christi', 'Redondo Beach', 'Orlando', 'Orange',\n",
       "       'Lake Charles', 'Highland Park', 'Hempstead', 'Noblesville',\n",
       "       'Apple Valley', 'Mount Pleasant', 'Sterling Heights', 'Eau Claire',\n",
       "       'Pharr', 'Billings', 'Gresham', 'Chattanooga', 'Meridian',\n",
       "       'Bolingbrook', 'Maple Grove', 'Woodland', 'Missouri City',\n",
       "       'Pearland', 'San Mateo', 'Grand Rapids', 'Visalia',\n",
       "       'Overland Park', 'Temecula', 'Yucaipa', 'Revere', 'Conroe',\n",
       "       'Tinley Park', 'Dubuque', 'Dearborn Heights', 'Santa Fe',\n",
       "       'Hickory', 'Carol Stream', 'Saint Cloud', 'North Miami',\n",
       "       'Plantation', 'Port Saint Lucie', 'Rock Hill', 'Odessa',\n",
       "       'West Allis', 'Chula Vista', 'Manhattan', 'Altoona', 'Thornton',\n",
       "       'Champaign', 'Texarkana', 'Edinburg', 'Baytown', 'Greenwood',\n",
       "       'Woonsocket', 'Superior', 'Bedford', 'Covington', 'Broken Arrow',\n",
       "       'Miramar', 'Hollywood', 'Deer Park', 'Wichita', 'Mcallen',\n",
       "       'Iowa City', 'Boise', 'Cranston', 'Port Arthur', 'Citrus Heights',\n",
       "       'The Colony', 'Daytona Beach', 'Bullhead City', 'Portage', 'Fargo',\n",
       "       'Elkhart', 'San Gabriel', 'Margate', 'Sandy Springs', 'Mentor',\n",
       "       'Lawton', 'Hampton', 'Rome', 'La Crosse', 'Lewiston',\n",
       "       'Hattiesburg', 'Danville', 'Logan', 'Waterbury', 'Athens',\n",
       "       'Avondale', 'Marietta', 'Yuma', 'Wausau', 'Pasco', 'Oak Park',\n",
       "       'Pensacola', 'League City', 'Gaithersburg', 'Lehi', 'Tuscaloosa',\n",
       "       'Moreno Valley', 'Georgetown', 'Loveland', 'Chandler', 'Helena',\n",
       "       'Kirkwood', 'Waco', 'Frankfort', 'Bethlehem', 'Grand Island',\n",
       "       'Woodbury', 'Rogers', 'Clovis', 'Jupiter', 'Santa Barbara',\n",
       "       'Cedar Hill', 'Norfolk', 'Draper', 'Ann Arbor', 'La Mesa',\n",
       "       'Pocatello', 'Holland', 'Milford', 'Buffalo Grove', 'Lake Forest',\n",
       "       'Redding', 'Chico', 'Utica', 'Conway', 'Cheyenne', 'Owensboro',\n",
       "       'Caldwell', 'Kenner', 'Nashua', 'Bartlett', 'Redwood City',\n",
       "       'Lebanon', 'Santa Maria', 'Des Plaines', 'Longview',\n",
       "       'Hendersonville', 'Waterloo', 'Cambridge', 'Palatine', 'Beverly',\n",
       "       'Eugene', 'Oxnard', 'Renton', 'Glenview', 'Delray Beach',\n",
       "       'Commerce City', 'Texas City', 'Wilson', 'Rio Rancho', 'Goldsboro',\n",
       "       'Montebello', 'El Cajon', 'Beaumont', 'West Palm Beach', 'Abilene',\n",
       "       'Normal', 'Saint Charles', 'Camarillo', 'Hillsboro', 'Burbank',\n",
       "       'Modesto', 'Garden City', 'Atlantic City', 'Longmont', 'Davis',\n",
       "       'Morgan Hill', 'Clifton', 'Sheboygan', 'East Point', 'Rapid City',\n",
       "       'Andover', 'Kissimmee', 'Shelton', 'Danbury', 'Sanford',\n",
       "       'San Marcos', 'Greeley', 'Mansfield', 'Elyria', 'Twin Falls',\n",
       "       'Coral Gables', 'Romeoville', 'Marlborough', 'Laurel', 'Bryan',\n",
       "       'Pine Bluff', 'Aberdeen', 'Hagerstown', 'East Orange',\n",
       "       'Arlington Heights', 'Oswego', 'Coon Rapids', 'San Clemente',\n",
       "       'San Luis Obispo', 'Springdale', 'Lodi', 'Mason'], dtype=object)"
      ]
     },
     "execution_count": 34,
     "metadata": {},
     "output_type": "execute_result"
    }
   ],
   "source": [
    "# List the values in the row\n",
    "df4['City'].unique()"
   ]
  },
  {
   "cell_type": "code",
   "execution_count": 35,
   "id": "ed29a438-d1ea-4eb1-beb3-5e46bee7d30c",
   "metadata": {},
   "outputs": [
    {
     "data": {
      "text/html": [
       "<div>\n",
       "<style scoped>\n",
       "    .dataframe tbody tr th:only-of-type {\n",
       "        vertical-align: middle;\n",
       "    }\n",
       "\n",
       "    .dataframe tbody tr th {\n",
       "        vertical-align: top;\n",
       "    }\n",
       "\n",
       "    .dataframe thead th {\n",
       "        text-align: right;\n",
       "    }\n",
       "</style>\n",
       "<table border=\"1\" class=\"dataframe\">\n",
       "  <thead>\n",
       "    <tr style=\"text-align: right;\">\n",
       "      <th></th>\n",
       "      <th>Row ID</th>\n",
       "      <th>Order ID</th>\n",
       "      <th>Order Date</th>\n",
       "      <th>Ship Date</th>\n",
       "      <th>Customer ID</th>\n",
       "      <th>Customer Name</th>\n",
       "      <th>Country</th>\n",
       "      <th>City</th>\n",
       "      <th>Region</th>\n",
       "      <th>Product ID</th>\n",
       "      <th>Product Name</th>\n",
       "      <th>Sales</th>\n",
       "      <th>Quantity</th>\n",
       "      <th>Discount</th>\n",
       "      <th>Profit</th>\n",
       "    </tr>\n",
       "  </thead>\n",
       "  <tbody>\n",
       "    <tr>\n",
       "      <th>0</th>\n",
       "      <td>1</td>\n",
       "      <td>CA-2016-152156</td>\n",
       "      <td>2016-11-08</td>\n",
       "      <td>2016-11-11</td>\n",
       "      <td>CG-12520</td>\n",
       "      <td>Claire Gute</td>\n",
       "      <td>United States</td>\n",
       "      <td>Henderson</td>\n",
       "      <td>South</td>\n",
       "      <td>FUR-BO-10001798</td>\n",
       "      <td>Bush Somerset Collection Bookcase</td>\n",
       "      <td>261.96</td>\n",
       "      <td>2</td>\n",
       "      <td>0.0</td>\n",
       "      <td>41.9136</td>\n",
       "    </tr>\n",
       "    <tr>\n",
       "      <th>1</th>\n",
       "      <td>2</td>\n",
       "      <td>CA-2016-152156</td>\n",
       "      <td>2016-11-08</td>\n",
       "      <td>2016-11-11</td>\n",
       "      <td>CG-12520</td>\n",
       "      <td>Claire Gute</td>\n",
       "      <td>United States</td>\n",
       "      <td>Henderson</td>\n",
       "      <td>South</td>\n",
       "      <td>FUR-CH-10000454</td>\n",
       "      <td>Hon Deluxe Fabric Upholstered Stacking Chairs,...</td>\n",
       "      <td>731.94</td>\n",
       "      <td>3</td>\n",
       "      <td>0.0</td>\n",
       "      <td>219.5820</td>\n",
       "    </tr>\n",
       "  </tbody>\n",
       "</table>\n",
       "</div>"
      ],
      "text/plain": [
       "   Row ID        Order ID Order Date  Ship Date Customer ID Customer Name  \\\n",
       "0       1  CA-2016-152156 2016-11-08 2016-11-11    CG-12520   Claire Gute   \n",
       "1       2  CA-2016-152156 2016-11-08 2016-11-11    CG-12520   Claire Gute   \n",
       "\n",
       "         Country       City Region       Product ID  \\\n",
       "0  United States  Henderson  South  FUR-BO-10001798   \n",
       "1  United States  Henderson  South  FUR-CH-10000454   \n",
       "\n",
       "                                        Product Name   Sales  Quantity  \\\n",
       "0                  Bush Somerset Collection Bookcase  261.96         2   \n",
       "1  Hon Deluxe Fabric Upholstered Stacking Chairs,...  731.94         3   \n",
       "\n",
       "   Discount    Profit  \n",
       "0       0.0   41.9136  \n",
       "1       0.0  219.5820  "
      ]
     },
     "execution_count": 35,
     "metadata": {},
     "output_type": "execute_result"
    }
   ],
   "source": [
    "df4.head(2)"
   ]
  },
  {
   "cell_type": "code",
   "execution_count": 36,
   "id": "72294f7f-26b3-4847-8230-ea981373da82",
   "metadata": {},
   "outputs": [
    {
     "data": {
      "text/html": [
       "<div>\n",
       "<style scoped>\n",
       "    .dataframe tbody tr th:only-of-type {\n",
       "        vertical-align: middle;\n",
       "    }\n",
       "\n",
       "    .dataframe tbody tr th {\n",
       "        vertical-align: top;\n",
       "    }\n",
       "\n",
       "    .dataframe thead th {\n",
       "        text-align: right;\n",
       "    }\n",
       "</style>\n",
       "<table border=\"1\" class=\"dataframe\">\n",
       "  <thead>\n",
       "    <tr style=\"text-align: right;\">\n",
       "      <th></th>\n",
       "      <th>Row ID</th>\n",
       "      <th>Order ID</th>\n",
       "      <th>Order Date</th>\n",
       "      <th>Ship Date</th>\n",
       "      <th>Customer ID</th>\n",
       "      <th>Customer Name</th>\n",
       "      <th>Country</th>\n",
       "      <th>City</th>\n",
       "      <th>Region</th>\n",
       "      <th>Product ID</th>\n",
       "      <th>Product Name</th>\n",
       "      <th>Sales</th>\n",
       "      <th>Quantity</th>\n",
       "      <th>Discount</th>\n",
       "      <th>Profit</th>\n",
       "    </tr>\n",
       "  </thead>\n",
       "  <tbody>\n",
       "    <tr>\n",
       "      <th>2</th>\n",
       "      <td>3</td>\n",
       "      <td>CA-2016-138688</td>\n",
       "      <td>2016-06-12</td>\n",
       "      <td>2016-06-16</td>\n",
       "      <td>DV-13045</td>\n",
       "      <td>Darrin Van Huff</td>\n",
       "      <td>United States</td>\n",
       "      <td>Los Angeles</td>\n",
       "      <td>West</td>\n",
       "      <td>OFF-LA-10000240</td>\n",
       "      <td>Self-Adhesive Address Labels for Typewriters b...</td>\n",
       "      <td>14.6200</td>\n",
       "      <td>2</td>\n",
       "      <td>0.00</td>\n",
       "      <td>6.8714</td>\n",
       "    </tr>\n",
       "    <tr>\n",
       "      <th>3</th>\n",
       "      <td>4</td>\n",
       "      <td>US-2015-108966</td>\n",
       "      <td>2015-10-11</td>\n",
       "      <td>2015-10-18</td>\n",
       "      <td>SO-20335</td>\n",
       "      <td>Sean O'Donnell</td>\n",
       "      <td>United States</td>\n",
       "      <td>Fort Lauderdale</td>\n",
       "      <td>South</td>\n",
       "      <td>FUR-TA-10000577</td>\n",
       "      <td>Bretford CR4500 Series Slim Rectangular Table</td>\n",
       "      <td>957.5775</td>\n",
       "      <td>5</td>\n",
       "      <td>0.45</td>\n",
       "      <td>-383.0310</td>\n",
       "    </tr>\n",
       "  </tbody>\n",
       "</table>\n",
       "</div>"
      ],
      "text/plain": [
       "   Row ID        Order ID Order Date  Ship Date Customer ID    Customer Name  \\\n",
       "2       3  CA-2016-138688 2016-06-12 2016-06-16    DV-13045  Darrin Van Huff   \n",
       "3       4  US-2015-108966 2015-10-11 2015-10-18    SO-20335   Sean O'Donnell   \n",
       "\n",
       "         Country             City Region       Product ID  \\\n",
       "2  United States      Los Angeles   West  OFF-LA-10000240   \n",
       "3  United States  Fort Lauderdale  South  FUR-TA-10000577   \n",
       "\n",
       "                                        Product Name     Sales  Quantity  \\\n",
       "2  Self-Adhesive Address Labels for Typewriters b...   14.6200         2   \n",
       "3      Bretford CR4500 Series Slim Rectangular Table  957.5775         5   \n",
       "\n",
       "   Discount    Profit  \n",
       "2      0.00    6.8714  \n",
       "3      0.45 -383.0310  "
      ]
     },
     "execution_count": 36,
     "metadata": {},
     "output_type": "execute_result"
    }
   ],
   "source": [
    "df4.loc[2:3]"
   ]
  },
  {
   "cell_type": "code",
   "execution_count": 1,
   "id": "93884584-d88b-4b81-992b-6dbcccdc0bfa",
   "metadata": {},
   "outputs": [
    {
     "ename": "NameError",
     "evalue": "name 'df4' is not defined",
     "output_type": "error",
     "traceback": [
      "\u001b[1;31m---------------------------------------------------------------------------\u001b[0m",
      "\u001b[1;31mNameError\u001b[0m                                 Traceback (most recent call last)",
      "Cell \u001b[1;32mIn[1], line 1\u001b[0m\n\u001b[1;32m----> 1\u001b[0m \u001b[43mdf4\u001b[49m\u001b[38;5;241m.\u001b[39miloc[\u001b[38;5;241m4\u001b[39m]\n",
      "\u001b[1;31mNameError\u001b[0m: name 'df4' is not defined"
     ]
    }
   ],
   "source": [
    "df4.iloc[4]"
   ]
  },
  {
   "cell_type": "code",
   "execution_count": 38,
   "id": "c7501dc5-7d10-4d09-b17d-dec6580a8217",
   "metadata": {},
   "outputs": [
    {
     "data": {
      "text/html": [
       "<div>\n",
       "<style scoped>\n",
       "    .dataframe tbody tr th:only-of-type {\n",
       "        vertical-align: middle;\n",
       "    }\n",
       "\n",
       "    .dataframe tbody tr th {\n",
       "        vertical-align: top;\n",
       "    }\n",
       "\n",
       "    .dataframe thead th {\n",
       "        text-align: right;\n",
       "    }\n",
       "</style>\n",
       "<table border=\"1\" class=\"dataframe\">\n",
       "  <thead>\n",
       "    <tr style=\"text-align: right;\">\n",
       "      <th></th>\n",
       "      <th>Row ID</th>\n",
       "      <th>Order ID</th>\n",
       "      <th>Order Date</th>\n",
       "      <th>Ship Date</th>\n",
       "      <th>Customer ID</th>\n",
       "      <th>Customer Name</th>\n",
       "      <th>Country</th>\n",
       "      <th>City</th>\n",
       "      <th>Region</th>\n",
       "      <th>Product ID</th>\n",
       "      <th>Product Name</th>\n",
       "      <th>Sales</th>\n",
       "      <th>Quantity</th>\n",
       "      <th>Discount</th>\n",
       "      <th>Profit</th>\n",
       "    </tr>\n",
       "  </thead>\n",
       "  <tbody>\n",
       "    <tr>\n",
       "      <th>0</th>\n",
       "      <td>1</td>\n",
       "      <td>CA-2016-152156</td>\n",
       "      <td>2016-11-08</td>\n",
       "      <td>2016-11-11</td>\n",
       "      <td>CG-12520</td>\n",
       "      <td>Claire Gute</td>\n",
       "      <td>United States</td>\n",
       "      <td>Henderson</td>\n",
       "      <td>South</td>\n",
       "      <td>FUR-BO-10001798</td>\n",
       "      <td>Bush Somerset Collection Bookcase</td>\n",
       "      <td>261.9600</td>\n",
       "      <td>2</td>\n",
       "      <td>0.00</td>\n",
       "      <td>41.9136</td>\n",
       "    </tr>\n",
       "    <tr>\n",
       "      <th>1</th>\n",
       "      <td>2</td>\n",
       "      <td>CA-2016-152156</td>\n",
       "      <td>2016-11-08</td>\n",
       "      <td>2016-11-11</td>\n",
       "      <td>CG-12520</td>\n",
       "      <td>Claire Gute</td>\n",
       "      <td>United States</td>\n",
       "      <td>Henderson</td>\n",
       "      <td>South</td>\n",
       "      <td>FUR-CH-10000454</td>\n",
       "      <td>Hon Deluxe Fabric Upholstered Stacking Chairs,...</td>\n",
       "      <td>731.9400</td>\n",
       "      <td>3</td>\n",
       "      <td>0.00</td>\n",
       "      <td>219.5820</td>\n",
       "    </tr>\n",
       "    <tr>\n",
       "      <th>2</th>\n",
       "      <td>3</td>\n",
       "      <td>CA-2016-138688</td>\n",
       "      <td>2016-06-12</td>\n",
       "      <td>2016-06-16</td>\n",
       "      <td>DV-13045</td>\n",
       "      <td>Darrin Van Huff</td>\n",
       "      <td>United States</td>\n",
       "      <td>Los Angeles</td>\n",
       "      <td>West</td>\n",
       "      <td>OFF-LA-10000240</td>\n",
       "      <td>Self-Adhesive Address Labels for Typewriters b...</td>\n",
       "      <td>14.6200</td>\n",
       "      <td>2</td>\n",
       "      <td>0.00</td>\n",
       "      <td>6.8714</td>\n",
       "    </tr>\n",
       "    <tr>\n",
       "      <th>3</th>\n",
       "      <td>4</td>\n",
       "      <td>US-2015-108966</td>\n",
       "      <td>2015-10-11</td>\n",
       "      <td>2015-10-18</td>\n",
       "      <td>SO-20335</td>\n",
       "      <td>Sean O'Donnell</td>\n",
       "      <td>United States</td>\n",
       "      <td>Fort Lauderdale</td>\n",
       "      <td>South</td>\n",
       "      <td>FUR-TA-10000577</td>\n",
       "      <td>Bretford CR4500 Series Slim Rectangular Table</td>\n",
       "      <td>957.5775</td>\n",
       "      <td>5</td>\n",
       "      <td>0.45</td>\n",
       "      <td>-383.0310</td>\n",
       "    </tr>\n",
       "    <tr>\n",
       "      <th>4</th>\n",
       "      <td>5</td>\n",
       "      <td>US-2015-108966</td>\n",
       "      <td>2015-10-11</td>\n",
       "      <td>2015-10-18</td>\n",
       "      <td>SO-20335</td>\n",
       "      <td>Sean O'Donnell</td>\n",
       "      <td>United States</td>\n",
       "      <td>Fort Lauderdale</td>\n",
       "      <td>South</td>\n",
       "      <td>OFF-ST-10000760</td>\n",
       "      <td>Eldon Fold 'N Roll Cart System</td>\n",
       "      <td>22.3680</td>\n",
       "      <td>2</td>\n",
       "      <td>0.20</td>\n",
       "      <td>2.5164</td>\n",
       "    </tr>\n",
       "    <tr>\n",
       "      <th>...</th>\n",
       "      <td>...</td>\n",
       "      <td>...</td>\n",
       "      <td>...</td>\n",
       "      <td>...</td>\n",
       "      <td>...</td>\n",
       "      <td>...</td>\n",
       "      <td>...</td>\n",
       "      <td>...</td>\n",
       "      <td>...</td>\n",
       "      <td>...</td>\n",
       "      <td>...</td>\n",
       "      <td>...</td>\n",
       "      <td>...</td>\n",
       "      <td>...</td>\n",
       "      <td>...</td>\n",
       "    </tr>\n",
       "    <tr>\n",
       "      <th>9989</th>\n",
       "      <td>9990</td>\n",
       "      <td>CA-2014-110422</td>\n",
       "      <td>2014-01-21</td>\n",
       "      <td>2014-01-23</td>\n",
       "      <td>TB-21400</td>\n",
       "      <td>Tom Boeckenhauer</td>\n",
       "      <td>United States</td>\n",
       "      <td>Miami</td>\n",
       "      <td>South</td>\n",
       "      <td>FUR-FU-10001889</td>\n",
       "      <td>Ultra Door Pull Handle</td>\n",
       "      <td>25.2480</td>\n",
       "      <td>3</td>\n",
       "      <td>0.20</td>\n",
       "      <td>4.1028</td>\n",
       "    </tr>\n",
       "    <tr>\n",
       "      <th>9990</th>\n",
       "      <td>9991</td>\n",
       "      <td>CA-2017-121258</td>\n",
       "      <td>2017-02-26</td>\n",
       "      <td>2017-03-03</td>\n",
       "      <td>DB-13060</td>\n",
       "      <td>Dave Brooks</td>\n",
       "      <td>United States</td>\n",
       "      <td>Costa Mesa</td>\n",
       "      <td>West</td>\n",
       "      <td>FUR-FU-10000747</td>\n",
       "      <td>Tenex B1-RE Series Chair Mats for Low Pile Car...</td>\n",
       "      <td>91.9600</td>\n",
       "      <td>2</td>\n",
       "      <td>0.00</td>\n",
       "      <td>15.6332</td>\n",
       "    </tr>\n",
       "    <tr>\n",
       "      <th>9991</th>\n",
       "      <td>9992</td>\n",
       "      <td>CA-2017-121258</td>\n",
       "      <td>2017-02-26</td>\n",
       "      <td>2017-03-03</td>\n",
       "      <td>DB-13060</td>\n",
       "      <td>Dave Brooks</td>\n",
       "      <td>United States</td>\n",
       "      <td>Costa Mesa</td>\n",
       "      <td>West</td>\n",
       "      <td>TEC-PH-10003645</td>\n",
       "      <td>Aastra 57i VoIP phone</td>\n",
       "      <td>258.5760</td>\n",
       "      <td>2</td>\n",
       "      <td>0.20</td>\n",
       "      <td>19.3932</td>\n",
       "    </tr>\n",
       "    <tr>\n",
       "      <th>9992</th>\n",
       "      <td>9993</td>\n",
       "      <td>CA-2017-121258</td>\n",
       "      <td>2017-02-26</td>\n",
       "      <td>2017-03-03</td>\n",
       "      <td>DB-13060</td>\n",
       "      <td>Dave Brooks</td>\n",
       "      <td>United States</td>\n",
       "      <td>Costa Mesa</td>\n",
       "      <td>West</td>\n",
       "      <td>OFF-PA-10004041</td>\n",
       "      <td>It's Hot Message Books with Stickers, 2 3/4\" x 5\"</td>\n",
       "      <td>29.6000</td>\n",
       "      <td>4</td>\n",
       "      <td>0.00</td>\n",
       "      <td>13.3200</td>\n",
       "    </tr>\n",
       "    <tr>\n",
       "      <th>9993</th>\n",
       "      <td>9994</td>\n",
       "      <td>CA-2017-119914</td>\n",
       "      <td>2017-05-04</td>\n",
       "      <td>2017-05-09</td>\n",
       "      <td>CC-12220</td>\n",
       "      <td>Chris Cortes</td>\n",
       "      <td>United States</td>\n",
       "      <td>Westminster</td>\n",
       "      <td>West</td>\n",
       "      <td>OFF-AP-10002684</td>\n",
       "      <td>Acco 7-Outlet Masterpiece Power Center, Wihtou...</td>\n",
       "      <td>243.1600</td>\n",
       "      <td>2</td>\n",
       "      <td>0.00</td>\n",
       "      <td>72.9480</td>\n",
       "    </tr>\n",
       "  </tbody>\n",
       "</table>\n",
       "<p>9994 rows × 15 columns</p>\n",
       "</div>"
      ],
      "text/plain": [
       "      Row ID        Order ID Order Date  Ship Date Customer ID  \\\n",
       "0          1  CA-2016-152156 2016-11-08 2016-11-11    CG-12520   \n",
       "1          2  CA-2016-152156 2016-11-08 2016-11-11    CG-12520   \n",
       "2          3  CA-2016-138688 2016-06-12 2016-06-16    DV-13045   \n",
       "3          4  US-2015-108966 2015-10-11 2015-10-18    SO-20335   \n",
       "4          5  US-2015-108966 2015-10-11 2015-10-18    SO-20335   \n",
       "...      ...             ...        ...        ...         ...   \n",
       "9989    9990  CA-2014-110422 2014-01-21 2014-01-23    TB-21400   \n",
       "9990    9991  CA-2017-121258 2017-02-26 2017-03-03    DB-13060   \n",
       "9991    9992  CA-2017-121258 2017-02-26 2017-03-03    DB-13060   \n",
       "9992    9993  CA-2017-121258 2017-02-26 2017-03-03    DB-13060   \n",
       "9993    9994  CA-2017-119914 2017-05-04 2017-05-09    CC-12220   \n",
       "\n",
       "         Customer Name        Country             City Region  \\\n",
       "0          Claire Gute  United States        Henderson  South   \n",
       "1          Claire Gute  United States        Henderson  South   \n",
       "2      Darrin Van Huff  United States      Los Angeles   West   \n",
       "3       Sean O'Donnell  United States  Fort Lauderdale  South   \n",
       "4       Sean O'Donnell  United States  Fort Lauderdale  South   \n",
       "...                ...            ...              ...    ...   \n",
       "9989  Tom Boeckenhauer  United States            Miami  South   \n",
       "9990       Dave Brooks  United States       Costa Mesa   West   \n",
       "9991       Dave Brooks  United States       Costa Mesa   West   \n",
       "9992       Dave Brooks  United States       Costa Mesa   West   \n",
       "9993      Chris Cortes  United States      Westminster   West   \n",
       "\n",
       "           Product ID                                       Product Name  \\\n",
       "0     FUR-BO-10001798                  Bush Somerset Collection Bookcase   \n",
       "1     FUR-CH-10000454  Hon Deluxe Fabric Upholstered Stacking Chairs,...   \n",
       "2     OFF-LA-10000240  Self-Adhesive Address Labels for Typewriters b...   \n",
       "3     FUR-TA-10000577      Bretford CR4500 Series Slim Rectangular Table   \n",
       "4     OFF-ST-10000760                     Eldon Fold 'N Roll Cart System   \n",
       "...               ...                                                ...   \n",
       "9989  FUR-FU-10001889                             Ultra Door Pull Handle   \n",
       "9990  FUR-FU-10000747  Tenex B1-RE Series Chair Mats for Low Pile Car...   \n",
       "9991  TEC-PH-10003645                              Aastra 57i VoIP phone   \n",
       "9992  OFF-PA-10004041  It's Hot Message Books with Stickers, 2 3/4\" x 5\"   \n",
       "9993  OFF-AP-10002684  Acco 7-Outlet Masterpiece Power Center, Wihtou...   \n",
       "\n",
       "         Sales  Quantity  Discount    Profit  \n",
       "0     261.9600         2      0.00   41.9136  \n",
       "1     731.9400         3      0.00  219.5820  \n",
       "2      14.6200         2      0.00    6.8714  \n",
       "3     957.5775         5      0.45 -383.0310  \n",
       "4      22.3680         2      0.20    2.5164  \n",
       "...        ...       ...       ...       ...  \n",
       "9989   25.2480         3      0.20    4.1028  \n",
       "9990   91.9600         2      0.00   15.6332  \n",
       "9991  258.5760         2      0.20   19.3932  \n",
       "9992   29.6000         4      0.00   13.3200  \n",
       "9993  243.1600         2      0.00   72.9480  \n",
       "\n",
       "[9994 rows x 15 columns]"
      ]
     },
     "execution_count": 38,
     "metadata": {},
     "output_type": "execute_result"
    }
   ],
   "source": [
    "df5 = df4.copy()\n",
    "df5"
   ]
  },
  {
   "cell_type": "code",
   "execution_count": 39,
   "id": "a43fc3a7-94aa-45ff-a4e0-2a1530887f03",
   "metadata": {},
   "outputs": [
    {
     "data": {
      "text/html": [
       "<div>\n",
       "<style scoped>\n",
       "    .dataframe tbody tr th:only-of-type {\n",
       "        vertical-align: middle;\n",
       "    }\n",
       "\n",
       "    .dataframe tbody tr th {\n",
       "        vertical-align: top;\n",
       "    }\n",
       "\n",
       "    .dataframe thead th {\n",
       "        text-align: right;\n",
       "    }\n",
       "</style>\n",
       "<table border=\"1\" class=\"dataframe\">\n",
       "  <thead>\n",
       "    <tr style=\"text-align: right;\">\n",
       "      <th></th>\n",
       "      <th>Order ID</th>\n",
       "      <th>Order Date</th>\n",
       "      <th>Ship Date</th>\n",
       "      <th>Customer ID</th>\n",
       "      <th>Customer Name</th>\n",
       "      <th>Country</th>\n",
       "      <th>City</th>\n",
       "      <th>Region</th>\n",
       "      <th>Product ID</th>\n",
       "      <th>Product Name</th>\n",
       "      <th>Sales</th>\n",
       "      <th>Quantity</th>\n",
       "      <th>Discount</th>\n",
       "      <th>Profit</th>\n",
       "    </tr>\n",
       "    <tr>\n",
       "      <th>Row ID</th>\n",
       "      <th></th>\n",
       "      <th></th>\n",
       "      <th></th>\n",
       "      <th></th>\n",
       "      <th></th>\n",
       "      <th></th>\n",
       "      <th></th>\n",
       "      <th></th>\n",
       "      <th></th>\n",
       "      <th></th>\n",
       "      <th></th>\n",
       "      <th></th>\n",
       "      <th></th>\n",
       "      <th></th>\n",
       "    </tr>\n",
       "  </thead>\n",
       "  <tbody>\n",
       "    <tr>\n",
       "      <th>1</th>\n",
       "      <td>CA-2016-152156</td>\n",
       "      <td>2016-11-08</td>\n",
       "      <td>2016-11-11</td>\n",
       "      <td>CG-12520</td>\n",
       "      <td>Claire Gute</td>\n",
       "      <td>United States</td>\n",
       "      <td>Henderson</td>\n",
       "      <td>South</td>\n",
       "      <td>FUR-BO-10001798</td>\n",
       "      <td>Bush Somerset Collection Bookcase</td>\n",
       "      <td>261.9600</td>\n",
       "      <td>2</td>\n",
       "      <td>0.00</td>\n",
       "      <td>41.9136</td>\n",
       "    </tr>\n",
       "    <tr>\n",
       "      <th>2</th>\n",
       "      <td>CA-2016-152156</td>\n",
       "      <td>2016-11-08</td>\n",
       "      <td>2016-11-11</td>\n",
       "      <td>CG-12520</td>\n",
       "      <td>Claire Gute</td>\n",
       "      <td>United States</td>\n",
       "      <td>Henderson</td>\n",
       "      <td>South</td>\n",
       "      <td>FUR-CH-10000454</td>\n",
       "      <td>Hon Deluxe Fabric Upholstered Stacking Chairs,...</td>\n",
       "      <td>731.9400</td>\n",
       "      <td>3</td>\n",
       "      <td>0.00</td>\n",
       "      <td>219.5820</td>\n",
       "    </tr>\n",
       "    <tr>\n",
       "      <th>3</th>\n",
       "      <td>CA-2016-138688</td>\n",
       "      <td>2016-06-12</td>\n",
       "      <td>2016-06-16</td>\n",
       "      <td>DV-13045</td>\n",
       "      <td>Darrin Van Huff</td>\n",
       "      <td>United States</td>\n",
       "      <td>Los Angeles</td>\n",
       "      <td>West</td>\n",
       "      <td>OFF-LA-10000240</td>\n",
       "      <td>Self-Adhesive Address Labels for Typewriters b...</td>\n",
       "      <td>14.6200</td>\n",
       "      <td>2</td>\n",
       "      <td>0.00</td>\n",
       "      <td>6.8714</td>\n",
       "    </tr>\n",
       "    <tr>\n",
       "      <th>4</th>\n",
       "      <td>US-2015-108966</td>\n",
       "      <td>2015-10-11</td>\n",
       "      <td>2015-10-18</td>\n",
       "      <td>SO-20335</td>\n",
       "      <td>Sean O'Donnell</td>\n",
       "      <td>United States</td>\n",
       "      <td>Fort Lauderdale</td>\n",
       "      <td>South</td>\n",
       "      <td>FUR-TA-10000577</td>\n",
       "      <td>Bretford CR4500 Series Slim Rectangular Table</td>\n",
       "      <td>957.5775</td>\n",
       "      <td>5</td>\n",
       "      <td>0.45</td>\n",
       "      <td>-383.0310</td>\n",
       "    </tr>\n",
       "    <tr>\n",
       "      <th>5</th>\n",
       "      <td>US-2015-108966</td>\n",
       "      <td>2015-10-11</td>\n",
       "      <td>2015-10-18</td>\n",
       "      <td>SO-20335</td>\n",
       "      <td>Sean O'Donnell</td>\n",
       "      <td>United States</td>\n",
       "      <td>Fort Lauderdale</td>\n",
       "      <td>South</td>\n",
       "      <td>OFF-ST-10000760</td>\n",
       "      <td>Eldon Fold 'N Roll Cart System</td>\n",
       "      <td>22.3680</td>\n",
       "      <td>2</td>\n",
       "      <td>0.20</td>\n",
       "      <td>2.5164</td>\n",
       "    </tr>\n",
       "    <tr>\n",
       "      <th>...</th>\n",
       "      <td>...</td>\n",
       "      <td>...</td>\n",
       "      <td>...</td>\n",
       "      <td>...</td>\n",
       "      <td>...</td>\n",
       "      <td>...</td>\n",
       "      <td>...</td>\n",
       "      <td>...</td>\n",
       "      <td>...</td>\n",
       "      <td>...</td>\n",
       "      <td>...</td>\n",
       "      <td>...</td>\n",
       "      <td>...</td>\n",
       "      <td>...</td>\n",
       "    </tr>\n",
       "    <tr>\n",
       "      <th>9990</th>\n",
       "      <td>CA-2014-110422</td>\n",
       "      <td>2014-01-21</td>\n",
       "      <td>2014-01-23</td>\n",
       "      <td>TB-21400</td>\n",
       "      <td>Tom Boeckenhauer</td>\n",
       "      <td>United States</td>\n",
       "      <td>Miami</td>\n",
       "      <td>South</td>\n",
       "      <td>FUR-FU-10001889</td>\n",
       "      <td>Ultra Door Pull Handle</td>\n",
       "      <td>25.2480</td>\n",
       "      <td>3</td>\n",
       "      <td>0.20</td>\n",
       "      <td>4.1028</td>\n",
       "    </tr>\n",
       "    <tr>\n",
       "      <th>9991</th>\n",
       "      <td>CA-2017-121258</td>\n",
       "      <td>2017-02-26</td>\n",
       "      <td>2017-03-03</td>\n",
       "      <td>DB-13060</td>\n",
       "      <td>Dave Brooks</td>\n",
       "      <td>United States</td>\n",
       "      <td>Costa Mesa</td>\n",
       "      <td>West</td>\n",
       "      <td>FUR-FU-10000747</td>\n",
       "      <td>Tenex B1-RE Series Chair Mats for Low Pile Car...</td>\n",
       "      <td>91.9600</td>\n",
       "      <td>2</td>\n",
       "      <td>0.00</td>\n",
       "      <td>15.6332</td>\n",
       "    </tr>\n",
       "    <tr>\n",
       "      <th>9992</th>\n",
       "      <td>CA-2017-121258</td>\n",
       "      <td>2017-02-26</td>\n",
       "      <td>2017-03-03</td>\n",
       "      <td>DB-13060</td>\n",
       "      <td>Dave Brooks</td>\n",
       "      <td>United States</td>\n",
       "      <td>Costa Mesa</td>\n",
       "      <td>West</td>\n",
       "      <td>TEC-PH-10003645</td>\n",
       "      <td>Aastra 57i VoIP phone</td>\n",
       "      <td>258.5760</td>\n",
       "      <td>2</td>\n",
       "      <td>0.20</td>\n",
       "      <td>19.3932</td>\n",
       "    </tr>\n",
       "    <tr>\n",
       "      <th>9993</th>\n",
       "      <td>CA-2017-121258</td>\n",
       "      <td>2017-02-26</td>\n",
       "      <td>2017-03-03</td>\n",
       "      <td>DB-13060</td>\n",
       "      <td>Dave Brooks</td>\n",
       "      <td>United States</td>\n",
       "      <td>Costa Mesa</td>\n",
       "      <td>West</td>\n",
       "      <td>OFF-PA-10004041</td>\n",
       "      <td>It's Hot Message Books with Stickers, 2 3/4\" x 5\"</td>\n",
       "      <td>29.6000</td>\n",
       "      <td>4</td>\n",
       "      <td>0.00</td>\n",
       "      <td>13.3200</td>\n",
       "    </tr>\n",
       "    <tr>\n",
       "      <th>9994</th>\n",
       "      <td>CA-2017-119914</td>\n",
       "      <td>2017-05-04</td>\n",
       "      <td>2017-05-09</td>\n",
       "      <td>CC-12220</td>\n",
       "      <td>Chris Cortes</td>\n",
       "      <td>United States</td>\n",
       "      <td>Westminster</td>\n",
       "      <td>West</td>\n",
       "      <td>OFF-AP-10002684</td>\n",
       "      <td>Acco 7-Outlet Masterpiece Power Center, Wihtou...</td>\n",
       "      <td>243.1600</td>\n",
       "      <td>2</td>\n",
       "      <td>0.00</td>\n",
       "      <td>72.9480</td>\n",
       "    </tr>\n",
       "  </tbody>\n",
       "</table>\n",
       "<p>9994 rows × 14 columns</p>\n",
       "</div>"
      ],
      "text/plain": [
       "              Order ID Order Date  Ship Date Customer ID     Customer Name  \\\n",
       "Row ID                                                                       \n",
       "1       CA-2016-152156 2016-11-08 2016-11-11    CG-12520       Claire Gute   \n",
       "2       CA-2016-152156 2016-11-08 2016-11-11    CG-12520       Claire Gute   \n",
       "3       CA-2016-138688 2016-06-12 2016-06-16    DV-13045   Darrin Van Huff   \n",
       "4       US-2015-108966 2015-10-11 2015-10-18    SO-20335    Sean O'Donnell   \n",
       "5       US-2015-108966 2015-10-11 2015-10-18    SO-20335    Sean O'Donnell   \n",
       "...                ...        ...        ...         ...               ...   \n",
       "9990    CA-2014-110422 2014-01-21 2014-01-23    TB-21400  Tom Boeckenhauer   \n",
       "9991    CA-2017-121258 2017-02-26 2017-03-03    DB-13060       Dave Brooks   \n",
       "9992    CA-2017-121258 2017-02-26 2017-03-03    DB-13060       Dave Brooks   \n",
       "9993    CA-2017-121258 2017-02-26 2017-03-03    DB-13060       Dave Brooks   \n",
       "9994    CA-2017-119914 2017-05-04 2017-05-09    CC-12220      Chris Cortes   \n",
       "\n",
       "              Country             City Region       Product ID  \\\n",
       "Row ID                                                           \n",
       "1       United States        Henderson  South  FUR-BO-10001798   \n",
       "2       United States        Henderson  South  FUR-CH-10000454   \n",
       "3       United States      Los Angeles   West  OFF-LA-10000240   \n",
       "4       United States  Fort Lauderdale  South  FUR-TA-10000577   \n",
       "5       United States  Fort Lauderdale  South  OFF-ST-10000760   \n",
       "...               ...              ...    ...              ...   \n",
       "9990    United States            Miami  South  FUR-FU-10001889   \n",
       "9991    United States       Costa Mesa   West  FUR-FU-10000747   \n",
       "9992    United States       Costa Mesa   West  TEC-PH-10003645   \n",
       "9993    United States       Costa Mesa   West  OFF-PA-10004041   \n",
       "9994    United States      Westminster   West  OFF-AP-10002684   \n",
       "\n",
       "                                             Product Name     Sales  Quantity  \\\n",
       "Row ID                                                                          \n",
       "1                       Bush Somerset Collection Bookcase  261.9600         2   \n",
       "2       Hon Deluxe Fabric Upholstered Stacking Chairs,...  731.9400         3   \n",
       "3       Self-Adhesive Address Labels for Typewriters b...   14.6200         2   \n",
       "4           Bretford CR4500 Series Slim Rectangular Table  957.5775         5   \n",
       "5                          Eldon Fold 'N Roll Cart System   22.3680         2   \n",
       "...                                                   ...       ...       ...   \n",
       "9990                               Ultra Door Pull Handle   25.2480         3   \n",
       "9991    Tenex B1-RE Series Chair Mats for Low Pile Car...   91.9600         2   \n",
       "9992                                Aastra 57i VoIP phone  258.5760         2   \n",
       "9993    It's Hot Message Books with Stickers, 2 3/4\" x 5\"   29.6000         4   \n",
       "9994    Acco 7-Outlet Masterpiece Power Center, Wihtou...  243.1600         2   \n",
       "\n",
       "        Discount    Profit  \n",
       "Row ID                      \n",
       "1           0.00   41.9136  \n",
       "2           0.00  219.5820  \n",
       "3           0.00    6.8714  \n",
       "4           0.45 -383.0310  \n",
       "5           0.20    2.5164  \n",
       "...          ...       ...  \n",
       "9990        0.20    4.1028  \n",
       "9991        0.00   15.6332  \n",
       "9992        0.20   19.3932  \n",
       "9993        0.00   13.3200  \n",
       "9994        0.00   72.9480  \n",
       "\n",
       "[9994 rows x 14 columns]"
      ]
     },
     "execution_count": 39,
     "metadata": {},
     "output_type": "execute_result"
    }
   ],
   "source": [
    "df5.set_index('Row ID', inplace = True)\n",
    "df5"
   ]
  },
  {
   "cell_type": "code",
   "execution_count": 40,
   "id": "a7d0190d-2864-4f65-af4e-ceaba092d55a",
   "metadata": {},
   "outputs": [
    {
     "data": {
      "text/html": [
       "<div>\n",
       "<style scoped>\n",
       "    .dataframe tbody tr th:only-of-type {\n",
       "        vertical-align: middle;\n",
       "    }\n",
       "\n",
       "    .dataframe tbody tr th {\n",
       "        vertical-align: top;\n",
       "    }\n",
       "\n",
       "    .dataframe thead th {\n",
       "        text-align: right;\n",
       "    }\n",
       "</style>\n",
       "<table border=\"1\" class=\"dataframe\">\n",
       "  <thead>\n",
       "    <tr style=\"text-align: right;\">\n",
       "      <th></th>\n",
       "      <th>Customer Name</th>\n",
       "      <th>City</th>\n",
       "      <th>Product ID</th>\n",
       "      <th>Product Name</th>\n",
       "      <th>Sales</th>\n",
       "      <th>Quantity</th>\n",
       "      <th>Discount</th>\n",
       "      <th>Profit</th>\n",
       "    </tr>\n",
       "    <tr>\n",
       "      <th>Row ID</th>\n",
       "      <th></th>\n",
       "      <th></th>\n",
       "      <th></th>\n",
       "      <th></th>\n",
       "      <th></th>\n",
       "      <th></th>\n",
       "      <th></th>\n",
       "      <th></th>\n",
       "    </tr>\n",
       "  </thead>\n",
       "  <tbody>\n",
       "    <tr>\n",
       "      <th>1</th>\n",
       "      <td>Claire Gute</td>\n",
       "      <td>Henderson</td>\n",
       "      <td>FUR-BO-10001798</td>\n",
       "      <td>Bush Somerset Collection Bookcase</td>\n",
       "      <td>261.9600</td>\n",
       "      <td>2</td>\n",
       "      <td>0.00</td>\n",
       "      <td>41.9136</td>\n",
       "    </tr>\n",
       "    <tr>\n",
       "      <th>2</th>\n",
       "      <td>Claire Gute</td>\n",
       "      <td>Henderson</td>\n",
       "      <td>FUR-CH-10000454</td>\n",
       "      <td>Hon Deluxe Fabric Upholstered Stacking Chairs,...</td>\n",
       "      <td>731.9400</td>\n",
       "      <td>3</td>\n",
       "      <td>0.00</td>\n",
       "      <td>219.5820</td>\n",
       "    </tr>\n",
       "    <tr>\n",
       "      <th>3</th>\n",
       "      <td>Darrin Van Huff</td>\n",
       "      <td>Los Angeles</td>\n",
       "      <td>OFF-LA-10000240</td>\n",
       "      <td>Self-Adhesive Address Labels for Typewriters b...</td>\n",
       "      <td>14.6200</td>\n",
       "      <td>2</td>\n",
       "      <td>0.00</td>\n",
       "      <td>6.8714</td>\n",
       "    </tr>\n",
       "    <tr>\n",
       "      <th>4</th>\n",
       "      <td>Sean O'Donnell</td>\n",
       "      <td>Fort Lauderdale</td>\n",
       "      <td>FUR-TA-10000577</td>\n",
       "      <td>Bretford CR4500 Series Slim Rectangular Table</td>\n",
       "      <td>957.5775</td>\n",
       "      <td>5</td>\n",
       "      <td>0.45</td>\n",
       "      <td>-383.0310</td>\n",
       "    </tr>\n",
       "    <tr>\n",
       "      <th>5</th>\n",
       "      <td>Sean O'Donnell</td>\n",
       "      <td>Fort Lauderdale</td>\n",
       "      <td>OFF-ST-10000760</td>\n",
       "      <td>Eldon Fold 'N Roll Cart System</td>\n",
       "      <td>22.3680</td>\n",
       "      <td>2</td>\n",
       "      <td>0.20</td>\n",
       "      <td>2.5164</td>\n",
       "    </tr>\n",
       "    <tr>\n",
       "      <th>...</th>\n",
       "      <td>...</td>\n",
       "      <td>...</td>\n",
       "      <td>...</td>\n",
       "      <td>...</td>\n",
       "      <td>...</td>\n",
       "      <td>...</td>\n",
       "      <td>...</td>\n",
       "      <td>...</td>\n",
       "    </tr>\n",
       "    <tr>\n",
       "      <th>9990</th>\n",
       "      <td>Tom Boeckenhauer</td>\n",
       "      <td>Miami</td>\n",
       "      <td>FUR-FU-10001889</td>\n",
       "      <td>Ultra Door Pull Handle</td>\n",
       "      <td>25.2480</td>\n",
       "      <td>3</td>\n",
       "      <td>0.20</td>\n",
       "      <td>4.1028</td>\n",
       "    </tr>\n",
       "    <tr>\n",
       "      <th>9991</th>\n",
       "      <td>Dave Brooks</td>\n",
       "      <td>Costa Mesa</td>\n",
       "      <td>FUR-FU-10000747</td>\n",
       "      <td>Tenex B1-RE Series Chair Mats for Low Pile Car...</td>\n",
       "      <td>91.9600</td>\n",
       "      <td>2</td>\n",
       "      <td>0.00</td>\n",
       "      <td>15.6332</td>\n",
       "    </tr>\n",
       "    <tr>\n",
       "      <th>9992</th>\n",
       "      <td>Dave Brooks</td>\n",
       "      <td>Costa Mesa</td>\n",
       "      <td>TEC-PH-10003645</td>\n",
       "      <td>Aastra 57i VoIP phone</td>\n",
       "      <td>258.5760</td>\n",
       "      <td>2</td>\n",
       "      <td>0.20</td>\n",
       "      <td>19.3932</td>\n",
       "    </tr>\n",
       "    <tr>\n",
       "      <th>9993</th>\n",
       "      <td>Dave Brooks</td>\n",
       "      <td>Costa Mesa</td>\n",
       "      <td>OFF-PA-10004041</td>\n",
       "      <td>It's Hot Message Books with Stickers, 2 3/4\" x 5\"</td>\n",
       "      <td>29.6000</td>\n",
       "      <td>4</td>\n",
       "      <td>0.00</td>\n",
       "      <td>13.3200</td>\n",
       "    </tr>\n",
       "    <tr>\n",
       "      <th>9994</th>\n",
       "      <td>Chris Cortes</td>\n",
       "      <td>Westminster</td>\n",
       "      <td>OFF-AP-10002684</td>\n",
       "      <td>Acco 7-Outlet Masterpiece Power Center, Wihtou...</td>\n",
       "      <td>243.1600</td>\n",
       "      <td>2</td>\n",
       "      <td>0.00</td>\n",
       "      <td>72.9480</td>\n",
       "    </tr>\n",
       "  </tbody>\n",
       "</table>\n",
       "<p>9994 rows × 8 columns</p>\n",
       "</div>"
      ],
      "text/plain": [
       "           Customer Name             City       Product ID  \\\n",
       "Row ID                                                       \n",
       "1            Claire Gute        Henderson  FUR-BO-10001798   \n",
       "2            Claire Gute        Henderson  FUR-CH-10000454   \n",
       "3        Darrin Van Huff      Los Angeles  OFF-LA-10000240   \n",
       "4         Sean O'Donnell  Fort Lauderdale  FUR-TA-10000577   \n",
       "5         Sean O'Donnell  Fort Lauderdale  OFF-ST-10000760   \n",
       "...                  ...              ...              ...   \n",
       "9990    Tom Boeckenhauer            Miami  FUR-FU-10001889   \n",
       "9991         Dave Brooks       Costa Mesa  FUR-FU-10000747   \n",
       "9992         Dave Brooks       Costa Mesa  TEC-PH-10003645   \n",
       "9993         Dave Brooks       Costa Mesa  OFF-PA-10004041   \n",
       "9994        Chris Cortes      Westminster  OFF-AP-10002684   \n",
       "\n",
       "                                             Product Name     Sales  Quantity  \\\n",
       "Row ID                                                                          \n",
       "1                       Bush Somerset Collection Bookcase  261.9600         2   \n",
       "2       Hon Deluxe Fabric Upholstered Stacking Chairs,...  731.9400         3   \n",
       "3       Self-Adhesive Address Labels for Typewriters b...   14.6200         2   \n",
       "4           Bretford CR4500 Series Slim Rectangular Table  957.5775         5   \n",
       "5                          Eldon Fold 'N Roll Cart System   22.3680         2   \n",
       "...                                                   ...       ...       ...   \n",
       "9990                               Ultra Door Pull Handle   25.2480         3   \n",
       "9991    Tenex B1-RE Series Chair Mats for Low Pile Car...   91.9600         2   \n",
       "9992                                Aastra 57i VoIP phone  258.5760         2   \n",
       "9993    It's Hot Message Books with Stickers, 2 3/4\" x 5\"   29.6000         4   \n",
       "9994    Acco 7-Outlet Masterpiece Power Center, Wihtou...  243.1600         2   \n",
       "\n",
       "        Discount    Profit  \n",
       "Row ID                      \n",
       "1           0.00   41.9136  \n",
       "2           0.00  219.5820  \n",
       "3           0.00    6.8714  \n",
       "4           0.45 -383.0310  \n",
       "5           0.20    2.5164  \n",
       "...          ...       ...  \n",
       "9990        0.20    4.1028  \n",
       "9991        0.00   15.6332  \n",
       "9992        0.20   19.3932  \n",
       "9993        0.00   13.3200  \n",
       "9994        0.00   72.9480  \n",
       "\n",
       "[9994 rows x 8 columns]"
      ]
     },
     "execution_count": 40,
     "metadata": {},
     "output_type": "execute_result"
    }
   ],
   "source": [
    "# to filter based on column\n",
    "df5_subset = df5[['Customer Name', 'City', 'Product ID',\n",
    "                    'Product Name', 'Sales', 'Quantity', 'Discount',\n",
    "                    'Profit', ]]\n",
    "df5_subset"
   ]
  },
  {
   "cell_type": "code",
   "execution_count": 41,
   "id": "c231e170-14c2-4b5c-9e1b-ae32d0953c6e",
   "metadata": {},
   "outputs": [
    {
     "data": {
      "text/html": [
       "<div>\n",
       "<style scoped>\n",
       "    .dataframe tbody tr th:only-of-type {\n",
       "        vertical-align: middle;\n",
       "    }\n",
       "\n",
       "    .dataframe tbody tr th {\n",
       "        vertical-align: top;\n",
       "    }\n",
       "\n",
       "    .dataframe thead th {\n",
       "        text-align: right;\n",
       "    }\n",
       "</style>\n",
       "<table border=\"1\" class=\"dataframe\">\n",
       "  <thead>\n",
       "    <tr style=\"text-align: right;\">\n",
       "      <th></th>\n",
       "      <th>Customer Name</th>\n",
       "      <th>City</th>\n",
       "      <th>Product ID</th>\n",
       "      <th>Product Name</th>\n",
       "      <th>Sales</th>\n",
       "      <th>Quantity</th>\n",
       "      <th>Discount</th>\n",
       "      <th>Profit</th>\n",
       "    </tr>\n",
       "    <tr>\n",
       "      <th>Row ID</th>\n",
       "      <th></th>\n",
       "      <th></th>\n",
       "      <th></th>\n",
       "      <th></th>\n",
       "      <th></th>\n",
       "      <th></th>\n",
       "      <th></th>\n",
       "      <th></th>\n",
       "    </tr>\n",
       "  </thead>\n",
       "  <tbody>\n",
       "    <tr>\n",
       "      <th>100</th>\n",
       "      <td>Rick Bensley</td>\n",
       "      <td>Chicago</td>\n",
       "      <td>OFF-PA-10003256</td>\n",
       "      <td>Avery Personal Creations Heavyweight Cards</td>\n",
       "      <td>64.624</td>\n",
       "      <td>7</td>\n",
       "      <td>0.2</td>\n",
       "      <td>22.6184</td>\n",
       "    </tr>\n",
       "    <tr>\n",
       "      <th>101</th>\n",
       "      <td>Rick Bensley</td>\n",
       "      <td>Chicago</td>\n",
       "      <td>TEC-AC-10001767</td>\n",
       "      <td>SanDisk Ultra 64 GB MicroSDHC Class 10 Memory ...</td>\n",
       "      <td>95.976</td>\n",
       "      <td>3</td>\n",
       "      <td>0.2</td>\n",
       "      <td>-10.7973</td>\n",
       "    </tr>\n",
       "    <tr>\n",
       "      <th>102</th>\n",
       "      <td>Rick Bensley</td>\n",
       "      <td>Chicago</td>\n",
       "      <td>OFF-BI-10002609</td>\n",
       "      <td>Avery Hidden Tab Dividers for Binding Systems</td>\n",
       "      <td>1.788</td>\n",
       "      <td>3</td>\n",
       "      <td>0.8</td>\n",
       "      <td>-3.0396</td>\n",
       "    </tr>\n",
       "    <tr>\n",
       "      <th>103</th>\n",
       "      <td>Gary Zandusky</td>\n",
       "      <td>Rochester</td>\n",
       "      <td>OFF-PA-10004040</td>\n",
       "      <td>Universal Premium White Copier/Laser Paper (20...</td>\n",
       "      <td>23.920</td>\n",
       "      <td>4</td>\n",
       "      <td>0.0</td>\n",
       "      <td>11.7208</td>\n",
       "    </tr>\n",
       "    <tr>\n",
       "      <th>104</th>\n",
       "      <td>Lena Cacioppo</td>\n",
       "      <td>Aurora</td>\n",
       "      <td>TEC-AC-10001552</td>\n",
       "      <td>Logitech K350 2.4Ghz Wireless Keyboard</td>\n",
       "      <td>238.896</td>\n",
       "      <td>6</td>\n",
       "      <td>0.2</td>\n",
       "      <td>-26.8758</td>\n",
       "    </tr>\n",
       "    <tr>\n",
       "      <th>...</th>\n",
       "      <td>...</td>\n",
       "      <td>...</td>\n",
       "      <td>...</td>\n",
       "      <td>...</td>\n",
       "      <td>...</td>\n",
       "      <td>...</td>\n",
       "      <td>...</td>\n",
       "      <td>...</td>\n",
       "    </tr>\n",
       "    <tr>\n",
       "      <th>195</th>\n",
       "      <td>Mary Zewe</td>\n",
       "      <td>Redlands</td>\n",
       "      <td>OFF-EN-10001509</td>\n",
       "      <td>Poly String Tie Envelopes</td>\n",
       "      <td>14.280</td>\n",
       "      <td>7</td>\n",
       "      <td>0.0</td>\n",
       "      <td>6.7116</td>\n",
       "    </tr>\n",
       "    <tr>\n",
       "      <th>196</th>\n",
       "      <td>Cassandra Brandow</td>\n",
       "      <td>Hamilton</td>\n",
       "      <td>OFF-AR-10004685</td>\n",
       "      <td>Binney &amp; Smith Crayola Metallic Colored Pencil...</td>\n",
       "      <td>7.408</td>\n",
       "      <td>2</td>\n",
       "      <td>0.2</td>\n",
       "      <td>1.2038</td>\n",
       "    </tr>\n",
       "    <tr>\n",
       "      <th>197</th>\n",
       "      <td>Cassandra Brandow</td>\n",
       "      <td>Hamilton</td>\n",
       "      <td>OFF-AR-10004027</td>\n",
       "      <td>Binney &amp; Smith inkTank Erasable Desk Highlight...</td>\n",
       "      <td>6.048</td>\n",
       "      <td>3</td>\n",
       "      <td>0.2</td>\n",
       "      <td>1.5876</td>\n",
       "    </tr>\n",
       "    <tr>\n",
       "      <th>198</th>\n",
       "      <td>Valerie Mitchum</td>\n",
       "      <td>Westfield</td>\n",
       "      <td>OFF-ST-10001414</td>\n",
       "      <td>Decoflex Hanging Personal Folder File</td>\n",
       "      <td>46.260</td>\n",
       "      <td>3</td>\n",
       "      <td>0.0</td>\n",
       "      <td>12.0276</td>\n",
       "    </tr>\n",
       "    <tr>\n",
       "      <th>199</th>\n",
       "      <td>Fred Hopkins</td>\n",
       "      <td>Philadelphia</td>\n",
       "      <td>OFF-BI-10000343</td>\n",
       "      <td>Pressboard Covers with Storage Hooks, 9 1/2\" x...</td>\n",
       "      <td>2.946</td>\n",
       "      <td>2</td>\n",
       "      <td>0.7</td>\n",
       "      <td>-2.2586</td>\n",
       "    </tr>\n",
       "  </tbody>\n",
       "</table>\n",
       "<p>100 rows × 8 columns</p>\n",
       "</div>"
      ],
      "text/plain": [
       "            Customer Name          City       Product ID  \\\n",
       "Row ID                                                     \n",
       "100          Rick Bensley       Chicago  OFF-PA-10003256   \n",
       "101          Rick Bensley       Chicago  TEC-AC-10001767   \n",
       "102          Rick Bensley       Chicago  OFF-BI-10002609   \n",
       "103         Gary Zandusky     Rochester  OFF-PA-10004040   \n",
       "104         Lena Cacioppo        Aurora  TEC-AC-10001552   \n",
       "...                   ...           ...              ...   \n",
       "195             Mary Zewe      Redlands  OFF-EN-10001509   \n",
       "196     Cassandra Brandow      Hamilton  OFF-AR-10004685   \n",
       "197     Cassandra Brandow      Hamilton  OFF-AR-10004027   \n",
       "198       Valerie Mitchum     Westfield  OFF-ST-10001414   \n",
       "199          Fred Hopkins  Philadelphia  OFF-BI-10000343   \n",
       "\n",
       "                                             Product Name    Sales  Quantity  \\\n",
       "Row ID                                                                         \n",
       "100            Avery Personal Creations Heavyweight Cards   64.624         7   \n",
       "101     SanDisk Ultra 64 GB MicroSDHC Class 10 Memory ...   95.976         3   \n",
       "102         Avery Hidden Tab Dividers for Binding Systems    1.788         3   \n",
       "103     Universal Premium White Copier/Laser Paper (20...   23.920         4   \n",
       "104                Logitech K350 2.4Ghz Wireless Keyboard  238.896         6   \n",
       "...                                                   ...      ...       ...   \n",
       "195                             Poly String Tie Envelopes   14.280         7   \n",
       "196     Binney & Smith Crayola Metallic Colored Pencil...    7.408         2   \n",
       "197     Binney & Smith inkTank Erasable Desk Highlight...    6.048         3   \n",
       "198                 Decoflex Hanging Personal Folder File   46.260         3   \n",
       "199     Pressboard Covers with Storage Hooks, 9 1/2\" x...    2.946         2   \n",
       "\n",
       "        Discount   Profit  \n",
       "Row ID                     \n",
       "100          0.2  22.6184  \n",
       "101          0.2 -10.7973  \n",
       "102          0.8  -3.0396  \n",
       "103          0.0  11.7208  \n",
       "104          0.2 -26.8758  \n",
       "...          ...      ...  \n",
       "195          0.0   6.7116  \n",
       "196          0.2   1.2038  \n",
       "197          0.2   1.5876  \n",
       "198          0.0  12.0276  \n",
       "199          0.7  -2.2586  \n",
       "\n",
       "[100 rows x 8 columns]"
      ]
     },
     "execution_count": 41,
     "metadata": {},
     "output_type": "execute_result"
    }
   ],
   "source": [
    "# to filter based on row\n",
    "# Study loc very well.\n",
    "df5_subset = df5.loc[[i for i in range (100,200)], ['Customer Name', 'City', 'Product ID',\n",
    "                    'Product Name', 'Sales', 'Quantity', 'Discount',\n",
    "                    'Profit']]\n",
    "df5_subset"
   ]
  },
  {
   "cell_type": "code",
   "execution_count": 42,
   "id": "65e2f6c9-1d70-4dc8-ae63-a2bb55cb0034",
   "metadata": {},
   "outputs": [
    {
     "data": {
      "text/plain": [
       "34"
      ]
     },
     "execution_count": 42,
     "metadata": {},
     "output_type": "execute_result"
    }
   ],
   "source": [
    "df5_subset['City'].nunique()"
   ]
  },
  {
   "cell_type": "code",
   "execution_count": 43,
   "id": "927b0f70-ca00-4c1b-9f82-0815f503e9bf",
   "metadata": {},
   "outputs": [
    {
     "data": {
      "text/plain": [
       "array(['Chicago', 'Rochester', 'Aurora', 'Charlotte', 'Orland Park',\n",
       "       'New York City', 'Urbandale', 'Columbus', 'Seattle', 'Bristol',\n",
       "       'Wilmington', 'Houston', 'Bloomington', 'Phoenix', 'Los Angeles',\n",
       "       'Roseville', 'Philadelphia', 'San Francisco', 'Independence',\n",
       "       'Pasadena', 'Newark', 'Franklin', 'Scottsdale', 'San Jose',\n",
       "       'Edmond', 'Carlsbad', 'San Antonio', 'Decatur', 'Monroe',\n",
       "       'Fairfield', 'Grand Prairie', 'Redlands', 'Hamilton', 'Westfield'],\n",
       "      dtype=object)"
      ]
     },
     "execution_count": 43,
     "metadata": {},
     "output_type": "execute_result"
    }
   ],
   "source": [
    "df5_subset['City'].unique()"
   ]
  },
  {
   "cell_type": "code",
   "execution_count": 44,
   "id": "6a285a5e-2512-43b3-8a83-233c85f7c0ef",
   "metadata": {},
   "outputs": [
    {
     "data": {
      "text/html": [
       "<div>\n",
       "<style scoped>\n",
       "    .dataframe tbody tr th:only-of-type {\n",
       "        vertical-align: middle;\n",
       "    }\n",
       "\n",
       "    .dataframe tbody tr th {\n",
       "        vertical-align: top;\n",
       "    }\n",
       "\n",
       "    .dataframe thead th {\n",
       "        text-align: right;\n",
       "    }\n",
       "</style>\n",
       "<table border=\"1\" class=\"dataframe\">\n",
       "  <thead>\n",
       "    <tr style=\"text-align: right;\">\n",
       "      <th></th>\n",
       "      <th>Sales</th>\n",
       "      <th>Quantity</th>\n",
       "      <th>Discount</th>\n",
       "      <th>Profit</th>\n",
       "    </tr>\n",
       "  </thead>\n",
       "  <tbody>\n",
       "    <tr>\n",
       "      <th>count</th>\n",
       "      <td>100.000000</td>\n",
       "      <td>100.000000</td>\n",
       "      <td>100.000000</td>\n",
       "      <td>100.000000</td>\n",
       "    </tr>\n",
       "    <tr>\n",
       "      <th>mean</th>\n",
       "      <td>263.442900</td>\n",
       "      <td>4.350000</td>\n",
       "      <td>0.160000</td>\n",
       "      <td>0.515555</td>\n",
       "    </tr>\n",
       "    <tr>\n",
       "      <th>std</th>\n",
       "      <td>858.856472</td>\n",
       "      <td>2.633794</td>\n",
       "      <td>0.209858</td>\n",
       "      <td>170.758570</td>\n",
       "    </tr>\n",
       "    <tr>\n",
       "      <th>min</th>\n",
       "      <td>1.788000</td>\n",
       "      <td>1.000000</td>\n",
       "      <td>0.000000</td>\n",
       "      <td>-1359.992000</td>\n",
       "    </tr>\n",
       "    <tr>\n",
       "      <th>25%</th>\n",
       "      <td>23.304000</td>\n",
       "      <td>2.000000</td>\n",
       "      <td>0.000000</td>\n",
       "      <td>1.635900</td>\n",
       "    </tr>\n",
       "    <tr>\n",
       "      <th>50%</th>\n",
       "      <td>66.960000</td>\n",
       "      <td>3.000000</td>\n",
       "      <td>0.200000</td>\n",
       "      <td>9.764900</td>\n",
       "    </tr>\n",
       "    <tr>\n",
       "      <th>75%</th>\n",
       "      <td>177.095000</td>\n",
       "      <td>6.000000</td>\n",
       "      <td>0.200000</td>\n",
       "      <td>23.458800</td>\n",
       "    </tr>\n",
       "    <tr>\n",
       "      <th>max</th>\n",
       "      <td>8159.952000</td>\n",
       "      <td>14.000000</td>\n",
       "      <td>0.800000</td>\n",
       "      <td>585.552000</td>\n",
       "    </tr>\n",
       "  </tbody>\n",
       "</table>\n",
       "</div>"
      ],
      "text/plain": [
       "             Sales    Quantity    Discount       Profit\n",
       "count   100.000000  100.000000  100.000000   100.000000\n",
       "mean    263.442900    4.350000    0.160000     0.515555\n",
       "std     858.856472    2.633794    0.209858   170.758570\n",
       "min       1.788000    1.000000    0.000000 -1359.992000\n",
       "25%      23.304000    2.000000    0.000000     1.635900\n",
       "50%      66.960000    3.000000    0.200000     9.764900\n",
       "75%     177.095000    6.000000    0.200000    23.458800\n",
       "max    8159.952000   14.000000    0.800000   585.552000"
      ]
     },
     "execution_count": 44,
     "metadata": {},
     "output_type": "execute_result"
    }
   ],
   "source": [
    "df5_subset.describe()"
   ]
  },
  {
   "cell_type": "code",
   "execution_count": 45,
   "id": "3dd74b82-7802-4bb9-985d-c611e1ad89c3",
   "metadata": {},
   "outputs": [
    {
     "data": {
      "text/plain": [
       "0.5155549999999756"
      ]
     },
     "execution_count": 45,
     "metadata": {},
     "output_type": "execute_result"
    }
   ],
   "source": [
    "df5_subset['Profit'].mean()"
   ]
  },
  {
   "cell_type": "code",
   "execution_count": 46,
   "id": "b78f7703-2ba8-4cb1-aab7-bf66c36066dd",
   "metadata": {},
   "outputs": [
    {
     "data": {
      "text/html": [
       "<div>\n",
       "<style scoped>\n",
       "    .dataframe tbody tr th:only-of-type {\n",
       "        vertical-align: middle;\n",
       "    }\n",
       "\n",
       "    .dataframe tbody tr th {\n",
       "        vertical-align: top;\n",
       "    }\n",
       "\n",
       "    .dataframe thead th {\n",
       "        text-align: right;\n",
       "    }\n",
       "</style>\n",
       "<table border=\"1\" class=\"dataframe\">\n",
       "  <thead>\n",
       "    <tr style=\"text-align: right;\">\n",
       "      <th></th>\n",
       "      <th>Sales</th>\n",
       "      <th>Quantity</th>\n",
       "      <th>Discount</th>\n",
       "      <th>Profit</th>\n",
       "    </tr>\n",
       "    <tr>\n",
       "      <th>City</th>\n",
       "      <th></th>\n",
       "      <th></th>\n",
       "      <th></th>\n",
       "      <th></th>\n",
       "    </tr>\n",
       "  </thead>\n",
       "  <tbody>\n",
       "    <tr>\n",
       "      <th>Aurora</th>\n",
       "      <td>126.046000</td>\n",
       "      <td>4.000000</td>\n",
       "      <td>0.366667</td>\n",
       "      <td>-18.843900</td>\n",
       "    </tr>\n",
       "    <tr>\n",
       "      <th>Bloomington</th>\n",
       "      <td>617.700000</td>\n",
       "      <td>6.000000</td>\n",
       "      <td>0.500000</td>\n",
       "      <td>-407.682000</td>\n",
       "    </tr>\n",
       "    <tr>\n",
       "      <th>Bristol</th>\n",
       "      <td>157.794000</td>\n",
       "      <td>1.000000</td>\n",
       "      <td>0.700000</td>\n",
       "      <td>-115.715600</td>\n",
       "    </tr>\n",
       "    <tr>\n",
       "      <th>Carlsbad</th>\n",
       "      <td>28.400000</td>\n",
       "      <td>5.000000</td>\n",
       "      <td>0.000000</td>\n",
       "      <td>13.348000</td>\n",
       "    </tr>\n",
       "    <tr>\n",
       "      <th>Charlotte</th>\n",
       "      <td>35.136000</td>\n",
       "      <td>3.333333</td>\n",
       "      <td>0.200000</td>\n",
       "      <td>6.924933</td>\n",
       "    </tr>\n",
       "    <tr>\n",
       "      <th>Chicago</th>\n",
       "      <td>46.999200</td>\n",
       "      <td>3.800000</td>\n",
       "      <td>0.440000</td>\n",
       "      <td>-23.157300</td>\n",
       "    </tr>\n",
       "    <tr>\n",
       "      <th>Columbus</th>\n",
       "      <td>51.283714</td>\n",
       "      <td>5.857143</td>\n",
       "      <td>0.228571</td>\n",
       "      <td>13.150586</td>\n",
       "    </tr>\n",
       "    <tr>\n",
       "      <th>Decatur</th>\n",
       "      <td>216.780000</td>\n",
       "      <td>4.500000</td>\n",
       "      <td>0.200000</td>\n",
       "      <td>39.250350</td>\n",
       "    </tr>\n",
       "    <tr>\n",
       "      <th>Edmond</th>\n",
       "      <td>479.775000</td>\n",
       "      <td>4.500000</td>\n",
       "      <td>0.000000</td>\n",
       "      <td>121.551950</td>\n",
       "    </tr>\n",
       "    <tr>\n",
       "      <th>Fairfield</th>\n",
       "      <td>7.160000</td>\n",
       "      <td>2.000000</td>\n",
       "      <td>0.000000</td>\n",
       "      <td>3.436800</td>\n",
       "    </tr>\n",
       "    <tr>\n",
       "      <th>Franklin</th>\n",
       "      <td>664.452500</td>\n",
       "      <td>6.750000</td>\n",
       "      <td>0.000000</td>\n",
       "      <td>193.995200</td>\n",
       "    </tr>\n",
       "    <tr>\n",
       "      <th>Grand Prairie</th>\n",
       "      <td>28.620000</td>\n",
       "      <td>3.000000</td>\n",
       "      <td>0.200000</td>\n",
       "      <td>4.988700</td>\n",
       "    </tr>\n",
       "    <tr>\n",
       "      <th>Hamilton</th>\n",
       "      <td>6.728000</td>\n",
       "      <td>2.500000</td>\n",
       "      <td>0.200000</td>\n",
       "      <td>1.395700</td>\n",
       "    </tr>\n",
       "    <tr>\n",
       "      <th>Houston</th>\n",
       "      <td>348.911000</td>\n",
       "      <td>3.500000</td>\n",
       "      <td>0.550000</td>\n",
       "      <td>-125.869700</td>\n",
       "    </tr>\n",
       "    <tr>\n",
       "      <th>Independence</th>\n",
       "      <td>839.430000</td>\n",
       "      <td>3.000000</td>\n",
       "      <td>0.000000</td>\n",
       "      <td>218.251800</td>\n",
       "    </tr>\n",
       "    <tr>\n",
       "      <th>Los Angeles</th>\n",
       "      <td>139.258286</td>\n",
       "      <td>3.714286</td>\n",
       "      <td>0.057143</td>\n",
       "      <td>18.159714</td>\n",
       "    </tr>\n",
       "    <tr>\n",
       "      <th>Monroe</th>\n",
       "      <td>227.636667</td>\n",
       "      <td>3.666667</td>\n",
       "      <td>0.000000</td>\n",
       "      <td>60.088533</td>\n",
       "    </tr>\n",
       "    <tr>\n",
       "      <th>New York City</th>\n",
       "      <td>244.889714</td>\n",
       "      <td>4.142857</td>\n",
       "      <td>0.057143</td>\n",
       "      <td>31.890200</td>\n",
       "    </tr>\n",
       "    <tr>\n",
       "      <th>Newark</th>\n",
       "      <td>168.856667</td>\n",
       "      <td>5.333333</td>\n",
       "      <td>0.233333</td>\n",
       "      <td>-0.733033</td>\n",
       "    </tr>\n",
       "    <tr>\n",
       "      <th>Orland Park</th>\n",
       "      <td>339.960000</td>\n",
       "      <td>5.000000</td>\n",
       "      <td>0.200000</td>\n",
       "      <td>67.992000</td>\n",
       "    </tr>\n",
       "    <tr>\n",
       "      <th>Pasadena</th>\n",
       "      <td>671.930000</td>\n",
       "      <td>7.000000</td>\n",
       "      <td>0.000000</td>\n",
       "      <td>20.157900</td>\n",
       "    </tr>\n",
       "    <tr>\n",
       "      <th>Philadelphia</th>\n",
       "      <td>46.710000</td>\n",
       "      <td>2.000000</td>\n",
       "      <td>0.366667</td>\n",
       "      <td>3.150333</td>\n",
       "    </tr>\n",
       "    <tr>\n",
       "      <th>Phoenix</th>\n",
       "      <td>123.190000</td>\n",
       "      <td>4.500000</td>\n",
       "      <td>0.450000</td>\n",
       "      <td>14.334100</td>\n",
       "    </tr>\n",
       "    <tr>\n",
       "      <th>Redlands</th>\n",
       "      <td>14.280000</td>\n",
       "      <td>7.000000</td>\n",
       "      <td>0.000000</td>\n",
       "      <td>6.711600</td>\n",
       "    </tr>\n",
       "    <tr>\n",
       "      <th>Rochester</th>\n",
       "      <td>23.920000</td>\n",
       "      <td>4.000000</td>\n",
       "      <td>0.000000</td>\n",
       "      <td>11.720800</td>\n",
       "    </tr>\n",
       "    <tr>\n",
       "      <th>Roseville</th>\n",
       "      <td>36.599429</td>\n",
       "      <td>4.714286</td>\n",
       "      <td>0.028571</td>\n",
       "      <td>13.929629</td>\n",
       "    </tr>\n",
       "    <tr>\n",
       "      <th>San Antonio</th>\n",
       "      <td>1505.699429</td>\n",
       "      <td>5.285714</td>\n",
       "      <td>0.328571</td>\n",
       "      <td>-268.398457</td>\n",
       "    </tr>\n",
       "    <tr>\n",
       "      <th>San Francisco</th>\n",
       "      <td>54.460000</td>\n",
       "      <td>3.000000</td>\n",
       "      <td>0.000000</td>\n",
       "      <td>25.487200</td>\n",
       "    </tr>\n",
       "    <tr>\n",
       "      <th>San Jose</th>\n",
       "      <td>81.593333</td>\n",
       "      <td>5.666667</td>\n",
       "      <td>0.000000</td>\n",
       "      <td>31.946333</td>\n",
       "    </tr>\n",
       "    <tr>\n",
       "      <th>Scottsdale</th>\n",
       "      <td>180.552000</td>\n",
       "      <td>3.500000</td>\n",
       "      <td>0.200000</td>\n",
       "      <td>16.502400</td>\n",
       "    </tr>\n",
       "    <tr>\n",
       "      <th>Seattle</th>\n",
       "      <td>319.852000</td>\n",
       "      <td>2.500000</td>\n",
       "      <td>0.100000</td>\n",
       "      <td>57.083950</td>\n",
       "    </tr>\n",
       "    <tr>\n",
       "      <th>Urbandale</th>\n",
       "      <td>51.600000</td>\n",
       "      <td>4.000000</td>\n",
       "      <td>0.000000</td>\n",
       "      <td>18.067800</td>\n",
       "    </tr>\n",
       "    <tr>\n",
       "      <th>Westfield</th>\n",
       "      <td>46.260000</td>\n",
       "      <td>3.000000</td>\n",
       "      <td>0.000000</td>\n",
       "      <td>12.027600</td>\n",
       "    </tr>\n",
       "    <tr>\n",
       "      <th>Wilmington</th>\n",
       "      <td>97.500000</td>\n",
       "      <td>5.800000</td>\n",
       "      <td>0.000000</td>\n",
       "      <td>33.430200</td>\n",
       "    </tr>\n",
       "  </tbody>\n",
       "</table>\n",
       "</div>"
      ],
      "text/plain": [
       "                     Sales  Quantity  Discount      Profit\n",
       "City                                                      \n",
       "Aurora          126.046000  4.000000  0.366667  -18.843900\n",
       "Bloomington     617.700000  6.000000  0.500000 -407.682000\n",
       "Bristol         157.794000  1.000000  0.700000 -115.715600\n",
       "Carlsbad         28.400000  5.000000  0.000000   13.348000\n",
       "Charlotte        35.136000  3.333333  0.200000    6.924933\n",
       "Chicago          46.999200  3.800000  0.440000  -23.157300\n",
       "Columbus         51.283714  5.857143  0.228571   13.150586\n",
       "Decatur         216.780000  4.500000  0.200000   39.250350\n",
       "Edmond          479.775000  4.500000  0.000000  121.551950\n",
       "Fairfield         7.160000  2.000000  0.000000    3.436800\n",
       "Franklin        664.452500  6.750000  0.000000  193.995200\n",
       "Grand Prairie    28.620000  3.000000  0.200000    4.988700\n",
       "Hamilton          6.728000  2.500000  0.200000    1.395700\n",
       "Houston         348.911000  3.500000  0.550000 -125.869700\n",
       "Independence    839.430000  3.000000  0.000000  218.251800\n",
       "Los Angeles     139.258286  3.714286  0.057143   18.159714\n",
       "Monroe          227.636667  3.666667  0.000000   60.088533\n",
       "New York City   244.889714  4.142857  0.057143   31.890200\n",
       "Newark          168.856667  5.333333  0.233333   -0.733033\n",
       "Orland Park     339.960000  5.000000  0.200000   67.992000\n",
       "Pasadena        671.930000  7.000000  0.000000   20.157900\n",
       "Philadelphia     46.710000  2.000000  0.366667    3.150333\n",
       "Phoenix         123.190000  4.500000  0.450000   14.334100\n",
       "Redlands         14.280000  7.000000  0.000000    6.711600\n",
       "Rochester        23.920000  4.000000  0.000000   11.720800\n",
       "Roseville        36.599429  4.714286  0.028571   13.929629\n",
       "San Antonio    1505.699429  5.285714  0.328571 -268.398457\n",
       "San Francisco    54.460000  3.000000  0.000000   25.487200\n",
       "San Jose         81.593333  5.666667  0.000000   31.946333\n",
       "Scottsdale      180.552000  3.500000  0.200000   16.502400\n",
       "Seattle         319.852000  2.500000  0.100000   57.083950\n",
       "Urbandale        51.600000  4.000000  0.000000   18.067800\n",
       "Westfield        46.260000  3.000000  0.000000   12.027600\n",
       "Wilmington       97.500000  5.800000  0.000000   33.430200"
      ]
     },
     "execution_count": 46,
     "metadata": {},
     "output_type": "execute_result"
    }
   ],
   "source": [
    "df5_subset2 = df5_subset.copy()\n",
    "df5_subset2.groupby('City').mean()"
   ]
  },
  {
   "cell_type": "code",
   "execution_count": 47,
   "id": "d6a8aa54-a640-4a19-9527-91ea3a051468",
   "metadata": {},
   "outputs": [
    {
     "data": {
      "text/html": [
       "<div>\n",
       "<style scoped>\n",
       "    .dataframe tbody tr th:only-of-type {\n",
       "        vertical-align: middle;\n",
       "    }\n",
       "\n",
       "    .dataframe tbody tr th {\n",
       "        vertical-align: top;\n",
       "    }\n",
       "\n",
       "    .dataframe thead th {\n",
       "        text-align: right;\n",
       "    }\n",
       "</style>\n",
       "<table border=\"1\" class=\"dataframe\">\n",
       "  <thead>\n",
       "    <tr style=\"text-align: right;\">\n",
       "      <th></th>\n",
       "      <th>Sales</th>\n",
       "    </tr>\n",
       "    <tr>\n",
       "      <th>City</th>\n",
       "      <th></th>\n",
       "    </tr>\n",
       "  </thead>\n",
       "  <tbody>\n",
       "    <tr>\n",
       "      <th>Aurora</th>\n",
       "      <td>126.046000</td>\n",
       "    </tr>\n",
       "    <tr>\n",
       "      <th>Bloomington</th>\n",
       "      <td>617.700000</td>\n",
       "    </tr>\n",
       "    <tr>\n",
       "      <th>Bristol</th>\n",
       "      <td>157.794000</td>\n",
       "    </tr>\n",
       "    <tr>\n",
       "      <th>Carlsbad</th>\n",
       "      <td>28.400000</td>\n",
       "    </tr>\n",
       "    <tr>\n",
       "      <th>Charlotte</th>\n",
       "      <td>35.136000</td>\n",
       "    </tr>\n",
       "    <tr>\n",
       "      <th>Chicago</th>\n",
       "      <td>46.999200</td>\n",
       "    </tr>\n",
       "    <tr>\n",
       "      <th>Columbus</th>\n",
       "      <td>51.283714</td>\n",
       "    </tr>\n",
       "    <tr>\n",
       "      <th>Decatur</th>\n",
       "      <td>216.780000</td>\n",
       "    </tr>\n",
       "    <tr>\n",
       "      <th>Edmond</th>\n",
       "      <td>479.775000</td>\n",
       "    </tr>\n",
       "    <tr>\n",
       "      <th>Fairfield</th>\n",
       "      <td>7.160000</td>\n",
       "    </tr>\n",
       "    <tr>\n",
       "      <th>Franklin</th>\n",
       "      <td>664.452500</td>\n",
       "    </tr>\n",
       "    <tr>\n",
       "      <th>Grand Prairie</th>\n",
       "      <td>28.620000</td>\n",
       "    </tr>\n",
       "    <tr>\n",
       "      <th>Hamilton</th>\n",
       "      <td>6.728000</td>\n",
       "    </tr>\n",
       "    <tr>\n",
       "      <th>Houston</th>\n",
       "      <td>348.911000</td>\n",
       "    </tr>\n",
       "    <tr>\n",
       "      <th>Independence</th>\n",
       "      <td>839.430000</td>\n",
       "    </tr>\n",
       "    <tr>\n",
       "      <th>Los Angeles</th>\n",
       "      <td>139.258286</td>\n",
       "    </tr>\n",
       "    <tr>\n",
       "      <th>Monroe</th>\n",
       "      <td>227.636667</td>\n",
       "    </tr>\n",
       "    <tr>\n",
       "      <th>New York City</th>\n",
       "      <td>244.889714</td>\n",
       "    </tr>\n",
       "    <tr>\n",
       "      <th>Newark</th>\n",
       "      <td>168.856667</td>\n",
       "    </tr>\n",
       "    <tr>\n",
       "      <th>Orland Park</th>\n",
       "      <td>339.960000</td>\n",
       "    </tr>\n",
       "    <tr>\n",
       "      <th>Pasadena</th>\n",
       "      <td>671.930000</td>\n",
       "    </tr>\n",
       "    <tr>\n",
       "      <th>Philadelphia</th>\n",
       "      <td>46.710000</td>\n",
       "    </tr>\n",
       "    <tr>\n",
       "      <th>Phoenix</th>\n",
       "      <td>123.190000</td>\n",
       "    </tr>\n",
       "    <tr>\n",
       "      <th>Redlands</th>\n",
       "      <td>14.280000</td>\n",
       "    </tr>\n",
       "    <tr>\n",
       "      <th>Rochester</th>\n",
       "      <td>23.920000</td>\n",
       "    </tr>\n",
       "    <tr>\n",
       "      <th>Roseville</th>\n",
       "      <td>36.599429</td>\n",
       "    </tr>\n",
       "    <tr>\n",
       "      <th>San Antonio</th>\n",
       "      <td>1505.699429</td>\n",
       "    </tr>\n",
       "    <tr>\n",
       "      <th>San Francisco</th>\n",
       "      <td>54.460000</td>\n",
       "    </tr>\n",
       "    <tr>\n",
       "      <th>San Jose</th>\n",
       "      <td>81.593333</td>\n",
       "    </tr>\n",
       "    <tr>\n",
       "      <th>Scottsdale</th>\n",
       "      <td>180.552000</td>\n",
       "    </tr>\n",
       "    <tr>\n",
       "      <th>Seattle</th>\n",
       "      <td>319.852000</td>\n",
       "    </tr>\n",
       "    <tr>\n",
       "      <th>Urbandale</th>\n",
       "      <td>51.600000</td>\n",
       "    </tr>\n",
       "    <tr>\n",
       "      <th>Westfield</th>\n",
       "      <td>46.260000</td>\n",
       "    </tr>\n",
       "    <tr>\n",
       "      <th>Wilmington</th>\n",
       "      <td>97.500000</td>\n",
       "    </tr>\n",
       "  </tbody>\n",
       "</table>\n",
       "</div>"
      ],
      "text/plain": [
       "                     Sales\n",
       "City                      \n",
       "Aurora          126.046000\n",
       "Bloomington     617.700000\n",
       "Bristol         157.794000\n",
       "Carlsbad         28.400000\n",
       "Charlotte        35.136000\n",
       "Chicago          46.999200\n",
       "Columbus         51.283714\n",
       "Decatur         216.780000\n",
       "Edmond          479.775000\n",
       "Fairfield         7.160000\n",
       "Franklin        664.452500\n",
       "Grand Prairie    28.620000\n",
       "Hamilton          6.728000\n",
       "Houston         348.911000\n",
       "Independence    839.430000\n",
       "Los Angeles     139.258286\n",
       "Monroe          227.636667\n",
       "New York City   244.889714\n",
       "Newark          168.856667\n",
       "Orland Park     339.960000\n",
       "Pasadena        671.930000\n",
       "Philadelphia     46.710000\n",
       "Phoenix         123.190000\n",
       "Redlands         14.280000\n",
       "Rochester        23.920000\n",
       "Roseville        36.599429\n",
       "San Antonio    1505.699429\n",
       "San Francisco    54.460000\n",
       "San Jose         81.593333\n",
       "Scottsdale      180.552000\n",
       "Seattle         319.852000\n",
       "Urbandale        51.600000\n",
       "Westfield        46.260000\n",
       "Wilmington       97.500000"
      ]
     },
     "execution_count": 47,
     "metadata": {},
     "output_type": "execute_result"
    }
   ],
   "source": [
    "# df5_subset3 = df5_subset.copy()\n",
    "# df5_subset3[['Sales','City']].groupby('City').mean()\n",
    "\n",
    "df5_subset3 = df5_subset.copy()\n",
    "Gee = df5_subset3[['Sales','City']].groupby('City')\n",
    "Gee.mean()"
   ]
  },
  {
   "cell_type": "code",
   "execution_count": null,
   "id": "0a1e8030-84a9-4dea-b4b8-edf16ba9c7cf",
   "metadata": {},
   "outputs": [],
   "source": []
  },
  {
   "cell_type": "code",
   "execution_count": 48,
   "id": "98cffb01-a784-453c-ac33-b21cfd0c5cbd",
   "metadata": {},
   "outputs": [
    {
     "data": {
      "text/html": [
       "<div>\n",
       "<style scoped>\n",
       "    .dataframe tbody tr th:only-of-type {\n",
       "        vertical-align: middle;\n",
       "    }\n",
       "\n",
       "    .dataframe tbody tr th {\n",
       "        vertical-align: top;\n",
       "    }\n",
       "\n",
       "    .dataframe thead th {\n",
       "        text-align: right;\n",
       "    }\n",
       "</style>\n",
       "<table border=\"1\" class=\"dataframe\">\n",
       "  <thead>\n",
       "    <tr style=\"text-align: right;\">\n",
       "      <th></th>\n",
       "      <th>Chicago</th>\n",
       "    </tr>\n",
       "  </thead>\n",
       "  <tbody>\n",
       "    <tr>\n",
       "      <th>Sales</th>\n",
       "      <td>46.9992</td>\n",
       "    </tr>\n",
       "    <tr>\n",
       "      <th>Quantity</th>\n",
       "      <td>3.8000</td>\n",
       "    </tr>\n",
       "    <tr>\n",
       "      <th>Discount</th>\n",
       "      <td>0.4400</td>\n",
       "    </tr>\n",
       "    <tr>\n",
       "      <th>Profit</th>\n",
       "      <td>-23.1573</td>\n",
       "    </tr>\n",
       "  </tbody>\n",
       "</table>\n",
       "</div>"
      ],
      "text/plain": [
       "          Chicago\n",
       "Sales     46.9992\n",
       "Quantity   3.8000\n",
       "Discount   0.4400\n",
       "Profit   -23.1573"
      ]
     },
     "execution_count": 48,
     "metadata": {},
     "output_type": "execute_result"
    }
   ],
   "source": [
    "### class work\n",
    "# get mean for Chicago\n",
    "\n",
    "# df5_subset3 = df5_subset.copy()\n",
    "# Gee = df5_subset3[['Sales','City']].groupby('City').loc['Chicago']\n",
    "# Gee.mean()\n",
    "\n",
    "df5_subset3 = df5_subset.copy()\n",
    "pd.DataFrame(df5_subset3.groupby('City').mean().loc['Chicago'])"
   ]
  },
  {
   "cell_type": "code",
   "execution_count": 49,
   "id": "c035cc80-eb84-412d-bced-a07670befb40",
   "metadata": {},
   "outputs": [
    {
     "data": {
      "text/html": [
       "<div>\n",
       "<style scoped>\n",
       "    .dataframe tbody tr th:only-of-type {\n",
       "        vertical-align: middle;\n",
       "    }\n",
       "\n",
       "    .dataframe tbody tr th {\n",
       "        vertical-align: top;\n",
       "    }\n",
       "\n",
       "    .dataframe thead th {\n",
       "        text-align: right;\n",
       "    }\n",
       "</style>\n",
       "<table border=\"1\" class=\"dataframe\">\n",
       "  <thead>\n",
       "    <tr style=\"text-align: right;\">\n",
       "      <th></th>\n",
       "      <th>Sales</th>\n",
       "    </tr>\n",
       "  </thead>\n",
       "  <tbody>\n",
       "    <tr>\n",
       "      <th>Chicago</th>\n",
       "      <td>46.9992</td>\n",
       "    </tr>\n",
       "  </tbody>\n",
       "</table>\n",
       "</div>"
      ],
      "text/plain": [
       "           Sales\n",
       "Chicago  46.9992"
      ]
     },
     "execution_count": 49,
     "metadata": {},
     "output_type": "execute_result"
    }
   ],
   "source": [
    "df5_subset3 = df5_subset.copy()\n",
    "pd.DataFrame(df5_subset3.groupby('City').mean().loc['Chicago'],['Sales']).transpose()"
   ]
  },
  {
   "cell_type": "code",
   "execution_count": 50,
   "id": "7b7a6f53-e4a2-4b62-ab62-b1098406c1ef",
   "metadata": {},
   "outputs": [
    {
     "data": {
      "text/html": [
       "<div>\n",
       "<style scoped>\n",
       "    .dataframe tbody tr th:only-of-type {\n",
       "        vertical-align: middle;\n",
       "    }\n",
       "\n",
       "    .dataframe tbody tr th {\n",
       "        vertical-align: top;\n",
       "    }\n",
       "\n",
       "    .dataframe thead th {\n",
       "        text-align: right;\n",
       "    }\n",
       "</style>\n",
       "<table border=\"1\" class=\"dataframe\">\n",
       "  <thead>\n",
       "    <tr style=\"text-align: right;\">\n",
       "      <th></th>\n",
       "      <th>Sales</th>\n",
       "      <th>Quantity</th>\n",
       "      <th>Discount</th>\n",
       "      <th>Profit</th>\n",
       "    </tr>\n",
       "  </thead>\n",
       "  <tbody>\n",
       "    <tr>\n",
       "      <th>count</th>\n",
       "      <td>100.000000</td>\n",
       "      <td>100.000000</td>\n",
       "      <td>100.000000</td>\n",
       "      <td>100.000000</td>\n",
       "    </tr>\n",
       "    <tr>\n",
       "      <th>mean</th>\n",
       "      <td>263.442900</td>\n",
       "      <td>4.350000</td>\n",
       "      <td>0.160000</td>\n",
       "      <td>0.515555</td>\n",
       "    </tr>\n",
       "    <tr>\n",
       "      <th>std</th>\n",
       "      <td>858.856472</td>\n",
       "      <td>2.633794</td>\n",
       "      <td>0.209858</td>\n",
       "      <td>170.758570</td>\n",
       "    </tr>\n",
       "    <tr>\n",
       "      <th>min</th>\n",
       "      <td>1.788000</td>\n",
       "      <td>1.000000</td>\n",
       "      <td>0.000000</td>\n",
       "      <td>-1359.992000</td>\n",
       "    </tr>\n",
       "    <tr>\n",
       "      <th>25%</th>\n",
       "      <td>23.304000</td>\n",
       "      <td>2.000000</td>\n",
       "      <td>0.000000</td>\n",
       "      <td>1.635900</td>\n",
       "    </tr>\n",
       "    <tr>\n",
       "      <th>50%</th>\n",
       "      <td>66.960000</td>\n",
       "      <td>3.000000</td>\n",
       "      <td>0.200000</td>\n",
       "      <td>9.764900</td>\n",
       "    </tr>\n",
       "    <tr>\n",
       "      <th>75%</th>\n",
       "      <td>177.095000</td>\n",
       "      <td>6.000000</td>\n",
       "      <td>0.200000</td>\n",
       "      <td>23.458800</td>\n",
       "    </tr>\n",
       "    <tr>\n",
       "      <th>max</th>\n",
       "      <td>8159.952000</td>\n",
       "      <td>14.000000</td>\n",
       "      <td>0.800000</td>\n",
       "      <td>585.552000</td>\n",
       "    </tr>\n",
       "  </tbody>\n",
       "</table>\n",
       "</div>"
      ],
      "text/plain": [
       "             Sales    Quantity    Discount       Profit\n",
       "count   100.000000  100.000000  100.000000   100.000000\n",
       "mean    263.442900    4.350000    0.160000     0.515555\n",
       "std     858.856472    2.633794    0.209858   170.758570\n",
       "min       1.788000    1.000000    0.000000 -1359.992000\n",
       "25%      23.304000    2.000000    0.000000     1.635900\n",
       "50%      66.960000    3.000000    0.200000     9.764900\n",
       "75%     177.095000    6.000000    0.200000    23.458800\n",
       "max    8159.952000   14.000000    0.800000   585.552000"
      ]
     },
     "execution_count": 50,
     "metadata": {},
     "output_type": "execute_result"
    }
   ],
   "source": [
    "df5_subset3 = df5_subset.copy()\n",
    "df5_subset3.describe()"
   ]
  },
  {
   "cell_type": "code",
   "execution_count": 51,
   "id": "fd27b247-8fba-4730-a54e-6b0737ad81a3",
   "metadata": {},
   "outputs": [
    {
     "name": "stderr",
     "output_type": "stream",
     "text": [
      "C:\\Users\\Admin\\AppData\\Local\\Temp\\ipykernel_3432\\4169675450.py:3: FutureWarning: Dropping of nuisance columns in DataFrame reductions (with 'numeric_only=None') is deprecated; in a future version this will raise TypeError.  Select only valid columns before calling the reduction.\n",
      "  pd.DataFrame(df6.mean()).transpose()\n"
     ]
    },
    {
     "data": {
      "text/html": [
       "<div>\n",
       "<style scoped>\n",
       "    .dataframe tbody tr th:only-of-type {\n",
       "        vertical-align: middle;\n",
       "    }\n",
       "\n",
       "    .dataframe tbody tr th {\n",
       "        vertical-align: top;\n",
       "    }\n",
       "\n",
       "    .dataframe thead th {\n",
       "        text-align: right;\n",
       "    }\n",
       "</style>\n",
       "<table border=\"1\" class=\"dataframe\">\n",
       "  <thead>\n",
       "    <tr style=\"text-align: right;\">\n",
       "      <th></th>\n",
       "      <th>Sales</th>\n",
       "      <th>Quantity</th>\n",
       "      <th>Discount</th>\n",
       "      <th>Profit</th>\n",
       "    </tr>\n",
       "  </thead>\n",
       "  <tbody>\n",
       "    <tr>\n",
       "      <th>0</th>\n",
       "      <td>46.9992</td>\n",
       "      <td>3.8</td>\n",
       "      <td>0.44</td>\n",
       "      <td>-23.1573</td>\n",
       "    </tr>\n",
       "  </tbody>\n",
       "</table>\n",
       "</div>"
      ],
      "text/plain": [
       "     Sales  Quantity  Discount   Profit\n",
       "0  46.9992       3.8      0.44 -23.1573"
      ]
     },
     "execution_count": 51,
     "metadata": {},
     "output_type": "execute_result"
    }
   ],
   "source": [
    "df5 = df5_subset3.copy()\n",
    "df6 = df5.where(df5['City'] == 'Chicago')\n",
    "pd.DataFrame(df6.mean()).transpose()"
   ]
  },
  {
   "cell_type": "code",
   "execution_count": 52,
   "id": "b5eb0731-11a0-4c4d-a0a5-b01ac1527878",
   "metadata": {},
   "outputs": [
    {
     "name": "stderr",
     "output_type": "stream",
     "text": [
      "C:\\Users\\Admin\\AppData\\Local\\Temp\\ipykernel_3432\\4169675450.py:3: FutureWarning: Dropping of nuisance columns in DataFrame reductions (with 'numeric_only=None') is deprecated; in a future version this will raise TypeError.  Select only valid columns before calling the reduction.\n",
      "  pd.DataFrame(df6.mean()).transpose()\n"
     ]
    },
    {
     "data": {
      "text/html": [
       "<div>\n",
       "<style scoped>\n",
       "    .dataframe tbody tr th:only-of-type {\n",
       "        vertical-align: middle;\n",
       "    }\n",
       "\n",
       "    .dataframe tbody tr th {\n",
       "        vertical-align: top;\n",
       "    }\n",
       "\n",
       "    .dataframe thead th {\n",
       "        text-align: right;\n",
       "    }\n",
       "</style>\n",
       "<table border=\"1\" class=\"dataframe\">\n",
       "  <thead>\n",
       "    <tr style=\"text-align: right;\">\n",
       "      <th></th>\n",
       "      <th>Sales</th>\n",
       "      <th>Quantity</th>\n",
       "      <th>Discount</th>\n",
       "      <th>Profit</th>\n",
       "    </tr>\n",
       "  </thead>\n",
       "  <tbody>\n",
       "    <tr>\n",
       "      <th>0</th>\n",
       "      <td>46.9992</td>\n",
       "      <td>3.8</td>\n",
       "      <td>0.44</td>\n",
       "      <td>-23.1573</td>\n",
       "    </tr>\n",
       "  </tbody>\n",
       "</table>\n",
       "</div>"
      ],
      "text/plain": [
       "     Sales  Quantity  Discount   Profit\n",
       "0  46.9992       3.8      0.44 -23.1573"
      ]
     },
     "execution_count": 52,
     "metadata": {},
     "output_type": "execute_result"
    }
   ],
   "source": [
    "df5 = df5_subset3.copy()\n",
    "df6 = df5.where(df5['City'] == 'Chicago')\n",
    "pd.DataFrame(df6.mean()).transpose()"
   ]
  },
  {
   "cell_type": "code",
   "execution_count": null,
   "id": "9b280b56-8c39-4a63-8d36-df15f101e5fb",
   "metadata": {},
   "outputs": [],
   "source": []
  },
  {
   "cell_type": "code",
   "execution_count": 53,
   "id": "253c53d2-257f-4b5f-83a2-3f803fe83416",
   "metadata": {},
   "outputs": [],
   "source": [
    "# MERGE/JOIN CELLS\n",
    "\n",
    "# Join does it column wise\n",
    "# merge does it row wise b\n"
   ]
  },
  {
   "cell_type": "code",
   "execution_count": 54,
   "id": "053b680e-2e68-4df0-b2b2-39f96d1e7f39",
   "metadata": {},
   "outputs": [
    {
     "data": {
      "text/html": [
       "<div>\n",
       "<style scoped>\n",
       "    .dataframe tbody tr th:only-of-type {\n",
       "        vertical-align: middle;\n",
       "    }\n",
       "\n",
       "    .dataframe tbody tr th {\n",
       "        vertical-align: top;\n",
       "    }\n",
       "\n",
       "    .dataframe thead th {\n",
       "        text-align: right;\n",
       "    }\n",
       "</style>\n",
       "<table border=\"1\" class=\"dataframe\">\n",
       "  <thead>\n",
       "    <tr style=\"text-align: right;\">\n",
       "      <th></th>\n",
       "      <th>Row ID</th>\n",
       "      <th>Order ID</th>\n",
       "      <th>Order Date</th>\n",
       "      <th>Ship Date</th>\n",
       "      <th>Ship Mode</th>\n",
       "      <th>Customer ID</th>\n",
       "      <th>Customer Name</th>\n",
       "      <th>Segment</th>\n",
       "      <th>Country</th>\n",
       "      <th>City</th>\n",
       "      <th>...</th>\n",
       "      <th>Postal Code</th>\n",
       "      <th>Region</th>\n",
       "      <th>Product ID</th>\n",
       "      <th>Category</th>\n",
       "      <th>Sub-Category</th>\n",
       "      <th>Product Name</th>\n",
       "      <th>Sales</th>\n",
       "      <th>Quantity</th>\n",
       "      <th>Discount</th>\n",
       "      <th>Profit</th>\n",
       "    </tr>\n",
       "  </thead>\n",
       "  <tbody>\n",
       "    <tr>\n",
       "      <th>0</th>\n",
       "      <td>1</td>\n",
       "      <td>CA-2016-152156</td>\n",
       "      <td>2016-11-08</td>\n",
       "      <td>2016-11-11</td>\n",
       "      <td>Second Class</td>\n",
       "      <td>CG-12520</td>\n",
       "      <td>Claire Gute</td>\n",
       "      <td>Consumer</td>\n",
       "      <td>United States</td>\n",
       "      <td>Henderson</td>\n",
       "      <td>...</td>\n",
       "      <td>42420</td>\n",
       "      <td>South</td>\n",
       "      <td>FUR-BO-10001798</td>\n",
       "      <td>Furniture</td>\n",
       "      <td>Bookcases</td>\n",
       "      <td>Bush Somerset Collection Bookcase</td>\n",
       "      <td>261.96</td>\n",
       "      <td>2</td>\n",
       "      <td>0.0</td>\n",
       "      <td>41.9136</td>\n",
       "    </tr>\n",
       "  </tbody>\n",
       "</table>\n",
       "<p>1 rows × 21 columns</p>\n",
       "</div>"
      ],
      "text/plain": [
       "   Row ID        Order ID Order Date  Ship Date     Ship Mode Customer ID  \\\n",
       "0       1  CA-2016-152156 2016-11-08 2016-11-11  Second Class    CG-12520   \n",
       "\n",
       "  Customer Name   Segment        Country       City  ... Postal Code  Region  \\\n",
       "0   Claire Gute  Consumer  United States  Henderson  ...       42420   South   \n",
       "\n",
       "        Product ID   Category Sub-Category                       Product Name  \\\n",
       "0  FUR-BO-10001798  Furniture    Bookcases  Bush Somerset Collection Bookcase   \n",
       "\n",
       "    Sales  Quantity  Discount   Profit  \n",
       "0  261.96         2       0.0  41.9136  \n",
       "\n",
       "[1 rows x 21 columns]"
      ]
     },
     "execution_count": 54,
     "metadata": {},
     "output_type": "execute_result"
    }
   ],
   "source": [
    "import numpy as np\n",
    "import pandas as pd\n",
    "\n",
    "df = pd.read_excel('C:/Users/Admin/DATA SCIENCE CLASS/data/Sample - Superstore.xls')\n",
    "df.head(1)"
   ]
  },
  {
   "cell_type": "code",
   "execution_count": 55,
   "id": "ad82bc89-5463-4a48-9ccd-bcadb8563c79",
   "metadata": {},
   "outputs": [
    {
     "data": {
      "text/html": [
       "<div>\n",
       "<style scoped>\n",
       "    .dataframe tbody tr th:only-of-type {\n",
       "        vertical-align: middle;\n",
       "    }\n",
       "\n",
       "    .dataframe tbody tr th {\n",
       "        vertical-align: top;\n",
       "    }\n",
       "\n",
       "    .dataframe thead th {\n",
       "        text-align: right;\n",
       "    }\n",
       "</style>\n",
       "<table border=\"1\" class=\"dataframe\">\n",
       "  <thead>\n",
       "    <tr style=\"text-align: right;\">\n",
       "      <th></th>\n",
       "      <th>Returned</th>\n",
       "      <th>Order ID</th>\n",
       "    </tr>\n",
       "  </thead>\n",
       "  <tbody>\n",
       "    <tr>\n",
       "      <th>0</th>\n",
       "      <td>Yes</td>\n",
       "      <td>CA-2017-153822</td>\n",
       "    </tr>\n",
       "    <tr>\n",
       "      <th>1</th>\n",
       "      <td>Yes</td>\n",
       "      <td>CA-2017-129707</td>\n",
       "    </tr>\n",
       "    <tr>\n",
       "      <th>2</th>\n",
       "      <td>Yes</td>\n",
       "      <td>CA-2014-152345</td>\n",
       "    </tr>\n",
       "    <tr>\n",
       "      <th>3</th>\n",
       "      <td>Yes</td>\n",
       "      <td>CA-2015-156440</td>\n",
       "    </tr>\n",
       "    <tr>\n",
       "      <th>4</th>\n",
       "      <td>Yes</td>\n",
       "      <td>US-2017-155999</td>\n",
       "    </tr>\n",
       "  </tbody>\n",
       "</table>\n",
       "</div>"
      ],
      "text/plain": [
       "  Returned        Order ID\n",
       "0      Yes  CA-2017-153822\n",
       "1      Yes  CA-2017-129707\n",
       "2      Yes  CA-2014-152345\n",
       "3      Yes  CA-2015-156440\n",
       "4      Yes  US-2017-155999"
      ]
     },
     "execution_count": 55,
     "metadata": {},
     "output_type": "execute_result"
    }
   ],
   "source": [
    "df_2 = pd.read_excel('C:/Users/Admin/DATA SCIENCE CLASS/data/Sample - Superstore.xls', 'Returns')\n",
    "df_2.head()"
   ]
  },
  {
   "cell_type": "code",
   "execution_count": 56,
   "id": "81fad3bb-d554-4401-a65a-b8358581f8dc",
   "metadata": {},
   "outputs": [
    {
     "data": {
      "text/html": [
       "<div>\n",
       "<style scoped>\n",
       "    .dataframe tbody tr th:only-of-type {\n",
       "        vertical-align: middle;\n",
       "    }\n",
       "\n",
       "    .dataframe tbody tr th {\n",
       "        vertical-align: top;\n",
       "    }\n",
       "\n",
       "    .dataframe thead th {\n",
       "        text-align: right;\n",
       "    }\n",
       "</style>\n",
       "<table border=\"1\" class=\"dataframe\">\n",
       "  <thead>\n",
       "    <tr style=\"text-align: right;\">\n",
       "      <th></th>\n",
       "      <th>Row ID</th>\n",
       "      <th>Order ID</th>\n",
       "      <th>Order Date</th>\n",
       "      <th>Ship Date</th>\n",
       "      <th>Ship Mode</th>\n",
       "      <th>Customer ID</th>\n",
       "      <th>Customer Name</th>\n",
       "      <th>Segment</th>\n",
       "      <th>Country</th>\n",
       "      <th>City</th>\n",
       "      <th>...</th>\n",
       "      <th>Region</th>\n",
       "      <th>Product ID</th>\n",
       "      <th>Category</th>\n",
       "      <th>Sub-Category</th>\n",
       "      <th>Product Name</th>\n",
       "      <th>Sales</th>\n",
       "      <th>Quantity</th>\n",
       "      <th>Discount</th>\n",
       "      <th>Profit</th>\n",
       "      <th>Returned</th>\n",
       "    </tr>\n",
       "  </thead>\n",
       "  <tbody>\n",
       "    <tr>\n",
       "      <th>0</th>\n",
       "      <td>1</td>\n",
       "      <td>CA-2016-152156</td>\n",
       "      <td>2016-11-08</td>\n",
       "      <td>2016-11-11</td>\n",
       "      <td>Second Class</td>\n",
       "      <td>CG-12520</td>\n",
       "      <td>Claire Gute</td>\n",
       "      <td>Consumer</td>\n",
       "      <td>United States</td>\n",
       "      <td>Henderson</td>\n",
       "      <td>...</td>\n",
       "      <td>South</td>\n",
       "      <td>FUR-BO-10001798</td>\n",
       "      <td>Furniture</td>\n",
       "      <td>Bookcases</td>\n",
       "      <td>Bush Somerset Collection Bookcase</td>\n",
       "      <td>261.9600</td>\n",
       "      <td>2</td>\n",
       "      <td>0.00</td>\n",
       "      <td>41.9136</td>\n",
       "      <td>NaN</td>\n",
       "    </tr>\n",
       "    <tr>\n",
       "      <th>1</th>\n",
       "      <td>2</td>\n",
       "      <td>CA-2016-152156</td>\n",
       "      <td>2016-11-08</td>\n",
       "      <td>2016-11-11</td>\n",
       "      <td>Second Class</td>\n",
       "      <td>CG-12520</td>\n",
       "      <td>Claire Gute</td>\n",
       "      <td>Consumer</td>\n",
       "      <td>United States</td>\n",
       "      <td>Henderson</td>\n",
       "      <td>...</td>\n",
       "      <td>South</td>\n",
       "      <td>FUR-CH-10000454</td>\n",
       "      <td>Furniture</td>\n",
       "      <td>Chairs</td>\n",
       "      <td>Hon Deluxe Fabric Upholstered Stacking Chairs,...</td>\n",
       "      <td>731.9400</td>\n",
       "      <td>3</td>\n",
       "      <td>0.00</td>\n",
       "      <td>219.5820</td>\n",
       "      <td>NaN</td>\n",
       "    </tr>\n",
       "    <tr>\n",
       "      <th>2</th>\n",
       "      <td>3</td>\n",
       "      <td>CA-2016-138688</td>\n",
       "      <td>2016-06-12</td>\n",
       "      <td>2016-06-16</td>\n",
       "      <td>Second Class</td>\n",
       "      <td>DV-13045</td>\n",
       "      <td>Darrin Van Huff</td>\n",
       "      <td>Corporate</td>\n",
       "      <td>United States</td>\n",
       "      <td>Los Angeles</td>\n",
       "      <td>...</td>\n",
       "      <td>West</td>\n",
       "      <td>OFF-LA-10000240</td>\n",
       "      <td>Office Supplies</td>\n",
       "      <td>Labels</td>\n",
       "      <td>Self-Adhesive Address Labels for Typewriters b...</td>\n",
       "      <td>14.6200</td>\n",
       "      <td>2</td>\n",
       "      <td>0.00</td>\n",
       "      <td>6.8714</td>\n",
       "      <td>NaN</td>\n",
       "    </tr>\n",
       "    <tr>\n",
       "      <th>3</th>\n",
       "      <td>4</td>\n",
       "      <td>US-2015-108966</td>\n",
       "      <td>2015-10-11</td>\n",
       "      <td>2015-10-18</td>\n",
       "      <td>Standard Class</td>\n",
       "      <td>SO-20335</td>\n",
       "      <td>Sean O'Donnell</td>\n",
       "      <td>Consumer</td>\n",
       "      <td>United States</td>\n",
       "      <td>Fort Lauderdale</td>\n",
       "      <td>...</td>\n",
       "      <td>South</td>\n",
       "      <td>FUR-TA-10000577</td>\n",
       "      <td>Furniture</td>\n",
       "      <td>Tables</td>\n",
       "      <td>Bretford CR4500 Series Slim Rectangular Table</td>\n",
       "      <td>957.5775</td>\n",
       "      <td>5</td>\n",
       "      <td>0.45</td>\n",
       "      <td>-383.0310</td>\n",
       "      <td>NaN</td>\n",
       "    </tr>\n",
       "    <tr>\n",
       "      <th>4</th>\n",
       "      <td>5</td>\n",
       "      <td>US-2015-108966</td>\n",
       "      <td>2015-10-11</td>\n",
       "      <td>2015-10-18</td>\n",
       "      <td>Standard Class</td>\n",
       "      <td>SO-20335</td>\n",
       "      <td>Sean O'Donnell</td>\n",
       "      <td>Consumer</td>\n",
       "      <td>United States</td>\n",
       "      <td>Fort Lauderdale</td>\n",
       "      <td>...</td>\n",
       "      <td>South</td>\n",
       "      <td>OFF-ST-10000760</td>\n",
       "      <td>Office Supplies</td>\n",
       "      <td>Storage</td>\n",
       "      <td>Eldon Fold 'N Roll Cart System</td>\n",
       "      <td>22.3680</td>\n",
       "      <td>2</td>\n",
       "      <td>0.20</td>\n",
       "      <td>2.5164</td>\n",
       "      <td>NaN</td>\n",
       "    </tr>\n",
       "    <tr>\n",
       "      <th>...</th>\n",
       "      <td>...</td>\n",
       "      <td>...</td>\n",
       "      <td>...</td>\n",
       "      <td>...</td>\n",
       "      <td>...</td>\n",
       "      <td>...</td>\n",
       "      <td>...</td>\n",
       "      <td>...</td>\n",
       "      <td>...</td>\n",
       "      <td>...</td>\n",
       "      <td>...</td>\n",
       "      <td>...</td>\n",
       "      <td>...</td>\n",
       "      <td>...</td>\n",
       "      <td>...</td>\n",
       "      <td>...</td>\n",
       "      <td>...</td>\n",
       "      <td>...</td>\n",
       "      <td>...</td>\n",
       "      <td>...</td>\n",
       "      <td>...</td>\n",
       "    </tr>\n",
       "    <tr>\n",
       "      <th>9989</th>\n",
       "      <td>9990</td>\n",
       "      <td>CA-2014-110422</td>\n",
       "      <td>2014-01-21</td>\n",
       "      <td>2014-01-23</td>\n",
       "      <td>Second Class</td>\n",
       "      <td>TB-21400</td>\n",
       "      <td>Tom Boeckenhauer</td>\n",
       "      <td>Consumer</td>\n",
       "      <td>United States</td>\n",
       "      <td>Miami</td>\n",
       "      <td>...</td>\n",
       "      <td>South</td>\n",
       "      <td>FUR-FU-10001889</td>\n",
       "      <td>Furniture</td>\n",
       "      <td>Furnishings</td>\n",
       "      <td>Ultra Door Pull Handle</td>\n",
       "      <td>25.2480</td>\n",
       "      <td>3</td>\n",
       "      <td>0.20</td>\n",
       "      <td>4.1028</td>\n",
       "      <td>NaN</td>\n",
       "    </tr>\n",
       "    <tr>\n",
       "      <th>9990</th>\n",
       "      <td>9991</td>\n",
       "      <td>CA-2017-121258</td>\n",
       "      <td>2017-02-26</td>\n",
       "      <td>2017-03-03</td>\n",
       "      <td>Standard Class</td>\n",
       "      <td>DB-13060</td>\n",
       "      <td>Dave Brooks</td>\n",
       "      <td>Consumer</td>\n",
       "      <td>United States</td>\n",
       "      <td>Costa Mesa</td>\n",
       "      <td>...</td>\n",
       "      <td>West</td>\n",
       "      <td>FUR-FU-10000747</td>\n",
       "      <td>Furniture</td>\n",
       "      <td>Furnishings</td>\n",
       "      <td>Tenex B1-RE Series Chair Mats for Low Pile Car...</td>\n",
       "      <td>91.9600</td>\n",
       "      <td>2</td>\n",
       "      <td>0.00</td>\n",
       "      <td>15.6332</td>\n",
       "      <td>Yes</td>\n",
       "    </tr>\n",
       "    <tr>\n",
       "      <th>9991</th>\n",
       "      <td>9992</td>\n",
       "      <td>CA-2017-121258</td>\n",
       "      <td>2017-02-26</td>\n",
       "      <td>2017-03-03</td>\n",
       "      <td>Standard Class</td>\n",
       "      <td>DB-13060</td>\n",
       "      <td>Dave Brooks</td>\n",
       "      <td>Consumer</td>\n",
       "      <td>United States</td>\n",
       "      <td>Costa Mesa</td>\n",
       "      <td>...</td>\n",
       "      <td>West</td>\n",
       "      <td>TEC-PH-10003645</td>\n",
       "      <td>Technology</td>\n",
       "      <td>Phones</td>\n",
       "      <td>Aastra 57i VoIP phone</td>\n",
       "      <td>258.5760</td>\n",
       "      <td>2</td>\n",
       "      <td>0.20</td>\n",
       "      <td>19.3932</td>\n",
       "      <td>Yes</td>\n",
       "    </tr>\n",
       "    <tr>\n",
       "      <th>9992</th>\n",
       "      <td>9993</td>\n",
       "      <td>CA-2017-121258</td>\n",
       "      <td>2017-02-26</td>\n",
       "      <td>2017-03-03</td>\n",
       "      <td>Standard Class</td>\n",
       "      <td>DB-13060</td>\n",
       "      <td>Dave Brooks</td>\n",
       "      <td>Consumer</td>\n",
       "      <td>United States</td>\n",
       "      <td>Costa Mesa</td>\n",
       "      <td>...</td>\n",
       "      <td>West</td>\n",
       "      <td>OFF-PA-10004041</td>\n",
       "      <td>Office Supplies</td>\n",
       "      <td>Paper</td>\n",
       "      <td>It's Hot Message Books with Stickers, 2 3/4\" x 5\"</td>\n",
       "      <td>29.6000</td>\n",
       "      <td>4</td>\n",
       "      <td>0.00</td>\n",
       "      <td>13.3200</td>\n",
       "      <td>Yes</td>\n",
       "    </tr>\n",
       "    <tr>\n",
       "      <th>9993</th>\n",
       "      <td>9994</td>\n",
       "      <td>CA-2017-119914</td>\n",
       "      <td>2017-05-04</td>\n",
       "      <td>2017-05-09</td>\n",
       "      <td>Second Class</td>\n",
       "      <td>CC-12220</td>\n",
       "      <td>Chris Cortes</td>\n",
       "      <td>Consumer</td>\n",
       "      <td>United States</td>\n",
       "      <td>Westminster</td>\n",
       "      <td>...</td>\n",
       "      <td>West</td>\n",
       "      <td>OFF-AP-10002684</td>\n",
       "      <td>Office Supplies</td>\n",
       "      <td>Appliances</td>\n",
       "      <td>Acco 7-Outlet Masterpiece Power Center, Wihtou...</td>\n",
       "      <td>243.1600</td>\n",
       "      <td>2</td>\n",
       "      <td>0.00</td>\n",
       "      <td>72.9480</td>\n",
       "      <td>NaN</td>\n",
       "    </tr>\n",
       "  </tbody>\n",
       "</table>\n",
       "<p>9994 rows × 22 columns</p>\n",
       "</div>"
      ],
      "text/plain": [
       "      Row ID        Order ID Order Date  Ship Date       Ship Mode  \\\n",
       "0          1  CA-2016-152156 2016-11-08 2016-11-11    Second Class   \n",
       "1          2  CA-2016-152156 2016-11-08 2016-11-11    Second Class   \n",
       "2          3  CA-2016-138688 2016-06-12 2016-06-16    Second Class   \n",
       "3          4  US-2015-108966 2015-10-11 2015-10-18  Standard Class   \n",
       "4          5  US-2015-108966 2015-10-11 2015-10-18  Standard Class   \n",
       "...      ...             ...        ...        ...             ...   \n",
       "9989    9990  CA-2014-110422 2014-01-21 2014-01-23    Second Class   \n",
       "9990    9991  CA-2017-121258 2017-02-26 2017-03-03  Standard Class   \n",
       "9991    9992  CA-2017-121258 2017-02-26 2017-03-03  Standard Class   \n",
       "9992    9993  CA-2017-121258 2017-02-26 2017-03-03  Standard Class   \n",
       "9993    9994  CA-2017-119914 2017-05-04 2017-05-09    Second Class   \n",
       "\n",
       "     Customer ID     Customer Name    Segment        Country             City  \\\n",
       "0       CG-12520       Claire Gute   Consumer  United States        Henderson   \n",
       "1       CG-12520       Claire Gute   Consumer  United States        Henderson   \n",
       "2       DV-13045   Darrin Van Huff  Corporate  United States      Los Angeles   \n",
       "3       SO-20335    Sean O'Donnell   Consumer  United States  Fort Lauderdale   \n",
       "4       SO-20335    Sean O'Donnell   Consumer  United States  Fort Lauderdale   \n",
       "...          ...               ...        ...            ...              ...   \n",
       "9989    TB-21400  Tom Boeckenhauer   Consumer  United States            Miami   \n",
       "9990    DB-13060       Dave Brooks   Consumer  United States       Costa Mesa   \n",
       "9991    DB-13060       Dave Brooks   Consumer  United States       Costa Mesa   \n",
       "9992    DB-13060       Dave Brooks   Consumer  United States       Costa Mesa   \n",
       "9993    CC-12220      Chris Cortes   Consumer  United States      Westminster   \n",
       "\n",
       "      ... Region       Product ID         Category Sub-Category  \\\n",
       "0     ...  South  FUR-BO-10001798        Furniture    Bookcases   \n",
       "1     ...  South  FUR-CH-10000454        Furniture       Chairs   \n",
       "2     ...   West  OFF-LA-10000240  Office Supplies       Labels   \n",
       "3     ...  South  FUR-TA-10000577        Furniture       Tables   \n",
       "4     ...  South  OFF-ST-10000760  Office Supplies      Storage   \n",
       "...   ...    ...              ...              ...          ...   \n",
       "9989  ...  South  FUR-FU-10001889        Furniture  Furnishings   \n",
       "9990  ...   West  FUR-FU-10000747        Furniture  Furnishings   \n",
       "9991  ...   West  TEC-PH-10003645       Technology       Phones   \n",
       "9992  ...   West  OFF-PA-10004041  Office Supplies        Paper   \n",
       "9993  ...   West  OFF-AP-10002684  Office Supplies   Appliances   \n",
       "\n",
       "                                           Product Name     Sales Quantity  \\\n",
       "0                     Bush Somerset Collection Bookcase  261.9600        2   \n",
       "1     Hon Deluxe Fabric Upholstered Stacking Chairs,...  731.9400        3   \n",
       "2     Self-Adhesive Address Labels for Typewriters b...   14.6200        2   \n",
       "3         Bretford CR4500 Series Slim Rectangular Table  957.5775        5   \n",
       "4                        Eldon Fold 'N Roll Cart System   22.3680        2   \n",
       "...                                                 ...       ...      ...   \n",
       "9989                             Ultra Door Pull Handle   25.2480        3   \n",
       "9990  Tenex B1-RE Series Chair Mats for Low Pile Car...   91.9600        2   \n",
       "9991                              Aastra 57i VoIP phone  258.5760        2   \n",
       "9992  It's Hot Message Books with Stickers, 2 3/4\" x 5\"   29.6000        4   \n",
       "9993  Acco 7-Outlet Masterpiece Power Center, Wihtou...  243.1600        2   \n",
       "\n",
       "      Discount    Profit  Returned  \n",
       "0         0.00   41.9136       NaN  \n",
       "1         0.00  219.5820       NaN  \n",
       "2         0.00    6.8714       NaN  \n",
       "3         0.45 -383.0310       NaN  \n",
       "4         0.20    2.5164       NaN  \n",
       "...        ...       ...       ...  \n",
       "9989      0.20    4.1028       NaN  \n",
       "9990      0.00   15.6332       Yes  \n",
       "9991      0.20   19.3932       Yes  \n",
       "9992      0.00   13.3200       Yes  \n",
       "9993      0.00   72.9480       NaN  \n",
       "\n",
       "[9994 rows x 22 columns]"
      ]
     },
     "execution_count": 56,
     "metadata": {},
     "output_type": "execute_result"
    }
   ],
   "source": [
    "df_3 = df.join(df_2.set_index('Order ID'), on = 'Order ID' )\n",
    "df_3"
   ]
  },
  {
   "cell_type": "code",
   "execution_count": 57,
   "id": "347a4fe9-addb-4cec-98f9-48a9e29b380f",
   "metadata": {},
   "outputs": [
    {
     "data": {
      "text/html": [
       "<div>\n",
       "<style scoped>\n",
       "    .dataframe tbody tr th:only-of-type {\n",
       "        vertical-align: middle;\n",
       "    }\n",
       "\n",
       "    .dataframe tbody tr th {\n",
       "        vertical-align: top;\n",
       "    }\n",
       "\n",
       "    .dataframe thead th {\n",
       "        text-align: right;\n",
       "    }\n",
       "</style>\n",
       "<table border=\"1\" class=\"dataframe\">\n",
       "  <thead>\n",
       "    <tr style=\"text-align: right;\">\n",
       "      <th></th>\n",
       "      <th>Row ID</th>\n",
       "      <th>Order ID</th>\n",
       "      <th>Order Date</th>\n",
       "      <th>Ship Date</th>\n",
       "      <th>Ship Mode</th>\n",
       "      <th>Customer ID</th>\n",
       "      <th>Customer Name</th>\n",
       "      <th>Segment</th>\n",
       "      <th>Country</th>\n",
       "      <th>City</th>\n",
       "      <th>...</th>\n",
       "      <th>Region</th>\n",
       "      <th>Product ID</th>\n",
       "      <th>Category</th>\n",
       "      <th>Sub-Category</th>\n",
       "      <th>Product Name</th>\n",
       "      <th>Sales</th>\n",
       "      <th>Quantity</th>\n",
       "      <th>Discount</th>\n",
       "      <th>Profit</th>\n",
       "      <th>Returned</th>\n",
       "    </tr>\n",
       "  </thead>\n",
       "  <tbody>\n",
       "    <tr>\n",
       "      <th>18</th>\n",
       "      <td>19</td>\n",
       "      <td>CA-2014-143336</td>\n",
       "      <td>2014-08-27</td>\n",
       "      <td>2014-09-01</td>\n",
       "      <td>Second Class</td>\n",
       "      <td>ZD-21925</td>\n",
       "      <td>Zuschuss Donatelli</td>\n",
       "      <td>Consumer</td>\n",
       "      <td>United States</td>\n",
       "      <td>San Francisco</td>\n",
       "      <td>...</td>\n",
       "      <td>West</td>\n",
       "      <td>OFF-AR-10003056</td>\n",
       "      <td>Office Supplies</td>\n",
       "      <td>Art</td>\n",
       "      <td>Newell 341</td>\n",
       "      <td>8.560</td>\n",
       "      <td>2</td>\n",
       "      <td>0.0</td>\n",
       "      <td>2.4824</td>\n",
       "      <td>Yes</td>\n",
       "    </tr>\n",
       "    <tr>\n",
       "      <th>19</th>\n",
       "      <td>20</td>\n",
       "      <td>CA-2014-143336</td>\n",
       "      <td>2014-08-27</td>\n",
       "      <td>2014-09-01</td>\n",
       "      <td>Second Class</td>\n",
       "      <td>ZD-21925</td>\n",
       "      <td>Zuschuss Donatelli</td>\n",
       "      <td>Consumer</td>\n",
       "      <td>United States</td>\n",
       "      <td>San Francisco</td>\n",
       "      <td>...</td>\n",
       "      <td>West</td>\n",
       "      <td>TEC-PH-10001949</td>\n",
       "      <td>Technology</td>\n",
       "      <td>Phones</td>\n",
       "      <td>Cisco SPA 501G IP Phone</td>\n",
       "      <td>213.480</td>\n",
       "      <td>3</td>\n",
       "      <td>0.2</td>\n",
       "      <td>16.0110</td>\n",
       "      <td>Yes</td>\n",
       "    </tr>\n",
       "    <tr>\n",
       "      <th>20</th>\n",
       "      <td>21</td>\n",
       "      <td>CA-2014-143336</td>\n",
       "      <td>2014-08-27</td>\n",
       "      <td>2014-09-01</td>\n",
       "      <td>Second Class</td>\n",
       "      <td>ZD-21925</td>\n",
       "      <td>Zuschuss Donatelli</td>\n",
       "      <td>Consumer</td>\n",
       "      <td>United States</td>\n",
       "      <td>San Francisco</td>\n",
       "      <td>...</td>\n",
       "      <td>West</td>\n",
       "      <td>OFF-BI-10002215</td>\n",
       "      <td>Office Supplies</td>\n",
       "      <td>Binders</td>\n",
       "      <td>Wilson Jones Hanging View Binder, White, 1\"</td>\n",
       "      <td>22.720</td>\n",
       "      <td>4</td>\n",
       "      <td>0.2</td>\n",
       "      <td>7.3840</td>\n",
       "      <td>Yes</td>\n",
       "    </tr>\n",
       "    <tr>\n",
       "      <th>55</th>\n",
       "      <td>56</td>\n",
       "      <td>CA-2016-111682</td>\n",
       "      <td>2016-06-17</td>\n",
       "      <td>2016-06-18</td>\n",
       "      <td>First Class</td>\n",
       "      <td>TB-21055</td>\n",
       "      <td>Ted Butterfield</td>\n",
       "      <td>Consumer</td>\n",
       "      <td>United States</td>\n",
       "      <td>Troy</td>\n",
       "      <td>...</td>\n",
       "      <td>East</td>\n",
       "      <td>OFF-ST-10000604</td>\n",
       "      <td>Office Supplies</td>\n",
       "      <td>Storage</td>\n",
       "      <td>Home/Office Personal File Carts</td>\n",
       "      <td>208.560</td>\n",
       "      <td>6</td>\n",
       "      <td>0.0</td>\n",
       "      <td>52.1400</td>\n",
       "      <td>Yes</td>\n",
       "    </tr>\n",
       "    <tr>\n",
       "      <th>56</th>\n",
       "      <td>57</td>\n",
       "      <td>CA-2016-111682</td>\n",
       "      <td>2016-06-17</td>\n",
       "      <td>2016-06-18</td>\n",
       "      <td>First Class</td>\n",
       "      <td>TB-21055</td>\n",
       "      <td>Ted Butterfield</td>\n",
       "      <td>Consumer</td>\n",
       "      <td>United States</td>\n",
       "      <td>Troy</td>\n",
       "      <td>...</td>\n",
       "      <td>East</td>\n",
       "      <td>OFF-PA-10001569</td>\n",
       "      <td>Office Supplies</td>\n",
       "      <td>Paper</td>\n",
       "      <td>Xerox 232</td>\n",
       "      <td>32.400</td>\n",
       "      <td>5</td>\n",
       "      <td>0.0</td>\n",
       "      <td>15.5520</td>\n",
       "      <td>Yes</td>\n",
       "    </tr>\n",
       "    <tr>\n",
       "      <th>...</th>\n",
       "      <td>...</td>\n",
       "      <td>...</td>\n",
       "      <td>...</td>\n",
       "      <td>...</td>\n",
       "      <td>...</td>\n",
       "      <td>...</td>\n",
       "      <td>...</td>\n",
       "      <td>...</td>\n",
       "      <td>...</td>\n",
       "      <td>...</td>\n",
       "      <td>...</td>\n",
       "      <td>...</td>\n",
       "      <td>...</td>\n",
       "      <td>...</td>\n",
       "      <td>...</td>\n",
       "      <td>...</td>\n",
       "      <td>...</td>\n",
       "      <td>...</td>\n",
       "      <td>...</td>\n",
       "      <td>...</td>\n",
       "      <td>...</td>\n",
       "    </tr>\n",
       "    <tr>\n",
       "      <th>9957</th>\n",
       "      <td>9958</td>\n",
       "      <td>US-2014-143287</td>\n",
       "      <td>2014-11-11</td>\n",
       "      <td>2014-11-17</td>\n",
       "      <td>Standard Class</td>\n",
       "      <td>KN-16705</td>\n",
       "      <td>Kristina Nunn</td>\n",
       "      <td>Home Office</td>\n",
       "      <td>United States</td>\n",
       "      <td>New Rochelle</td>\n",
       "      <td>...</td>\n",
       "      <td>East</td>\n",
       "      <td>OFF-PA-10004039</td>\n",
       "      <td>Office Supplies</td>\n",
       "      <td>Paper</td>\n",
       "      <td>Xerox 1882</td>\n",
       "      <td>223.920</td>\n",
       "      <td>4</td>\n",
       "      <td>0.0</td>\n",
       "      <td>109.7208</td>\n",
       "      <td>Yes</td>\n",
       "    </tr>\n",
       "    <tr>\n",
       "      <th>9958</th>\n",
       "      <td>9959</td>\n",
       "      <td>US-2014-143287</td>\n",
       "      <td>2014-11-11</td>\n",
       "      <td>2014-11-17</td>\n",
       "      <td>Standard Class</td>\n",
       "      <td>KN-16705</td>\n",
       "      <td>Kristina Nunn</td>\n",
       "      <td>Home Office</td>\n",
       "      <td>United States</td>\n",
       "      <td>New Rochelle</td>\n",
       "      <td>...</td>\n",
       "      <td>East</td>\n",
       "      <td>OFF-SU-10001574</td>\n",
       "      <td>Office Supplies</td>\n",
       "      <td>Supplies</td>\n",
       "      <td>Acme Value Line Scissors</td>\n",
       "      <td>7.300</td>\n",
       "      <td>2</td>\n",
       "      <td>0.0</td>\n",
       "      <td>2.1900</td>\n",
       "      <td>Yes</td>\n",
       "    </tr>\n",
       "    <tr>\n",
       "      <th>9990</th>\n",
       "      <td>9991</td>\n",
       "      <td>CA-2017-121258</td>\n",
       "      <td>2017-02-26</td>\n",
       "      <td>2017-03-03</td>\n",
       "      <td>Standard Class</td>\n",
       "      <td>DB-13060</td>\n",
       "      <td>Dave Brooks</td>\n",
       "      <td>Consumer</td>\n",
       "      <td>United States</td>\n",
       "      <td>Costa Mesa</td>\n",
       "      <td>...</td>\n",
       "      <td>West</td>\n",
       "      <td>FUR-FU-10000747</td>\n",
       "      <td>Furniture</td>\n",
       "      <td>Furnishings</td>\n",
       "      <td>Tenex B1-RE Series Chair Mats for Low Pile Car...</td>\n",
       "      <td>91.960</td>\n",
       "      <td>2</td>\n",
       "      <td>0.0</td>\n",
       "      <td>15.6332</td>\n",
       "      <td>Yes</td>\n",
       "    </tr>\n",
       "    <tr>\n",
       "      <th>9991</th>\n",
       "      <td>9992</td>\n",
       "      <td>CA-2017-121258</td>\n",
       "      <td>2017-02-26</td>\n",
       "      <td>2017-03-03</td>\n",
       "      <td>Standard Class</td>\n",
       "      <td>DB-13060</td>\n",
       "      <td>Dave Brooks</td>\n",
       "      <td>Consumer</td>\n",
       "      <td>United States</td>\n",
       "      <td>Costa Mesa</td>\n",
       "      <td>...</td>\n",
       "      <td>West</td>\n",
       "      <td>TEC-PH-10003645</td>\n",
       "      <td>Technology</td>\n",
       "      <td>Phones</td>\n",
       "      <td>Aastra 57i VoIP phone</td>\n",
       "      <td>258.576</td>\n",
       "      <td>2</td>\n",
       "      <td>0.2</td>\n",
       "      <td>19.3932</td>\n",
       "      <td>Yes</td>\n",
       "    </tr>\n",
       "    <tr>\n",
       "      <th>9992</th>\n",
       "      <td>9993</td>\n",
       "      <td>CA-2017-121258</td>\n",
       "      <td>2017-02-26</td>\n",
       "      <td>2017-03-03</td>\n",
       "      <td>Standard Class</td>\n",
       "      <td>DB-13060</td>\n",
       "      <td>Dave Brooks</td>\n",
       "      <td>Consumer</td>\n",
       "      <td>United States</td>\n",
       "      <td>Costa Mesa</td>\n",
       "      <td>...</td>\n",
       "      <td>West</td>\n",
       "      <td>OFF-PA-10004041</td>\n",
       "      <td>Office Supplies</td>\n",
       "      <td>Paper</td>\n",
       "      <td>It's Hot Message Books with Stickers, 2 3/4\" x 5\"</td>\n",
       "      <td>29.600</td>\n",
       "      <td>4</td>\n",
       "      <td>0.0</td>\n",
       "      <td>13.3200</td>\n",
       "      <td>Yes</td>\n",
       "    </tr>\n",
       "  </tbody>\n",
       "</table>\n",
       "<p>800 rows × 22 columns</p>\n",
       "</div>"
      ],
      "text/plain": [
       "      Row ID        Order ID Order Date  Ship Date       Ship Mode  \\\n",
       "18        19  CA-2014-143336 2014-08-27 2014-09-01    Second Class   \n",
       "19        20  CA-2014-143336 2014-08-27 2014-09-01    Second Class   \n",
       "20        21  CA-2014-143336 2014-08-27 2014-09-01    Second Class   \n",
       "55        56  CA-2016-111682 2016-06-17 2016-06-18     First Class   \n",
       "56        57  CA-2016-111682 2016-06-17 2016-06-18     First Class   \n",
       "...      ...             ...        ...        ...             ...   \n",
       "9957    9958  US-2014-143287 2014-11-11 2014-11-17  Standard Class   \n",
       "9958    9959  US-2014-143287 2014-11-11 2014-11-17  Standard Class   \n",
       "9990    9991  CA-2017-121258 2017-02-26 2017-03-03  Standard Class   \n",
       "9991    9992  CA-2017-121258 2017-02-26 2017-03-03  Standard Class   \n",
       "9992    9993  CA-2017-121258 2017-02-26 2017-03-03  Standard Class   \n",
       "\n",
       "     Customer ID       Customer Name      Segment        Country  \\\n",
       "18      ZD-21925  Zuschuss Donatelli     Consumer  United States   \n",
       "19      ZD-21925  Zuschuss Donatelli     Consumer  United States   \n",
       "20      ZD-21925  Zuschuss Donatelli     Consumer  United States   \n",
       "55      TB-21055     Ted Butterfield     Consumer  United States   \n",
       "56      TB-21055     Ted Butterfield     Consumer  United States   \n",
       "...          ...                 ...          ...            ...   \n",
       "9957    KN-16705       Kristina Nunn  Home Office  United States   \n",
       "9958    KN-16705       Kristina Nunn  Home Office  United States   \n",
       "9990    DB-13060         Dave Brooks     Consumer  United States   \n",
       "9991    DB-13060         Dave Brooks     Consumer  United States   \n",
       "9992    DB-13060         Dave Brooks     Consumer  United States   \n",
       "\n",
       "               City  ... Region       Product ID         Category  \\\n",
       "18    San Francisco  ...   West  OFF-AR-10003056  Office Supplies   \n",
       "19    San Francisco  ...   West  TEC-PH-10001949       Technology   \n",
       "20    San Francisco  ...   West  OFF-BI-10002215  Office Supplies   \n",
       "55             Troy  ...   East  OFF-ST-10000604  Office Supplies   \n",
       "56             Troy  ...   East  OFF-PA-10001569  Office Supplies   \n",
       "...             ...  ...    ...              ...              ...   \n",
       "9957   New Rochelle  ...   East  OFF-PA-10004039  Office Supplies   \n",
       "9958   New Rochelle  ...   East  OFF-SU-10001574  Office Supplies   \n",
       "9990     Costa Mesa  ...   West  FUR-FU-10000747        Furniture   \n",
       "9991     Costa Mesa  ...   West  TEC-PH-10003645       Technology   \n",
       "9992     Costa Mesa  ...   West  OFF-PA-10004041  Office Supplies   \n",
       "\n",
       "     Sub-Category                                       Product Name    Sales  \\\n",
       "18            Art                                         Newell 341    8.560   \n",
       "19         Phones                            Cisco SPA 501G IP Phone  213.480   \n",
       "20        Binders        Wilson Jones Hanging View Binder, White, 1\"   22.720   \n",
       "55        Storage                    Home/Office Personal File Carts  208.560   \n",
       "56          Paper                                          Xerox 232   32.400   \n",
       "...           ...                                                ...      ...   \n",
       "9957        Paper                                         Xerox 1882  223.920   \n",
       "9958     Supplies                           Acme Value Line Scissors    7.300   \n",
       "9990  Furnishings  Tenex B1-RE Series Chair Mats for Low Pile Car...   91.960   \n",
       "9991       Phones                              Aastra 57i VoIP phone  258.576   \n",
       "9992        Paper  It's Hot Message Books with Stickers, 2 3/4\" x 5\"   29.600   \n",
       "\n",
       "     Quantity  Discount    Profit  Returned  \n",
       "18          2       0.0    2.4824       Yes  \n",
       "19          3       0.2   16.0110       Yes  \n",
       "20          4       0.2    7.3840       Yes  \n",
       "55          6       0.0   52.1400       Yes  \n",
       "56          5       0.0   15.5520       Yes  \n",
       "...       ...       ...       ...       ...  \n",
       "9957        4       0.0  109.7208       Yes  \n",
       "9958        2       0.0    2.1900       Yes  \n",
       "9990        2       0.0   15.6332       Yes  \n",
       "9991        2       0.2   19.3932       Yes  \n",
       "9992        4       0.0   13.3200       Yes  \n",
       "\n",
       "[800 rows x 22 columns]"
      ]
     },
     "execution_count": 57,
     "metadata": {},
     "output_type": "execute_result"
    }
   ],
   "source": [
    "df_3 = df.join(df_2.set_index('Order ID'), on = 'Order ID' )\n",
    "df_4 = df_3[df_3['Returned'] == 'Yes']\n",
    "df_4"
   ]
  },
  {
   "cell_type": "code",
   "execution_count": 58,
   "id": "b1132d4f-9a2d-40c2-80d7-2fc0b51249bc",
   "metadata": {},
   "outputs": [
    {
     "data": {
      "text/plain": [
       "<bound method NDFrame.head of       Row ID        Order ID Order Date  Ship Date       Ship Mode  \\\n",
       "0          1  CA-2016-152156 2016-11-08 2016-11-11    Second Class   \n",
       "1          2  CA-2016-152156 2016-11-08 2016-11-11    Second Class   \n",
       "2          3  CA-2016-138688 2016-06-12 2016-06-16    Second Class   \n",
       "3          4  US-2015-108966 2015-10-11 2015-10-18  Standard Class   \n",
       "4          5  US-2015-108966 2015-10-11 2015-10-18  Standard Class   \n",
       "...      ...             ...        ...        ...             ...   \n",
       "9989    9990  CA-2014-110422 2014-01-21 2014-01-23    Second Class   \n",
       "9990    9991  CA-2017-121258 2017-02-26 2017-03-03  Standard Class   \n",
       "9991    9992  CA-2017-121258 2017-02-26 2017-03-03  Standard Class   \n",
       "9992    9993  CA-2017-121258 2017-02-26 2017-03-03  Standard Class   \n",
       "9993    9994  CA-2017-119914 2017-05-04 2017-05-09    Second Class   \n",
       "\n",
       "     Customer ID     Customer Name    Segment        Country             City  \\\n",
       "0       CG-12520       Claire Gute   Consumer  United States        Henderson   \n",
       "1       CG-12520       Claire Gute   Consumer  United States        Henderson   \n",
       "2       DV-13045   Darrin Van Huff  Corporate  United States      Los Angeles   \n",
       "3       SO-20335    Sean O'Donnell   Consumer  United States  Fort Lauderdale   \n",
       "4       SO-20335    Sean O'Donnell   Consumer  United States  Fort Lauderdale   \n",
       "...          ...               ...        ...            ...              ...   \n",
       "9989    TB-21400  Tom Boeckenhauer   Consumer  United States            Miami   \n",
       "9990    DB-13060       Dave Brooks   Consumer  United States       Costa Mesa   \n",
       "9991    DB-13060       Dave Brooks   Consumer  United States       Costa Mesa   \n",
       "9992    DB-13060       Dave Brooks   Consumer  United States       Costa Mesa   \n",
       "9993    CC-12220      Chris Cortes   Consumer  United States      Westminster   \n",
       "\n",
       "      ... Postal Code  Region       Product ID         Category Sub-Category  \\\n",
       "0     ...       42420   South  FUR-BO-10001798        Furniture    Bookcases   \n",
       "1     ...       42420   South  FUR-CH-10000454        Furniture       Chairs   \n",
       "2     ...       90036    West  OFF-LA-10000240  Office Supplies       Labels   \n",
       "3     ...       33311   South  FUR-TA-10000577        Furniture       Tables   \n",
       "4     ...       33311   South  OFF-ST-10000760  Office Supplies      Storage   \n",
       "...   ...         ...     ...              ...              ...          ...   \n",
       "9989  ...       33180   South  FUR-FU-10001889        Furniture  Furnishings   \n",
       "9990  ...       92627    West  FUR-FU-10000747        Furniture  Furnishings   \n",
       "9991  ...       92627    West  TEC-PH-10003645       Technology       Phones   \n",
       "9992  ...       92627    West  OFF-PA-10004041  Office Supplies        Paper   \n",
       "9993  ...       92683    West  OFF-AP-10002684  Office Supplies   Appliances   \n",
       "\n",
       "                                           Product Name     Sales  Quantity  \\\n",
       "0                     Bush Somerset Collection Bookcase  261.9600         2   \n",
       "1     Hon Deluxe Fabric Upholstered Stacking Chairs,...  731.9400         3   \n",
       "2     Self-Adhesive Address Labels for Typewriters b...   14.6200         2   \n",
       "3         Bretford CR4500 Series Slim Rectangular Table  957.5775         5   \n",
       "4                        Eldon Fold 'N Roll Cart System   22.3680         2   \n",
       "...                                                 ...       ...       ...   \n",
       "9989                             Ultra Door Pull Handle   25.2480         3   \n",
       "9990  Tenex B1-RE Series Chair Mats for Low Pile Car...   91.9600         2   \n",
       "9991                              Aastra 57i VoIP phone  258.5760         2   \n",
       "9992  It's Hot Message Books with Stickers, 2 3/4\" x 5\"   29.6000         4   \n",
       "9993  Acco 7-Outlet Masterpiece Power Center, Wihtou...  243.1600         2   \n",
       "\n",
       "      Discount    Profit  \n",
       "0         0.00   41.9136  \n",
       "1         0.00  219.5820  \n",
       "2         0.00    6.8714  \n",
       "3         0.45 -383.0310  \n",
       "4         0.20    2.5164  \n",
       "...        ...       ...  \n",
       "9989      0.20    4.1028  \n",
       "9990      0.00   15.6332  \n",
       "9991      0.20   19.3932  \n",
       "9992      0.00   13.3200  \n",
       "9993      0.00   72.9480  \n",
       "\n",
       "[9994 rows x 21 columns]>"
      ]
     },
     "execution_count": 58,
     "metadata": {},
     "output_type": "execute_result"
    }
   ],
   "source": [
    "df.head"
   ]
  },
  {
   "cell_type": "code",
   "execution_count": 63,
   "id": "05ee0bdc-979a-4408-b115-fd93704ff7dd",
   "metadata": {},
   "outputs": [
    {
     "ename": "SyntaxError",
     "evalue": "unexpected EOF while parsing (3131378424.py, line 1)",
     "output_type": "error",
     "traceback": [
      "\u001b[1;36m  Cell \u001b[1;32mIn[63], line 1\u001b[1;36m\u001b[0m\n\u001b[1;33m    df_1 = df[['Customer Name', 'State', 'Sales','Profit'].sample(n=4)\u001b[0m\n\u001b[1;37m                                                                      ^\u001b[0m\n\u001b[1;31mSyntaxError\u001b[0m\u001b[1;31m:\u001b[0m unexpected EOF while parsing\n"
     ]
    }
   ],
   "source": [
    "df_1 = df[['Customer Name', 'State', 'Sales','Profit'].sample(n=4)"
   ]
  },
  {
   "cell_type": "code",
   "execution_count": 80,
   "id": "236e78e0-dd66-4a76-ba11-4815b56c2339",
   "metadata": {},
   "outputs": [],
   "source": [
    "df_slicing = df[['Customer Name','State','Sales','Profit']]\n",
    "df1 = df_slicing.sample(n=4)\n",
    "df2 = df_slicing.sample(n=4)\n",
    "df3 = df_slicing.sample(n=4)\n"
   ]
  },
  {
   "cell_type": "code",
   "execution_count": 81,
   "id": "0deb7a41-2b22-4819-a652-9b3f6e55b29b",
   "metadata": {},
   "outputs": [
    {
     "data": {
      "text/html": [
       "<div>\n",
       "<style scoped>\n",
       "    .dataframe tbody tr th:only-of-type {\n",
       "        vertical-align: middle;\n",
       "    }\n",
       "\n",
       "    .dataframe tbody tr th {\n",
       "        vertical-align: top;\n",
       "    }\n",
       "\n",
       "    .dataframe thead th {\n",
       "        text-align: right;\n",
       "    }\n",
       "</style>\n",
       "<table border=\"1\" class=\"dataframe\">\n",
       "  <thead>\n",
       "    <tr style=\"text-align: right;\">\n",
       "      <th></th>\n",
       "      <th>Customer Name</th>\n",
       "      <th>State</th>\n",
       "      <th>Sales</th>\n",
       "      <th>Profit</th>\n",
       "    </tr>\n",
       "  </thead>\n",
       "  <tbody>\n",
       "    <tr>\n",
       "      <th>1799</th>\n",
       "      <td>Jill Fjeld</td>\n",
       "      <td>Texas</td>\n",
       "      <td>11.168</td>\n",
       "      <td>3.6296</td>\n",
       "    </tr>\n",
       "    <tr>\n",
       "      <th>8080</th>\n",
       "      <td>Kristen Hastings</td>\n",
       "      <td>Oregon</td>\n",
       "      <td>146.544</td>\n",
       "      <td>47.6268</td>\n",
       "    </tr>\n",
       "    <tr>\n",
       "      <th>3824</th>\n",
       "      <td>Craig Carroll</td>\n",
       "      <td>New York</td>\n",
       "      <td>879.984</td>\n",
       "      <td>329.9940</td>\n",
       "    </tr>\n",
       "    <tr>\n",
       "      <th>8328</th>\n",
       "      <td>Xylona Preis</td>\n",
       "      <td>New Jersey</td>\n",
       "      <td>143.700</td>\n",
       "      <td>68.9760</td>\n",
       "    </tr>\n",
       "    <tr>\n",
       "      <th>8856</th>\n",
       "      <td>Jane Waco</td>\n",
       "      <td>California</td>\n",
       "      <td>209.940</td>\n",
       "      <td>39.8886</td>\n",
       "    </tr>\n",
       "    <tr>\n",
       "      <th>449</th>\n",
       "      <td>Raymond Buch</td>\n",
       "      <td>New York</td>\n",
       "      <td>263.880</td>\n",
       "      <td>71.2476</td>\n",
       "    </tr>\n",
       "    <tr>\n",
       "      <th>5660</th>\n",
       "      <td>Adrian Hane</td>\n",
       "      <td>Oregon</td>\n",
       "      <td>28.680</td>\n",
       "      <td>-7.1700</td>\n",
       "    </tr>\n",
       "    <tr>\n",
       "      <th>9777</th>\n",
       "      <td>Luke Foster</td>\n",
       "      <td>Texas</td>\n",
       "      <td>431.136</td>\n",
       "      <td>-26.9460</td>\n",
       "    </tr>\n",
       "    <tr>\n",
       "      <th>1381</th>\n",
       "      <td>Julie Kriz</td>\n",
       "      <td>Illinois</td>\n",
       "      <td>83.952</td>\n",
       "      <td>-90.2484</td>\n",
       "    </tr>\n",
       "    <tr>\n",
       "      <th>7577</th>\n",
       "      <td>Steven Ward</td>\n",
       "      <td>Washington</td>\n",
       "      <td>52.792</td>\n",
       "      <td>4.6193</td>\n",
       "    </tr>\n",
       "    <tr>\n",
       "      <th>4262</th>\n",
       "      <td>Kean Thornton</td>\n",
       "      <td>Georgia</td>\n",
       "      <td>80.480</td>\n",
       "      <td>24.1440</td>\n",
       "    </tr>\n",
       "    <tr>\n",
       "      <th>1514</th>\n",
       "      <td>Russell Applegate</td>\n",
       "      <td>Texas</td>\n",
       "      <td>6.744</td>\n",
       "      <td>-11.4648</td>\n",
       "    </tr>\n",
       "  </tbody>\n",
       "</table>\n",
       "</div>"
      ],
      "text/plain": [
       "          Customer Name       State    Sales    Profit\n",
       "1799         Jill Fjeld       Texas   11.168    3.6296\n",
       "8080   Kristen Hastings      Oregon  146.544   47.6268\n",
       "3824      Craig Carroll    New York  879.984  329.9940\n",
       "8328       Xylona Preis  New Jersey  143.700   68.9760\n",
       "8856          Jane Waco  California  209.940   39.8886\n",
       "449        Raymond Buch    New York  263.880   71.2476\n",
       "5660        Adrian Hane      Oregon   28.680   -7.1700\n",
       "9777        Luke Foster       Texas  431.136  -26.9460\n",
       "1381         Julie Kriz    Illinois   83.952  -90.2484\n",
       "7577        Steven Ward  Washington   52.792    4.6193\n",
       "4262      Kean Thornton     Georgia   80.480   24.1440\n",
       "1514  Russell Applegate       Texas    6.744  -11.4648"
      ]
     },
     "execution_count": 81,
     "metadata": {},
     "output_type": "execute_result"
    }
   ],
   "source": [
    "df_cat = pd.concat([df1,df2,df3], axis=0)\n",
    "df_cat"
   ]
  },
  {
   "cell_type": "markdown",
   "id": "d7da57d3-bb4a-4181-8e7c-ab478b0d6062",
   "metadata": {},
   "source": [
    "## MERGE/JOIN\n",
    "In most cases we use concatenation when they have the same structure\n",
    "but we merge when we have comon key, There has to be key that is common \n",
    "between them.\n",
    "in the example below we will explain how to join or merge. "
   ]
  },
  {
   "cell_type": "code",
   "execution_count": 84,
   "id": "48e56db5-3aee-4628-87c0-deb6b6460b16",
   "metadata": {},
   "outputs": [
    {
     "data": {
      "text/html": [
       "<div>\n",
       "<style scoped>\n",
       "    .dataframe tbody tr th:only-of-type {\n",
       "        vertical-align: middle;\n",
       "    }\n",
       "\n",
       "    .dataframe tbody tr th {\n",
       "        vertical-align: top;\n",
       "    }\n",
       "\n",
       "    .dataframe thead th {\n",
       "        text-align: right;\n",
       "    }\n",
       "</style>\n",
       "<table border=\"1\" class=\"dataframe\">\n",
       "  <thead>\n",
       "    <tr style=\"text-align: right;\">\n",
       "      <th></th>\n",
       "      <th>Ship Date</th>\n",
       "      <th>Ship Mode</th>\n",
       "      <th>Customer Name</th>\n",
       "    </tr>\n",
       "  </thead>\n",
       "  <tbody>\n",
       "    <tr>\n",
       "      <th>0</th>\n",
       "      <td>2016-11-11</td>\n",
       "      <td>Second Class</td>\n",
       "      <td>Claire Gute</td>\n",
       "    </tr>\n",
       "    <tr>\n",
       "      <th>1</th>\n",
       "      <td>2016-11-11</td>\n",
       "      <td>Second Class</td>\n",
       "      <td>Claire Gute</td>\n",
       "    </tr>\n",
       "    <tr>\n",
       "      <th>2</th>\n",
       "      <td>2016-06-16</td>\n",
       "      <td>Second Class</td>\n",
       "      <td>Darrin Van Huff</td>\n",
       "    </tr>\n",
       "    <tr>\n",
       "      <th>3</th>\n",
       "      <td>2015-10-18</td>\n",
       "      <td>Standard Class</td>\n",
       "      <td>Sean O'Donnell</td>\n",
       "    </tr>\n",
       "  </tbody>\n",
       "</table>\n",
       "</div>"
      ],
      "text/plain": [
       "   Ship Date       Ship Mode    Customer Name\n",
       "0 2016-11-11    Second Class      Claire Gute\n",
       "1 2016-11-11    Second Class      Claire Gute\n",
       "2 2016-06-16    Second Class  Darrin Van Huff\n",
       "3 2015-10-18  Standard Class   Sean O'Donnell"
      ]
     },
     "execution_count": 84,
     "metadata": {},
     "output_type": "execute_result"
    }
   ],
   "source": [
    "df11 = df[['Ship Date','Ship Mode','Customer Name']][0:4]\n",
    "df12 = df[['Customer Name','Product Name','Quantity']][0:4]\n",
    "\n",
    "df11"
   ]
  },
  {
   "cell_type": "code",
   "execution_count": 85,
   "id": "28db867f-ecaf-4838-b420-852132bcba76",
   "metadata": {},
   "outputs": [
    {
     "data": {
      "text/html": [
       "<div>\n",
       "<style scoped>\n",
       "    .dataframe tbody tr th:only-of-type {\n",
       "        vertical-align: middle;\n",
       "    }\n",
       "\n",
       "    .dataframe tbody tr th {\n",
       "        vertical-align: top;\n",
       "    }\n",
       "\n",
       "    .dataframe thead th {\n",
       "        text-align: right;\n",
       "    }\n",
       "</style>\n",
       "<table border=\"1\" class=\"dataframe\">\n",
       "  <thead>\n",
       "    <tr style=\"text-align: right;\">\n",
       "      <th></th>\n",
       "      <th>Customer Name</th>\n",
       "      <th>Product Name</th>\n",
       "      <th>Quantity</th>\n",
       "    </tr>\n",
       "  </thead>\n",
       "  <tbody>\n",
       "    <tr>\n",
       "      <th>0</th>\n",
       "      <td>Claire Gute</td>\n",
       "      <td>Bush Somerset Collection Bookcase</td>\n",
       "      <td>2</td>\n",
       "    </tr>\n",
       "    <tr>\n",
       "      <th>1</th>\n",
       "      <td>Claire Gute</td>\n",
       "      <td>Hon Deluxe Fabric Upholstered Stacking Chairs,...</td>\n",
       "      <td>3</td>\n",
       "    </tr>\n",
       "    <tr>\n",
       "      <th>2</th>\n",
       "      <td>Darrin Van Huff</td>\n",
       "      <td>Self-Adhesive Address Labels for Typewriters b...</td>\n",
       "      <td>2</td>\n",
       "    </tr>\n",
       "    <tr>\n",
       "      <th>3</th>\n",
       "      <td>Sean O'Donnell</td>\n",
       "      <td>Bretford CR4500 Series Slim Rectangular Table</td>\n",
       "      <td>5</td>\n",
       "    </tr>\n",
       "  </tbody>\n",
       "</table>\n",
       "</div>"
      ],
      "text/plain": [
       "     Customer Name                                       Product Name  \\\n",
       "0      Claire Gute                  Bush Somerset Collection Bookcase   \n",
       "1      Claire Gute  Hon Deluxe Fabric Upholstered Stacking Chairs,...   \n",
       "2  Darrin Van Huff  Self-Adhesive Address Labels for Typewriters b...   \n",
       "3   Sean O'Donnell      Bretford CR4500 Series Slim Rectangular Table   \n",
       "\n",
       "   Quantity  \n",
       "0         2  \n",
       "1         3  \n",
       "2         2  \n",
       "3         5  "
      ]
     },
     "execution_count": 85,
     "metadata": {},
     "output_type": "execute_result"
    }
   ],
   "source": [
    "df12"
   ]
  },
  {
   "cell_type": "code",
   "execution_count": 90,
   "id": "63d51650-b3ab-4f2e-950b-69818bb482a5",
   "metadata": {},
   "outputs": [
    {
     "data": {
      "text/html": [
       "<div>\n",
       "<style scoped>\n",
       "    .dataframe tbody tr th:only-of-type {\n",
       "        vertical-align: middle;\n",
       "    }\n",
       "\n",
       "    .dataframe tbody tr th {\n",
       "        vertical-align: top;\n",
       "    }\n",
       "\n",
       "    .dataframe thead th {\n",
       "        text-align: right;\n",
       "    }\n",
       "</style>\n",
       "<table border=\"1\" class=\"dataframe\">\n",
       "  <thead>\n",
       "    <tr style=\"text-align: right;\">\n",
       "      <th></th>\n",
       "      <th>Ship Date</th>\n",
       "      <th>Ship Mode</th>\n",
       "      <th>Customer Name</th>\n",
       "      <th>Product Name</th>\n",
       "      <th>Quantity</th>\n",
       "    </tr>\n",
       "  </thead>\n",
       "  <tbody>\n",
       "    <tr>\n",
       "      <th>0</th>\n",
       "      <td>2016-11-11</td>\n",
       "      <td>Second Class</td>\n",
       "      <td>Claire Gute</td>\n",
       "      <td>Bush Somerset Collection Bookcase</td>\n",
       "      <td>2</td>\n",
       "    </tr>\n",
       "    <tr>\n",
       "      <th>1</th>\n",
       "      <td>2016-11-11</td>\n",
       "      <td>Second Class</td>\n",
       "      <td>Claire Gute</td>\n",
       "      <td>Hon Deluxe Fabric Upholstered Stacking Chairs,...</td>\n",
       "      <td>3</td>\n",
       "    </tr>\n",
       "    <tr>\n",
       "      <th>2</th>\n",
       "      <td>2016-11-11</td>\n",
       "      <td>Second Class</td>\n",
       "      <td>Claire Gute</td>\n",
       "      <td>Bush Somerset Collection Bookcase</td>\n",
       "      <td>2</td>\n",
       "    </tr>\n",
       "    <tr>\n",
       "      <th>3</th>\n",
       "      <td>2016-11-11</td>\n",
       "      <td>Second Class</td>\n",
       "      <td>Claire Gute</td>\n",
       "      <td>Hon Deluxe Fabric Upholstered Stacking Chairs,...</td>\n",
       "      <td>3</td>\n",
       "    </tr>\n",
       "    <tr>\n",
       "      <th>4</th>\n",
       "      <td>2016-06-16</td>\n",
       "      <td>Second Class</td>\n",
       "      <td>Darrin Van Huff</td>\n",
       "      <td>Self-Adhesive Address Labels for Typewriters b...</td>\n",
       "      <td>2</td>\n",
       "    </tr>\n",
       "    <tr>\n",
       "      <th>5</th>\n",
       "      <td>2015-10-18</td>\n",
       "      <td>Standard Class</td>\n",
       "      <td>Sean O'Donnell</td>\n",
       "      <td>Bretford CR4500 Series Slim Rectangular Table</td>\n",
       "      <td>5</td>\n",
       "    </tr>\n",
       "  </tbody>\n",
       "</table>\n",
       "</div>"
      ],
      "text/plain": [
       "   Ship Date       Ship Mode    Customer Name  \\\n",
       "0 2016-11-11    Second Class      Claire Gute   \n",
       "1 2016-11-11    Second Class      Claire Gute   \n",
       "2 2016-11-11    Second Class      Claire Gute   \n",
       "3 2016-11-11    Second Class      Claire Gute   \n",
       "4 2016-06-16    Second Class  Darrin Van Huff   \n",
       "5 2015-10-18  Standard Class   Sean O'Donnell   \n",
       "\n",
       "                                        Product Name  Quantity  \n",
       "0                  Bush Somerset Collection Bookcase         2  \n",
       "1  Hon Deluxe Fabric Upholstered Stacking Chairs,...         3  \n",
       "2                  Bush Somerset Collection Bookcase         2  \n",
       "3  Hon Deluxe Fabric Upholstered Stacking Chairs,...         3  \n",
       "4  Self-Adhesive Address Labels for Typewriters b...         2  \n",
       "5      Bretford CR4500 Series Slim Rectangular Table         5  "
      ]
     },
     "execution_count": 90,
     "metadata": {},
     "output_type": "execute_result"
    }
   ],
   "source": [
    "pd.merge(df11,df12, on='Customer Name',how='outer')"
   ]
  },
  {
   "cell_type": "code",
   "execution_count": 125,
   "id": "31edff5c-0ded-43aa-88cf-acd1dcc4bc86",
   "metadata": {},
   "outputs": [
    {
     "data": {
      "text/html": [
       "<div>\n",
       "<style scoped>\n",
       "    .dataframe tbody tr th:only-of-type {\n",
       "        vertical-align: middle;\n",
       "    }\n",
       "\n",
       "    .dataframe tbody tr th {\n",
       "        vertical-align: top;\n",
       "    }\n",
       "\n",
       "    .dataframe thead th {\n",
       "        text-align: right;\n",
       "    }\n",
       "</style>\n",
       "<table border=\"1\" class=\"dataframe\">\n",
       "  <thead>\n",
       "    <tr style=\"text-align: right;\">\n",
       "      <th></th>\n",
       "      <th>Ship Date</th>\n",
       "      <th>Ship Mode</th>\n",
       "      <th>Customer Name</th>\n",
       "      <th>Product Name</th>\n",
       "      <th>Quantity</th>\n",
       "    </tr>\n",
       "  </thead>\n",
       "  <tbody>\n",
       "    <tr>\n",
       "      <th>0</th>\n",
       "      <td>2016-11-11</td>\n",
       "      <td>Second Class</td>\n",
       "      <td>Claire Gute</td>\n",
       "      <td>Bush Somerset Collection Bookcase</td>\n",
       "      <td>2</td>\n",
       "    </tr>\n",
       "    <tr>\n",
       "      <th>1</th>\n",
       "      <td>2016-11-11</td>\n",
       "      <td>Second Class</td>\n",
       "      <td>Claire Gute</td>\n",
       "      <td>Hon Deluxe Fabric Upholstered Stacking Chairs,...</td>\n",
       "      <td>3</td>\n",
       "    </tr>\n",
       "    <tr>\n",
       "      <th>4</th>\n",
       "      <td>2016-06-16</td>\n",
       "      <td>Second Class</td>\n",
       "      <td>Darrin Van Huff</td>\n",
       "      <td>Self-Adhesive Address Labels for Typewriters b...</td>\n",
       "      <td>2</td>\n",
       "    </tr>\n",
       "    <tr>\n",
       "      <th>5</th>\n",
       "      <td>2015-10-18</td>\n",
       "      <td>Standard Class</td>\n",
       "      <td>Sean O'Donnell</td>\n",
       "      <td>Bretford CR4500 Series Slim Rectangular Table</td>\n",
       "      <td>5</td>\n",
       "    </tr>\n",
       "  </tbody>\n",
       "</table>\n",
       "</div>"
      ],
      "text/plain": [
       "   Ship Date       Ship Mode    Customer Name  \\\n",
       "0 2016-11-11    Second Class      Claire Gute   \n",
       "1 2016-11-11    Second Class      Claire Gute   \n",
       "4 2016-06-16    Second Class  Darrin Van Huff   \n",
       "5 2015-10-18  Standard Class   Sean O'Donnell   \n",
       "\n",
       "                                        Product Name  Quantity  \n",
       "0                  Bush Somerset Collection Bookcase         2  \n",
       "1  Hon Deluxe Fabric Upholstered Stacking Chairs,...         3  \n",
       "4  Self-Adhesive Address Labels for Typewriters b...         2  \n",
       "5      Bretford CR4500 Series Slim Rectangular Table         5  "
      ]
     },
     "execution_count": 125,
     "metadata": {},
     "output_type": "execute_result"
    }
   ],
   "source": [
    "#we can use drop_duplicate() to drop unnecessary duplicate rows\n",
    "# you cannot use unique on a column, it cannot be used on data frame.. drop_duplicate\n",
    "# is better\n",
    "pd.merge(df11,df12, on='Customer Name',how='outer').drop_duplicates()"
   ]
  },
  {
   "cell_type": "markdown",
   "id": "f8829e5a-2a01-456c-bf3a-bf4b6f527ddf",
   "metadata": {},
   "source": [
    "# SAMPLE"
   ]
  },
  {
   "cell_type": "code",
   "execution_count": 127,
   "id": "afb2a7ad-4ded-483b-afd5-087d7d5800d6",
   "metadata": {},
   "outputs": [],
   "source": [
    "\n",
    "df_slicing = df[['Customer Name','State','Sales','Profit']]\n",
    "\n",
    "df1 = df_slicing.sample(n=4)\n",
    "df3 = df_slicing.sample(frac=0.4)\n"
   ]
  },
  {
   "cell_type": "code",
   "execution_count": 128,
   "id": "e7aee017-2cff-43bb-876e-b2f0a353198a",
   "metadata": {},
   "outputs": [
    {
     "data": {
      "text/html": [
       "<div>\n",
       "<style scoped>\n",
       "    .dataframe tbody tr th:only-of-type {\n",
       "        vertical-align: middle;\n",
       "    }\n",
       "\n",
       "    .dataframe tbody tr th {\n",
       "        vertical-align: top;\n",
       "    }\n",
       "\n",
       "    .dataframe thead th {\n",
       "        text-align: right;\n",
       "    }\n",
       "</style>\n",
       "<table border=\"1\" class=\"dataframe\">\n",
       "  <thead>\n",
       "    <tr style=\"text-align: right;\">\n",
       "      <th></th>\n",
       "      <th>Customer Name</th>\n",
       "      <th>State</th>\n",
       "      <th>Sales</th>\n",
       "      <th>Profit</th>\n",
       "    </tr>\n",
       "  </thead>\n",
       "  <tbody>\n",
       "    <tr>\n",
       "      <th>4918</th>\n",
       "      <td>Brendan Murry</td>\n",
       "      <td>Maryland</td>\n",
       "      <td>173.940</td>\n",
       "      <td>38.2668</td>\n",
       "    </tr>\n",
       "    <tr>\n",
       "      <th>1793</th>\n",
       "      <td>Thomas Boland</td>\n",
       "      <td>Texas</td>\n",
       "      <td>60.416</td>\n",
       "      <td>6.0416</td>\n",
       "    </tr>\n",
       "    <tr>\n",
       "      <th>3316</th>\n",
       "      <td>Edward Becker</td>\n",
       "      <td>Texas</td>\n",
       "      <td>341.960</td>\n",
       "      <td>-427.4500</td>\n",
       "    </tr>\n",
       "    <tr>\n",
       "      <th>1583</th>\n",
       "      <td>Naresj Patel</td>\n",
       "      <td>New York</td>\n",
       "      <td>47.040</td>\n",
       "      <td>18.3456</td>\n",
       "    </tr>\n",
       "    <tr>\n",
       "      <th>140</th>\n",
       "      <td>Jonathan Doherty</td>\n",
       "      <td>Pennsylvania</td>\n",
       "      <td>82.800</td>\n",
       "      <td>10.3500</td>\n",
       "    </tr>\n",
       "    <tr>\n",
       "      <th>...</th>\n",
       "      <td>...</td>\n",
       "      <td>...</td>\n",
       "      <td>...</td>\n",
       "      <td>...</td>\n",
       "    </tr>\n",
       "    <tr>\n",
       "      <th>4745</th>\n",
       "      <td>Julia Dunbar</td>\n",
       "      <td>Minnesota</td>\n",
       "      <td>127.960</td>\n",
       "      <td>62.7004</td>\n",
       "    </tr>\n",
       "    <tr>\n",
       "      <th>8251</th>\n",
       "      <td>Maribeth Schnelling</td>\n",
       "      <td>Illinois</td>\n",
       "      <td>180.980</td>\n",
       "      <td>-470.5480</td>\n",
       "    </tr>\n",
       "    <tr>\n",
       "      <th>5984</th>\n",
       "      <td>Joy Smith</td>\n",
       "      <td>Mississippi</td>\n",
       "      <td>185.580</td>\n",
       "      <td>76.0878</td>\n",
       "    </tr>\n",
       "    <tr>\n",
       "      <th>7221</th>\n",
       "      <td>Toby Gnade</td>\n",
       "      <td>New York</td>\n",
       "      <td>137.940</td>\n",
       "      <td>35.8644</td>\n",
       "    </tr>\n",
       "    <tr>\n",
       "      <th>4882</th>\n",
       "      <td>Thomas Boland</td>\n",
       "      <td>Kentucky</td>\n",
       "      <td>59.920</td>\n",
       "      <td>16.7776</td>\n",
       "    </tr>\n",
       "  </tbody>\n",
       "</table>\n",
       "<p>3998 rows × 4 columns</p>\n",
       "</div>"
      ],
      "text/plain": [
       "            Customer Name         State    Sales    Profit\n",
       "4918        Brendan Murry      Maryland  173.940   38.2668\n",
       "1793        Thomas Boland         Texas   60.416    6.0416\n",
       "3316        Edward Becker         Texas  341.960 -427.4500\n",
       "1583         Naresj Patel      New York   47.040   18.3456\n",
       "140      Jonathan Doherty  Pennsylvania   82.800   10.3500\n",
       "...                   ...           ...      ...       ...\n",
       "4745         Julia Dunbar     Minnesota  127.960   62.7004\n",
       "8251  Maribeth Schnelling      Illinois  180.980 -470.5480\n",
       "5984            Joy Smith   Mississippi  185.580   76.0878\n",
       "7221           Toby Gnade      New York  137.940   35.8644\n",
       "4882        Thomas Boland      Kentucky   59.920   16.7776\n",
       "\n",
       "[3998 rows x 4 columns]"
      ]
     },
     "execution_count": 128,
     "metadata": {},
     "output_type": "execute_result"
    }
   ],
   "source": [
    "df3"
   ]
  },
  {
   "cell_type": "markdown",
   "id": "40c8d667-bb2c-45b5-9b2a-819ecdc5fca9",
   "metadata": {},
   "source": [
    "# The value_count method\n",
    "### It returns the count of unique date"
   ]
  },
  {
   "cell_type": "code",
   "execution_count": 130,
   "id": "5847c77e-89c8-48f5-a89c-3a78aa4c958e",
   "metadata": {},
   "outputs": [
    {
     "data": {
      "text/plain": [
       "Beth Thompson     1\n",
       "Julie Kriz        1\n",
       "Joni Blumstein    1\n",
       "Aaron Hawkins     1\n",
       "Name: Customer Name, dtype: int64"
      ]
     },
     "execution_count": 130,
     "metadata": {},
     "output_type": "execute_result"
    }
   ],
   "source": [
    "df1['Customer Name'].value_counts()[:10]"
   ]
  },
  {
   "cell_type": "code",
   "execution_count": null,
   "id": "4b4077e6-79ce-4133-8641-f93057ad84b3",
   "metadata": {},
   "outputs": [],
   "source": []
  },
  {
   "cell_type": "code",
   "execution_count": null,
   "id": "d3f470ad-24c1-47b6-a3e3-8afdf09aa446",
   "metadata": {},
   "outputs": [],
   "source": [
    "Example of "
   ]
  },
  {
   "cell_type": "code",
   "execution_count": 99,
   "id": "c9fe7f00-d319-448e-b773-55c0d83c862f",
   "metadata": {},
   "outputs": [],
   "source": [
    "import numpy as np\n",
    "import pandas as pd\n",
    "\n",
    "candidate = pd.read_csv('C:/Users/Admin/DATA SCIENCE CLASS/fill.csv')\n",
    "score = pd.read_csv('C:/Users/Admin/DATA SCIENCE CLASS/fill_score.csv')"
   ]
  },
  {
   "cell_type": "code",
   "execution_count": 100,
   "id": "4664398c-ea50-4d6a-9e4d-98cdae4735bc",
   "metadata": {},
   "outputs": [
    {
     "data": {
      "text/html": [
       "<div>\n",
       "<style scoped>\n",
       "    .dataframe tbody tr th:only-of-type {\n",
       "        vertical-align: middle;\n",
       "    }\n",
       "\n",
       "    .dataframe tbody tr th {\n",
       "        vertical-align: top;\n",
       "    }\n",
       "\n",
       "    .dataframe thead th {\n",
       "        text-align: right;\n",
       "    }\n",
       "</style>\n",
       "<table border=\"1\" class=\"dataframe\">\n",
       "  <thead>\n",
       "    <tr style=\"text-align: right;\">\n",
       "      <th></th>\n",
       "      <th>StudentID</th>\n",
       "      <th>Firsname</th>\n",
       "      <th>Lastname</th>\n",
       "      <th>Email</th>\n",
       "    </tr>\n",
       "  </thead>\n",
       "  <tbody>\n",
       "    <tr>\n",
       "      <th>0</th>\n",
       "      <td>ACT123</td>\n",
       "      <td>NaN</td>\n",
       "      <td>NaN</td>\n",
       "      <td>NaN</td>\n",
       "    </tr>\n",
       "    <tr>\n",
       "      <th>1</th>\n",
       "      <td>PS419</td>\n",
       "      <td>Wike</td>\n",
       "      <td>Nyesom</td>\n",
       "      <td>wike.nyesom@yahooyahooparty.com</td>\n",
       "    </tr>\n",
       "    <tr>\n",
       "      <th>2</th>\n",
       "      <td>CS123</td>\n",
       "      <td>Yakub</td>\n",
       "      <td>Mahmood</td>\n",
       "      <td>yk.mahmood@inec.com</td>\n",
       "    </tr>\n",
       "    <tr>\n",
       "      <th>3</th>\n",
       "      <td>PS100</td>\n",
       "      <td>Bola</td>\n",
       "      <td>Tinubu</td>\n",
       "      <td>jagaban@balablu.com</td>\n",
       "    </tr>\n",
       "    <tr>\n",
       "      <th>4</th>\n",
       "      <td>PS001</td>\n",
       "      <td>Atiku</td>\n",
       "      <td>Ababakar</td>\n",
       "      <td>Waziri@dollar.com</td>\n",
       "    </tr>\n",
       "    <tr>\n",
       "      <th>5</th>\n",
       "      <td>PS011</td>\n",
       "      <td>Peter</td>\n",
       "      <td>Obi</td>\n",
       "      <td>o.peter@lp.com.ng</td>\n",
       "    </tr>\n",
       "  </tbody>\n",
       "</table>\n",
       "</div>"
      ],
      "text/plain": [
       "  StudentID Firsname  Lastname                            Email\n",
       "0    ACT123      NaN       NaN                              NaN\n",
       "1     PS419     Wike    Nyesom  wike.nyesom@yahooyahooparty.com\n",
       "2     CS123    Yakub   Mahmood              yk.mahmood@inec.com\n",
       "3     PS100     Bola    Tinubu              jagaban@balablu.com\n",
       "4     PS001    Atiku  Ababakar                Waziri@dollar.com\n",
       "5     PS011    Peter       Obi                o.peter@lp.com.ng"
      ]
     },
     "execution_count": 100,
     "metadata": {},
     "output_type": "execute_result"
    }
   ],
   "source": [
    "candidate"
   ]
  },
  {
   "cell_type": "code",
   "execution_count": 101,
   "id": "b2879f64-b925-48c8-a5ca-de1851b897f0",
   "metadata": {},
   "outputs": [
    {
     "data": {
      "text/html": [
       "<div>\n",
       "<style scoped>\n",
       "    .dataframe tbody tr th:only-of-type {\n",
       "        vertical-align: middle;\n",
       "    }\n",
       "\n",
       "    .dataframe tbody tr th {\n",
       "        vertical-align: top;\n",
       "    }\n",
       "\n",
       "    .dataframe thead th {\n",
       "        text-align: right;\n",
       "    }\n",
       "</style>\n",
       "<table border=\"1\" class=\"dataframe\">\n",
       "  <thead>\n",
       "    <tr style=\"text-align: right;\">\n",
       "      <th></th>\n",
       "      <th>StudentID</th>\n",
       "      <th>Course</th>\n",
       "      <th>Score</th>\n",
       "    </tr>\n",
       "  </thead>\n",
       "  <tbody>\n",
       "    <tr>\n",
       "      <th>0</th>\n",
       "      <td>ACT123</td>\n",
       "      <td>Accounting</td>\n",
       "      <td>54.0</td>\n",
       "    </tr>\n",
       "    <tr>\n",
       "      <th>1</th>\n",
       "      <td>PS419</td>\n",
       "      <td>NaN</td>\n",
       "      <td>NaN</td>\n",
       "    </tr>\n",
       "    <tr>\n",
       "      <th>2</th>\n",
       "      <td>CS123</td>\n",
       "      <td>Computer Science</td>\n",
       "      <td>39.0</td>\n",
       "    </tr>\n",
       "    <tr>\n",
       "      <th>3</th>\n",
       "      <td>PS100</td>\n",
       "      <td>Political Science</td>\n",
       "      <td>57.0</td>\n",
       "    </tr>\n",
       "    <tr>\n",
       "      <th>4</th>\n",
       "      <td>PS001</td>\n",
       "      <td>Political Science</td>\n",
       "      <td>52.0</td>\n",
       "    </tr>\n",
       "    <tr>\n",
       "      <th>5</th>\n",
       "      <td>PS011</td>\n",
       "      <td>Political Science</td>\n",
       "      <td>51.0</td>\n",
       "    </tr>\n",
       "  </tbody>\n",
       "</table>\n",
       "</div>"
      ],
      "text/plain": [
       "  StudentID             Course  Score\n",
       "0    ACT123         Accounting   54.0\n",
       "1     PS419                NaN    NaN\n",
       "2     CS123   Computer Science   39.0\n",
       "3     PS100  Political Science   57.0\n",
       "4     PS001  Political Science   52.0\n",
       "5     PS011  Political Science   51.0"
      ]
     },
     "execution_count": 101,
     "metadata": {},
     "output_type": "execute_result"
    }
   ],
   "source": [
    "score"
   ]
  },
  {
   "cell_type": "code",
   "execution_count": 105,
   "id": "534f8f48-ae30-4e95-b509-98f0a9394c1c",
   "metadata": {},
   "outputs": [
    {
     "data": {
      "text/html": [
       "<div>\n",
       "<style scoped>\n",
       "    .dataframe tbody tr th:only-of-type {\n",
       "        vertical-align: middle;\n",
       "    }\n",
       "\n",
       "    .dataframe tbody tr th {\n",
       "        vertical-align: top;\n",
       "    }\n",
       "\n",
       "    .dataframe thead th {\n",
       "        text-align: right;\n",
       "    }\n",
       "</style>\n",
       "<table border=\"1\" class=\"dataframe\">\n",
       "  <thead>\n",
       "    <tr style=\"text-align: right;\">\n",
       "      <th></th>\n",
       "      <th>StudentID</th>\n",
       "      <th>Firsname</th>\n",
       "      <th>Lastname</th>\n",
       "      <th>Email</th>\n",
       "      <th>Course</th>\n",
       "      <th>Score</th>\n",
       "    </tr>\n",
       "  </thead>\n",
       "  <tbody>\n",
       "    <tr>\n",
       "      <th>0</th>\n",
       "      <td>ACT123</td>\n",
       "      <td>NaN</td>\n",
       "      <td>NaN</td>\n",
       "      <td>NaN</td>\n",
       "      <td>Accounting</td>\n",
       "      <td>54.0</td>\n",
       "    </tr>\n",
       "    <tr>\n",
       "      <th>1</th>\n",
       "      <td>PS419</td>\n",
       "      <td>Wike</td>\n",
       "      <td>Nyesom</td>\n",
       "      <td>wike.nyesom@yahooyahooparty.com</td>\n",
       "      <td>NaN</td>\n",
       "      <td>NaN</td>\n",
       "    </tr>\n",
       "    <tr>\n",
       "      <th>2</th>\n",
       "      <td>CS123</td>\n",
       "      <td>Yakub</td>\n",
       "      <td>Mahmood</td>\n",
       "      <td>yk.mahmood@inec.com</td>\n",
       "      <td>Computer Science</td>\n",
       "      <td>39.0</td>\n",
       "    </tr>\n",
       "    <tr>\n",
       "      <th>3</th>\n",
       "      <td>PS100</td>\n",
       "      <td>Bola</td>\n",
       "      <td>Tinubu</td>\n",
       "      <td>jagaban@balablu.com</td>\n",
       "      <td>Political Science</td>\n",
       "      <td>57.0</td>\n",
       "    </tr>\n",
       "    <tr>\n",
       "      <th>4</th>\n",
       "      <td>PS001</td>\n",
       "      <td>Atiku</td>\n",
       "      <td>Ababakar</td>\n",
       "      <td>Waziri@dollar.com</td>\n",
       "      <td>Political Science</td>\n",
       "      <td>52.0</td>\n",
       "    </tr>\n",
       "    <tr>\n",
       "      <th>5</th>\n",
       "      <td>PS011</td>\n",
       "      <td>Peter</td>\n",
       "      <td>Obi</td>\n",
       "      <td>o.peter@lp.com.ng</td>\n",
       "      <td>Political Science</td>\n",
       "      <td>51.0</td>\n",
       "    </tr>\n",
       "  </tbody>\n",
       "</table>\n",
       "</div>"
      ],
      "text/plain": [
       "  StudentID Firsname  Lastname                            Email  \\\n",
       "0    ACT123      NaN       NaN                              NaN   \n",
       "1     PS419     Wike    Nyesom  wike.nyesom@yahooyahooparty.com   \n",
       "2     CS123    Yakub   Mahmood              yk.mahmood@inec.com   \n",
       "3     PS100     Bola    Tinubu              jagaban@balablu.com   \n",
       "4     PS001    Atiku  Ababakar                Waziri@dollar.com   \n",
       "5     PS011    Peter       Obi                o.peter@lp.com.ng   \n",
       "\n",
       "              Course  Score  \n",
       "0         Accounting   54.0  \n",
       "1                NaN    NaN  \n",
       "2   Computer Science   39.0  \n",
       "3  Political Science   57.0  \n",
       "4  Political Science   52.0  \n",
       "5  Political Science   51.0  "
      ]
     },
     "execution_count": 105,
     "metadata": {},
     "output_type": "execute_result"
    }
   ],
   "source": [
    "pd.merge(candidate,score,on='StudentID',how='outer')"
   ]
  },
  {
   "cell_type": "code",
   "execution_count": 110,
   "id": "8cc88051-d27d-42fe-92c4-a2355cf9fac6",
   "metadata": {},
   "outputs": [],
   "source": [
    "# data = score.join(candidate, on='Student', how = 'inner')"
   ]
  },
  {
   "cell_type": "code",
   "execution_count": 118,
   "id": "c13260df-37ba-4c41-939f-02256c587848",
   "metadata": {},
   "outputs": [
    {
     "data": {
      "text/html": [
       "<div>\n",
       "<style scoped>\n",
       "    .dataframe tbody tr th:only-of-type {\n",
       "        vertical-align: middle;\n",
       "    }\n",
       "\n",
       "    .dataframe tbody tr th {\n",
       "        vertical-align: top;\n",
       "    }\n",
       "\n",
       "    .dataframe thead th {\n",
       "        text-align: right;\n",
       "    }\n",
       "</style>\n",
       "<table border=\"1\" class=\"dataframe\">\n",
       "  <thead>\n",
       "    <tr style=\"text-align: right;\">\n",
       "      <th></th>\n",
       "      <th>StudentID</th>\n",
       "      <th>Firsname</th>\n",
       "      <th>Lastname</th>\n",
       "      <th>Email</th>\n",
       "      <th>Course</th>\n",
       "      <th>Score</th>\n",
       "    </tr>\n",
       "  </thead>\n",
       "  <tbody>\n",
       "    <tr>\n",
       "      <th>0</th>\n",
       "      <td>ACT123</td>\n",
       "      <td>NaN</td>\n",
       "      <td>NaN</td>\n",
       "      <td>NaN</td>\n",
       "      <td>Accounting</td>\n",
       "      <td>54.0</td>\n",
       "    </tr>\n",
       "    <tr>\n",
       "      <th>1</th>\n",
       "      <td>PS419</td>\n",
       "      <td>Wike</td>\n",
       "      <td>Nyesom</td>\n",
       "      <td>wike.nyesom@yahooyahooparty.com</td>\n",
       "      <td>NaN</td>\n",
       "      <td>NaN</td>\n",
       "    </tr>\n",
       "    <tr>\n",
       "      <th>2</th>\n",
       "      <td>CS123</td>\n",
       "      <td>Yakub</td>\n",
       "      <td>Mahmood</td>\n",
       "      <td>yk.mahmood@inec.com</td>\n",
       "      <td>Computer Science</td>\n",
       "      <td>39.0</td>\n",
       "    </tr>\n",
       "    <tr>\n",
       "      <th>3</th>\n",
       "      <td>PS100</td>\n",
       "      <td>Bola</td>\n",
       "      <td>Tinubu</td>\n",
       "      <td>jagaban@balablu.com</td>\n",
       "      <td>Political Science</td>\n",
       "      <td>57.0</td>\n",
       "    </tr>\n",
       "    <tr>\n",
       "      <th>4</th>\n",
       "      <td>PS001</td>\n",
       "      <td>Atiku</td>\n",
       "      <td>Ababakar</td>\n",
       "      <td>Waziri@dollar.com</td>\n",
       "      <td>Political Science</td>\n",
       "      <td>52.0</td>\n",
       "    </tr>\n",
       "    <tr>\n",
       "      <th>5</th>\n",
       "      <td>PS011</td>\n",
       "      <td>Peter</td>\n",
       "      <td>Obi</td>\n",
       "      <td>o.peter@lp.com.ng</td>\n",
       "      <td>Political Science</td>\n",
       "      <td>51.0</td>\n",
       "    </tr>\n",
       "  </tbody>\n",
       "</table>\n",
       "</div>"
      ],
      "text/plain": [
       "  StudentID Firsname  Lastname                            Email  \\\n",
       "0    ACT123      NaN       NaN                              NaN   \n",
       "1     PS419     Wike    Nyesom  wike.nyesom@yahooyahooparty.com   \n",
       "2     CS123    Yakub   Mahmood              yk.mahmood@inec.com   \n",
       "3     PS100     Bola    Tinubu              jagaban@balablu.com   \n",
       "4     PS001    Atiku  Ababakar                Waziri@dollar.com   \n",
       "5     PS011    Peter       Obi                o.peter@lp.com.ng   \n",
       "\n",
       "              Course  Score  \n",
       "0         Accounting   54.0  \n",
       "1                NaN    NaN  \n",
       "2   Computer Science   39.0  \n",
       "3  Political Science   57.0  \n",
       "4  Political Science   52.0  \n",
       "5  Political Science   51.0  "
      ]
     },
     "execution_count": 118,
     "metadata": {},
     "output_type": "execute_result"
    }
   ],
   "source": [
    "data = pd.merge(candidate,score,on='StudentID',how='inner')\n",
    "data"
   ]
  },
  {
   "cell_type": "code",
   "execution_count": 120,
   "id": "fd14d5f1-bdbc-4fbd-bbc2-8bc898a8e47e",
   "metadata": {},
   "outputs": [
    {
     "data": {
      "text/html": [
       "<div>\n",
       "<style scoped>\n",
       "    .dataframe tbody tr th:only-of-type {\n",
       "        vertical-align: middle;\n",
       "    }\n",
       "\n",
       "    .dataframe tbody tr th {\n",
       "        vertical-align: top;\n",
       "    }\n",
       "\n",
       "    .dataframe thead th {\n",
       "        text-align: right;\n",
       "    }\n",
       "</style>\n",
       "<table border=\"1\" class=\"dataframe\">\n",
       "  <thead>\n",
       "    <tr style=\"text-align: right;\">\n",
       "      <th></th>\n",
       "      <th>StudentID</th>\n",
       "      <th>Firsname</th>\n",
       "      <th>Lastname</th>\n",
       "      <th>Email</th>\n",
       "      <th>Course</th>\n",
       "      <th>Score</th>\n",
       "    </tr>\n",
       "  </thead>\n",
       "  <tbody>\n",
       "    <tr>\n",
       "      <th>0</th>\n",
       "      <td>ACT123</td>\n",
       "      <td>NaN</td>\n",
       "      <td>NaN</td>\n",
       "      <td>NaN</td>\n",
       "      <td>Accounting</td>\n",
       "      <td>54.0</td>\n",
       "    </tr>\n",
       "    <tr>\n",
       "      <th>1</th>\n",
       "      <td>PS419</td>\n",
       "      <td>Wike</td>\n",
       "      <td>Nyesom</td>\n",
       "      <td>wike.nyesom@yahooyahooparty.com</td>\n",
       "      <td>NaN</td>\n",
       "      <td>NaN</td>\n",
       "    </tr>\n",
       "    <tr>\n",
       "      <th>2</th>\n",
       "      <td>CS123</td>\n",
       "      <td>Yakub</td>\n",
       "      <td>Mahmood</td>\n",
       "      <td>yk.mahmood@inec.com</td>\n",
       "      <td>Computer Science</td>\n",
       "      <td>39.0</td>\n",
       "    </tr>\n",
       "    <tr>\n",
       "      <th>3</th>\n",
       "      <td>PS100</td>\n",
       "      <td>Bola</td>\n",
       "      <td>Tinubu</td>\n",
       "      <td>jagaban@balablu.com</td>\n",
       "      <td>Political Science</td>\n",
       "      <td>57.0</td>\n",
       "    </tr>\n",
       "    <tr>\n",
       "      <th>4</th>\n",
       "      <td>PS001</td>\n",
       "      <td>Atiku</td>\n",
       "      <td>Ababakar</td>\n",
       "      <td>Waziri@dollar.com</td>\n",
       "      <td>Political Science</td>\n",
       "      <td>52.0</td>\n",
       "    </tr>\n",
       "    <tr>\n",
       "      <th>5</th>\n",
       "      <td>PS011</td>\n",
       "      <td>Peter</td>\n",
       "      <td>Obi</td>\n",
       "      <td>o.peter@lp.com.ng</td>\n",
       "      <td>Political Science</td>\n",
       "      <td>51.0</td>\n",
       "    </tr>\n",
       "  </tbody>\n",
       "</table>\n",
       "</div>"
      ],
      "text/plain": [
       "  StudentID Firsname  Lastname                            Email  \\\n",
       "0    ACT123      NaN       NaN                              NaN   \n",
       "1     PS419     Wike    Nyesom  wike.nyesom@yahooyahooparty.com   \n",
       "2     CS123    Yakub   Mahmood              yk.mahmood@inec.com   \n",
       "3     PS100     Bola    Tinubu              jagaban@balablu.com   \n",
       "4     PS001    Atiku  Ababakar                Waziri@dollar.com   \n",
       "5     PS011    Peter       Obi                o.peter@lp.com.ng   \n",
       "\n",
       "              Course  Score  \n",
       "0         Accounting   54.0  \n",
       "1                NaN    NaN  \n",
       "2   Computer Science   39.0  \n",
       "3  Political Science   57.0  \n",
       "4  Political Science   52.0  \n",
       "5  Political Science   51.0  "
      ]
     },
     "execution_count": 120,
     "metadata": {},
     "output_type": "execute_result"
    }
   ],
   "source": [
    "pd.merge(candidate,score,on='StudentID',how='left')"
   ]
  },
  {
   "cell_type": "code",
   "execution_count": 131,
   "id": "350934fa-eba1-4e75-970a-ea258feb5252",
   "metadata": {},
   "outputs": [],
   "source": [
    "# instead of transpose, we can Pivot Table "
   ]
  },
  {
   "cell_type": "code",
   "execution_count": 132,
   "id": "d561bae7-1d1e-464e-8aeb-5410ce5ab38a",
   "metadata": {},
   "outputs": [],
   "source": [
    "b = df.pivot_table (values = ['Sales','Quantity','Profit'], \n",
    "                    index = ['Region','State'], aggfunc='mean' )"
   ]
  },
  {
   "cell_type": "code",
   "execution_count": 133,
   "id": "8874f549-d25f-4a2c-ab85-6c5745fd8349",
   "metadata": {},
   "outputs": [
    {
     "data": {
      "text/html": [
       "<div>\n",
       "<style scoped>\n",
       "    .dataframe tbody tr th:only-of-type {\n",
       "        vertical-align: middle;\n",
       "    }\n",
       "\n",
       "    .dataframe tbody tr th {\n",
       "        vertical-align: top;\n",
       "    }\n",
       "\n",
       "    .dataframe thead th {\n",
       "        text-align: right;\n",
       "    }\n",
       "</style>\n",
       "<table border=\"1\" class=\"dataframe\">\n",
       "  <thead>\n",
       "    <tr style=\"text-align: right;\">\n",
       "      <th></th>\n",
       "      <th></th>\n",
       "      <th>Profit</th>\n",
       "      <th>Quantity</th>\n",
       "      <th>Sales</th>\n",
       "    </tr>\n",
       "    <tr>\n",
       "      <th>Region</th>\n",
       "      <th>State</th>\n",
       "      <th></th>\n",
       "      <th></th>\n",
       "      <th></th>\n",
       "    </tr>\n",
       "  </thead>\n",
       "  <tbody>\n",
       "    <tr>\n",
       "      <th rowspan=\"13\" valign=\"top\">Central</th>\n",
       "      <th>Illinois</th>\n",
       "      <td>-25.625787</td>\n",
       "      <td>3.750000</td>\n",
       "      <td>162.939230</td>\n",
       "    </tr>\n",
       "    <tr>\n",
       "      <th>Indiana</th>\n",
       "      <td>123.375411</td>\n",
       "      <td>3.879195</td>\n",
       "      <td>359.431946</td>\n",
       "    </tr>\n",
       "    <tr>\n",
       "      <th>Iowa</th>\n",
       "      <td>39.460397</td>\n",
       "      <td>3.733333</td>\n",
       "      <td>152.658667</td>\n",
       "    </tr>\n",
       "    <tr>\n",
       "      <th>Kansas</th>\n",
       "      <td>34.851813</td>\n",
       "      <td>3.083333</td>\n",
       "      <td>121.429583</td>\n",
       "    </tr>\n",
       "    <tr>\n",
       "      <th>Michigan</th>\n",
       "      <td>95.934069</td>\n",
       "      <td>3.709804</td>\n",
       "      <td>299.096525</td>\n",
       "    </tr>\n",
       "    <tr>\n",
       "      <th>Minnesota</th>\n",
       "      <td>121.608847</td>\n",
       "      <td>3.719101</td>\n",
       "      <td>335.541011</td>\n",
       "    </tr>\n",
       "    <tr>\n",
       "      <th>Missouri</th>\n",
       "      <td>97.518341</td>\n",
       "      <td>3.818182</td>\n",
       "      <td>336.441667</td>\n",
       "    </tr>\n",
       "    <tr>\n",
       "      <th>Nebraska</th>\n",
       "      <td>53.607742</td>\n",
       "      <td>3.578947</td>\n",
       "      <td>196.445526</td>\n",
       "    </tr>\n",
       "    <tr>\n",
       "      <th>North Dakota</th>\n",
       "      <td>32.878529</td>\n",
       "      <td>4.285714</td>\n",
       "      <td>131.415714</td>\n",
       "    </tr>\n",
       "    <tr>\n",
       "      <th>Oklahoma</th>\n",
       "      <td>73.544788</td>\n",
       "      <td>3.742424</td>\n",
       "      <td>298.233182</td>\n",
       "    </tr>\n",
       "    <tr>\n",
       "      <th>South Dakota</th>\n",
       "      <td>32.902358</td>\n",
       "      <td>3.500000</td>\n",
       "      <td>109.630000</td>\n",
       "    </tr>\n",
       "    <tr>\n",
       "      <th>Texas</th>\n",
       "      <td>-26.121174</td>\n",
       "      <td>3.780711</td>\n",
       "      <td>172.779742</td>\n",
       "    </tr>\n",
       "    <tr>\n",
       "      <th>Wisconsin</th>\n",
       "      <td>76.380004</td>\n",
       "      <td>4.209091</td>\n",
       "      <td>291.951000</td>\n",
       "    </tr>\n",
       "    <tr>\n",
       "      <th rowspan=\"14\" valign=\"top\">East</th>\n",
       "      <th>Connecticut</th>\n",
       "      <td>42.823071</td>\n",
       "      <td>3.426829</td>\n",
       "      <td>163.223866</td>\n",
       "    </tr>\n",
       "    <tr>\n",
       "      <th>Delaware</th>\n",
       "      <td>103.930988</td>\n",
       "      <td>3.822917</td>\n",
       "      <td>285.948635</td>\n",
       "    </tr>\n",
       "    <tr>\n",
       "      <th>District of Columbia</th>\n",
       "      <td>105.958930</td>\n",
       "      <td>4.000000</td>\n",
       "      <td>286.502000</td>\n",
       "    </tr>\n",
       "    <tr>\n",
       "      <th>Maine</th>\n",
       "      <td>56.810775</td>\n",
       "      <td>4.375000</td>\n",
       "      <td>158.816250</td>\n",
       "    </tr>\n",
       "    <tr>\n",
       "      <th>Maryland</th>\n",
       "      <td>66.963608</td>\n",
       "      <td>4.000000</td>\n",
       "      <td>225.766886</td>\n",
       "    </tr>\n",
       "    <tr>\n",
       "      <th>Massachusetts</th>\n",
       "      <td>50.262975</td>\n",
       "      <td>3.637037</td>\n",
       "      <td>212.106919</td>\n",
       "    </tr>\n",
       "    <tr>\n",
       "      <th>New Hampshire</th>\n",
       "      <td>63.203807</td>\n",
       "      <td>4.703704</td>\n",
       "      <td>270.093481</td>\n",
       "    </tr>\n",
       "    <tr>\n",
       "      <th>New Jersey</th>\n",
       "      <td>75.176260</td>\n",
       "      <td>3.492308</td>\n",
       "      <td>275.110092</td>\n",
       "    </tr>\n",
       "    <tr>\n",
       "      <th>New York</th>\n",
       "      <td>65.637011</td>\n",
       "      <td>3.744681</td>\n",
       "      <td>275.599531</td>\n",
       "    </tr>\n",
       "    <tr>\n",
       "      <th>Ohio</th>\n",
       "      <td>-36.186304</td>\n",
       "      <td>3.750533</td>\n",
       "      <td>166.861697</td>\n",
       "    </tr>\n",
       "    <tr>\n",
       "      <th>Pennsylvania</th>\n",
       "      <td>-26.507598</td>\n",
       "      <td>3.667802</td>\n",
       "      <td>198.487077</td>\n",
       "    </tr>\n",
       "    <tr>\n",
       "      <th>Rhode Island</th>\n",
       "      <td>130.100523</td>\n",
       "      <td>3.553571</td>\n",
       "      <td>404.070643</td>\n",
       "    </tr>\n",
       "    <tr>\n",
       "      <th>Vermont</th>\n",
       "      <td>204.088936</td>\n",
       "      <td>4.545455</td>\n",
       "      <td>811.760909</td>\n",
       "    </tr>\n",
       "    <tr>\n",
       "      <th>West Virginia</th>\n",
       "      <td>46.480400</td>\n",
       "      <td>4.500000</td>\n",
       "      <td>302.456000</td>\n",
       "    </tr>\n",
       "    <tr>\n",
       "      <th rowspan=\"11\" valign=\"top\">South</th>\n",
       "      <th>Alabama</th>\n",
       "      <td>94.865989</td>\n",
       "      <td>4.196721</td>\n",
       "      <td>319.846557</td>\n",
       "    </tr>\n",
       "    <tr>\n",
       "      <th>Arkansas</th>\n",
       "      <td>66.811452</td>\n",
       "      <td>4.000000</td>\n",
       "      <td>194.635500</td>\n",
       "    </tr>\n",
       "    <tr>\n",
       "      <th>Florida</th>\n",
       "      <td>-8.875461</td>\n",
       "      <td>3.600522</td>\n",
       "      <td>233.612815</td>\n",
       "    </tr>\n",
       "    <tr>\n",
       "      <th>Georgia</th>\n",
       "      <td>88.315453</td>\n",
       "      <td>3.831522</td>\n",
       "      <td>266.825217</td>\n",
       "    </tr>\n",
       "    <tr>\n",
       "      <th>Kentucky</th>\n",
       "      <td>80.573357</td>\n",
       "      <td>3.762590</td>\n",
       "      <td>263.250000</td>\n",
       "    </tr>\n",
       "    <tr>\n",
       "      <th>Louisiana</th>\n",
       "      <td>52.288150</td>\n",
       "      <td>3.714286</td>\n",
       "      <td>219.453095</td>\n",
       "    </tr>\n",
       "    <tr>\n",
       "      <th>Mississippi</th>\n",
       "      <td>59.867475</td>\n",
       "      <td>4.169811</td>\n",
       "      <td>203.232830</td>\n",
       "    </tr>\n",
       "    <tr>\n",
       "      <th>North Carolina</th>\n",
       "      <td>-30.083985</td>\n",
       "      <td>3.947791</td>\n",
       "      <td>223.305880</td>\n",
       "    </tr>\n",
       "    <tr>\n",
       "      <th>South Carolina</th>\n",
       "      <td>42.120395</td>\n",
       "      <td>4.095238</td>\n",
       "      <td>201.945476</td>\n",
       "    </tr>\n",
       "    <tr>\n",
       "      <th>Tennessee</th>\n",
       "      <td>-29.189583</td>\n",
       "      <td>3.721311</td>\n",
       "      <td>167.551219</td>\n",
       "    </tr>\n",
       "    <tr>\n",
       "      <th>Virginia</th>\n",
       "      <td>83.026564</td>\n",
       "      <td>3.986607</td>\n",
       "      <td>315.342500</td>\n",
       "    </tr>\n",
       "    <tr>\n",
       "      <th rowspan=\"11\" valign=\"top\">West</th>\n",
       "      <th>Arizona</th>\n",
       "      <td>-15.303235</td>\n",
       "      <td>3.848214</td>\n",
       "      <td>157.508933</td>\n",
       "    </tr>\n",
       "    <tr>\n",
       "      <th>California</th>\n",
       "      <td>38.171608</td>\n",
       "      <td>3.831584</td>\n",
       "      <td>228.729451</td>\n",
       "    </tr>\n",
       "    <tr>\n",
       "      <th>Colorado</th>\n",
       "      <td>-35.867351</td>\n",
       "      <td>3.807692</td>\n",
       "      <td>176.418231</td>\n",
       "    </tr>\n",
       "    <tr>\n",
       "      <th>Idaho</th>\n",
       "      <td>39.367767</td>\n",
       "      <td>3.047619</td>\n",
       "      <td>208.689810</td>\n",
       "    </tr>\n",
       "    <tr>\n",
       "      <th>Montana</th>\n",
       "      <td>122.221900</td>\n",
       "      <td>3.733333</td>\n",
       "      <td>372.623467</td>\n",
       "    </tr>\n",
       "    <tr>\n",
       "      <th>Nevada</th>\n",
       "      <td>85.045279</td>\n",
       "      <td>4.307692</td>\n",
       "      <td>428.951333</td>\n",
       "    </tr>\n",
       "    <tr>\n",
       "      <th>New Mexico</th>\n",
       "      <td>31.273408</td>\n",
       "      <td>4.081081</td>\n",
       "      <td>129.284378</td>\n",
       "    </tr>\n",
       "    <tr>\n",
       "      <th>Oregon</th>\n",
       "      <td>-9.600569</td>\n",
       "      <td>4.024194</td>\n",
       "      <td>140.573790</td>\n",
       "    </tr>\n",
       "    <tr>\n",
       "      <th>Utah</th>\n",
       "      <td>48.047802</td>\n",
       "      <td>4.132075</td>\n",
       "      <td>211.699170</td>\n",
       "    </tr>\n",
       "    <tr>\n",
       "      <th>Washington</th>\n",
       "      <td>66.013146</td>\n",
       "      <td>3.721344</td>\n",
       "      <td>273.994605</td>\n",
       "    </tr>\n",
       "    <tr>\n",
       "      <th>Wyoming</th>\n",
       "      <td>100.196000</td>\n",
       "      <td>4.000000</td>\n",
       "      <td>1603.136000</td>\n",
       "    </tr>\n",
       "  </tbody>\n",
       "</table>\n",
       "</div>"
      ],
      "text/plain": [
       "                                  Profit  Quantity        Sales\n",
       "Region  State                                                  \n",
       "Central Illinois              -25.625787  3.750000   162.939230\n",
       "        Indiana               123.375411  3.879195   359.431946\n",
       "        Iowa                   39.460397  3.733333   152.658667\n",
       "        Kansas                 34.851813  3.083333   121.429583\n",
       "        Michigan               95.934069  3.709804   299.096525\n",
       "        Minnesota             121.608847  3.719101   335.541011\n",
       "        Missouri               97.518341  3.818182   336.441667\n",
       "        Nebraska               53.607742  3.578947   196.445526\n",
       "        North Dakota           32.878529  4.285714   131.415714\n",
       "        Oklahoma               73.544788  3.742424   298.233182\n",
       "        South Dakota           32.902358  3.500000   109.630000\n",
       "        Texas                 -26.121174  3.780711   172.779742\n",
       "        Wisconsin              76.380004  4.209091   291.951000\n",
       "East    Connecticut            42.823071  3.426829   163.223866\n",
       "        Delaware              103.930988  3.822917   285.948635\n",
       "        District of Columbia  105.958930  4.000000   286.502000\n",
       "        Maine                  56.810775  4.375000   158.816250\n",
       "        Maryland               66.963608  4.000000   225.766886\n",
       "        Massachusetts          50.262975  3.637037   212.106919\n",
       "        New Hampshire          63.203807  4.703704   270.093481\n",
       "        New Jersey             75.176260  3.492308   275.110092\n",
       "        New York               65.637011  3.744681   275.599531\n",
       "        Ohio                  -36.186304  3.750533   166.861697\n",
       "        Pennsylvania          -26.507598  3.667802   198.487077\n",
       "        Rhode Island          130.100523  3.553571   404.070643\n",
       "        Vermont               204.088936  4.545455   811.760909\n",
       "        West Virginia          46.480400  4.500000   302.456000\n",
       "South   Alabama                94.865989  4.196721   319.846557\n",
       "        Arkansas               66.811452  4.000000   194.635500\n",
       "        Florida                -8.875461  3.600522   233.612815\n",
       "        Georgia                88.315453  3.831522   266.825217\n",
       "        Kentucky               80.573357  3.762590   263.250000\n",
       "        Louisiana              52.288150  3.714286   219.453095\n",
       "        Mississippi            59.867475  4.169811   203.232830\n",
       "        North Carolina        -30.083985  3.947791   223.305880\n",
       "        South Carolina         42.120395  4.095238   201.945476\n",
       "        Tennessee             -29.189583  3.721311   167.551219\n",
       "        Virginia               83.026564  3.986607   315.342500\n",
       "West    Arizona               -15.303235  3.848214   157.508933\n",
       "        California             38.171608  3.831584   228.729451\n",
       "        Colorado              -35.867351  3.807692   176.418231\n",
       "        Idaho                  39.367767  3.047619   208.689810\n",
       "        Montana               122.221900  3.733333   372.623467\n",
       "        Nevada                 85.045279  4.307692   428.951333\n",
       "        New Mexico             31.273408  4.081081   129.284378\n",
       "        Oregon                 -9.600569  4.024194   140.573790\n",
       "        Utah                   48.047802  4.132075   211.699170\n",
       "        Washington             66.013146  3.721344   273.994605\n",
       "        Wyoming               100.196000  4.000000  1603.136000"
      ]
     },
     "execution_count": 133,
     "metadata": {},
     "output_type": "execute_result"
    }
   ],
   "source": [
    "b"
   ]
  },
  {
   "cell_type": "code",
   "execution_count": 135,
   "id": "528f18f8-ea96-460e-9cf4-0a18b84fe51c",
   "metadata": {},
   "outputs": [
    {
     "data": {
      "text/html": [
       "<div>\n",
       "<style scoped>\n",
       "    .dataframe tbody tr th:only-of-type {\n",
       "        vertical-align: middle;\n",
       "    }\n",
       "\n",
       "    .dataframe tbody tr th {\n",
       "        vertical-align: top;\n",
       "    }\n",
       "\n",
       "    .dataframe thead tr th {\n",
       "        text-align: left;\n",
       "    }\n",
       "</style>\n",
       "<table border=\"1\" class=\"dataframe\">\n",
       "  <thead>\n",
       "    <tr>\n",
       "      <th>Region</th>\n",
       "      <th colspan=\"10\" halign=\"left\">Central</th>\n",
       "      <th>...</th>\n",
       "      <th colspan=\"10\" halign=\"left\">West</th>\n",
       "    </tr>\n",
       "    <tr>\n",
       "      <th>State</th>\n",
       "      <th>Illinois</th>\n",
       "      <th>Indiana</th>\n",
       "      <th>Iowa</th>\n",
       "      <th>Kansas</th>\n",
       "      <th>Michigan</th>\n",
       "      <th>Minnesota</th>\n",
       "      <th>Missouri</th>\n",
       "      <th>Nebraska</th>\n",
       "      <th>North Dakota</th>\n",
       "      <th>Oklahoma</th>\n",
       "      <th>...</th>\n",
       "      <th>California</th>\n",
       "      <th>Colorado</th>\n",
       "      <th>Idaho</th>\n",
       "      <th>Montana</th>\n",
       "      <th>Nevada</th>\n",
       "      <th>New Mexico</th>\n",
       "      <th>Oregon</th>\n",
       "      <th>Utah</th>\n",
       "      <th>Washington</th>\n",
       "      <th>Wyoming</th>\n",
       "    </tr>\n",
       "  </thead>\n",
       "  <tbody>\n",
       "    <tr>\n",
       "      <th>Profit</th>\n",
       "      <td>-25.625787</td>\n",
       "      <td>123.375411</td>\n",
       "      <td>39.460397</td>\n",
       "      <td>34.851813</td>\n",
       "      <td>95.934069</td>\n",
       "      <td>121.608847</td>\n",
       "      <td>97.518341</td>\n",
       "      <td>53.607742</td>\n",
       "      <td>32.878529</td>\n",
       "      <td>73.544788</td>\n",
       "      <td>...</td>\n",
       "      <td>38.171608</td>\n",
       "      <td>-35.867351</td>\n",
       "      <td>39.367767</td>\n",
       "      <td>122.221900</td>\n",
       "      <td>85.045279</td>\n",
       "      <td>31.273408</td>\n",
       "      <td>-9.600569</td>\n",
       "      <td>48.047802</td>\n",
       "      <td>66.013146</td>\n",
       "      <td>100.196</td>\n",
       "    </tr>\n",
       "    <tr>\n",
       "      <th>Quantity</th>\n",
       "      <td>3.750000</td>\n",
       "      <td>3.879195</td>\n",
       "      <td>3.733333</td>\n",
       "      <td>3.083333</td>\n",
       "      <td>3.709804</td>\n",
       "      <td>3.719101</td>\n",
       "      <td>3.818182</td>\n",
       "      <td>3.578947</td>\n",
       "      <td>4.285714</td>\n",
       "      <td>3.742424</td>\n",
       "      <td>...</td>\n",
       "      <td>3.831584</td>\n",
       "      <td>3.807692</td>\n",
       "      <td>3.047619</td>\n",
       "      <td>3.733333</td>\n",
       "      <td>4.307692</td>\n",
       "      <td>4.081081</td>\n",
       "      <td>4.024194</td>\n",
       "      <td>4.132075</td>\n",
       "      <td>3.721344</td>\n",
       "      <td>4.000</td>\n",
       "    </tr>\n",
       "    <tr>\n",
       "      <th>Sales</th>\n",
       "      <td>162.939230</td>\n",
       "      <td>359.431946</td>\n",
       "      <td>152.658667</td>\n",
       "      <td>121.429583</td>\n",
       "      <td>299.096525</td>\n",
       "      <td>335.541011</td>\n",
       "      <td>336.441667</td>\n",
       "      <td>196.445526</td>\n",
       "      <td>131.415714</td>\n",
       "      <td>298.233182</td>\n",
       "      <td>...</td>\n",
       "      <td>228.729451</td>\n",
       "      <td>176.418231</td>\n",
       "      <td>208.689810</td>\n",
       "      <td>372.623467</td>\n",
       "      <td>428.951333</td>\n",
       "      <td>129.284378</td>\n",
       "      <td>140.573790</td>\n",
       "      <td>211.699170</td>\n",
       "      <td>273.994605</td>\n",
       "      <td>1603.136</td>\n",
       "    </tr>\n",
       "  </tbody>\n",
       "</table>\n",
       "<p>3 rows × 49 columns</p>\n",
       "</div>"
      ],
      "text/plain": [
       "Region       Central                                                  \\\n",
       "State       Illinois     Indiana        Iowa      Kansas    Michigan   \n",
       "Profit    -25.625787  123.375411   39.460397   34.851813   95.934069   \n",
       "Quantity    3.750000    3.879195    3.733333    3.083333    3.709804   \n",
       "Sales     162.939230  359.431946  152.658667  121.429583  299.096525   \n",
       "\n",
       "Region                                                                 ...  \\\n",
       "State      Minnesota    Missouri    Nebraska North Dakota    Oklahoma  ...   \n",
       "Profit    121.608847   97.518341   53.607742    32.878529   73.544788  ...   \n",
       "Quantity    3.719101    3.818182    3.578947     4.285714    3.742424  ...   \n",
       "Sales     335.541011  336.441667  196.445526   131.415714  298.233182  ...   \n",
       "\n",
       "Region          West                                                  \\\n",
       "State     California    Colorado       Idaho     Montana      Nevada   \n",
       "Profit     38.171608  -35.867351   39.367767  122.221900   85.045279   \n",
       "Quantity    3.831584    3.807692    3.047619    3.733333    4.307692   \n",
       "Sales     228.729451  176.418231  208.689810  372.623467  428.951333   \n",
       "\n",
       "Region                                                              \n",
       "State     New Mexico      Oregon        Utah  Washington   Wyoming  \n",
       "Profit     31.273408   -9.600569   48.047802   66.013146   100.196  \n",
       "Quantity    4.081081    4.024194    4.132075    3.721344     4.000  \n",
       "Sales     129.284378  140.573790  211.699170  273.994605  1603.136  \n",
       "\n",
       "[3 rows x 49 columns]"
      ]
     },
     "execution_count": 135,
     "metadata": {},
     "output_type": "execute_result"
    }
   ],
   "source": [
    "b.transpose()"
   ]
  },
  {
   "cell_type": "code",
   "execution_count": 136,
   "id": "d6ecd7d0-a4e6-4690-91b7-249e81c035b3",
   "metadata": {},
   "outputs": [],
   "source": []
  },
  {
   "cell_type": "code",
   "execution_count": 137,
   "id": "83736b5d-2563-499a-aeb7-a0ed238c6769",
   "metadata": {},
   "outputs": [
    {
     "data": {
      "text/html": [
       "<div>\n",
       "<style scoped>\n",
       "    .dataframe tbody tr th:only-of-type {\n",
       "        vertical-align: middle;\n",
       "    }\n",
       "\n",
       "    .dataframe tbody tr th {\n",
       "        vertical-align: top;\n",
       "    }\n",
       "\n",
       "    .dataframe thead th {\n",
       "        text-align: right;\n",
       "    }\n",
       "</style>\n",
       "<table border=\"1\" class=\"dataframe\">\n",
       "  <thead>\n",
       "    <tr style=\"text-align: right;\">\n",
       "      <th></th>\n",
       "      <th>Customer Name</th>\n",
       "      <th>State</th>\n",
       "      <th>Sales</th>\n",
       "      <th>Profit</th>\n",
       "    </tr>\n",
       "  </thead>\n",
       "  <tbody>\n",
       "    <tr>\n",
       "      <th>7383</th>\n",
       "      <td>Alejandro Grove</td>\n",
       "      <td>Nebraska</td>\n",
       "      <td>17.610</td>\n",
       "      <td>8.4528</td>\n",
       "    </tr>\n",
       "    <tr>\n",
       "      <th>6087</th>\n",
       "      <td>Eric Hoffmann</td>\n",
       "      <td>California</td>\n",
       "      <td>29.220</td>\n",
       "      <td>12.8568</td>\n",
       "    </tr>\n",
       "    <tr>\n",
       "      <th>9917</th>\n",
       "      <td>Tamara Manning</td>\n",
       "      <td>Iowa</td>\n",
       "      <td>14.910</td>\n",
       "      <td>4.6221</td>\n",
       "    </tr>\n",
       "    <tr>\n",
       "      <th>316</th>\n",
       "      <td>Sung Pak</td>\n",
       "      <td>Pennsylvania</td>\n",
       "      <td>99.136</td>\n",
       "      <td>8.6744</td>\n",
       "    </tr>\n",
       "  </tbody>\n",
       "</table>\n",
       "</div>"
      ],
      "text/plain": [
       "        Customer Name         State   Sales   Profit\n",
       "7383  Alejandro Grove      Nebraska  17.610   8.4528\n",
       "6087    Eric Hoffmann    California  29.220  12.8568\n",
       "9917   Tamara Manning          Iowa  14.910   4.6221\n",
       "316          Sung Pak  Pennsylvania  99.136   8.6744"
      ]
     },
     "execution_count": 137,
     "metadata": {},
     "output_type": "execute_result"
    }
   ],
   "source": [
    "df2"
   ]
  },
  {
   "cell_type": "code",
   "execution_count": null,
   "id": "250949f1-cede-46bc-9f18-e9be09c3e5eb",
   "metadata": {},
   "outputs": [],
   "source": [
    "# .transpose()"
   ]
  },
  {
   "cell_type": "code",
   "execution_count": 144,
   "id": "16ba9d98-8cba-4090-822b-b2e2b220da0a",
   "metadata": {},
   "outputs": [
    {
     "data": {
      "text/html": [
       "<div>\n",
       "<style scoped>\n",
       "    .dataframe tbody tr th:only-of-type {\n",
       "        vertical-align: middle;\n",
       "    }\n",
       "\n",
       "    .dataframe tbody tr th {\n",
       "        vertical-align: top;\n",
       "    }\n",
       "\n",
       "    .dataframe thead th {\n",
       "        text-align: right;\n",
       "    }\n",
       "</style>\n",
       "<table border=\"1\" class=\"dataframe\">\n",
       "  <thead>\n",
       "    <tr style=\"text-align: right;\">\n",
       "      <th></th>\n",
       "      <th>Customer Name</th>\n",
       "      <th>State</th>\n",
       "      <th>Sales</th>\n",
       "      <th>Profit</th>\n",
       "    </tr>\n",
       "  </thead>\n",
       "  <tbody>\n",
       "    <tr>\n",
       "      <th>6254</th>\n",
       "      <td>Victoria Wilson</td>\n",
       "      <td>Alabama</td>\n",
       "      <td>21.36</td>\n",
       "      <td>8.1168</td>\n",
       "    </tr>\n",
       "    <tr>\n",
       "      <th>8338</th>\n",
       "      <td>Tamara Chand</td>\n",
       "      <td>Alabama</td>\n",
       "      <td>498.00</td>\n",
       "      <td>184.2600</td>\n",
       "    </tr>\n",
       "    <tr>\n",
       "      <th>9669</th>\n",
       "      <td>Amy Hunt</td>\n",
       "      <td>Alabama</td>\n",
       "      <td>14.94</td>\n",
       "      <td>6.8724</td>\n",
       "    </tr>\n",
       "    <tr>\n",
       "      <th>3500</th>\n",
       "      <td>Joe Kamberova</td>\n",
       "      <td>Alabama</td>\n",
       "      <td>62.94</td>\n",
       "      <td>30.2112</td>\n",
       "    </tr>\n",
       "    <tr>\n",
       "      <th>2739</th>\n",
       "      <td>Edward Becker</td>\n",
       "      <td>Alabama</td>\n",
       "      <td>477.24</td>\n",
       "      <td>9.5448</td>\n",
       "    </tr>\n",
       "    <tr>\n",
       "      <th>...</th>\n",
       "      <td>...</td>\n",
       "      <td>...</td>\n",
       "      <td>...</td>\n",
       "      <td>...</td>\n",
       "    </tr>\n",
       "    <tr>\n",
       "      <th>7990</th>\n",
       "      <td>Matt Abelman</td>\n",
       "      <td>Wisconsin</td>\n",
       "      <td>1.98</td>\n",
       "      <td>0.8910</td>\n",
       "    </tr>\n",
       "    <tr>\n",
       "      <th>5078</th>\n",
       "      <td>Catherine Glotzbach</td>\n",
       "      <td>Wisconsin</td>\n",
       "      <td>18.24</td>\n",
       "      <td>8.5728</td>\n",
       "    </tr>\n",
       "    <tr>\n",
       "      <th>9377</th>\n",
       "      <td>Dave Poirier</td>\n",
       "      <td>Wisconsin</td>\n",
       "      <td>32.56</td>\n",
       "      <td>8.4656</td>\n",
       "    </tr>\n",
       "    <tr>\n",
       "      <th>2941</th>\n",
       "      <td>Justin Deggeller</td>\n",
       "      <td>Wisconsin</td>\n",
       "      <td>1526.56</td>\n",
       "      <td>427.4368</td>\n",
       "    </tr>\n",
       "    <tr>\n",
       "      <th>6850</th>\n",
       "      <td>Jack O'Briant</td>\n",
       "      <td>Wisconsin</td>\n",
       "      <td>1565.88</td>\n",
       "      <td>407.1288</td>\n",
       "    </tr>\n",
       "  </tbody>\n",
       "</table>\n",
       "<p>3998 rows × 4 columns</p>\n",
       "</div>"
      ],
      "text/plain": [
       "            Customer Name      State    Sales    Profit\n",
       "6254      Victoria Wilson    Alabama    21.36    8.1168\n",
       "8338         Tamara Chand    Alabama   498.00  184.2600\n",
       "9669             Amy Hunt    Alabama    14.94    6.8724\n",
       "3500        Joe Kamberova    Alabama    62.94   30.2112\n",
       "2739        Edward Becker    Alabama   477.24    9.5448\n",
       "...                   ...        ...      ...       ...\n",
       "7990         Matt Abelman  Wisconsin     1.98    0.8910\n",
       "5078  Catherine Glotzbach  Wisconsin    18.24    8.5728\n",
       "9377         Dave Poirier  Wisconsin    32.56    8.4656\n",
       "2941     Justin Deggeller  Wisconsin  1526.56  427.4368\n",
       "6850        Jack O'Briant  Wisconsin  1565.88  407.1288\n",
       "\n",
       "[3998 rows x 4 columns]"
      ]
     },
     "execution_count": 144,
     "metadata": {},
     "output_type": "execute_result"
    }
   ],
   "source": [
    "df3.sort_values(by = 'State')"
   ]
  },
  {
   "cell_type": "code",
   "execution_count": 145,
   "id": "84c47574-c991-455a-9224-27a498f73aa9",
   "metadata": {},
   "outputs": [
    {
     "data": {
      "text/html": [
       "<div>\n",
       "<style scoped>\n",
       "    .dataframe tbody tr th:only-of-type {\n",
       "        vertical-align: middle;\n",
       "    }\n",
       "\n",
       "    .dataframe tbody tr th {\n",
       "        vertical-align: top;\n",
       "    }\n",
       "\n",
       "    .dataframe thead th {\n",
       "        text-align: right;\n",
       "    }\n",
       "</style>\n",
       "<table border=\"1\" class=\"dataframe\">\n",
       "  <thead>\n",
       "    <tr style=\"text-align: right;\">\n",
       "      <th></th>\n",
       "      <th>Customer Name</th>\n",
       "      <th>State</th>\n",
       "      <th>Sales</th>\n",
       "      <th>Profit</th>\n",
       "    </tr>\n",
       "  </thead>\n",
       "  <tbody>\n",
       "    <tr>\n",
       "      <th>3447</th>\n",
       "      <td>Kristina Nunn</td>\n",
       "      <td>Alabama</td>\n",
       "      <td>3.76</td>\n",
       "      <td>1.0904</td>\n",
       "    </tr>\n",
       "    <tr>\n",
       "      <th>6923</th>\n",
       "      <td>Maurice Satty</td>\n",
       "      <td>Alabama</td>\n",
       "      <td>7.38</td>\n",
       "      <td>3.3948</td>\n",
       "    </tr>\n",
       "    <tr>\n",
       "      <th>3481</th>\n",
       "      <td>Pauline Johnson</td>\n",
       "      <td>Alabama</td>\n",
       "      <td>8.96</td>\n",
       "      <td>2.7776</td>\n",
       "    </tr>\n",
       "    <tr>\n",
       "      <th>1269</th>\n",
       "      <td>Dan Campbell</td>\n",
       "      <td>Alabama</td>\n",
       "      <td>12.48</td>\n",
       "      <td>5.6160</td>\n",
       "    </tr>\n",
       "    <tr>\n",
       "      <th>9669</th>\n",
       "      <td>Amy Hunt</td>\n",
       "      <td>Alabama</td>\n",
       "      <td>14.94</td>\n",
       "      <td>6.8724</td>\n",
       "    </tr>\n",
       "    <tr>\n",
       "      <th>...</th>\n",
       "      <td>...</td>\n",
       "      <td>...</td>\n",
       "      <td>...</td>\n",
       "      <td>...</td>\n",
       "    </tr>\n",
       "    <tr>\n",
       "      <th>5728</th>\n",
       "      <td>Jeremy Pistek</td>\n",
       "      <td>Wisconsin</td>\n",
       "      <td>1089.75</td>\n",
       "      <td>305.1300</td>\n",
       "    </tr>\n",
       "    <tr>\n",
       "      <th>8562</th>\n",
       "      <td>Denny Joy</td>\n",
       "      <td>Wisconsin</td>\n",
       "      <td>1454.90</td>\n",
       "      <td>378.2740</td>\n",
       "    </tr>\n",
       "    <tr>\n",
       "      <th>2941</th>\n",
       "      <td>Justin Deggeller</td>\n",
       "      <td>Wisconsin</td>\n",
       "      <td>1526.56</td>\n",
       "      <td>427.4368</td>\n",
       "    </tr>\n",
       "    <tr>\n",
       "      <th>6850</th>\n",
       "      <td>Jack O'Briant</td>\n",
       "      <td>Wisconsin</td>\n",
       "      <td>1565.88</td>\n",
       "      <td>407.1288</td>\n",
       "    </tr>\n",
       "    <tr>\n",
       "      <th>9513</th>\n",
       "      <td>Bobby Elias</td>\n",
       "      <td>Wisconsin</td>\n",
       "      <td>1649.75</td>\n",
       "      <td>544.4175</td>\n",
       "    </tr>\n",
       "  </tbody>\n",
       "</table>\n",
       "<p>3998 rows × 4 columns</p>\n",
       "</div>"
      ],
      "text/plain": [
       "         Customer Name      State    Sales    Profit\n",
       "3447     Kristina Nunn    Alabama     3.76    1.0904\n",
       "6923     Maurice Satty    Alabama     7.38    3.3948\n",
       "3481   Pauline Johnson    Alabama     8.96    2.7776\n",
       "1269      Dan Campbell    Alabama    12.48    5.6160\n",
       "9669          Amy Hunt    Alabama    14.94    6.8724\n",
       "...                ...        ...      ...       ...\n",
       "5728     Jeremy Pistek  Wisconsin  1089.75  305.1300\n",
       "8562         Denny Joy  Wisconsin  1454.90  378.2740\n",
       "2941  Justin Deggeller  Wisconsin  1526.56  427.4368\n",
       "6850     Jack O'Briant  Wisconsin  1565.88  407.1288\n",
       "9513       Bobby Elias  Wisconsin  1649.75  544.4175\n",
       "\n",
       "[3998 rows x 4 columns]"
      ]
     },
     "execution_count": 145,
     "metadata": {},
     "output_type": "execute_result"
    }
   ],
   "source": [
    "df3.sort_values(by = ['State','Sales'])"
   ]
  },
  {
   "cell_type": "code",
   "execution_count": null,
   "id": "8dbfd9a8-2dc2-4658-9062-9e20fc388217",
   "metadata": {},
   "outputs": [],
   "source": []
  },
  {
   "cell_type": "code",
   "execution_count": null,
   "id": "c429eb73-0c55-4837-901b-6b9eb11a6c52",
   "metadata": {},
   "outputs": [],
   "source": []
  },
  {
   "cell_type": "markdown",
   "id": "60ff81fb-21e1-4f62-8af8-d29306b86ca7",
   "metadata": {},
   "source": [
    "# How to create function and apply function to a data frame?"
   ]
  },
  {
   "cell_type": "code",
   "execution_count": 1,
   "id": "2d97f577-abec-45b4-820b-dbb9431a1fbb",
   "metadata": {},
   "outputs": [],
   "source": [
    "def categorize_sales(price):\n",
    "    if price < 50:\n",
    "        return 'Low'\n",
    "    elif price < 200:\n",
    "        return 'Medium'\n",
    "    else:\n",
    "        return 'High'"
   ]
  },
  {
   "cell_type": "code",
   "execution_count": 2,
   "id": "72b9affc-834b-4d93-b58f-642bb785e226",
   "metadata": {},
   "outputs": [
    {
     "data": {
      "text/plain": [
       "'Medium'"
      ]
     },
     "execution_count": 2,
     "metadata": {},
     "output_type": "execute_result"
    }
   ],
   "source": [
    "categorize_sales (160)"
   ]
  },
  {
   "cell_type": "code",
   "execution_count": 3,
   "id": "814ef465-1a95-48bc-9664-9953b8e51079",
   "metadata": {},
   "outputs": [
    {
     "ename": "NameError",
     "evalue": "name 'df' is not defined",
     "output_type": "error",
     "traceback": [
      "\u001b[1;31m---------------------------------------------------------------------------\u001b[0m",
      "\u001b[1;31mNameError\u001b[0m                                 Traceback (most recent call last)",
      "Cell \u001b[1;32mIn[3], line 1\u001b[0m\n\u001b[1;32m----> 1\u001b[0m df_4 \u001b[38;5;241m=\u001b[39m \u001b[43mdf\u001b[49m[[\u001b[38;5;124m'\u001b[39m\u001b[38;5;124mSales\u001b[39m\u001b[38;5;124m'\u001b[39m,\u001b[38;5;124m'\u001b[39m\u001b[38;5;124mProfit\u001b[39m\u001b[38;5;124m'\u001b[39m, \u001b[38;5;124m'\u001b[39m\u001b[38;5;124mState\u001b[39m\u001b[38;5;124m'\u001b[39m]]\n\u001b[0;32m      2\u001b[0m df_4\n",
      "\u001b[1;31mNameError\u001b[0m: name 'df' is not defined"
     ]
    }
   ],
   "source": [
    "df_4 = df[['Sales','Profit', 'State']]\n",
    "df_4"
   ]
  },
  {
   "cell_type": "code",
   "execution_count": 156,
   "id": "7128d35e-8071-4b82-9469-3ac336a01fdb",
   "metadata": {},
   "outputs": [
    {
     "name": "stderr",
     "output_type": "stream",
     "text": [
      "C:\\Users\\Admin\\AppData\\Local\\Temp\\ipykernel_3432\\2600316646.py:1: SettingWithCopyWarning: \n",
      "A value is trying to be set on a copy of a slice from a DataFrame.\n",
      "Try using .loc[row_indexer,col_indexer] = value instead\n",
      "\n",
      "See the caveats in the documentation: https://pandas.pydata.org/pandas-docs/stable/user_guide/indexing.html#returning-a-view-versus-a-copy\n",
      "  df_4['Sale Price Category'] = df_4['Sales'].apply(categorize_sales)\n"
     ]
    },
    {
     "data": {
      "text/html": [
       "<div>\n",
       "<style scoped>\n",
       "    .dataframe tbody tr th:only-of-type {\n",
       "        vertical-align: middle;\n",
       "    }\n",
       "\n",
       "    .dataframe tbody tr th {\n",
       "        vertical-align: top;\n",
       "    }\n",
       "\n",
       "    .dataframe thead th {\n",
       "        text-align: right;\n",
       "    }\n",
       "</style>\n",
       "<table border=\"1\" class=\"dataframe\">\n",
       "  <thead>\n",
       "    <tr style=\"text-align: right;\">\n",
       "      <th></th>\n",
       "      <th>Sales</th>\n",
       "      <th>Profit</th>\n",
       "      <th>State</th>\n",
       "      <th>Sale Price Category</th>\n",
       "    </tr>\n",
       "  </thead>\n",
       "  <tbody>\n",
       "    <tr>\n",
       "      <th>0</th>\n",
       "      <td>261.9600</td>\n",
       "      <td>41.9136</td>\n",
       "      <td>Kentucky</td>\n",
       "      <td>High</td>\n",
       "    </tr>\n",
       "    <tr>\n",
       "      <th>1</th>\n",
       "      <td>731.9400</td>\n",
       "      <td>219.5820</td>\n",
       "      <td>Kentucky</td>\n",
       "      <td>High</td>\n",
       "    </tr>\n",
       "    <tr>\n",
       "      <th>2</th>\n",
       "      <td>14.6200</td>\n",
       "      <td>6.8714</td>\n",
       "      <td>California</td>\n",
       "      <td>Low</td>\n",
       "    </tr>\n",
       "    <tr>\n",
       "      <th>3</th>\n",
       "      <td>957.5775</td>\n",
       "      <td>-383.0310</td>\n",
       "      <td>Florida</td>\n",
       "      <td>High</td>\n",
       "    </tr>\n",
       "    <tr>\n",
       "      <th>4</th>\n",
       "      <td>22.3680</td>\n",
       "      <td>2.5164</td>\n",
       "      <td>Florida</td>\n",
       "      <td>Low</td>\n",
       "    </tr>\n",
       "    <tr>\n",
       "      <th>...</th>\n",
       "      <td>...</td>\n",
       "      <td>...</td>\n",
       "      <td>...</td>\n",
       "      <td>...</td>\n",
       "    </tr>\n",
       "    <tr>\n",
       "      <th>9989</th>\n",
       "      <td>25.2480</td>\n",
       "      <td>4.1028</td>\n",
       "      <td>Florida</td>\n",
       "      <td>Low</td>\n",
       "    </tr>\n",
       "    <tr>\n",
       "      <th>9990</th>\n",
       "      <td>91.9600</td>\n",
       "      <td>15.6332</td>\n",
       "      <td>California</td>\n",
       "      <td>Medium</td>\n",
       "    </tr>\n",
       "    <tr>\n",
       "      <th>9991</th>\n",
       "      <td>258.5760</td>\n",
       "      <td>19.3932</td>\n",
       "      <td>California</td>\n",
       "      <td>High</td>\n",
       "    </tr>\n",
       "    <tr>\n",
       "      <th>9992</th>\n",
       "      <td>29.6000</td>\n",
       "      <td>13.3200</td>\n",
       "      <td>California</td>\n",
       "      <td>Low</td>\n",
       "    </tr>\n",
       "    <tr>\n",
       "      <th>9993</th>\n",
       "      <td>243.1600</td>\n",
       "      <td>72.9480</td>\n",
       "      <td>California</td>\n",
       "      <td>High</td>\n",
       "    </tr>\n",
       "  </tbody>\n",
       "</table>\n",
       "<p>9994 rows × 4 columns</p>\n",
       "</div>"
      ],
      "text/plain": [
       "         Sales    Profit       State Sale Price Category\n",
       "0     261.9600   41.9136    Kentucky                High\n",
       "1     731.9400  219.5820    Kentucky                High\n",
       "2      14.6200    6.8714  California                 Low\n",
       "3     957.5775 -383.0310     Florida                High\n",
       "4      22.3680    2.5164     Florida                 Low\n",
       "...        ...       ...         ...                 ...\n",
       "9989   25.2480    4.1028     Florida                 Low\n",
       "9990   91.9600   15.6332  California              Medium\n",
       "9991  258.5760   19.3932  California                High\n",
       "9992   29.6000   13.3200  California                 Low\n",
       "9993  243.1600   72.9480  California                High\n",
       "\n",
       "[9994 rows x 4 columns]"
      ]
     },
     "execution_count": 156,
     "metadata": {},
     "output_type": "execute_result"
    }
   ],
   "source": [
    "df_4['Sale Price Category'] = df_4['Sales'].apply(categorize_sales)\n",
    "df_4"
   ]
  },
  {
   "cell_type": "code",
   "execution_count": null,
   "id": "05698bda-094a-4a6a-b9a4-766d67a70683",
   "metadata": {},
   "outputs": [],
   "source": []
  },
  {
   "cell_type": "markdown",
   "id": "0e9020d5-2de6-4141-b236-a36e292d81d8",
   "metadata": {},
   "source": [
    "# INTRODUCTION TO BEAUTIFUL SOUP 4 and WEB PAGE PARSING\n",
    "# 23-03-23\n",
    "\n",
    "\n"
   ]
  },
  {
   "cell_type": "code",
   "execution_count": 29,
   "id": "06e6cfbe-c547-4b49-a18b-4cb5078bfb35",
   "metadata": {},
   "outputs": [],
   "source": [
    "# ###  Beautiful soup is a program that allows users to scrap web\n",
    "# ### Beautiful Soup 4 is a special tool that helps people to look inside a webpage and find information they need. \n",
    "# ### It's like having a magic magnifying glass that lets you see the hidden secrets of a webpage.\n",
    "\n",
    "# ### Sometimes webpages can be really messy and hard to understand. \n",
    "# ### Beautiful Soup 4 helps to clean up the messiness and make the important parts easier to find. \n",
    "# ### It's like a super-powered cleaning robot for webpages!\n",
    "\n",
    "# ### Once you have the important information, you can use it to do lots of cool things,\n",
    "# ### like analyzing the data or creating new websites with the information you found.\n",
    "\n",
    "# ### So that's what Beautiful Soup 4 does - \n",
    "# ### it helps you find and clean up important information on webpages!"
   ]
  },
  {
   "cell_type": "code",
   "execution_count": null,
   "id": "4d65733f-07da-4f0a-87c6-10f01bd90746",
   "metadata": {},
   "outputs": [],
   "source": [
    "from bs4 import BeautifulSoup\n",
    "\n",
    "with open('C:/Users/Admin/DATA SCIENCE CLASS/data/test.html', 'r') as fd:\n",
    "    soup = BeautifulSoup(fd)\n",
    "\n",
    "    print(type(soup))"
   ]
  },
  {
   "cell_type": "code",
   "execution_count": 20,
   "id": "17b41f7d-14c7-492f-bb2f-34797211f01d",
   "metadata": {},
   "outputs": [
    {
     "name": "stdout",
     "output_type": "stream",
     "text": [
      "<html><body><h1>Lorem ipsum dolor sit amet consectetuer adipiscing \n",
      "elit</h1>\n",
      "<p>Lorem ipsum dolor sit amet, consectetuer adipiscing \n",
      "elit. Aenean commodo ligula eget dolor. Aenean massa \n",
      "<strong>strong</strong>. Cum sociis natoque penatibus \n",
      "et magnis dis parturient montes, nascetur ridiculus \n",
      "mus. Donec quam felis, ultricies nec, pellentesque \n",
      "eu, pretium quis, sem. Nulla consequat massa quis \n",
      "enim. Donec pede justo, fringilla vel, aliquet nec, \n",
      "vulputate eget, arcu. In enim justo, rhoncus ut, \n",
      "imperdiet a, venenatis vitae, justo. Nullam dictum \n",
      "felis eu pede <a class=\"external ext\" href=\"#\">link</a> \n",
      "mollis pretium. Integer tincidunt. Cras dapibus. \n",
      "Vivamus elementum semper nisi. Aenean vulputate \n",
      "eleifend tellus. Aenean leo ligula, porttitor eu, \n",
      "consequat vitae, eleifend ac, enim. Aliquam lorem ante, \n",
      "dapibus in, viverra quis, feugiat a, tellus. Phasellus \n",
      "viverra nulla ut metus varius laoreet. Quisque rutrum. \n",
      "Aenean imperdiet. Etiam ultricies nisi vel augue. \n",
      "Curabitur ullamcorper ultricies nisi.</p>\n",
      "<h1>Lorem ipsum dolor sit amet consectetuer adipiscing \n",
      "elit</h1>\n",
      "<h2>Aenean commodo ligula eget dolor aenean massa</h2>\n",
      "<p>Lorem ipsum dolor sit amet, consectetuer adipiscing \n",
      "elit. Aenean commodo ligula eget dolor. Aenean massa. \n",
      "Cum sociis natoque penatibus et magnis dis parturient \n",
      "montes, nascetur ridiculus mus. Donec quam felis, \n",
      "ultricies nec, pellentesque eu, pretium quis, sem.</p>\n",
      "<h2>Aenean commodo ligula eget dolor aenean massa</h2>\n",
      "<p>Lorem ipsum dolor sit amet, consectetuer adipiscing \n",
      "elit. Aenean commodo ligula eget dolor. Aenean massa. \n",
      "Cum sociis natoque penatibus et magnis dis parturient \n",
      "montes, nascetur ridiculus mus. Donec quam felis, \n",
      "ultricies nec, pellentesque eu, pretium quis, sem.</p>\n",
      "<ul>\n",
      "<li><a href=\"https://en.wikipedia.org/wiki/Entropy_(information_theory)\">Information Entropy</a></li>\n",
      "<li><a href=\"http://www.gutenberg.org/browse/scores/top\">Top books in Gutenberg</a></li>\n",
      "<li><a href=\"https://www.imdb.com/chart/top\">Top 250 movies in IMDB</a></li>\n",
      "</ul>\n",
      "<p>Lorem ipsum dolor sit amet, consectetuer adipiscing \n",
      "elit. Aenean commodo ligula eget dolor. Aenean massa. \n",
      "Cum sociis natoque penatibus et magnis dis parturient \n",
      "montes, nascetur ridiculus mus. Donec quam felis, \n",
      "ultricies nec, pellentesque eu, pretium quis, sem.</p>\n",
      "<form action=\"#\" method=\"post\">\n",
      "<fieldset>\n",
      "<label for=\"name\">Name:</label>\n",
      "<input id=\"name\" placeholder=\"Enter your \n",
      "full name\" type=\"text\"/>\n",
      "<label for=\"email\">Email:</label>\n",
      "<input id=\"email\" placeholder=\"Enter \n",
      "your email address\" type=\"email\"/>\n",
      "<label for=\"message\">Message:</label>\n",
      "<textarea id=\"message\" placeholder=\"What's on your \n",
      "mind?\"></textarea>\n",
      "<input type=\"submit\" value=\"Send message\"/>\n",
      "</fieldset>\n",
      "</form>\n",
      "<p>Lorem ipsum dolor sit amet, consectetuer adipiscing \n",
      "elit. Aenean commodo ligula eget dolor. Aenean massa. \n",
      "Cum sociis natoque penatibus et magnis dis parturient \n",
      "montes, nascetur ridiculus mus. Donec quam felis, \n",
      "ultricies nec, pellentesque eu, pretium quis, sem.</p>\n",
      "<table class=\"data\">\n",
      "<tr>\n",
      "<th>Entry Header 1</th>\n",
      "<th>Entry Header 2</th>\n",
      "<th>Entry Header 3</th>\n",
      "<th>Entry Header 4</th>\n",
      "</tr>\n",
      "<tr>\n",
      "<td>Entry First Line 1</td>\n",
      "<td>Entry First Line 2</td>\n",
      "<td>Entry First Line 3</td>\n",
      "<td>Entry First Line 4</td>\n",
      "</tr>\n",
      "<tr>\n",
      "<td>Entry Line 1</td>\n",
      "<td>Entry Line 2</td>\n",
      "<td>Entry Line 3</td>\n",
      "<td>Entry Line 4</td>\n",
      "</tr>\n",
      "<tr>\n",
      "<td>Entry Last Line 1</td>\n",
      "<td>Entry Last Line 2</td>\n",
      "<td>Entry Last Line 3</td>\n",
      "<td>Entry Last Line 4</td>\n",
      "</tr>\n",
      "</table>\n",
      "<p>Lorem ipsum dolor sit amet, consectetuer adipiscing \n",
      "elit. Aenean commodo ligula eget dolor. Aenean massa. \n",
      "Cum sociis natoque penatibus et magnis dis parturient \n",
      "montes, nascetur ridiculus mus. Donec quam felis, \n",
      "ultricies nec, pellentesque eu, pretium quis, sem.</p>\n",
      "</body></html>\n"
     ]
    }
   ],
   "source": [
    "print(soup)"
   ]
  },
  {
   "cell_type": "code",
   "execution_count": 14,
   "id": "d0fe1a26-c32a-4e37-88e6-aace754afaa8",
   "metadata": {},
   "outputs": [
    {
     "name": "stdout",
     "output_type": "stream",
     "text": [
      "<p>Lorem ipsum dolor sit amet, consectetuer adipiscing \n",
      "elit. Aenean commodo ligula eget dolor. Aenean massa \n",
      "<strong>strong</strong>. Cum sociis natoque penatibus \n",
      "et magnis dis parturient montes, nascetur ridiculus \n",
      "mus. Donec quam felis, ultricies nec, pellentesque \n",
      "eu, pretium quis, sem. Nulla consequat massa quis \n",
      "enim. Donec pede justo, fringilla vel, aliquet nec, \n",
      "vulputate eget, arcu. In enim justo, rhoncus ut, \n",
      "imperdiet a, venenatis vitae, justo. Nullam dictum \n",
      "felis eu pede <a class=\"external ext\" href=\"#\">link</a> \n",
      "mollis pretium. Integer tincidunt. Cras dapibus. \n",
      "Vivamus elementum semper nisi. Aenean vulputate \n",
      "eleifend tellus. Aenean leo ligula, porttitor eu, \n",
      "consequat vitae, eleifend ac, enim. Aliquam lorem ante, \n",
      "dapibus in, viverra quis, feugiat a, tellus. Phasellus \n",
      "viverra nulla ut metus varius laoreet. Quisque rutrum. \n",
      "Aenean imperdiet. Etiam ultricies nisi vel augue. \n",
      "Curabitur ullamcorper ultricies nisi.</p> \n",
      "\n",
      "<p>Lorem ipsum dolor sit amet, consectetuer adipiscing \n",
      "elit. Aenean commodo ligula eget dolor. Aenean massa. \n",
      "Cum sociis natoque penatibus et magnis dis parturient \n",
      "montes, nascetur ridiculus mus. Donec quam felis, \n",
      "ultricies nec, pellentesque eu, pretium quis, sem.</p> \n",
      "\n",
      "<p>Lorem ipsum dolor sit amet, consectetuer adipiscing \n",
      "elit. Aenean commodo ligula eget dolor. Aenean massa. \n",
      "Cum sociis natoque penatibus et magnis dis parturient \n",
      "montes, nascetur ridiculus mus. Donec quam felis, \n",
      "ultricies nec, pellentesque eu, pretium quis, sem.</p> \n",
      "\n",
      "<p>Lorem ipsum dolor sit amet, consectetuer adipiscing \n",
      "elit. Aenean commodo ligula eget dolor. Aenean massa. \n",
      "Cum sociis natoque penatibus et magnis dis parturient \n",
      "montes, nascetur ridiculus mus. Donec quam felis, \n",
      "ultricies nec, pellentesque eu, pretium quis, sem.</p> \n",
      "\n",
      "<p>Lorem ipsum dolor sit amet, consectetuer adipiscing \n",
      "elit. Aenean commodo ligula eget dolor. Aenean massa. \n",
      "Cum sociis natoque penatibus et magnis dis parturient \n",
      "montes, nascetur ridiculus mus. Donec quam felis, \n",
      "ultricies nec, pellentesque eu, pretium quis, sem.</p> \n",
      "\n",
      "<p>Lorem ipsum dolor sit amet, consectetuer adipiscing \n",
      "elit. Aenean commodo ligula eget dolor. Aenean massa. \n",
      "Cum sociis natoque penatibus et magnis dis parturient \n",
      "montes, nascetur ridiculus mus. Donec quam felis, \n",
      "ultricies nec, pellentesque eu, pretium quis, sem.</p> \n",
      "\n"
     ]
    }
   ],
   "source": [
    "all_p = soup.find_all('p')\n",
    "for p in all_p:\n",
    "    print(p, '\\n')"
   ]
  },
  {
   "cell_type": "code",
   "execution_count": 19,
   "id": "c173f397-5bea-4078-b05e-8500d396c830",
   "metadata": {},
   "outputs": [
    {
     "name": "stdout",
     "output_type": "stream",
     "text": [
      "6\n"
     ]
    }
   ],
   "source": [
    "# get the lenght of all paragraph\n",
    "print(len(all_p))"
   ]
  },
  {
   "cell_type": "code",
   "execution_count": null,
   "id": "f876cc64-2d0e-4426-9e2d-28ebf551f63a",
   "metadata": {},
   "outputs": [],
   "source": []
  },
  {
   "cell_type": "code",
   "execution_count": null,
   "id": "2db80e3f-e400-4eb5-ad4f-76cee188f214",
   "metadata": {},
   "outputs": [],
   "source": []
  },
  {
   "cell_type": "code",
   "execution_count": 21,
   "id": "6afab3db-20b7-4251-9cf7-4a2e1a7e2ff7",
   "metadata": {},
   "outputs": [
    {
     "name": "stdout",
     "output_type": "stream",
     "text": [
      "Lorem ipsum dolor sit amet, consectetuer adipiscing \n",
      "elit. Aenean commodo ligula eget dolor. Aenean massa \n",
      " \n",
      "\n",
      "<strong>strong</strong> \n",
      "\n",
      ". Cum sociis natoque penatibus \n",
      "et magnis dis parturient montes, nascetur ridiculus \n",
      "mus. Donec quam felis, ultricies nec, pellentesque \n",
      "eu, pretium quis, sem. Nulla consequat massa quis \n",
      "enim. Donec pede justo, fringilla vel, aliquet nec, \n",
      "vulputate eget, arcu. In enim justo, rhoncus ut, \n",
      "imperdiet a, venenatis vitae, justo. Nullam dictum \n",
      "felis eu pede  \n",
      "\n",
      "<a class=\"external ext\" href=\"#\">link</a> \n",
      "\n",
      " \n",
      "mollis pretium. Integer tincidunt. Cras dapibus. \n",
      "Vivamus elementum semper nisi. Aenean vulputate \n",
      "eleifend tellus. Aenean leo ligula, porttitor eu, \n",
      "consequat vitae, eleifend ac, enim. Aliquam lorem ante, \n",
      "dapibus in, viverra quis, feugiat a, tellus. Phasellus \n",
      "viverra nulla ut metus varius laoreet. Quisque rutrum. \n",
      "Aenean imperdiet. Etiam ultricies nisi vel augue. \n",
      "Curabitur ullamcorper ultricies nisi. \n",
      "\n"
     ]
    }
   ],
   "source": [
    "# print all children of all paragraph\n",
    "for child in all_p[0].children:\n",
    "    print(child, '\\n')"
   ]
  },
  {
   "cell_type": "code",
   "execution_count": 24,
   "id": "89ef96a5-2442-415d-a67d-28b98378cad5",
   "metadata": {},
   "outputs": [
    {
     "name": "stdout",
     "output_type": "stream",
     "text": [
      "\n",
      "\n",
      "<tr>\n",
      "<th>Entry Header 1</th>\n",
      "<th>Entry Header 2</th>\n",
      "<th>Entry Header 3</th>\n",
      "<th>Entry Header 4</th>\n",
      "</tr>\n",
      "\n",
      "\n",
      "<tr>\n",
      "<td>Entry First Line 1</td>\n",
      "<td>Entry First Line 2</td>\n",
      "<td>Entry First Line 3</td>\n",
      "<td>Entry First Line 4</td>\n",
      "</tr>\n",
      "\n",
      "\n",
      "<tr>\n",
      "<td>Entry Line 1</td>\n",
      "<td>Entry Line 2</td>\n",
      "<td>Entry Line 3</td>\n",
      "<td>Entry Line 4</td>\n",
      "</tr>\n",
      "\n",
      "\n",
      "<tr>\n",
      "<td>Entry Last Line 1</td>\n",
      "<td>Entry Last Line 2</td>\n",
      "<td>Entry Last Line 3</td>\n",
      "<td>Entry Last Line 4</td>\n",
      "</tr>\n",
      "\n",
      "\n"
     ]
    }
   ],
   "source": [
    "table = soup.table\n",
    "\n",
    "for child in table.children:\n",
    "    print(child)"
   ]
  },
  {
   "cell_type": "code",
   "execution_count": 28,
   "id": "a0be42c6-4140-431b-9d9c-44a449e876ed",
   "metadata": {},
   "outputs": [
    {
     "name": "stdout",
     "output_type": "stream",
     "text": [
      "Entry Header 1\n",
      "Entry Header 2\n",
      "Entry Header 3\n",
      "Entry Header 4\n"
     ]
    }
   ],
   "source": [
    "all_th = soup.find_all('th')\n",
    "# print(len(all_th))\n",
    "for col in all_th:\n",
    "    print(col.get_text())"
   ]
  },
  {
   "cell_type": "code",
   "execution_count": 30,
   "id": "57522ade-fcd2-4746-894d-33dea181183c",
   "metadata": {},
   "outputs": [
    {
     "name": "stdout",
     "output_type": "stream",
     "text": [
      "\n",
      "\n",
      "<tr>\n",
      "<th>Entry Header 1</th>\n",
      "<th>Entry Header 2</th>\n",
      "<th>Entry Header 3</th>\n",
      "<th>Entry Header 4</th>\n",
      "</tr>\n",
      "\n",
      "\n",
      "<th>Entry Header 1</th>\n",
      "Entry Header 1\n",
      "\n",
      "\n",
      "<th>Entry Header 2</th>\n",
      "Entry Header 2\n",
      "\n",
      "\n",
      "<th>Entry Header 3</th>\n",
      "Entry Header 3\n",
      "\n",
      "\n",
      "<th>Entry Header 4</th>\n",
      "Entry Header 4\n",
      "\n",
      "\n",
      "\n",
      "\n",
      "<tr>\n",
      "<td>Entry First Line 1</td>\n",
      "<td>Entry First Line 2</td>\n",
      "<td>Entry First Line 3</td>\n",
      "<td>Entry First Line 4</td>\n",
      "</tr>\n",
      "\n",
      "\n",
      "<td>Entry First Line 1</td>\n",
      "Entry First Line 1\n",
      "\n",
      "\n",
      "<td>Entry First Line 2</td>\n",
      "Entry First Line 2\n",
      "\n",
      "\n",
      "<td>Entry First Line 3</td>\n",
      "Entry First Line 3\n",
      "\n",
      "\n",
      "<td>Entry First Line 4</td>\n",
      "Entry First Line 4\n",
      "\n",
      "\n",
      "\n",
      "\n",
      "<tr>\n",
      "<td>Entry Line 1</td>\n",
      "<td>Entry Line 2</td>\n",
      "<td>Entry Line 3</td>\n",
      "<td>Entry Line 4</td>\n",
      "</tr>\n",
      "\n",
      "\n",
      "<td>Entry Line 1</td>\n",
      "Entry Line 1\n",
      "\n",
      "\n",
      "<td>Entry Line 2</td>\n",
      "Entry Line 2\n",
      "\n",
      "\n",
      "<td>Entry Line 3</td>\n",
      "Entry Line 3\n",
      "\n",
      "\n",
      "<td>Entry Line 4</td>\n",
      "Entry Line 4\n",
      "\n",
      "\n",
      "\n",
      "\n",
      "<tr>\n",
      "<td>Entry Last Line 1</td>\n",
      "<td>Entry Last Line 2</td>\n",
      "<td>Entry Last Line 3</td>\n",
      "<td>Entry Last Line 4</td>\n",
      "</tr>\n",
      "\n",
      "\n",
      "<td>Entry Last Line 1</td>\n",
      "Entry Last Line 1\n",
      "\n",
      "\n",
      "<td>Entry Last Line 2</td>\n",
      "Entry Last Line 2\n",
      "\n",
      "\n",
      "<td>Entry Last Line 3</td>\n",
      "Entry Last Line 3\n",
      "\n",
      "\n",
      "<td>Entry Last Line 4</td>\n",
      "Entry Last Line 4\n",
      "\n",
      "\n",
      "\n",
      "\n"
     ]
    }
   ],
   "source": [
    "table = soup.table\n",
    "\n",
    "for descendants in table.descendants:\n",
    "    print(descendants)"
   ]
  },
  {
   "cell_type": "code",
   "execution_count": 32,
   "id": "432cc59a-5aaf-4feb-a3fc-56cff60a97aa",
   "metadata": {},
   "outputs": [
    {
     "name": "stdout",
     "output_type": "stream",
     "text": [
      "False\n",
      "False\n",
      "False\n",
      "False\n",
      "False\n",
      "False\n",
      "False\n",
      "False\n",
      "False\n",
      "False\n",
      "False\n",
      "False\n",
      "False\n",
      "False\n",
      "False\n",
      "False\n",
      "False\n",
      "False\n",
      "False\n",
      "True\n",
      "False\n",
      "False\n",
      "True\n",
      "False\n",
      "False\n",
      "True\n",
      "False\n",
      "False\n",
      "True\n",
      "False\n",
      "False\n",
      "False\n",
      "False\n",
      "False\n",
      "True\n",
      "False\n",
      "False\n",
      "True\n",
      "False\n",
      "False\n",
      "True\n",
      "False\n",
      "False\n",
      "True\n",
      "False\n",
      "False\n",
      "False\n",
      "False\n",
      "False\n",
      "True\n",
      "False\n",
      "False\n",
      "True\n",
      "False\n",
      "False\n",
      "True\n",
      "False\n",
      "False\n",
      "True\n",
      "False\n",
      "False\n"
     ]
    }
   ],
   "source": [
    "table = soup.table\n",
    "for descendants in table.descendants:\n",
    "    print('Line' in descendants)"
   ]
  },
  {
   "cell_type": "code",
   "execution_count": 33,
   "id": "39395126-fcfa-4a77-aa9d-1841e92afe3c",
   "metadata": {},
   "outputs": [
    {
     "name": "stdout",
     "output_type": "stream",
     "text": [
      "Entry First Line 1\n",
      "Entry First Line 2\n",
      "Entry First Line 3\n",
      "Entry First Line 4\n",
      "Entry Line 1\n",
      "Entry Line 2\n",
      "Entry Line 3\n",
      "Entry Line 4\n",
      "Entry Last Line 1\n",
      "Entry Last Line 2\n",
      "Entry Last Line 3\n",
      "Entry Last Line 4\n"
     ]
    }
   ],
   "source": [
    "table = soup.table\n",
    "for descendants in table.descendants:\n",
    "    if 'Line' in descendants:\n",
    "        print(descendants)"
   ]
  },
  {
   "cell_type": "code",
   "execution_count": 34,
   "id": "cc8055b0-ff39-451c-a52b-aa95376a1c4b",
   "metadata": {},
   "outputs": [
    {
     "name": "stdout",
     "output_type": "stream",
     "text": [
      "Collecting html5lib\n",
      "  Downloading html5lib-1.1-py2.py3-none-any.whl (112 kB)\n",
      "     ------------------------------------ 112.2/112.2 kB 407.7 kB/s eta 0:00:00\n",
      "Requirement already satisfied: six>=1.9 in c:\\users\\admin\\anaconda3\\lib\\site-packages (from html5lib) (1.16.0)\n",
      "Requirement already satisfied: webencodings in c:\\users\\admin\\anaconda3\\lib\\site-packages (from html5lib) (0.5.1)\n",
      "Installing collected packages: html5lib\n",
      "Successfully installed html5lib-1.1\n",
      "Note: you may need to restart the kernel to use updated packages.\n"
     ]
    }
   ],
   "source": [
    "pip install html5lib"
   ]
  },
  {
   "cell_type": "code",
   "execution_count": 38,
   "id": "86438cd8-a6c9-4c05-97e3-984538c8b5af",
   "metadata": {},
   "outputs": [
    {
     "name": "stdout",
     "output_type": "stream",
     "text": [
      "Requirement already satisfied: openpyxl in c:\\users\\admin\\anaconda3\\lib\\site-packages (3.0.10)\n",
      "Requirement already satisfied: et_xmlfile in c:\\users\\admin\\anaconda3\\lib\\site-packages (from openpyxl) (1.1.0)\n",
      "Note: you may need to restart the kernel to use updated packages.\n"
     ]
    }
   ],
   "source": [
    "pip install openpyxl"
   ]
  },
  {
   "cell_type": "code",
   "execution_count": 40,
   "id": "07fb3af7-0f96-479f-9992-8033453b1814",
   "metadata": {},
   "outputs": [
    {
     "data": {
      "text/html": [
       "<div>\n",
       "<style scoped>\n",
       "    .dataframe tbody tr th:only-of-type {\n",
       "        vertical-align: middle;\n",
       "    }\n",
       "\n",
       "    .dataframe tbody tr th {\n",
       "        vertical-align: top;\n",
       "    }\n",
       "\n",
       "    .dataframe thead th {\n",
       "        text-align: right;\n",
       "    }\n",
       "</style>\n",
       "<table border=\"1\" class=\"dataframe\">\n",
       "  <thead>\n",
       "    <tr style=\"text-align: right;\">\n",
       "      <th></th>\n",
       "      <th>NOC</th>\n",
       "      <th>Gold</th>\n",
       "      <th>Silver</th>\n",
       "      <th>Bronze</th>\n",
       "      <th>Total</th>\n",
       "    </tr>\n",
       "    <tr>\n",
       "      <th>Rank</th>\n",
       "      <th></th>\n",
       "      <th></th>\n",
       "      <th></th>\n",
       "      <th></th>\n",
       "      <th></th>\n",
       "    </tr>\n",
       "  </thead>\n",
       "  <tbody>\n",
       "    <tr>\n",
       "      <th>1</th>\n",
       "      <td>United States</td>\n",
       "      <td>46</td>\n",
       "      <td>37</td>\n",
       "      <td>38</td>\n",
       "      <td>121</td>\n",
       "    </tr>\n",
       "    <tr>\n",
       "      <th>2</th>\n",
       "      <td>Great Britain</td>\n",
       "      <td>27</td>\n",
       "      <td>23</td>\n",
       "      <td>17</td>\n",
       "      <td>67</td>\n",
       "    </tr>\n",
       "    <tr>\n",
       "      <th>3</th>\n",
       "      <td>China</td>\n",
       "      <td>26</td>\n",
       "      <td>18</td>\n",
       "      <td>26</td>\n",
       "      <td>70</td>\n",
       "    </tr>\n",
       "    <tr>\n",
       "      <th>4</th>\n",
       "      <td>Russia</td>\n",
       "      <td>19</td>\n",
       "      <td>17</td>\n",
       "      <td>20</td>\n",
       "      <td>56</td>\n",
       "    </tr>\n",
       "    <tr>\n",
       "      <th>5</th>\n",
       "      <td>Germany</td>\n",
       "      <td>17</td>\n",
       "      <td>10</td>\n",
       "      <td>15</td>\n",
       "      <td>42</td>\n",
       "    </tr>\n",
       "    <tr>\n",
       "      <th>...</th>\n",
       "      <td>...</td>\n",
       "      <td>...</td>\n",
       "      <td>...</td>\n",
       "      <td>...</td>\n",
       "      <td>...</td>\n",
       "    </tr>\n",
       "    <tr>\n",
       "      <th>78</th>\n",
       "      <td>Nigeria</td>\n",
       "      <td>0</td>\n",
       "      <td>0</td>\n",
       "      <td>1</td>\n",
       "      <td>1</td>\n",
       "    </tr>\n",
       "    <tr>\n",
       "      <th>78</th>\n",
       "      <td>Portugal</td>\n",
       "      <td>0</td>\n",
       "      <td>0</td>\n",
       "      <td>1</td>\n",
       "      <td>1</td>\n",
       "    </tr>\n",
       "    <tr>\n",
       "      <th>78</th>\n",
       "      <td>Trinidad and Tobago</td>\n",
       "      <td>0</td>\n",
       "      <td>0</td>\n",
       "      <td>1</td>\n",
       "      <td>1</td>\n",
       "    </tr>\n",
       "    <tr>\n",
       "      <th>78</th>\n",
       "      <td>United Arab Emirates</td>\n",
       "      <td>0</td>\n",
       "      <td>0</td>\n",
       "      <td>1</td>\n",
       "      <td>1</td>\n",
       "    </tr>\n",
       "    <tr>\n",
       "      <th>Totals (86 entries)</th>\n",
       "      <td>Totals (86 entries)</td>\n",
       "      <td>306</td>\n",
       "      <td>307</td>\n",
       "      <td>359</td>\n",
       "      <td>972</td>\n",
       "    </tr>\n",
       "  </tbody>\n",
       "</table>\n",
       "<p>87 rows × 5 columns</p>\n",
       "</div>"
      ],
      "text/plain": [
       "                                      NOC  Gold  Silver  Bronze  Total\n",
       "Rank                                                                  \n",
       "1                           United States    46      37      38    121\n",
       "2                           Great Britain    27      23      17     67\n",
       "3                                   China    26      18      26     70\n",
       "4                                  Russia    19      17      20     56\n",
       "5                                 Germany    17      10      15     42\n",
       "...                                   ...   ...     ...     ...    ...\n",
       "78                                Nigeria     0       0       1      1\n",
       "78                               Portugal     0       0       1      1\n",
       "78                    Trinidad and Tobago     0       0       1      1\n",
       "78                   United Arab Emirates     0       0       1      1\n",
       "Totals (86 entries)   Totals (86 entries)   306     307     359    972\n",
       "\n",
       "[87 rows x 5 columns]"
      ]
     },
     "execution_count": 40,
     "metadata": {},
     "output_type": "execute_result"
    }
   ],
   "source": [
    "import pandas as pd\n",
    "\n",
    "url = 'https://en.wikipedia.org/wiki/2016_Summer_Olympics_medal_table'\n",
    "list_of_df = pd.read_html(url)\n",
    "medal_table = list_of_df[3]\n",
    "medal_table.set_index('Rank', inplace=True)\n",
    "medal_table"
   ]
  },
  {
   "cell_type": "markdown",
   "id": "09893c74-7310-4ece-b762-1e3476bfda4e",
   "metadata": {},
   "source": [
    "#### Save my finished work as Excel on my file after finishing work"
   ]
  },
  {
   "cell_type": "code",
   "execution_count": 41,
   "id": "aa3a8cad-5801-447f-b46e-a3932ae09fd9",
   "metadata": {},
   "outputs": [],
   "source": [
    "\n",
    "writer = pd.ExcelWriter('test_output.xlsx')\n",
    "medal_table.to_excel(writer, 'Sheet1')\n",
    "writer.save()"
   ]
  },
  {
   "cell_type": "code",
   "execution_count": null,
   "id": "85fb8797-300f-4404-83af-e1a1eae067dc",
   "metadata": {},
   "outputs": [],
   "source": [
    "# to get all links in a webpage"
   ]
  },
  {
   "cell_type": "code",
   "execution_count": 47,
   "id": "9fd14502-9688-46cd-bf3b-1157cc3bfe8c",
   "metadata": {},
   "outputs": [
    {
     "name": "stdout",
     "output_type": "stream",
     "text": [
      "['https://www.iana.org/domains/example']\n"
     ]
    }
   ],
   "source": [
    "import requests\n",
    "from bs4 import BeautifulSoup\n",
    "\n",
    "# Make a GET request to the page\n",
    "url = \"https://www.example.com\"\n",
    "response = requests.get(url)\n",
    "\n",
    "# Parse the HTML content of the page\n",
    "soup = BeautifulSoup(response.content, 'html.parser')\n",
    "\n",
    "# Find all anchor tags and extract the href attribute (which contains the URL)\n",
    "links = []\n",
    "for a_tag in soup.find_all('a'):\n",
    "    link = a_tag.get('href')\n",
    "    if link is not None:\n",
    "        links.append(link)\n",
    "\n",
    "# Print the list of links\n",
    "print(links)\n"
   ]
  },
  {
   "cell_type": "code",
   "execution_count": 48,
   "id": "8422b3c0-94f3-4153-a815-11b151645465",
   "metadata": {},
   "outputs": [],
   "source": [
    "# get al links in a txt file"
   ]
  },
  {
   "cell_type": "code",
   "execution_count": 49,
   "id": "0916f829-6258-4656-ac34-a13212e67626",
   "metadata": {},
   "outputs": [
    {
     "name": "stdout",
     "output_type": "stream",
     "text": [
      "#\n",
      "https://en.wikipedia.org/wiki/Entropy_(information_theory)\n",
      "http://www.gutenberg.org/browse/scores/top\n",
      "https://www.imdb.com/chart/top\n"
     ]
    }
   ],
   "source": [
    "from bs4 import BeautifulSoup\n",
    "import requests\n",
    "with open(\"C:/Users/Admin/DATA SCIENCE CLASS/data/test.html\", \"r\") as f:\n",
    "    links = f.read()\n",
    "soup = BeautifulSoup(links, \"html.parser\")\n",
    "all_links = soup.find_all(\"a\")\n",
    "\n",
    "for link in all_links:\n",
    "    print(link.get(\"href\"))\n"
   ]
  },
  {
   "cell_type": "markdown",
   "id": "fd9cdca5-18e7-471a-be82-dbb0d9f0603e",
   "metadata": {},
   "source": [
    "# >>>>CONNECTING TO DATABASE SYSTEM<<<\n",
    "## 28-03-2023"
   ]
  },
  {
   "cell_type": "code",
   "execution_count": 2,
   "id": "145a5b20-545f-4714-ac5e-c416bd4e0978",
   "metadata": {},
   "outputs": [],
   "source": [
    "# Storage Enine and log management\n",
    "## this is responsible for efficiently storing and retrieving data on request. The server always manage this"
   ]
  },
  {
   "cell_type": "markdown",
   "id": "f2b9d9e9-c48d-4241-b16e-54daf6cbcad9",
   "metadata": {},
   "source": [
    "DDL: Data Definition Language\n",
    "DML: Data Manipulation Language\n",
    "DCL: Data Control Language\n",
    "TCL: Transaction Control Language\n",
    "\n",
    "\n",
    "DDL (Data Definition Language) - used to define the structure of the database schema, \n",
    "including creating, Rename, Truncate (to remove all record in table), altering, and dropping \n",
    "database objects such as tables, indexes, views, etc.(anytime you use a DDL language, it is auto done and it is permanent.)\n",
    "\n",
    "DML (Data Manipulation Language) - used to manipulate or change the data within the \n",
    "database, including inserting, updating, deleting, Merge and selecting data from tables.\n",
    "\n",
    "DCL (Data Control Language) - used to control access to the database,\n",
    "including granting or revoking privileges to users and roles. (Grant, revoke, deny*[only for msql server])\n",
    "\n",
    "TCL (Transaction Control Language) - used to manage transactions within the database,\n",
    "including committing or rolling back transactions and setting transaction isolation levels.\n",
    "properties of transaction: ACID\n",
    ">>Commit\n",
    ">>rollback\n",
    ">>savepoint"
   ]
  },
  {
   "cell_type": "code",
   "execution_count": 9,
   "id": "01f424d3-7a61-48fe-8dcf-2d274532b85c",
   "metadata": {},
   "outputs": [
    {
     "data": {
      "text/plain": [
       "<sqlite3.Connection at 0x2226f1e8c60>"
      ]
     },
     "execution_count": 9,
     "metadata": {},
     "output_type": "execute_result"
    }
   ],
   "source": [
    "import sqlite3\n",
    "\n",
    "con = sqlite3.connect('DS170123.db')\n",
    "con"
   ]
  },
  {
   "cell_type": "code",
   "execution_count": 10,
   "id": "8358162f-07df-480d-8deb-4ea0c4815c41",
   "metadata": {},
   "outputs": [
    {
     "ename": "OperationalError",
     "evalue": "table Student already exists",
     "output_type": "error",
     "traceback": [
      "\u001b[1;31m---------------------------------------------------------------------------\u001b[0m",
      "\u001b[1;31mOperationalError\u001b[0m                          Traceback (most recent call last)",
      "Cell \u001b[1;32mIn[10], line 12\u001b[0m\n\u001b[0;32m      7\u001b[0m cursor \u001b[38;5;241m=\u001b[39m con\u001b[38;5;241m.\u001b[39mcursor()\n\u001b[0;32m      8\u001b[0m stmt \u001b[38;5;241m=\u001b[39m \u001b[38;5;124m\"\"\"\u001b[39m\u001b[38;5;124m CREATE TABLE Student (stud_id integer primary key autoincrement, \u001b[39m\n\u001b[0;32m      9\u001b[0m \u001b[38;5;124m                                            name varchar(255), \u001b[39m\n\u001b[0;32m     10\u001b[0m \u001b[38;5;124m                                            city varchar(255),\u001b[39m\n\u001b[0;32m     11\u001b[0m \u001b[38;5;124m                                            pin int) \u001b[39m\u001b[38;5;124m\"\"\"\u001b[39m\n\u001b[1;32m---> 12\u001b[0m \u001b[43mcursor\u001b[49m\u001b[38;5;241;43m.\u001b[39;49m\u001b[43mexecute\u001b[49m\u001b[43m(\u001b[49m\u001b[43mstmt\u001b[49m\u001b[43m)\u001b[49m\n",
      "\u001b[1;31mOperationalError\u001b[0m: table Student already exists"
     ]
    }
   ],
   "source": [
    "import sqlite3\n",
    "# varchar is good to save space, cus if it is only char(90) \n",
    "# and the person use his name as sodiq..  \n",
    "# the remaining space will be take back\n",
    "\n",
    "with sqlite3.connect('DS170123.db') as con:\n",
    "    cursor = con.cursor()\n",
    "    stmt = \"\"\" CREATE TABLE Student (stud_id integer primary key autoincrement, \n",
    "                                                name varchar(255), \n",
    "                                                city varchar(255),\n",
    "                                                pin int) \"\"\"\n",
    "    cursor.execute(stmt)"
   ]
  },
  {
   "cell_type": "code",
   "execution_count": 11,
   "id": "03085bd8-b5c7-48d1-b555-b67bff961cc1",
   "metadata": {},
   "outputs": [],
   "source": [
    "with sqlite3.connect('DS170123.db') as con:\n",
    "    cursor = con.cursor()\n",
    "    stmt = \"\"\" insert into student (name, city, pin) values ('Ade', 'Lagos', '1212') \"\"\"\n",
    "    \n",
    "    cursor.execute(stmt)\n",
    "    #con.commit()"
   ]
  },
  {
   "cell_type": "code",
   "execution_count": 12,
   "id": "71a4b456-35c6-4e1f-a6a6-6f761e8e1ded",
   "metadata": {},
   "outputs": [],
   "source": [
    "import sqlite3\n",
    "\n",
    "conn = sqlite3.connect('DS170123.db')\n",
    "cursor = conn.cursor()\n",
    "stmt = \"\"\" \n",
    "    insert into student (name, city, pin) \n",
    "    values ('Biodun', 'Abuja', '1111') \n",
    "\"\"\"\n",
    "    \n",
    "cursor.execute(stmt)\n",
    "conn.commit()\n",
    "cursor.close()\n",
    "conn.close()"
   ]
  },
  {
   "cell_type": "code",
   "execution_count": 6,
   "id": "29001ac1-e8d6-4f6d-ac92-c10bdfeb4b9c",
   "metadata": {},
   "outputs": [],
   "source": [
    "# ADD MULTIPLE RECORDS\n",
    "\n",
    "import sqlite3\n",
    "# varchar is good to save space, cus if it is only char(90) \n",
    "# and the person use his name as sodiq..  \n",
    "# the remaining space will be take back\n",
    "\n",
    "with sqlite3.connect('DS170123.db') as con:\n",
    "    cursor = con.cursor()\n",
    "    record = (('Chika', 'Aba', '0001'),\n",
    "             ('Chioma', 'Edo', '2122'),\n",
    "             ('Oshin', 'Ogun', '0100'))\n",
    "    stmt = \"\"\"\n",
    "            insert into student (name, city, pin) values(?, ?, ?)\n",
    "    \"\"\"\n",
    "    cursor.executemany(stmt, record)"
   ]
  },
  {
   "cell_type": "code",
   "execution_count": 9,
   "id": "585638a4-9918-4034-bfee-d36c53d4a7cf",
   "metadata": {},
   "outputs": [
    {
     "ename": "OperationalError",
     "evalue": "near \"alter\": syntax error",
     "output_type": "error",
     "traceback": [
      "\u001b[1;31m---------------------------------------------------------------------------\u001b[0m",
      "\u001b[1;31mOperationalError\u001b[0m                          Traceback (most recent call last)",
      "Cell \u001b[1;32mIn[9], line 9\u001b[0m\n\u001b[0;32m      7\u001b[0m cursor \u001b[38;5;241m=\u001b[39m con\u001b[38;5;241m.\u001b[39mcursor()\n\u001b[0;32m      8\u001b[0m stmt \u001b[38;5;241m=\u001b[39m \u001b[38;5;124m\"\"\"\u001b[39m\u001b[38;5;124mAlter TABLE student alter column pin varchar(4)\u001b[39m\u001b[38;5;124m\"\"\"\u001b[39m\n\u001b[1;32m----> 9\u001b[0m \u001b[43mcursor\u001b[49m\u001b[38;5;241;43m.\u001b[39;49m\u001b[43mexecute\u001b[49m\u001b[43m(\u001b[49m\u001b[43mstmt\u001b[49m\u001b[43m)\u001b[49m\n",
      "\u001b[1;31mOperationalError\u001b[0m: near \"alter\": syntax error"
     ]
    }
   ],
   "source": [
    "import sqlite3\n",
    "# varchar is good to save space, cus if it is only char(90) \n",
    "# and the person use his name as sodiq..  \n",
    "# the remaining space will be take back\n",
    "\n",
    "with sqlite3.connect('DS170123.db') as con:\n",
    "    cursor = con.cursor()\n",
    "    stmt = \"\"\"Alter TABLE student alter column pin varchar(4)\"\"\"\n",
    "    cursor.execute(stmt)"
   ]
  },
  {
   "cell_type": "markdown",
   "id": "372e24e8-c8c8-425d-893a-c56916e2c163",
   "metadata": {},
   "source": [
    "# HADOOP SETUP SETUP\n",
    "# "
   ]
  },
  {
   "cell_type": "code",
   "execution_count": 1,
   "id": "684458f6-39e4-406d-bfcd-48d43fe03195",
   "metadata": {},
   "outputs": [
    {
     "name": "stdout",
     "output_type": "stream",
     "text": [
      "Collecting findspark\n",
      "  Downloading findspark-2.0.1-py2.py3-none-any.whl (4.4 kB)\n",
      "Installing collected packages: findspark\n",
      "Successfully installed findspark-2.0.1\n",
      "Note: you may need to restart the kernel to use updated packages.\n"
     ]
    }
   ],
   "source": [
    "pip install findspark"
   ]
  },
  {
   "cell_type": "code",
   "execution_count": 5,
   "id": "7408066e-51bc-4c15-a67f-4c394acb9b04",
   "metadata": {},
   "outputs": [
    {
     "name": "stdout",
     "output_type": "stream",
     "text": [
      "Requirement already satisfied: pyspark in c:\\users\\admin\\anaconda3\\lib\\site-packages (3.3.2)\n",
      "Requirement already satisfied: py4j==0.10.9.5 in c:\\users\\admin\\anaconda3\\lib\\site-packages (from pyspark) (0.10.9.5)\n",
      "Note: you may need to restart the kernel to use updated packages.\n"
     ]
    }
   ],
   "source": [
    "pip install pyspark"
   ]
  },
  {
   "cell_type": "code",
   "execution_count": 5,
   "id": "f820c6dd-c204-42ef-978e-81989bd0b266",
   "metadata": {},
   "outputs": [
    {
     "name": "stdout",
     "output_type": "stream",
     "text": [
      "Note: you may need to restart the kernel to use updated packages.\n"
     ]
    },
    {
     "name": "stderr",
     "output_type": "stream",
     "text": [
      "ERROR: Could not find a version that satisfies the requirement jdk (from versions: none)\n",
      "ERROR: No matching distribution found for jdk\n"
     ]
    }
   ],
   "source": [
    "pip install jdk"
   ]
  },
  {
   "cell_type": "code",
   "execution_count": null,
   "id": "cf125469-1939-4ba4-8b45-995991cd90ea",
   "metadata": {},
   "outputs": [],
   "source": []
  },
  {
   "cell_type": "code",
   "execution_count": 5,
   "id": "55cd721a-0fde-4d28-a0e3-9eecfa686947",
   "metadata": {},
   "outputs": [],
   "source": [
    "import findspark\n",
    "findspark.init()"
   ]
  },
  {
   "cell_type": "code",
   "execution_count": 6,
   "id": "b25247cb-cfd2-4d22-8e19-eb1cb69a0fa5",
   "metadata": {},
   "outputs": [
    {
     "name": "stderr",
     "output_type": "stream",
     "text": [
      "C:\\Users\\Admin\\anaconda3\\lib\\site-packages\\pyspark\\sql\\context.py:112: FutureWarning: Deprecated in 3.0.0. Use SparkSession.builder.getOrCreate() instead.\n",
      "  warnings.warn(\n"
     ]
    }
   ],
   "source": [
    "from pyspark import SparkContext\n",
    "from pyspark.sql import SQLContext\n",
    "import os\n",
    "\n",
    "os.environ[\"JAVA_HOME\"] = 'C:\\Program Files\\Java\\jdk-20'\n",
    "\n",
    "sc = SparkContext()\n",
    "sqlc = SQLContext(sc)"
   ]
  },
  {
   "cell_type": "code",
   "execution_count": 8,
   "id": "412f6fb8-bc6a-4491-9fab-4702faa4618f",
   "metadata": {},
   "outputs": [
    {
     "ename": "Py4JJavaError",
     "evalue": "An error occurred while calling o42.showString.\n: org.apache.spark.SparkException: Job aborted due to stage failure: Task 0 in stage 0.0 failed 1 times, most recent failure: Lost task 0.0 in stage 0.0 (TID 0) (KKING executor driver): org.apache.spark.SparkException: Python worker failed to connect back.\r\n\tat org.apache.spark.api.python.PythonWorkerFactory.createSimpleWorker(PythonWorkerFactory.scala:189)\r\n\tat org.apache.spark.api.python.PythonWorkerFactory.create(PythonWorkerFactory.scala:109)\r\n\tat org.apache.spark.SparkEnv.createPythonWorker(SparkEnv.scala:124)\r\n\tat org.apache.spark.api.python.BasePythonRunner.compute(PythonRunner.scala:157)\r\n\tat org.apache.spark.api.python.PythonRDD.compute(PythonRDD.scala:65)\r\n\tat org.apache.spark.rdd.RDD.computeOrReadCheckpoint(RDD.scala:365)\r\n\tat org.apache.spark.rdd.RDD.iterator(RDD.scala:329)\r\n\tat org.apache.spark.rdd.MapPartitionsRDD.compute(MapPartitionsRDD.scala:52)\r\n\tat org.apache.spark.rdd.RDD.computeOrReadCheckpoint(RDD.scala:365)\r\n\tat org.apache.spark.rdd.RDD.iterator(RDD.scala:329)\r\n\tat org.apache.spark.rdd.MapPartitionsRDD.compute(MapPartitionsRDD.scala:52)\r\n\tat org.apache.spark.rdd.RDD.computeOrReadCheckpoint(RDD.scala:365)\r\n\tat org.apache.spark.rdd.RDD.iterator(RDD.scala:329)\r\n\tat org.apache.spark.rdd.MapPartitionsRDD.compute(MapPartitionsRDD.scala:52)\r\n\tat org.apache.spark.rdd.RDD.computeOrReadCheckpoint(RDD.scala:365)\r\n\tat org.apache.spark.rdd.RDD.iterator(RDD.scala:329)\r\n\tat org.apache.spark.rdd.MapPartitionsRDD.compute(MapPartitionsRDD.scala:52)\r\n\tat org.apache.spark.rdd.RDD.computeOrReadCheckpoint(RDD.scala:365)\r\n\tat org.apache.spark.rdd.RDD.iterator(RDD.scala:329)\r\n\tat org.apache.spark.rdd.MapPartitionsRDD.compute(MapPartitionsRDD.scala:52)\r\n\tat org.apache.spark.rdd.RDD.computeOrReadCheckpoint(RDD.scala:365)\r\n\tat org.apache.spark.rdd.RDD.iterator(RDD.scala:329)\r\n\tat org.apache.spark.scheduler.ResultTask.runTask(ResultTask.scala:90)\r\n\tat org.apache.spark.scheduler.Task.run(Task.scala:136)\r\n\tat org.apache.spark.executor.Executor$TaskRunner.$anonfun$run$3(Executor.scala:548)\r\n\tat org.apache.spark.util.Utils$.tryWithSafeFinally(Utils.scala:1504)\r\n\tat org.apache.spark.executor.Executor$TaskRunner.run(Executor.scala:551)\r\n\tat java.base/java.util.concurrent.ThreadPoolExecutor.runWorker(ThreadPoolExecutor.java:1144)\r\n\tat java.base/java.util.concurrent.ThreadPoolExecutor$Worker.run(ThreadPoolExecutor.java:642)\r\n\tat java.base/java.lang.Thread.run(Thread.java:1623)\r\nCaused by: java.net.SocketTimeoutException: Accept timed out\r\n\tat java.base/sun.nio.ch.NioSocketImpl.timedAccept(NioSocketImpl.java:694)\r\n\tat java.base/sun.nio.ch.NioSocketImpl.accept(NioSocketImpl.java:738)\r\n\tat java.base/java.net.ServerSocket.implAccept(ServerSocket.java:690)\r\n\tat java.base/java.net.ServerSocket.platformImplAccept(ServerSocket.java:655)\r\n\tat java.base/java.net.ServerSocket.implAccept(ServerSocket.java:631)\r\n\tat java.base/java.net.ServerSocket.implAccept(ServerSocket.java:588)\r\n\tat java.base/java.net.ServerSocket.accept(ServerSocket.java:546)\r\n\tat org.apache.spark.api.python.PythonWorkerFactory.createSimpleWorker(PythonWorkerFactory.scala:176)\r\n\t... 29 more\r\n\nDriver stacktrace:\r\n\tat org.apache.spark.scheduler.DAGScheduler.failJobAndIndependentStages(DAGScheduler.scala:2672)\r\n\tat org.apache.spark.scheduler.DAGScheduler.$anonfun$abortStage$2(DAGScheduler.scala:2608)\r\n\tat org.apache.spark.scheduler.DAGScheduler.$anonfun$abortStage$2$adapted(DAGScheduler.scala:2607)\r\n\tat scala.collection.mutable.ResizableArray.foreach(ResizableArray.scala:62)\r\n\tat scala.collection.mutable.ResizableArray.foreach$(ResizableArray.scala:55)\r\n\tat scala.collection.mutable.ArrayBuffer.foreach(ArrayBuffer.scala:49)\r\n\tat org.apache.spark.scheduler.DAGScheduler.abortStage(DAGScheduler.scala:2607)\r\n\tat org.apache.spark.scheduler.DAGScheduler.$anonfun$handleTaskSetFailed$1(DAGScheduler.scala:1182)\r\n\tat org.apache.spark.scheduler.DAGScheduler.$anonfun$handleTaskSetFailed$1$adapted(DAGScheduler.scala:1182)\r\n\tat scala.Option.foreach(Option.scala:407)\r\n\tat org.apache.spark.scheduler.DAGScheduler.handleTaskSetFailed(DAGScheduler.scala:1182)\r\n\tat org.apache.spark.scheduler.DAGSchedulerEventProcessLoop.doOnReceive(DAGScheduler.scala:2860)\r\n\tat org.apache.spark.scheduler.DAGSchedulerEventProcessLoop.onReceive(DAGScheduler.scala:2802)\r\n\tat org.apache.spark.scheduler.DAGSchedulerEventProcessLoop.onReceive(DAGScheduler.scala:2791)\r\n\tat org.apache.spark.util.EventLoop$$anon$1.run(EventLoop.scala:49)\r\n\tat org.apache.spark.scheduler.DAGScheduler.runJob(DAGScheduler.scala:952)\r\n\tat org.apache.spark.SparkContext.runJob(SparkContext.scala:2238)\r\n\tat org.apache.spark.SparkContext.runJob(SparkContext.scala:2259)\r\n\tat org.apache.spark.SparkContext.runJob(SparkContext.scala:2278)\r\n\tat org.apache.spark.sql.execution.SparkPlan.executeTake(SparkPlan.scala:506)\r\n\tat org.apache.spark.sql.execution.SparkPlan.executeTake(SparkPlan.scala:459)\r\n\tat org.apache.spark.sql.execution.CollectLimitExec.executeCollect(limit.scala:48)\r\n\tat org.apache.spark.sql.Dataset.collectFromPlan(Dataset.scala:3868)\r\n\tat org.apache.spark.sql.Dataset.$anonfun$head$1(Dataset.scala:2863)\r\n\tat org.apache.spark.sql.Dataset.$anonfun$withAction$2(Dataset.scala:3858)\r\n\tat org.apache.spark.sql.execution.QueryExecution$.withInternalError(QueryExecution.scala:510)\r\n\tat org.apache.spark.sql.Dataset.$anonfun$withAction$1(Dataset.scala:3856)\r\n\tat org.apache.spark.sql.execution.SQLExecution$.$anonfun$withNewExecutionId$6(SQLExecution.scala:109)\r\n\tat org.apache.spark.sql.execution.SQLExecution$.withSQLConfPropagated(SQLExecution.scala:169)\r\n\tat org.apache.spark.sql.execution.SQLExecution$.$anonfun$withNewExecutionId$1(SQLExecution.scala:95)\r\n\tat org.apache.spark.sql.SparkSession.withActive(SparkSession.scala:779)\r\n\tat org.apache.spark.sql.execution.SQLExecution$.withNewExecutionId(SQLExecution.scala:64)\r\n\tat org.apache.spark.sql.Dataset.withAction(Dataset.scala:3856)\r\n\tat org.apache.spark.sql.Dataset.head(Dataset.scala:2863)\r\n\tat org.apache.spark.sql.Dataset.take(Dataset.scala:3084)\r\n\tat org.apache.spark.sql.Dataset.getRows(Dataset.scala:288)\r\n\tat org.apache.spark.sql.Dataset.showString(Dataset.scala:327)\r\n\tat java.base/jdk.internal.reflect.DirectMethodHandleAccessor.invoke(DirectMethodHandleAccessor.java:104)\r\n\tat java.base/java.lang.reflect.Method.invoke(Method.java:578)\r\n\tat py4j.reflection.MethodInvoker.invoke(MethodInvoker.java:244)\r\n\tat py4j.reflection.ReflectionEngine.invoke(ReflectionEngine.java:357)\r\n\tat py4j.Gateway.invoke(Gateway.java:282)\r\n\tat py4j.commands.AbstractCommand.invokeMethod(AbstractCommand.java:132)\r\n\tat py4j.commands.CallCommand.execute(CallCommand.java:79)\r\n\tat py4j.ClientServerConnection.waitForCommands(ClientServerConnection.java:182)\r\n\tat py4j.ClientServerConnection.run(ClientServerConnection.java:106)\r\n\tat java.base/java.lang.Thread.run(Thread.java:1623)\r\nCaused by: org.apache.spark.SparkException: Python worker failed to connect back.\r\n\tat org.apache.spark.api.python.PythonWorkerFactory.createSimpleWorker(PythonWorkerFactory.scala:189)\r\n\tat org.apache.spark.api.python.PythonWorkerFactory.create(PythonWorkerFactory.scala:109)\r\n\tat org.apache.spark.SparkEnv.createPythonWorker(SparkEnv.scala:124)\r\n\tat org.apache.spark.api.python.BasePythonRunner.compute(PythonRunner.scala:157)\r\n\tat org.apache.spark.api.python.PythonRDD.compute(PythonRDD.scala:65)\r\n\tat org.apache.spark.rdd.RDD.computeOrReadCheckpoint(RDD.scala:365)\r\n\tat org.apache.spark.rdd.RDD.iterator(RDD.scala:329)\r\n\tat org.apache.spark.rdd.MapPartitionsRDD.compute(MapPartitionsRDD.scala:52)\r\n\tat org.apache.spark.rdd.RDD.computeOrReadCheckpoint(RDD.scala:365)\r\n\tat org.apache.spark.rdd.RDD.iterator(RDD.scala:329)\r\n\tat org.apache.spark.rdd.MapPartitionsRDD.compute(MapPartitionsRDD.scala:52)\r\n\tat org.apache.spark.rdd.RDD.computeOrReadCheckpoint(RDD.scala:365)\r\n\tat org.apache.spark.rdd.RDD.iterator(RDD.scala:329)\r\n\tat org.apache.spark.rdd.MapPartitionsRDD.compute(MapPartitionsRDD.scala:52)\r\n\tat org.apache.spark.rdd.RDD.computeOrReadCheckpoint(RDD.scala:365)\r\n\tat org.apache.spark.rdd.RDD.iterator(RDD.scala:329)\r\n\tat org.apache.spark.rdd.MapPartitionsRDD.compute(MapPartitionsRDD.scala:52)\r\n\tat org.apache.spark.rdd.RDD.computeOrReadCheckpoint(RDD.scala:365)\r\n\tat org.apache.spark.rdd.RDD.iterator(RDD.scala:329)\r\n\tat org.apache.spark.rdd.MapPartitionsRDD.compute(MapPartitionsRDD.scala:52)\r\n\tat org.apache.spark.rdd.RDD.computeOrReadCheckpoint(RDD.scala:365)\r\n\tat org.apache.spark.rdd.RDD.iterator(RDD.scala:329)\r\n\tat org.apache.spark.scheduler.ResultTask.runTask(ResultTask.scala:90)\r\n\tat org.apache.spark.scheduler.Task.run(Task.scala:136)\r\n\tat org.apache.spark.executor.Executor$TaskRunner.$anonfun$run$3(Executor.scala:548)\r\n\tat org.apache.spark.util.Utils$.tryWithSafeFinally(Utils.scala:1504)\r\n\tat org.apache.spark.executor.Executor$TaskRunner.run(Executor.scala:551)\r\n\tat java.base/java.util.concurrent.ThreadPoolExecutor.runWorker(ThreadPoolExecutor.java:1144)\r\n\tat java.base/java.util.concurrent.ThreadPoolExecutor$Worker.run(ThreadPoolExecutor.java:642)\r\n\t... 1 more\r\nCaused by: java.net.SocketTimeoutException: Accept timed out\r\n\tat java.base/sun.nio.ch.NioSocketImpl.timedAccept(NioSocketImpl.java:694)\r\n\tat java.base/sun.nio.ch.NioSocketImpl.accept(NioSocketImpl.java:738)\r\n\tat java.base/java.net.ServerSocket.implAccept(ServerSocket.java:690)\r\n\tat java.base/java.net.ServerSocket.platformImplAccept(ServerSocket.java:655)\r\n\tat java.base/java.net.ServerSocket.implAccept(ServerSocket.java:631)\r\n\tat java.base/java.net.ServerSocket.implAccept(ServerSocket.java:588)\r\n\tat java.base/java.net.ServerSocket.accept(ServerSocket.java:546)\r\n\tat org.apache.spark.api.python.PythonWorkerFactory.createSimpleWorker(PythonWorkerFactory.scala:176)\r\n\t... 29 more\r\n",
     "output_type": "error",
     "traceback": [
      "\u001b[1;31m---------------------------------------------------------------------------\u001b[0m",
      "\u001b[1;31mPy4JJavaError\u001b[0m                             Traceback (most recent call last)",
      "Cell \u001b[1;32mIn[8], line 14\u001b[0m\n\u001b[0;32m      7\u001b[0m data \u001b[38;5;241m=\u001b[39m [(\u001b[38;5;124m'\u001b[39m\u001b[38;5;124mjava\u001b[39m\u001b[38;5;124m'\u001b[39m, \u001b[38;5;241m5500\u001b[39m),\n\u001b[0;32m      8\u001b[0m        (\u001b[38;5;124m'\u001b[39m\u001b[38;5;124mpython\u001b[39m\u001b[38;5;124m'\u001b[39m, \u001b[38;5;241m3500\u001b[39m),\n\u001b[0;32m      9\u001b[0m        (\u001b[38;5;124m'\u001b[39m\u001b[38;5;124mdjango\u001b[39m\u001b[38;5;124m'\u001b[39m, \u001b[38;5;241m3500\u001b[39m),\n\u001b[0;32m     10\u001b[0m        (\u001b[38;5;124m'\u001b[39m\u001b[38;5;124mc#\u001b[39m\u001b[38;5;124m'\u001b[39m, \u001b[38;5;241m4500\u001b[39m),\n\u001b[0;32m     11\u001b[0m        (\u001b[38;5;124m'\u001b[39m\u001b[38;5;124mReact\u001b[39m\u001b[38;5;124m'\u001b[39m, \u001b[38;5;241m3000\u001b[39m),\n\u001b[0;32m     12\u001b[0m        (\u001b[38;5;124m\"\u001b[39m\u001b[38;5;124mWeb Design\u001b[39m\u001b[38;5;124m\"\u001b[39m, \u001b[38;5;241m3000\u001b[39m)]\n\u001b[0;32m     13\u001b[0m df \u001b[38;5;241m=\u001b[39m sqlc\u001b[38;5;241m.\u001b[39mcreateDataFrame(data)\n\u001b[1;32m---> 14\u001b[0m \u001b[43mdf\u001b[49m\u001b[38;5;241;43m.\u001b[39;49m\u001b[43mshow\u001b[49m\u001b[43m(\u001b[49m\u001b[43m)\u001b[49m\n",
      "File \u001b[1;32m~\\anaconda3\\lib\\site-packages\\pyspark\\sql\\dataframe.py:606\u001b[0m, in \u001b[0;36mDataFrame.show\u001b[1;34m(self, n, truncate, vertical)\u001b[0m\n\u001b[0;32m    603\u001b[0m     \u001b[38;5;28;01mraise\u001b[39;00m \u001b[38;5;167;01mTypeError\u001b[39;00m(\u001b[38;5;124m\"\u001b[39m\u001b[38;5;124mParameter \u001b[39m\u001b[38;5;124m'\u001b[39m\u001b[38;5;124mvertical\u001b[39m\u001b[38;5;124m'\u001b[39m\u001b[38;5;124m must be a bool\u001b[39m\u001b[38;5;124m\"\u001b[39m)\n\u001b[0;32m    605\u001b[0m \u001b[38;5;28;01mif\u001b[39;00m \u001b[38;5;28misinstance\u001b[39m(truncate, \u001b[38;5;28mbool\u001b[39m) \u001b[38;5;129;01mand\u001b[39;00m truncate:\n\u001b[1;32m--> 606\u001b[0m     \u001b[38;5;28mprint\u001b[39m(\u001b[38;5;28;43mself\u001b[39;49m\u001b[38;5;241;43m.\u001b[39;49m\u001b[43m_jdf\u001b[49m\u001b[38;5;241;43m.\u001b[39;49m\u001b[43mshowString\u001b[49m\u001b[43m(\u001b[49m\u001b[43mn\u001b[49m\u001b[43m,\u001b[49m\u001b[43m \u001b[49m\u001b[38;5;241;43m20\u001b[39;49m\u001b[43m,\u001b[49m\u001b[43m \u001b[49m\u001b[43mvertical\u001b[49m\u001b[43m)\u001b[49m)\n\u001b[0;32m    607\u001b[0m \u001b[38;5;28;01melse\u001b[39;00m:\n\u001b[0;32m    608\u001b[0m     \u001b[38;5;28;01mtry\u001b[39;00m:\n",
      "File \u001b[1;32m~\\anaconda3\\lib\\site-packages\\py4j\\java_gateway.py:1321\u001b[0m, in \u001b[0;36mJavaMember.__call__\u001b[1;34m(self, *args)\u001b[0m\n\u001b[0;32m   1315\u001b[0m command \u001b[38;5;241m=\u001b[39m proto\u001b[38;5;241m.\u001b[39mCALL_COMMAND_NAME \u001b[38;5;241m+\u001b[39m\\\n\u001b[0;32m   1316\u001b[0m     \u001b[38;5;28mself\u001b[39m\u001b[38;5;241m.\u001b[39mcommand_header \u001b[38;5;241m+\u001b[39m\\\n\u001b[0;32m   1317\u001b[0m     args_command \u001b[38;5;241m+\u001b[39m\\\n\u001b[0;32m   1318\u001b[0m     proto\u001b[38;5;241m.\u001b[39mEND_COMMAND_PART\n\u001b[0;32m   1320\u001b[0m answer \u001b[38;5;241m=\u001b[39m \u001b[38;5;28mself\u001b[39m\u001b[38;5;241m.\u001b[39mgateway_client\u001b[38;5;241m.\u001b[39msend_command(command)\n\u001b[1;32m-> 1321\u001b[0m return_value \u001b[38;5;241m=\u001b[39m \u001b[43mget_return_value\u001b[49m\u001b[43m(\u001b[49m\n\u001b[0;32m   1322\u001b[0m \u001b[43m    \u001b[49m\u001b[43manswer\u001b[49m\u001b[43m,\u001b[49m\u001b[43m \u001b[49m\u001b[38;5;28;43mself\u001b[39;49m\u001b[38;5;241;43m.\u001b[39;49m\u001b[43mgateway_client\u001b[49m\u001b[43m,\u001b[49m\u001b[43m \u001b[49m\u001b[38;5;28;43mself\u001b[39;49m\u001b[38;5;241;43m.\u001b[39;49m\u001b[43mtarget_id\u001b[49m\u001b[43m,\u001b[49m\u001b[43m \u001b[49m\u001b[38;5;28;43mself\u001b[39;49m\u001b[38;5;241;43m.\u001b[39;49m\u001b[43mname\u001b[49m\u001b[43m)\u001b[49m\n\u001b[0;32m   1324\u001b[0m \u001b[38;5;28;01mfor\u001b[39;00m temp_arg \u001b[38;5;129;01min\u001b[39;00m temp_args:\n\u001b[0;32m   1325\u001b[0m     temp_arg\u001b[38;5;241m.\u001b[39m_detach()\n",
      "File \u001b[1;32m~\\anaconda3\\lib\\site-packages\\pyspark\\sql\\utils.py:190\u001b[0m, in \u001b[0;36mcapture_sql_exception.<locals>.deco\u001b[1;34m(*a, **kw)\u001b[0m\n\u001b[0;32m    188\u001b[0m \u001b[38;5;28;01mdef\u001b[39;00m \u001b[38;5;21mdeco\u001b[39m(\u001b[38;5;241m*\u001b[39ma: Any, \u001b[38;5;241m*\u001b[39m\u001b[38;5;241m*\u001b[39mkw: Any) \u001b[38;5;241m-\u001b[39m\u001b[38;5;241m>\u001b[39m Any:\n\u001b[0;32m    189\u001b[0m     \u001b[38;5;28;01mtry\u001b[39;00m:\n\u001b[1;32m--> 190\u001b[0m         \u001b[38;5;28;01mreturn\u001b[39;00m f(\u001b[38;5;241m*\u001b[39ma, \u001b[38;5;241m*\u001b[39m\u001b[38;5;241m*\u001b[39mkw)\n\u001b[0;32m    191\u001b[0m     \u001b[38;5;28;01mexcept\u001b[39;00m Py4JJavaError \u001b[38;5;28;01mas\u001b[39;00m e:\n\u001b[0;32m    192\u001b[0m         converted \u001b[38;5;241m=\u001b[39m convert_exception(e\u001b[38;5;241m.\u001b[39mjava_exception)\n",
      "File \u001b[1;32m~\\anaconda3\\lib\\site-packages\\py4j\\protocol.py:326\u001b[0m, in \u001b[0;36mget_return_value\u001b[1;34m(answer, gateway_client, target_id, name)\u001b[0m\n\u001b[0;32m    324\u001b[0m value \u001b[38;5;241m=\u001b[39m OUTPUT_CONVERTER[\u001b[38;5;28mtype\u001b[39m](answer[\u001b[38;5;241m2\u001b[39m:], gateway_client)\n\u001b[0;32m    325\u001b[0m \u001b[38;5;28;01mif\u001b[39;00m answer[\u001b[38;5;241m1\u001b[39m] \u001b[38;5;241m==\u001b[39m REFERENCE_TYPE:\n\u001b[1;32m--> 326\u001b[0m     \u001b[38;5;28;01mraise\u001b[39;00m Py4JJavaError(\n\u001b[0;32m    327\u001b[0m         \u001b[38;5;124m\"\u001b[39m\u001b[38;5;124mAn error occurred while calling \u001b[39m\u001b[38;5;132;01m{0}\u001b[39;00m\u001b[38;5;132;01m{1}\u001b[39;00m\u001b[38;5;132;01m{2}\u001b[39;00m\u001b[38;5;124m.\u001b[39m\u001b[38;5;130;01m\\n\u001b[39;00m\u001b[38;5;124m\"\u001b[39m\u001b[38;5;241m.\u001b[39m\n\u001b[0;32m    328\u001b[0m         \u001b[38;5;28mformat\u001b[39m(target_id, \u001b[38;5;124m\"\u001b[39m\u001b[38;5;124m.\u001b[39m\u001b[38;5;124m\"\u001b[39m, name), value)\n\u001b[0;32m    329\u001b[0m \u001b[38;5;28;01melse\u001b[39;00m:\n\u001b[0;32m    330\u001b[0m     \u001b[38;5;28;01mraise\u001b[39;00m Py4JError(\n\u001b[0;32m    331\u001b[0m         \u001b[38;5;124m\"\u001b[39m\u001b[38;5;124mAn error occurred while calling \u001b[39m\u001b[38;5;132;01m{0}\u001b[39;00m\u001b[38;5;132;01m{1}\u001b[39;00m\u001b[38;5;132;01m{2}\u001b[39;00m\u001b[38;5;124m. Trace:\u001b[39m\u001b[38;5;130;01m\\n\u001b[39;00m\u001b[38;5;132;01m{3}\u001b[39;00m\u001b[38;5;130;01m\\n\u001b[39;00m\u001b[38;5;124m\"\u001b[39m\u001b[38;5;241m.\u001b[39m\n\u001b[0;32m    332\u001b[0m         \u001b[38;5;28mformat\u001b[39m(target_id, \u001b[38;5;124m\"\u001b[39m\u001b[38;5;124m.\u001b[39m\u001b[38;5;124m\"\u001b[39m, name, value))\n",
      "\u001b[1;31mPy4JJavaError\u001b[0m: An error occurred while calling o42.showString.\n: org.apache.spark.SparkException: Job aborted due to stage failure: Task 0 in stage 0.0 failed 1 times, most recent failure: Lost task 0.0 in stage 0.0 (TID 0) (KKING executor driver): org.apache.spark.SparkException: Python worker failed to connect back.\r\n\tat org.apache.spark.api.python.PythonWorkerFactory.createSimpleWorker(PythonWorkerFactory.scala:189)\r\n\tat org.apache.spark.api.python.PythonWorkerFactory.create(PythonWorkerFactory.scala:109)\r\n\tat org.apache.spark.SparkEnv.createPythonWorker(SparkEnv.scala:124)\r\n\tat org.apache.spark.api.python.BasePythonRunner.compute(PythonRunner.scala:157)\r\n\tat org.apache.spark.api.python.PythonRDD.compute(PythonRDD.scala:65)\r\n\tat org.apache.spark.rdd.RDD.computeOrReadCheckpoint(RDD.scala:365)\r\n\tat org.apache.spark.rdd.RDD.iterator(RDD.scala:329)\r\n\tat org.apache.spark.rdd.MapPartitionsRDD.compute(MapPartitionsRDD.scala:52)\r\n\tat org.apache.spark.rdd.RDD.computeOrReadCheckpoint(RDD.scala:365)\r\n\tat org.apache.spark.rdd.RDD.iterator(RDD.scala:329)\r\n\tat org.apache.spark.rdd.MapPartitionsRDD.compute(MapPartitionsRDD.scala:52)\r\n\tat org.apache.spark.rdd.RDD.computeOrReadCheckpoint(RDD.scala:365)\r\n\tat org.apache.spark.rdd.RDD.iterator(RDD.scala:329)\r\n\tat org.apache.spark.rdd.MapPartitionsRDD.compute(MapPartitionsRDD.scala:52)\r\n\tat org.apache.spark.rdd.RDD.computeOrReadCheckpoint(RDD.scala:365)\r\n\tat org.apache.spark.rdd.RDD.iterator(RDD.scala:329)\r\n\tat org.apache.spark.rdd.MapPartitionsRDD.compute(MapPartitionsRDD.scala:52)\r\n\tat org.apache.spark.rdd.RDD.computeOrReadCheckpoint(RDD.scala:365)\r\n\tat org.apache.spark.rdd.RDD.iterator(RDD.scala:329)\r\n\tat org.apache.spark.rdd.MapPartitionsRDD.compute(MapPartitionsRDD.scala:52)\r\n\tat org.apache.spark.rdd.RDD.computeOrReadCheckpoint(RDD.scala:365)\r\n\tat org.apache.spark.rdd.RDD.iterator(RDD.scala:329)\r\n\tat org.apache.spark.scheduler.ResultTask.runTask(ResultTask.scala:90)\r\n\tat org.apache.spark.scheduler.Task.run(Task.scala:136)\r\n\tat org.apache.spark.executor.Executor$TaskRunner.$anonfun$run$3(Executor.scala:548)\r\n\tat org.apache.spark.util.Utils$.tryWithSafeFinally(Utils.scala:1504)\r\n\tat org.apache.spark.executor.Executor$TaskRunner.run(Executor.scala:551)\r\n\tat java.base/java.util.concurrent.ThreadPoolExecutor.runWorker(ThreadPoolExecutor.java:1144)\r\n\tat java.base/java.util.concurrent.ThreadPoolExecutor$Worker.run(ThreadPoolExecutor.java:642)\r\n\tat java.base/java.lang.Thread.run(Thread.java:1623)\r\nCaused by: java.net.SocketTimeoutException: Accept timed out\r\n\tat java.base/sun.nio.ch.NioSocketImpl.timedAccept(NioSocketImpl.java:694)\r\n\tat java.base/sun.nio.ch.NioSocketImpl.accept(NioSocketImpl.java:738)\r\n\tat java.base/java.net.ServerSocket.implAccept(ServerSocket.java:690)\r\n\tat java.base/java.net.ServerSocket.platformImplAccept(ServerSocket.java:655)\r\n\tat java.base/java.net.ServerSocket.implAccept(ServerSocket.java:631)\r\n\tat java.base/java.net.ServerSocket.implAccept(ServerSocket.java:588)\r\n\tat java.base/java.net.ServerSocket.accept(ServerSocket.java:546)\r\n\tat org.apache.spark.api.python.PythonWorkerFactory.createSimpleWorker(PythonWorkerFactory.scala:176)\r\n\t... 29 more\r\n\nDriver stacktrace:\r\n\tat org.apache.spark.scheduler.DAGScheduler.failJobAndIndependentStages(DAGScheduler.scala:2672)\r\n\tat org.apache.spark.scheduler.DAGScheduler.$anonfun$abortStage$2(DAGScheduler.scala:2608)\r\n\tat org.apache.spark.scheduler.DAGScheduler.$anonfun$abortStage$2$adapted(DAGScheduler.scala:2607)\r\n\tat scala.collection.mutable.ResizableArray.foreach(ResizableArray.scala:62)\r\n\tat scala.collection.mutable.ResizableArray.foreach$(ResizableArray.scala:55)\r\n\tat scala.collection.mutable.ArrayBuffer.foreach(ArrayBuffer.scala:49)\r\n\tat org.apache.spark.scheduler.DAGScheduler.abortStage(DAGScheduler.scala:2607)\r\n\tat org.apache.spark.scheduler.DAGScheduler.$anonfun$handleTaskSetFailed$1(DAGScheduler.scala:1182)\r\n\tat org.apache.spark.scheduler.DAGScheduler.$anonfun$handleTaskSetFailed$1$adapted(DAGScheduler.scala:1182)\r\n\tat scala.Option.foreach(Option.scala:407)\r\n\tat org.apache.spark.scheduler.DAGScheduler.handleTaskSetFailed(DAGScheduler.scala:1182)\r\n\tat org.apache.spark.scheduler.DAGSchedulerEventProcessLoop.doOnReceive(DAGScheduler.scala:2860)\r\n\tat org.apache.spark.scheduler.DAGSchedulerEventProcessLoop.onReceive(DAGScheduler.scala:2802)\r\n\tat org.apache.spark.scheduler.DAGSchedulerEventProcessLoop.onReceive(DAGScheduler.scala:2791)\r\n\tat org.apache.spark.util.EventLoop$$anon$1.run(EventLoop.scala:49)\r\n\tat org.apache.spark.scheduler.DAGScheduler.runJob(DAGScheduler.scala:952)\r\n\tat org.apache.spark.SparkContext.runJob(SparkContext.scala:2238)\r\n\tat org.apache.spark.SparkContext.runJob(SparkContext.scala:2259)\r\n\tat org.apache.spark.SparkContext.runJob(SparkContext.scala:2278)\r\n\tat org.apache.spark.sql.execution.SparkPlan.executeTake(SparkPlan.scala:506)\r\n\tat org.apache.spark.sql.execution.SparkPlan.executeTake(SparkPlan.scala:459)\r\n\tat org.apache.spark.sql.execution.CollectLimitExec.executeCollect(limit.scala:48)\r\n\tat org.apache.spark.sql.Dataset.collectFromPlan(Dataset.scala:3868)\r\n\tat org.apache.spark.sql.Dataset.$anonfun$head$1(Dataset.scala:2863)\r\n\tat org.apache.spark.sql.Dataset.$anonfun$withAction$2(Dataset.scala:3858)\r\n\tat org.apache.spark.sql.execution.QueryExecution$.withInternalError(QueryExecution.scala:510)\r\n\tat org.apache.spark.sql.Dataset.$anonfun$withAction$1(Dataset.scala:3856)\r\n\tat org.apache.spark.sql.execution.SQLExecution$.$anonfun$withNewExecutionId$6(SQLExecution.scala:109)\r\n\tat org.apache.spark.sql.execution.SQLExecution$.withSQLConfPropagated(SQLExecution.scala:169)\r\n\tat org.apache.spark.sql.execution.SQLExecution$.$anonfun$withNewExecutionId$1(SQLExecution.scala:95)\r\n\tat org.apache.spark.sql.SparkSession.withActive(SparkSession.scala:779)\r\n\tat org.apache.spark.sql.execution.SQLExecution$.withNewExecutionId(SQLExecution.scala:64)\r\n\tat org.apache.spark.sql.Dataset.withAction(Dataset.scala:3856)\r\n\tat org.apache.spark.sql.Dataset.head(Dataset.scala:2863)\r\n\tat org.apache.spark.sql.Dataset.take(Dataset.scala:3084)\r\n\tat org.apache.spark.sql.Dataset.getRows(Dataset.scala:288)\r\n\tat org.apache.spark.sql.Dataset.showString(Dataset.scala:327)\r\n\tat java.base/jdk.internal.reflect.DirectMethodHandleAccessor.invoke(DirectMethodHandleAccessor.java:104)\r\n\tat java.base/java.lang.reflect.Method.invoke(Method.java:578)\r\n\tat py4j.reflection.MethodInvoker.invoke(MethodInvoker.java:244)\r\n\tat py4j.reflection.ReflectionEngine.invoke(ReflectionEngine.java:357)\r\n\tat py4j.Gateway.invoke(Gateway.java:282)\r\n\tat py4j.commands.AbstractCommand.invokeMethod(AbstractCommand.java:132)\r\n\tat py4j.commands.CallCommand.execute(CallCommand.java:79)\r\n\tat py4j.ClientServerConnection.waitForCommands(ClientServerConnection.java:182)\r\n\tat py4j.ClientServerConnection.run(ClientServerConnection.java:106)\r\n\tat java.base/java.lang.Thread.run(Thread.java:1623)\r\nCaused by: org.apache.spark.SparkException: Python worker failed to connect back.\r\n\tat org.apache.spark.api.python.PythonWorkerFactory.createSimpleWorker(PythonWorkerFactory.scala:189)\r\n\tat org.apache.spark.api.python.PythonWorkerFactory.create(PythonWorkerFactory.scala:109)\r\n\tat org.apache.spark.SparkEnv.createPythonWorker(SparkEnv.scala:124)\r\n\tat org.apache.spark.api.python.BasePythonRunner.compute(PythonRunner.scala:157)\r\n\tat org.apache.spark.api.python.PythonRDD.compute(PythonRDD.scala:65)\r\n\tat org.apache.spark.rdd.RDD.computeOrReadCheckpoint(RDD.scala:365)\r\n\tat org.apache.spark.rdd.RDD.iterator(RDD.scala:329)\r\n\tat org.apache.spark.rdd.MapPartitionsRDD.compute(MapPartitionsRDD.scala:52)\r\n\tat org.apache.spark.rdd.RDD.computeOrReadCheckpoint(RDD.scala:365)\r\n\tat org.apache.spark.rdd.RDD.iterator(RDD.scala:329)\r\n\tat org.apache.spark.rdd.MapPartitionsRDD.compute(MapPartitionsRDD.scala:52)\r\n\tat org.apache.spark.rdd.RDD.computeOrReadCheckpoint(RDD.scala:365)\r\n\tat org.apache.spark.rdd.RDD.iterator(RDD.scala:329)\r\n\tat org.apache.spark.rdd.MapPartitionsRDD.compute(MapPartitionsRDD.scala:52)\r\n\tat org.apache.spark.rdd.RDD.computeOrReadCheckpoint(RDD.scala:365)\r\n\tat org.apache.spark.rdd.RDD.iterator(RDD.scala:329)\r\n\tat org.apache.spark.rdd.MapPartitionsRDD.compute(MapPartitionsRDD.scala:52)\r\n\tat org.apache.spark.rdd.RDD.computeOrReadCheckpoint(RDD.scala:365)\r\n\tat org.apache.spark.rdd.RDD.iterator(RDD.scala:329)\r\n\tat org.apache.spark.rdd.MapPartitionsRDD.compute(MapPartitionsRDD.scala:52)\r\n\tat org.apache.spark.rdd.RDD.computeOrReadCheckpoint(RDD.scala:365)\r\n\tat org.apache.spark.rdd.RDD.iterator(RDD.scala:329)\r\n\tat org.apache.spark.scheduler.ResultTask.runTask(ResultTask.scala:90)\r\n\tat org.apache.spark.scheduler.Task.run(Task.scala:136)\r\n\tat org.apache.spark.executor.Executor$TaskRunner.$anonfun$run$3(Executor.scala:548)\r\n\tat org.apache.spark.util.Utils$.tryWithSafeFinally(Utils.scala:1504)\r\n\tat org.apache.spark.executor.Executor$TaskRunner.run(Executor.scala:551)\r\n\tat java.base/java.util.concurrent.ThreadPoolExecutor.runWorker(ThreadPoolExecutor.java:1144)\r\n\tat java.base/java.util.concurrent.ThreadPoolExecutor$Worker.run(ThreadPoolExecutor.java:642)\r\n\t... 1 more\r\nCaused by: java.net.SocketTimeoutException: Accept timed out\r\n\tat java.base/sun.nio.ch.NioSocketImpl.timedAccept(NioSocketImpl.java:694)\r\n\tat java.base/sun.nio.ch.NioSocketImpl.accept(NioSocketImpl.java:738)\r\n\tat java.base/java.net.ServerSocket.implAccept(ServerSocket.java:690)\r\n\tat java.base/java.net.ServerSocket.platformImplAccept(ServerSocket.java:655)\r\n\tat java.base/java.net.ServerSocket.implAccept(ServerSocket.java:631)\r\n\tat java.base/java.net.ServerSocket.implAccept(ServerSocket.java:588)\r\n\tat java.base/java.net.ServerSocket.accept(ServerSocket.java:546)\r\n\tat org.apache.spark.api.python.PythonWorkerFactory.createSimpleWorker(PythonWorkerFactory.scala:176)\r\n\t... 29 more\r\n"
     ]
    }
   ],
   "source": [
    "import os\n",
    "import sys\n",
    "\n",
    "os.environ['PYSPARK_PYTHON'] = sys.executable\n",
    "os.environ['PYSPARK_DRIVER_PYTHON'] = sys.executable\n",
    "\n",
    "data = [('java', 5500),\n",
    "       ('python', 3500),\n",
    "       ('django', 3500),\n",
    "       ('c#', 4500),\n",
    "       ('React', 3000),\n",
    "       (\"Web Design\", 3000)]\n",
    "df = sqlc.createDataFrame(data)\n",
    "df.show()"
   ]
  },
  {
   "cell_type": "markdown",
   "id": "2620a786-20cc-48c3-9f75-378a191fe2e4",
   "metadata": {},
   "source": [
    "##### A quick introduction to\n",
    "# BIG DATA\n",
    "##### Big data consist of 5 v'\n",
    "\n",
    "###### Value\n",
    "###### Velocity\n",
    "###### Veracity\n",
    "###### Volume\n",
    "###### Variety\n"
   ]
  },
  {
   "cell_type": "code",
   "execution_count": 4,
   "id": "a8921eb0-b352-451b-b192-43b7267deff9",
   "metadata": {},
   "outputs": [],
   "source": [
    "# HADOOP\n",
    "# Apache hadoop is a set of tools for parallel storage and computation. it has two architecture\n",
    "# HDFS\n",
    "# YARN"
   ]
  },
  {
   "cell_type": "markdown",
   "id": "2fb62123-60fc-4b55-9deb-de4da0942f9f",
   "metadata": {},
   "source": [
    "Manipulating data with HDFS\n",
    "\n",
    "Manipulating data with HDFS is very similar to the Linux commands:\n",
    "\n",
    "hdfs fs -ls/ : list all folder "
   ]
  },
  {
   "cell_type": "markdown",
   "id": "17367ba5-c071-4f70-b0d1-085f51c96c1d",
   "metadata": {},
   "source": [
    "USING PYSPARK\n",
    "\n",
    "Python Spark is like a magic wand that helps you do lots of things quickly and easily with big piles of data.\n",
    "\n",
    "For example, let's say you have a big pile of toys scattered all over your room. It would take you a long time to pick them all up one by one, but if you had a magic wand, you could wave it and all the toys would fly into the toy box in just a few seconds.\n",
    "\n",
    "Python Spark does something similar with big piles of data. It helps you process and analyze huge amounts of information quickly and easily, so you can find patterns, make predictions, and solve problems faster.\n",
    "\n",
    "Some uses of Python Spark include analyzing customer data to make better business decisions, processing large amounts of social media data to track trends and sentiment, and processing scientific data for research purposes."
   ]
  },
  {
   "cell_type": "code",
   "execution_count": 3,
   "id": "1c998179-5452-4e75-b0f4-2fc1efd5f099",
   "metadata": {},
   "outputs": [],
   "source": [
    "# to construct a table data froma file and save it to database\n",
    "\n",
    "import os\n",
    "import sys\n",
    "\n",
    "os.environ['PYSPARK_PYTHON'] = sys.executable\n",
    "os.environ['PYSPARK_DRIVER_PYTHON'] = sys.executable"
   ]
  },
  {
   "cell_type": "code",
   "execution_count": null,
   "id": "ed13ec07-4da9-48c8-807d-51675b1cd5e1",
   "metadata": {},
   "outputs": [],
   "source": []
  },
  {
   "cell_type": "code",
   "execution_count": 4,
   "id": "e163c75b-ad15-46f1-b0eb-6d9c49a059e4",
   "metadata": {},
   "outputs": [
    {
     "name": "stderr",
     "output_type": "stream",
     "text": [
      "C:\\Users\\Admin\\anaconda3\\lib\\site-packages\\pyspark\\sql\\context.py:112: FutureWarning: Deprecated in 3.0.0. Use SparkSession.builder.getOrCreate() instead.\n",
      "  warnings.warn(\n"
     ]
    }
   ],
   "source": [
    "from pyspark.sql import SparkSession\n",
    ">>> spark = SparkSession \\\n",
    "    .builder \\\n",
    "    .appName (\"Python Spark Session\") \\\n",
    "    .getOrCreate()\n",
    "\n",
    "from pyspark.sql import SQLContext\n",
    "sqlc = SQLContext(spark)"
   ]
  },
  {
   "cell_type": "code",
   "execution_count": 8,
   "id": "b3f9b8a3-f633-4eb3-be73-70b24391caaa",
   "metadata": {},
   "outputs": [],
   "source": [
    "# from pyspark import SparkContext\n",
    "# sc = SparkContext()\n",
    "# from pyspark.sql import SQLContext\n",
    "# sqlc = SQLContext(sc)"
   ]
  },
  {
   "cell_type": "code",
   "execution_count": 5,
   "id": "1567027e-901c-49df-a722-29d1fe1d0f23",
   "metadata": {},
   "outputs": [],
   "source": [
    "from pyspark.sql import *\n",
    "table = Row (\"Name\",\"Age\")"
   ]
  },
  {
   "cell_type": "code",
   "execution_count": 6,
   "id": "239b02bb-f5ca-4116-8c00-6c359c5506a8",
   "metadata": {},
   "outputs": [],
   "source": [
    "row1 = table(\"Ankit\", 24)\n",
    "row2 = table(\"Kunle\", 34)\n",
    "row3 = table(\"pretty\", 36)"
   ]
  },
  {
   "cell_type": "code",
   "execution_count": 7,
   "id": "31a9e1bc-21dd-40f9-8dd0-5c3747e3dc32",
   "metadata": {},
   "outputs": [
    {
     "data": {
      "text/plain": [
       "pyspark.sql.dataframe.DataFrame"
      ]
     },
     "execution_count": 7,
     "metadata": {},
     "output_type": "execute_result"
    }
   ],
   "source": [
    "na_list = [row1, row2, row3]\n",
    "df_na = sqlc.createDataFrame(na_list)\n",
    "type(df_na)"
   ]
  },
  {
   "cell_type": "code",
   "execution_count": 8,
   "id": "aba373aa-bfdb-4855-865d-2fa2798addd6",
   "metadata": {},
   "outputs": [
    {
     "name": "stdout",
     "output_type": "stream",
     "text": [
      "+------+---+\n",
      "|  Name|Age|\n",
      "+------+---+\n",
      "| Ankit| 24|\n",
      "| Kunle| 34|\n",
      "|pretty| 36|\n",
      "+------+---+\n",
      "\n"
     ]
    }
   ],
   "source": [
    "df_na.show()"
   ]
  },
  {
   "cell_type": "code",
   "execution_count": null,
   "id": "541821e3-ed77-469b-baf8-0873c3f699f4",
   "metadata": {},
   "outputs": [],
   "source": []
  },
  {
   "cell_type": "code",
   "execution_count": 15,
   "id": "dfa9167b-7e63-40d3-bd63-9fc20e88c2a2",
   "metadata": {},
   "outputs": [],
   "source": [
    "import findspark\n",
    "findspark.init()"
   ]
  },
  {
   "cell_type": "code",
   "execution_count": 16,
   "id": "ded0422f-e302-4110-acca-0d84539b9987",
   "metadata": {},
   "outputs": [],
   "source": [
    "# from pyspark.sql import SparkSession\n",
    "# >>> spark = SparkSession \\\n",
    "#     .builder \n",
    "#     .appName('Python spark session') \\\n",
    "#     .getOrCreate()\n",
    "\n",
    "from pyspark.sql import SparkSession\n",
    "\n",
    "spark = SparkSession.builder \\\n",
    "    .appName('Python spark session') \\\n",
    "    .getOrCreate()\n",
    "\n"
   ]
  },
  {
   "cell_type": "code",
   "execution_count": 1,
   "id": "41da8f88-87b9-44a1-b25e-578f549b9e72",
   "metadata": {},
   "outputs": [
    {
     "name": "stderr",
     "output_type": "stream",
     "text": [
      "C:\\Users\\Admin\\anaconda3\\lib\\site-packages\\pyspark\\sql\\context.py:112: FutureWarning: Deprecated in 3.0.0. Use SparkSession.builder.getOrCreate() instead.\n",
      "  warnings.warn(\n"
     ]
    }
   ],
   "source": [
    "from pyspark import SparkContext\n",
    "sc = SparkContext()\n",
    "from pyspark.sql import SQLContext\n",
    "sqlc = SQLContext(sc)"
   ]
  },
  {
   "cell_type": "code",
   "execution_count": 2,
   "id": "4432b41d-6460-4e93-8c65-9818dd906eaa",
   "metadata": {},
   "outputs": [],
   "source": [
    "from pyspark.sql import*\n",
    "\n",
    "table = Row('Name', \"Age\")"
   ]
  },
  {
   "cell_type": "code",
   "execution_count": 3,
   "id": "f671b281-d55b-4c8c-8efa-3fe1024f4aac",
   "metadata": {},
   "outputs": [],
   "source": [
    "row1 = table('Ankit', 23)\n",
    "row2 = table('Tyler', 34)\n",
    "row3 = table('Toobi', 36)"
   ]
  },
  {
   "cell_type": "code",
   "execution_count": 4,
   "id": "dc6112a2-a094-4b67-a3ae-097c6ee91359",
   "metadata": {},
   "outputs": [
    {
     "data": {
      "text/plain": [
       "pyspark.sql.dataframe.DataFrame"
      ]
     },
     "execution_count": 4,
     "metadata": {},
     "output_type": "execute_result"
    }
   ],
   "source": [
    "na_list = [row1, row2, row3]\n",
    "df_na = sqlc.createDataFrame(na_list)\n",
    "type(df_na)"
   ]
  },
  {
   "cell_type": "code",
   "execution_count": null,
   "id": "1c0e77be-9434-4ca6-a873-4ad2183f3e77",
   "metadata": {},
   "outputs": [],
   "source": [
    "# now let's go >>>"
   ]
  },
  {
   "cell_type": "code",
   "execution_count": 5,
   "id": "299dc7b1-a21f-4e29-b0f3-2426dd23951d",
   "metadata": {},
   "outputs": [
    {
     "ename": "Py4JJavaError",
     "evalue": "An error occurred while calling o42.showString.\n: org.apache.spark.SparkException: Job aborted due to stage failure: Task 0 in stage 0.0 failed 1 times, most recent failure: Lost task 0.0 in stage 0.0 (TID 0) (KKING executor driver): org.apache.spark.SparkException: Python worker failed to connect back.\r\n\tat org.apache.spark.api.python.PythonWorkerFactory.createSimpleWorker(PythonWorkerFactory.scala:189)\r\n\tat org.apache.spark.api.python.PythonWorkerFactory.create(PythonWorkerFactory.scala:109)\r\n\tat org.apache.spark.SparkEnv.createPythonWorker(SparkEnv.scala:124)\r\n\tat org.apache.spark.api.python.BasePythonRunner.compute(PythonRunner.scala:157)\r\n\tat org.apache.spark.api.python.PythonRDD.compute(PythonRDD.scala:65)\r\n\tat org.apache.spark.rdd.RDD.computeOrReadCheckpoint(RDD.scala:365)\r\n\tat org.apache.spark.rdd.RDD.iterator(RDD.scala:329)\r\n\tat org.apache.spark.rdd.MapPartitionsRDD.compute(MapPartitionsRDD.scala:52)\r\n\tat org.apache.spark.rdd.RDD.computeOrReadCheckpoint(RDD.scala:365)\r\n\tat org.apache.spark.rdd.RDD.iterator(RDD.scala:329)\r\n\tat org.apache.spark.rdd.MapPartitionsRDD.compute(MapPartitionsRDD.scala:52)\r\n\tat org.apache.spark.rdd.RDD.computeOrReadCheckpoint(RDD.scala:365)\r\n\tat org.apache.spark.rdd.RDD.iterator(RDD.scala:329)\r\n\tat org.apache.spark.rdd.MapPartitionsRDD.compute(MapPartitionsRDD.scala:52)\r\n\tat org.apache.spark.rdd.RDD.computeOrReadCheckpoint(RDD.scala:365)\r\n\tat org.apache.spark.rdd.RDD.iterator(RDD.scala:329)\r\n\tat org.apache.spark.rdd.MapPartitionsRDD.compute(MapPartitionsRDD.scala:52)\r\n\tat org.apache.spark.rdd.RDD.computeOrReadCheckpoint(RDD.scala:365)\r\n\tat org.apache.spark.rdd.RDD.iterator(RDD.scala:329)\r\n\tat org.apache.spark.rdd.MapPartitionsRDD.compute(MapPartitionsRDD.scala:52)\r\n\tat org.apache.spark.rdd.RDD.computeOrReadCheckpoint(RDD.scala:365)\r\n\tat org.apache.spark.rdd.RDD.iterator(RDD.scala:329)\r\n\tat org.apache.spark.scheduler.ResultTask.runTask(ResultTask.scala:90)\r\n\tat org.apache.spark.scheduler.Task.run(Task.scala:136)\r\n\tat org.apache.spark.executor.Executor$TaskRunner.$anonfun$run$3(Executor.scala:548)\r\n\tat org.apache.spark.util.Utils$.tryWithSafeFinally(Utils.scala:1504)\r\n\tat org.apache.spark.executor.Executor$TaskRunner.run(Executor.scala:551)\r\n\tat java.base/java.util.concurrent.ThreadPoolExecutor.runWorker(ThreadPoolExecutor.java:1144)\r\n\tat java.base/java.util.concurrent.ThreadPoolExecutor$Worker.run(ThreadPoolExecutor.java:642)\r\n\tat java.base/java.lang.Thread.run(Thread.java:1623)\r\nCaused by: java.net.SocketTimeoutException: Accept timed out\r\n\tat java.base/sun.nio.ch.NioSocketImpl.timedAccept(NioSocketImpl.java:694)\r\n\tat java.base/sun.nio.ch.NioSocketImpl.accept(NioSocketImpl.java:738)\r\n\tat java.base/java.net.ServerSocket.implAccept(ServerSocket.java:690)\r\n\tat java.base/java.net.ServerSocket.platformImplAccept(ServerSocket.java:655)\r\n\tat java.base/java.net.ServerSocket.implAccept(ServerSocket.java:631)\r\n\tat java.base/java.net.ServerSocket.implAccept(ServerSocket.java:588)\r\n\tat java.base/java.net.ServerSocket.accept(ServerSocket.java:546)\r\n\tat org.apache.spark.api.python.PythonWorkerFactory.createSimpleWorker(PythonWorkerFactory.scala:176)\r\n\t... 29 more\r\n\nDriver stacktrace:\r\n\tat org.apache.spark.scheduler.DAGScheduler.failJobAndIndependentStages(DAGScheduler.scala:2672)\r\n\tat org.apache.spark.scheduler.DAGScheduler.$anonfun$abortStage$2(DAGScheduler.scala:2608)\r\n\tat org.apache.spark.scheduler.DAGScheduler.$anonfun$abortStage$2$adapted(DAGScheduler.scala:2607)\r\n\tat scala.collection.mutable.ResizableArray.foreach(ResizableArray.scala:62)\r\n\tat scala.collection.mutable.ResizableArray.foreach$(ResizableArray.scala:55)\r\n\tat scala.collection.mutable.ArrayBuffer.foreach(ArrayBuffer.scala:49)\r\n\tat org.apache.spark.scheduler.DAGScheduler.abortStage(DAGScheduler.scala:2607)\r\n\tat org.apache.spark.scheduler.DAGScheduler.$anonfun$handleTaskSetFailed$1(DAGScheduler.scala:1182)\r\n\tat org.apache.spark.scheduler.DAGScheduler.$anonfun$handleTaskSetFailed$1$adapted(DAGScheduler.scala:1182)\r\n\tat scala.Option.foreach(Option.scala:407)\r\n\tat org.apache.spark.scheduler.DAGScheduler.handleTaskSetFailed(DAGScheduler.scala:1182)\r\n\tat org.apache.spark.scheduler.DAGSchedulerEventProcessLoop.doOnReceive(DAGScheduler.scala:2860)\r\n\tat org.apache.spark.scheduler.DAGSchedulerEventProcessLoop.onReceive(DAGScheduler.scala:2802)\r\n\tat org.apache.spark.scheduler.DAGSchedulerEventProcessLoop.onReceive(DAGScheduler.scala:2791)\r\n\tat org.apache.spark.util.EventLoop$$anon$1.run(EventLoop.scala:49)\r\n\tat org.apache.spark.scheduler.DAGScheduler.runJob(DAGScheduler.scala:952)\r\n\tat org.apache.spark.SparkContext.runJob(SparkContext.scala:2238)\r\n\tat org.apache.spark.SparkContext.runJob(SparkContext.scala:2259)\r\n\tat org.apache.spark.SparkContext.runJob(SparkContext.scala:2278)\r\n\tat org.apache.spark.sql.execution.SparkPlan.executeTake(SparkPlan.scala:506)\r\n\tat org.apache.spark.sql.execution.SparkPlan.executeTake(SparkPlan.scala:459)\r\n\tat org.apache.spark.sql.execution.CollectLimitExec.executeCollect(limit.scala:48)\r\n\tat org.apache.spark.sql.Dataset.collectFromPlan(Dataset.scala:3868)\r\n\tat org.apache.spark.sql.Dataset.$anonfun$head$1(Dataset.scala:2863)\r\n\tat org.apache.spark.sql.Dataset.$anonfun$withAction$2(Dataset.scala:3858)\r\n\tat org.apache.spark.sql.execution.QueryExecution$.withInternalError(QueryExecution.scala:510)\r\n\tat org.apache.spark.sql.Dataset.$anonfun$withAction$1(Dataset.scala:3856)\r\n\tat org.apache.spark.sql.execution.SQLExecution$.$anonfun$withNewExecutionId$6(SQLExecution.scala:109)\r\n\tat org.apache.spark.sql.execution.SQLExecution$.withSQLConfPropagated(SQLExecution.scala:169)\r\n\tat org.apache.spark.sql.execution.SQLExecution$.$anonfun$withNewExecutionId$1(SQLExecution.scala:95)\r\n\tat org.apache.spark.sql.SparkSession.withActive(SparkSession.scala:779)\r\n\tat org.apache.spark.sql.execution.SQLExecution$.withNewExecutionId(SQLExecution.scala:64)\r\n\tat org.apache.spark.sql.Dataset.withAction(Dataset.scala:3856)\r\n\tat org.apache.spark.sql.Dataset.head(Dataset.scala:2863)\r\n\tat org.apache.spark.sql.Dataset.take(Dataset.scala:3084)\r\n\tat org.apache.spark.sql.Dataset.getRows(Dataset.scala:288)\r\n\tat org.apache.spark.sql.Dataset.showString(Dataset.scala:327)\r\n\tat java.base/jdk.internal.reflect.DirectMethodHandleAccessor.invoke(DirectMethodHandleAccessor.java:104)\r\n\tat java.base/java.lang.reflect.Method.invoke(Method.java:578)\r\n\tat py4j.reflection.MethodInvoker.invoke(MethodInvoker.java:244)\r\n\tat py4j.reflection.ReflectionEngine.invoke(ReflectionEngine.java:357)\r\n\tat py4j.Gateway.invoke(Gateway.java:282)\r\n\tat py4j.commands.AbstractCommand.invokeMethod(AbstractCommand.java:132)\r\n\tat py4j.commands.CallCommand.execute(CallCommand.java:79)\r\n\tat py4j.ClientServerConnection.waitForCommands(ClientServerConnection.java:182)\r\n\tat py4j.ClientServerConnection.run(ClientServerConnection.java:106)\r\n\tat java.base/java.lang.Thread.run(Thread.java:1623)\r\nCaused by: org.apache.spark.SparkException: Python worker failed to connect back.\r\n\tat org.apache.spark.api.python.PythonWorkerFactory.createSimpleWorker(PythonWorkerFactory.scala:189)\r\n\tat org.apache.spark.api.python.PythonWorkerFactory.create(PythonWorkerFactory.scala:109)\r\n\tat org.apache.spark.SparkEnv.createPythonWorker(SparkEnv.scala:124)\r\n\tat org.apache.spark.api.python.BasePythonRunner.compute(PythonRunner.scala:157)\r\n\tat org.apache.spark.api.python.PythonRDD.compute(PythonRDD.scala:65)\r\n\tat org.apache.spark.rdd.RDD.computeOrReadCheckpoint(RDD.scala:365)\r\n\tat org.apache.spark.rdd.RDD.iterator(RDD.scala:329)\r\n\tat org.apache.spark.rdd.MapPartitionsRDD.compute(MapPartitionsRDD.scala:52)\r\n\tat org.apache.spark.rdd.RDD.computeOrReadCheckpoint(RDD.scala:365)\r\n\tat org.apache.spark.rdd.RDD.iterator(RDD.scala:329)\r\n\tat org.apache.spark.rdd.MapPartitionsRDD.compute(MapPartitionsRDD.scala:52)\r\n\tat org.apache.spark.rdd.RDD.computeOrReadCheckpoint(RDD.scala:365)\r\n\tat org.apache.spark.rdd.RDD.iterator(RDD.scala:329)\r\n\tat org.apache.spark.rdd.MapPartitionsRDD.compute(MapPartitionsRDD.scala:52)\r\n\tat org.apache.spark.rdd.RDD.computeOrReadCheckpoint(RDD.scala:365)\r\n\tat org.apache.spark.rdd.RDD.iterator(RDD.scala:329)\r\n\tat org.apache.spark.rdd.MapPartitionsRDD.compute(MapPartitionsRDD.scala:52)\r\n\tat org.apache.spark.rdd.RDD.computeOrReadCheckpoint(RDD.scala:365)\r\n\tat org.apache.spark.rdd.RDD.iterator(RDD.scala:329)\r\n\tat org.apache.spark.rdd.MapPartitionsRDD.compute(MapPartitionsRDD.scala:52)\r\n\tat org.apache.spark.rdd.RDD.computeOrReadCheckpoint(RDD.scala:365)\r\n\tat org.apache.spark.rdd.RDD.iterator(RDD.scala:329)\r\n\tat org.apache.spark.scheduler.ResultTask.runTask(ResultTask.scala:90)\r\n\tat org.apache.spark.scheduler.Task.run(Task.scala:136)\r\n\tat org.apache.spark.executor.Executor$TaskRunner.$anonfun$run$3(Executor.scala:548)\r\n\tat org.apache.spark.util.Utils$.tryWithSafeFinally(Utils.scala:1504)\r\n\tat org.apache.spark.executor.Executor$TaskRunner.run(Executor.scala:551)\r\n\tat java.base/java.util.concurrent.ThreadPoolExecutor.runWorker(ThreadPoolExecutor.java:1144)\r\n\tat java.base/java.util.concurrent.ThreadPoolExecutor$Worker.run(ThreadPoolExecutor.java:642)\r\n\t... 1 more\r\nCaused by: java.net.SocketTimeoutException: Accept timed out\r\n\tat java.base/sun.nio.ch.NioSocketImpl.timedAccept(NioSocketImpl.java:694)\r\n\tat java.base/sun.nio.ch.NioSocketImpl.accept(NioSocketImpl.java:738)\r\n\tat java.base/java.net.ServerSocket.implAccept(ServerSocket.java:690)\r\n\tat java.base/java.net.ServerSocket.platformImplAccept(ServerSocket.java:655)\r\n\tat java.base/java.net.ServerSocket.implAccept(ServerSocket.java:631)\r\n\tat java.base/java.net.ServerSocket.implAccept(ServerSocket.java:588)\r\n\tat java.base/java.net.ServerSocket.accept(ServerSocket.java:546)\r\n\tat org.apache.spark.api.python.PythonWorkerFactory.createSimpleWorker(PythonWorkerFactory.scala:176)\r\n\t... 29 more\r\n",
     "output_type": "error",
     "traceback": [
      "\u001b[1;31m---------------------------------------------------------------------------\u001b[0m",
      "\u001b[1;31mPy4JJavaError\u001b[0m                             Traceback (most recent call last)",
      "Cell \u001b[1;32mIn[5], line 1\u001b[0m\n\u001b[1;32m----> 1\u001b[0m \u001b[43mdf_na\u001b[49m\u001b[38;5;241;43m.\u001b[39;49m\u001b[43mshow\u001b[49m\u001b[43m(\u001b[49m\u001b[43m)\u001b[49m\n",
      "File \u001b[1;32m~\\anaconda3\\lib\\site-packages\\pyspark\\sql\\dataframe.py:606\u001b[0m, in \u001b[0;36mDataFrame.show\u001b[1;34m(self, n, truncate, vertical)\u001b[0m\n\u001b[0;32m    603\u001b[0m     \u001b[38;5;28;01mraise\u001b[39;00m \u001b[38;5;167;01mTypeError\u001b[39;00m(\u001b[38;5;124m\"\u001b[39m\u001b[38;5;124mParameter \u001b[39m\u001b[38;5;124m'\u001b[39m\u001b[38;5;124mvertical\u001b[39m\u001b[38;5;124m'\u001b[39m\u001b[38;5;124m must be a bool\u001b[39m\u001b[38;5;124m\"\u001b[39m)\n\u001b[0;32m    605\u001b[0m \u001b[38;5;28;01mif\u001b[39;00m \u001b[38;5;28misinstance\u001b[39m(truncate, \u001b[38;5;28mbool\u001b[39m) \u001b[38;5;129;01mand\u001b[39;00m truncate:\n\u001b[1;32m--> 606\u001b[0m     \u001b[38;5;28mprint\u001b[39m(\u001b[38;5;28;43mself\u001b[39;49m\u001b[38;5;241;43m.\u001b[39;49m\u001b[43m_jdf\u001b[49m\u001b[38;5;241;43m.\u001b[39;49m\u001b[43mshowString\u001b[49m\u001b[43m(\u001b[49m\u001b[43mn\u001b[49m\u001b[43m,\u001b[49m\u001b[43m \u001b[49m\u001b[38;5;241;43m20\u001b[39;49m\u001b[43m,\u001b[49m\u001b[43m \u001b[49m\u001b[43mvertical\u001b[49m\u001b[43m)\u001b[49m)\n\u001b[0;32m    607\u001b[0m \u001b[38;5;28;01melse\u001b[39;00m:\n\u001b[0;32m    608\u001b[0m     \u001b[38;5;28;01mtry\u001b[39;00m:\n",
      "File \u001b[1;32m~\\anaconda3\\lib\\site-packages\\py4j\\java_gateway.py:1321\u001b[0m, in \u001b[0;36mJavaMember.__call__\u001b[1;34m(self, *args)\u001b[0m\n\u001b[0;32m   1315\u001b[0m command \u001b[38;5;241m=\u001b[39m proto\u001b[38;5;241m.\u001b[39mCALL_COMMAND_NAME \u001b[38;5;241m+\u001b[39m\\\n\u001b[0;32m   1316\u001b[0m     \u001b[38;5;28mself\u001b[39m\u001b[38;5;241m.\u001b[39mcommand_header \u001b[38;5;241m+\u001b[39m\\\n\u001b[0;32m   1317\u001b[0m     args_command \u001b[38;5;241m+\u001b[39m\\\n\u001b[0;32m   1318\u001b[0m     proto\u001b[38;5;241m.\u001b[39mEND_COMMAND_PART\n\u001b[0;32m   1320\u001b[0m answer \u001b[38;5;241m=\u001b[39m \u001b[38;5;28mself\u001b[39m\u001b[38;5;241m.\u001b[39mgateway_client\u001b[38;5;241m.\u001b[39msend_command(command)\n\u001b[1;32m-> 1321\u001b[0m return_value \u001b[38;5;241m=\u001b[39m \u001b[43mget_return_value\u001b[49m\u001b[43m(\u001b[49m\n\u001b[0;32m   1322\u001b[0m \u001b[43m    \u001b[49m\u001b[43manswer\u001b[49m\u001b[43m,\u001b[49m\u001b[43m \u001b[49m\u001b[38;5;28;43mself\u001b[39;49m\u001b[38;5;241;43m.\u001b[39;49m\u001b[43mgateway_client\u001b[49m\u001b[43m,\u001b[49m\u001b[43m \u001b[49m\u001b[38;5;28;43mself\u001b[39;49m\u001b[38;5;241;43m.\u001b[39;49m\u001b[43mtarget_id\u001b[49m\u001b[43m,\u001b[49m\u001b[43m \u001b[49m\u001b[38;5;28;43mself\u001b[39;49m\u001b[38;5;241;43m.\u001b[39;49m\u001b[43mname\u001b[49m\u001b[43m)\u001b[49m\n\u001b[0;32m   1324\u001b[0m \u001b[38;5;28;01mfor\u001b[39;00m temp_arg \u001b[38;5;129;01min\u001b[39;00m temp_args:\n\u001b[0;32m   1325\u001b[0m     temp_arg\u001b[38;5;241m.\u001b[39m_detach()\n",
      "File \u001b[1;32m~\\anaconda3\\lib\\site-packages\\pyspark\\sql\\utils.py:190\u001b[0m, in \u001b[0;36mcapture_sql_exception.<locals>.deco\u001b[1;34m(*a, **kw)\u001b[0m\n\u001b[0;32m    188\u001b[0m \u001b[38;5;28;01mdef\u001b[39;00m \u001b[38;5;21mdeco\u001b[39m(\u001b[38;5;241m*\u001b[39ma: Any, \u001b[38;5;241m*\u001b[39m\u001b[38;5;241m*\u001b[39mkw: Any) \u001b[38;5;241m-\u001b[39m\u001b[38;5;241m>\u001b[39m Any:\n\u001b[0;32m    189\u001b[0m     \u001b[38;5;28;01mtry\u001b[39;00m:\n\u001b[1;32m--> 190\u001b[0m         \u001b[38;5;28;01mreturn\u001b[39;00m f(\u001b[38;5;241m*\u001b[39ma, \u001b[38;5;241m*\u001b[39m\u001b[38;5;241m*\u001b[39mkw)\n\u001b[0;32m    191\u001b[0m     \u001b[38;5;28;01mexcept\u001b[39;00m Py4JJavaError \u001b[38;5;28;01mas\u001b[39;00m e:\n\u001b[0;32m    192\u001b[0m         converted \u001b[38;5;241m=\u001b[39m convert_exception(e\u001b[38;5;241m.\u001b[39mjava_exception)\n",
      "File \u001b[1;32m~\\anaconda3\\lib\\site-packages\\py4j\\protocol.py:326\u001b[0m, in \u001b[0;36mget_return_value\u001b[1;34m(answer, gateway_client, target_id, name)\u001b[0m\n\u001b[0;32m    324\u001b[0m value \u001b[38;5;241m=\u001b[39m OUTPUT_CONVERTER[\u001b[38;5;28mtype\u001b[39m](answer[\u001b[38;5;241m2\u001b[39m:], gateway_client)\n\u001b[0;32m    325\u001b[0m \u001b[38;5;28;01mif\u001b[39;00m answer[\u001b[38;5;241m1\u001b[39m] \u001b[38;5;241m==\u001b[39m REFERENCE_TYPE:\n\u001b[1;32m--> 326\u001b[0m     \u001b[38;5;28;01mraise\u001b[39;00m Py4JJavaError(\n\u001b[0;32m    327\u001b[0m         \u001b[38;5;124m\"\u001b[39m\u001b[38;5;124mAn error occurred while calling \u001b[39m\u001b[38;5;132;01m{0}\u001b[39;00m\u001b[38;5;132;01m{1}\u001b[39;00m\u001b[38;5;132;01m{2}\u001b[39;00m\u001b[38;5;124m.\u001b[39m\u001b[38;5;130;01m\\n\u001b[39;00m\u001b[38;5;124m\"\u001b[39m\u001b[38;5;241m.\u001b[39m\n\u001b[0;32m    328\u001b[0m         \u001b[38;5;28mformat\u001b[39m(target_id, \u001b[38;5;124m\"\u001b[39m\u001b[38;5;124m.\u001b[39m\u001b[38;5;124m\"\u001b[39m, name), value)\n\u001b[0;32m    329\u001b[0m \u001b[38;5;28;01melse\u001b[39;00m:\n\u001b[0;32m    330\u001b[0m     \u001b[38;5;28;01mraise\u001b[39;00m Py4JError(\n\u001b[0;32m    331\u001b[0m         \u001b[38;5;124m\"\u001b[39m\u001b[38;5;124mAn error occurred while calling \u001b[39m\u001b[38;5;132;01m{0}\u001b[39;00m\u001b[38;5;132;01m{1}\u001b[39;00m\u001b[38;5;132;01m{2}\u001b[39;00m\u001b[38;5;124m. Trace:\u001b[39m\u001b[38;5;130;01m\\n\u001b[39;00m\u001b[38;5;132;01m{3}\u001b[39;00m\u001b[38;5;130;01m\\n\u001b[39;00m\u001b[38;5;124m\"\u001b[39m\u001b[38;5;241m.\u001b[39m\n\u001b[0;32m    332\u001b[0m         \u001b[38;5;28mformat\u001b[39m(target_id, \u001b[38;5;124m\"\u001b[39m\u001b[38;5;124m.\u001b[39m\u001b[38;5;124m\"\u001b[39m, name, value))\n",
      "\u001b[1;31mPy4JJavaError\u001b[0m: An error occurred while calling o42.showString.\n: org.apache.spark.SparkException: Job aborted due to stage failure: Task 0 in stage 0.0 failed 1 times, most recent failure: Lost task 0.0 in stage 0.0 (TID 0) (KKING executor driver): org.apache.spark.SparkException: Python worker failed to connect back.\r\n\tat org.apache.spark.api.python.PythonWorkerFactory.createSimpleWorker(PythonWorkerFactory.scala:189)\r\n\tat org.apache.spark.api.python.PythonWorkerFactory.create(PythonWorkerFactory.scala:109)\r\n\tat org.apache.spark.SparkEnv.createPythonWorker(SparkEnv.scala:124)\r\n\tat org.apache.spark.api.python.BasePythonRunner.compute(PythonRunner.scala:157)\r\n\tat org.apache.spark.api.python.PythonRDD.compute(PythonRDD.scala:65)\r\n\tat org.apache.spark.rdd.RDD.computeOrReadCheckpoint(RDD.scala:365)\r\n\tat org.apache.spark.rdd.RDD.iterator(RDD.scala:329)\r\n\tat org.apache.spark.rdd.MapPartitionsRDD.compute(MapPartitionsRDD.scala:52)\r\n\tat org.apache.spark.rdd.RDD.computeOrReadCheckpoint(RDD.scala:365)\r\n\tat org.apache.spark.rdd.RDD.iterator(RDD.scala:329)\r\n\tat org.apache.spark.rdd.MapPartitionsRDD.compute(MapPartitionsRDD.scala:52)\r\n\tat org.apache.spark.rdd.RDD.computeOrReadCheckpoint(RDD.scala:365)\r\n\tat org.apache.spark.rdd.RDD.iterator(RDD.scala:329)\r\n\tat org.apache.spark.rdd.MapPartitionsRDD.compute(MapPartitionsRDD.scala:52)\r\n\tat org.apache.spark.rdd.RDD.computeOrReadCheckpoint(RDD.scala:365)\r\n\tat org.apache.spark.rdd.RDD.iterator(RDD.scala:329)\r\n\tat org.apache.spark.rdd.MapPartitionsRDD.compute(MapPartitionsRDD.scala:52)\r\n\tat org.apache.spark.rdd.RDD.computeOrReadCheckpoint(RDD.scala:365)\r\n\tat org.apache.spark.rdd.RDD.iterator(RDD.scala:329)\r\n\tat org.apache.spark.rdd.MapPartitionsRDD.compute(MapPartitionsRDD.scala:52)\r\n\tat org.apache.spark.rdd.RDD.computeOrReadCheckpoint(RDD.scala:365)\r\n\tat org.apache.spark.rdd.RDD.iterator(RDD.scala:329)\r\n\tat org.apache.spark.scheduler.ResultTask.runTask(ResultTask.scala:90)\r\n\tat org.apache.spark.scheduler.Task.run(Task.scala:136)\r\n\tat org.apache.spark.executor.Executor$TaskRunner.$anonfun$run$3(Executor.scala:548)\r\n\tat org.apache.spark.util.Utils$.tryWithSafeFinally(Utils.scala:1504)\r\n\tat org.apache.spark.executor.Executor$TaskRunner.run(Executor.scala:551)\r\n\tat java.base/java.util.concurrent.ThreadPoolExecutor.runWorker(ThreadPoolExecutor.java:1144)\r\n\tat java.base/java.util.concurrent.ThreadPoolExecutor$Worker.run(ThreadPoolExecutor.java:642)\r\n\tat java.base/java.lang.Thread.run(Thread.java:1623)\r\nCaused by: java.net.SocketTimeoutException: Accept timed out\r\n\tat java.base/sun.nio.ch.NioSocketImpl.timedAccept(NioSocketImpl.java:694)\r\n\tat java.base/sun.nio.ch.NioSocketImpl.accept(NioSocketImpl.java:738)\r\n\tat java.base/java.net.ServerSocket.implAccept(ServerSocket.java:690)\r\n\tat java.base/java.net.ServerSocket.platformImplAccept(ServerSocket.java:655)\r\n\tat java.base/java.net.ServerSocket.implAccept(ServerSocket.java:631)\r\n\tat java.base/java.net.ServerSocket.implAccept(ServerSocket.java:588)\r\n\tat java.base/java.net.ServerSocket.accept(ServerSocket.java:546)\r\n\tat org.apache.spark.api.python.PythonWorkerFactory.createSimpleWorker(PythonWorkerFactory.scala:176)\r\n\t... 29 more\r\n\nDriver stacktrace:\r\n\tat org.apache.spark.scheduler.DAGScheduler.failJobAndIndependentStages(DAGScheduler.scala:2672)\r\n\tat org.apache.spark.scheduler.DAGScheduler.$anonfun$abortStage$2(DAGScheduler.scala:2608)\r\n\tat org.apache.spark.scheduler.DAGScheduler.$anonfun$abortStage$2$adapted(DAGScheduler.scala:2607)\r\n\tat scala.collection.mutable.ResizableArray.foreach(ResizableArray.scala:62)\r\n\tat scala.collection.mutable.ResizableArray.foreach$(ResizableArray.scala:55)\r\n\tat scala.collection.mutable.ArrayBuffer.foreach(ArrayBuffer.scala:49)\r\n\tat org.apache.spark.scheduler.DAGScheduler.abortStage(DAGScheduler.scala:2607)\r\n\tat org.apache.spark.scheduler.DAGScheduler.$anonfun$handleTaskSetFailed$1(DAGScheduler.scala:1182)\r\n\tat org.apache.spark.scheduler.DAGScheduler.$anonfun$handleTaskSetFailed$1$adapted(DAGScheduler.scala:1182)\r\n\tat scala.Option.foreach(Option.scala:407)\r\n\tat org.apache.spark.scheduler.DAGScheduler.handleTaskSetFailed(DAGScheduler.scala:1182)\r\n\tat org.apache.spark.scheduler.DAGSchedulerEventProcessLoop.doOnReceive(DAGScheduler.scala:2860)\r\n\tat org.apache.spark.scheduler.DAGSchedulerEventProcessLoop.onReceive(DAGScheduler.scala:2802)\r\n\tat org.apache.spark.scheduler.DAGSchedulerEventProcessLoop.onReceive(DAGScheduler.scala:2791)\r\n\tat org.apache.spark.util.EventLoop$$anon$1.run(EventLoop.scala:49)\r\n\tat org.apache.spark.scheduler.DAGScheduler.runJob(DAGScheduler.scala:952)\r\n\tat org.apache.spark.SparkContext.runJob(SparkContext.scala:2238)\r\n\tat org.apache.spark.SparkContext.runJob(SparkContext.scala:2259)\r\n\tat org.apache.spark.SparkContext.runJob(SparkContext.scala:2278)\r\n\tat org.apache.spark.sql.execution.SparkPlan.executeTake(SparkPlan.scala:506)\r\n\tat org.apache.spark.sql.execution.SparkPlan.executeTake(SparkPlan.scala:459)\r\n\tat org.apache.spark.sql.execution.CollectLimitExec.executeCollect(limit.scala:48)\r\n\tat org.apache.spark.sql.Dataset.collectFromPlan(Dataset.scala:3868)\r\n\tat org.apache.spark.sql.Dataset.$anonfun$head$1(Dataset.scala:2863)\r\n\tat org.apache.spark.sql.Dataset.$anonfun$withAction$2(Dataset.scala:3858)\r\n\tat org.apache.spark.sql.execution.QueryExecution$.withInternalError(QueryExecution.scala:510)\r\n\tat org.apache.spark.sql.Dataset.$anonfun$withAction$1(Dataset.scala:3856)\r\n\tat org.apache.spark.sql.execution.SQLExecution$.$anonfun$withNewExecutionId$6(SQLExecution.scala:109)\r\n\tat org.apache.spark.sql.execution.SQLExecution$.withSQLConfPropagated(SQLExecution.scala:169)\r\n\tat org.apache.spark.sql.execution.SQLExecution$.$anonfun$withNewExecutionId$1(SQLExecution.scala:95)\r\n\tat org.apache.spark.sql.SparkSession.withActive(SparkSession.scala:779)\r\n\tat org.apache.spark.sql.execution.SQLExecution$.withNewExecutionId(SQLExecution.scala:64)\r\n\tat org.apache.spark.sql.Dataset.withAction(Dataset.scala:3856)\r\n\tat org.apache.spark.sql.Dataset.head(Dataset.scala:2863)\r\n\tat org.apache.spark.sql.Dataset.take(Dataset.scala:3084)\r\n\tat org.apache.spark.sql.Dataset.getRows(Dataset.scala:288)\r\n\tat org.apache.spark.sql.Dataset.showString(Dataset.scala:327)\r\n\tat java.base/jdk.internal.reflect.DirectMethodHandleAccessor.invoke(DirectMethodHandleAccessor.java:104)\r\n\tat java.base/java.lang.reflect.Method.invoke(Method.java:578)\r\n\tat py4j.reflection.MethodInvoker.invoke(MethodInvoker.java:244)\r\n\tat py4j.reflection.ReflectionEngine.invoke(ReflectionEngine.java:357)\r\n\tat py4j.Gateway.invoke(Gateway.java:282)\r\n\tat py4j.commands.AbstractCommand.invokeMethod(AbstractCommand.java:132)\r\n\tat py4j.commands.CallCommand.execute(CallCommand.java:79)\r\n\tat py4j.ClientServerConnection.waitForCommands(ClientServerConnection.java:182)\r\n\tat py4j.ClientServerConnection.run(ClientServerConnection.java:106)\r\n\tat java.base/java.lang.Thread.run(Thread.java:1623)\r\nCaused by: org.apache.spark.SparkException: Python worker failed to connect back.\r\n\tat org.apache.spark.api.python.PythonWorkerFactory.createSimpleWorker(PythonWorkerFactory.scala:189)\r\n\tat org.apache.spark.api.python.PythonWorkerFactory.create(PythonWorkerFactory.scala:109)\r\n\tat org.apache.spark.SparkEnv.createPythonWorker(SparkEnv.scala:124)\r\n\tat org.apache.spark.api.python.BasePythonRunner.compute(PythonRunner.scala:157)\r\n\tat org.apache.spark.api.python.PythonRDD.compute(PythonRDD.scala:65)\r\n\tat org.apache.spark.rdd.RDD.computeOrReadCheckpoint(RDD.scala:365)\r\n\tat org.apache.spark.rdd.RDD.iterator(RDD.scala:329)\r\n\tat org.apache.spark.rdd.MapPartitionsRDD.compute(MapPartitionsRDD.scala:52)\r\n\tat org.apache.spark.rdd.RDD.computeOrReadCheckpoint(RDD.scala:365)\r\n\tat org.apache.spark.rdd.RDD.iterator(RDD.scala:329)\r\n\tat org.apache.spark.rdd.MapPartitionsRDD.compute(MapPartitionsRDD.scala:52)\r\n\tat org.apache.spark.rdd.RDD.computeOrReadCheckpoint(RDD.scala:365)\r\n\tat org.apache.spark.rdd.RDD.iterator(RDD.scala:329)\r\n\tat org.apache.spark.rdd.MapPartitionsRDD.compute(MapPartitionsRDD.scala:52)\r\n\tat org.apache.spark.rdd.RDD.computeOrReadCheckpoint(RDD.scala:365)\r\n\tat org.apache.spark.rdd.RDD.iterator(RDD.scala:329)\r\n\tat org.apache.spark.rdd.MapPartitionsRDD.compute(MapPartitionsRDD.scala:52)\r\n\tat org.apache.spark.rdd.RDD.computeOrReadCheckpoint(RDD.scala:365)\r\n\tat org.apache.spark.rdd.RDD.iterator(RDD.scala:329)\r\n\tat org.apache.spark.rdd.MapPartitionsRDD.compute(MapPartitionsRDD.scala:52)\r\n\tat org.apache.spark.rdd.RDD.computeOrReadCheckpoint(RDD.scala:365)\r\n\tat org.apache.spark.rdd.RDD.iterator(RDD.scala:329)\r\n\tat org.apache.spark.scheduler.ResultTask.runTask(ResultTask.scala:90)\r\n\tat org.apache.spark.scheduler.Task.run(Task.scala:136)\r\n\tat org.apache.spark.executor.Executor$TaskRunner.$anonfun$run$3(Executor.scala:548)\r\n\tat org.apache.spark.util.Utils$.tryWithSafeFinally(Utils.scala:1504)\r\n\tat org.apache.spark.executor.Executor$TaskRunner.run(Executor.scala:551)\r\n\tat java.base/java.util.concurrent.ThreadPoolExecutor.runWorker(ThreadPoolExecutor.java:1144)\r\n\tat java.base/java.util.concurrent.ThreadPoolExecutor$Worker.run(ThreadPoolExecutor.java:642)\r\n\t... 1 more\r\nCaused by: java.net.SocketTimeoutException: Accept timed out\r\n\tat java.base/sun.nio.ch.NioSocketImpl.timedAccept(NioSocketImpl.java:694)\r\n\tat java.base/sun.nio.ch.NioSocketImpl.accept(NioSocketImpl.java:738)\r\n\tat java.base/java.net.ServerSocket.implAccept(ServerSocket.java:690)\r\n\tat java.base/java.net.ServerSocket.platformImplAccept(ServerSocket.java:655)\r\n\tat java.base/java.net.ServerSocket.implAccept(ServerSocket.java:631)\r\n\tat java.base/java.net.ServerSocket.implAccept(ServerSocket.java:588)\r\n\tat java.base/java.net.ServerSocket.accept(ServerSocket.java:546)\r\n\tat org.apache.spark.api.python.PythonWorkerFactory.createSimpleWorker(PythonWorkerFactory.scala:176)\r\n\t... 29 more\r\n"
     ]
    }
   ],
   "source": [
    "df_na.show()"
   ]
  },
  {
   "cell_type": "code",
   "execution_count": null,
   "id": "c2da073a-5f2d-4186-8c23-7bfb3207379e",
   "metadata": {},
   "outputs": [],
   "source": []
  },
  {
   "cell_type": "code",
   "execution_count": null,
   "id": "f6eceed2-d2f4-4b03-9aef-9a3f7883e2dc",
   "metadata": {},
   "outputs": [],
   "source": []
  },
  {
   "cell_type": "code",
   "execution_count": 22,
   "id": "2cd7dd75-0a02-472f-9bf7-33e8f6ece6b6",
   "metadata": {},
   "outputs": [],
   "source": [
    "# creating a dataframe from  an existing RDD"
   ]
  },
  {
   "cell_type": "code",
   "execution_count": 6,
   "id": "f43acc9d-8d98-41bc-b884-b1fc19a136e5",
   "metadata": {},
   "outputs": [
    {
     "data": {
      "text/plain": [
       "pyspark.rdd.RDD"
      ]
     },
     "execution_count": 6,
     "metadata": {},
     "output_type": "execute_result"
    }
   ],
   "source": [
    "data = [('Ankit', 34), ('Femi', 22), ('pretty', 24)]\n",
    "data_rdd = sc.parallelize(data)\n",
    "type(data_rdd)"
   ]
  },
  {
   "cell_type": "code",
   "execution_count": null,
   "id": "0b9b6f63-a1a2-4598-a3aa-e7df6a17250e",
   "metadata": {},
   "outputs": [],
   "source": [
    "# now create your dataframe"
   ]
  },
  {
   "cell_type": "code",
   "execution_count": 7,
   "id": "ba5986cb-87ba-41c3-ae58-bdbddb9fa979",
   "metadata": {},
   "outputs": [
    {
     "ename": "Py4JJavaError",
     "evalue": "An error occurred while calling z:org.apache.spark.api.python.PythonRDD.runJob.\n: org.apache.spark.SparkException: Job aborted due to stage failure: Task 0 in stage 1.0 failed 1 times, most recent failure: Lost task 0.0 in stage 1.0 (TID 1) (KKING executor driver): org.apache.spark.SparkException: Python worker failed to connect back.\r\n\tat org.apache.spark.api.python.PythonWorkerFactory.createSimpleWorker(PythonWorkerFactory.scala:189)\r\n\tat org.apache.spark.api.python.PythonWorkerFactory.create(PythonWorkerFactory.scala:109)\r\n\tat org.apache.spark.SparkEnv.createPythonWorker(SparkEnv.scala:124)\r\n\tat org.apache.spark.api.python.BasePythonRunner.compute(PythonRunner.scala:157)\r\n\tat org.apache.spark.api.python.PythonRDD.compute(PythonRDD.scala:65)\r\n\tat org.apache.spark.rdd.RDD.computeOrReadCheckpoint(RDD.scala:365)\r\n\tat org.apache.spark.rdd.RDD.iterator(RDD.scala:329)\r\n\tat org.apache.spark.scheduler.ResultTask.runTask(ResultTask.scala:90)\r\n\tat org.apache.spark.scheduler.Task.run(Task.scala:136)\r\n\tat org.apache.spark.executor.Executor$TaskRunner.$anonfun$run$3(Executor.scala:548)\r\n\tat org.apache.spark.util.Utils$.tryWithSafeFinally(Utils.scala:1504)\r\n\tat org.apache.spark.executor.Executor$TaskRunner.run(Executor.scala:551)\r\n\tat java.base/java.util.concurrent.ThreadPoolExecutor.runWorker(ThreadPoolExecutor.java:1144)\r\n\tat java.base/java.util.concurrent.ThreadPoolExecutor$Worker.run(ThreadPoolExecutor.java:642)\r\n\tat java.base/java.lang.Thread.run(Thread.java:1623)\r\nCaused by: java.net.SocketTimeoutException: Accept timed out\r\n\tat java.base/sun.nio.ch.NioSocketImpl.timedAccept(NioSocketImpl.java:694)\r\n\tat java.base/sun.nio.ch.NioSocketImpl.accept(NioSocketImpl.java:738)\r\n\tat java.base/java.net.ServerSocket.implAccept(ServerSocket.java:690)\r\n\tat java.base/java.net.ServerSocket.platformImplAccept(ServerSocket.java:655)\r\n\tat java.base/java.net.ServerSocket.implAccept(ServerSocket.java:631)\r\n\tat java.base/java.net.ServerSocket.implAccept(ServerSocket.java:588)\r\n\tat java.base/java.net.ServerSocket.accept(ServerSocket.java:546)\r\n\tat org.apache.spark.api.python.PythonWorkerFactory.createSimpleWorker(PythonWorkerFactory.scala:176)\r\n\t... 14 more\r\n\nDriver stacktrace:\r\n\tat org.apache.spark.scheduler.DAGScheduler.failJobAndIndependentStages(DAGScheduler.scala:2672)\r\n\tat org.apache.spark.scheduler.DAGScheduler.$anonfun$abortStage$2(DAGScheduler.scala:2608)\r\n\tat org.apache.spark.scheduler.DAGScheduler.$anonfun$abortStage$2$adapted(DAGScheduler.scala:2607)\r\n\tat scala.collection.mutable.ResizableArray.foreach(ResizableArray.scala:62)\r\n\tat scala.collection.mutable.ResizableArray.foreach$(ResizableArray.scala:55)\r\n\tat scala.collection.mutable.ArrayBuffer.foreach(ArrayBuffer.scala:49)\r\n\tat org.apache.spark.scheduler.DAGScheduler.abortStage(DAGScheduler.scala:2607)\r\n\tat org.apache.spark.scheduler.DAGScheduler.$anonfun$handleTaskSetFailed$1(DAGScheduler.scala:1182)\r\n\tat org.apache.spark.scheduler.DAGScheduler.$anonfun$handleTaskSetFailed$1$adapted(DAGScheduler.scala:1182)\r\n\tat scala.Option.foreach(Option.scala:407)\r\n\tat org.apache.spark.scheduler.DAGScheduler.handleTaskSetFailed(DAGScheduler.scala:1182)\r\n\tat org.apache.spark.scheduler.DAGSchedulerEventProcessLoop.doOnReceive(DAGScheduler.scala:2860)\r\n\tat org.apache.spark.scheduler.DAGSchedulerEventProcessLoop.onReceive(DAGScheduler.scala:2802)\r\n\tat org.apache.spark.scheduler.DAGSchedulerEventProcessLoop.onReceive(DAGScheduler.scala:2791)\r\n\tat org.apache.spark.util.EventLoop$$anon$1.run(EventLoop.scala:49)\r\n\tat org.apache.spark.scheduler.DAGScheduler.runJob(DAGScheduler.scala:952)\r\n\tat org.apache.spark.SparkContext.runJob(SparkContext.scala:2238)\r\n\tat org.apache.spark.SparkContext.runJob(SparkContext.scala:2259)\r\n\tat org.apache.spark.SparkContext.runJob(SparkContext.scala:2278)\r\n\tat org.apache.spark.api.python.PythonRDD$.runJob(PythonRDD.scala:166)\r\n\tat org.apache.spark.api.python.PythonRDD.runJob(PythonRDD.scala)\r\n\tat java.base/jdk.internal.reflect.DirectMethodHandleAccessor.invoke(DirectMethodHandleAccessor.java:104)\r\n\tat java.base/java.lang.reflect.Method.invoke(Method.java:578)\r\n\tat py4j.reflection.MethodInvoker.invoke(MethodInvoker.java:244)\r\n\tat py4j.reflection.ReflectionEngine.invoke(ReflectionEngine.java:357)\r\n\tat py4j.Gateway.invoke(Gateway.java:282)\r\n\tat py4j.commands.AbstractCommand.invokeMethod(AbstractCommand.java:132)\r\n\tat py4j.commands.CallCommand.execute(CallCommand.java:79)\r\n\tat py4j.ClientServerConnection.waitForCommands(ClientServerConnection.java:182)\r\n\tat py4j.ClientServerConnection.run(ClientServerConnection.java:106)\r\n\tat java.base/java.lang.Thread.run(Thread.java:1623)\r\nCaused by: org.apache.spark.SparkException: Python worker failed to connect back.\r\n\tat org.apache.spark.api.python.PythonWorkerFactory.createSimpleWorker(PythonWorkerFactory.scala:189)\r\n\tat org.apache.spark.api.python.PythonWorkerFactory.create(PythonWorkerFactory.scala:109)\r\n\tat org.apache.spark.SparkEnv.createPythonWorker(SparkEnv.scala:124)\r\n\tat org.apache.spark.api.python.BasePythonRunner.compute(PythonRunner.scala:157)\r\n\tat org.apache.spark.api.python.PythonRDD.compute(PythonRDD.scala:65)\r\n\tat org.apache.spark.rdd.RDD.computeOrReadCheckpoint(RDD.scala:365)\r\n\tat org.apache.spark.rdd.RDD.iterator(RDD.scala:329)\r\n\tat org.apache.spark.scheduler.ResultTask.runTask(ResultTask.scala:90)\r\n\tat org.apache.spark.scheduler.Task.run(Task.scala:136)\r\n\tat org.apache.spark.executor.Executor$TaskRunner.$anonfun$run$3(Executor.scala:548)\r\n\tat org.apache.spark.util.Utils$.tryWithSafeFinally(Utils.scala:1504)\r\n\tat org.apache.spark.executor.Executor$TaskRunner.run(Executor.scala:551)\r\n\tat java.base/java.util.concurrent.ThreadPoolExecutor.runWorker(ThreadPoolExecutor.java:1144)\r\n\tat java.base/java.util.concurrent.ThreadPoolExecutor$Worker.run(ThreadPoolExecutor.java:642)\r\n\t... 1 more\r\nCaused by: java.net.SocketTimeoutException: Accept timed out\r\n\tat java.base/sun.nio.ch.NioSocketImpl.timedAccept(NioSocketImpl.java:694)\r\n\tat java.base/sun.nio.ch.NioSocketImpl.accept(NioSocketImpl.java:738)\r\n\tat java.base/java.net.ServerSocket.implAccept(ServerSocket.java:690)\r\n\tat java.base/java.net.ServerSocket.platformImplAccept(ServerSocket.java:655)\r\n\tat java.base/java.net.ServerSocket.implAccept(ServerSocket.java:631)\r\n\tat java.base/java.net.ServerSocket.implAccept(ServerSocket.java:588)\r\n\tat java.base/java.net.ServerSocket.accept(ServerSocket.java:546)\r\n\tat org.apache.spark.api.python.PythonWorkerFactory.createSimpleWorker(PythonWorkerFactory.scala:176)\r\n\t... 14 more\r\n",
     "output_type": "error",
     "traceback": [
      "\u001b[1;31m---------------------------------------------------------------------------\u001b[0m",
      "\u001b[1;31mPy4JJavaError\u001b[0m                             Traceback (most recent call last)",
      "Cell \u001b[1;32mIn[7], line 1\u001b[0m\n\u001b[1;32m----> 1\u001b[0m data_df \u001b[38;5;241m=\u001b[39m \u001b[43msqlc\u001b[49m\u001b[38;5;241;43m.\u001b[39;49m\u001b[43mcreateDataFrame\u001b[49m\u001b[43m(\u001b[49m\u001b[43mdata_rdd\u001b[49m\u001b[43m)\u001b[49m\n\u001b[0;32m      2\u001b[0m data_df\u001b[38;5;241m.\u001b[39mshow()\n",
      "File \u001b[1;32m~\\anaconda3\\lib\\site-packages\\pyspark\\sql\\context.py:471\u001b[0m, in \u001b[0;36mSQLContext.createDataFrame\u001b[1;34m(self, data, schema, samplingRatio, verifySchema)\u001b[0m\n\u001b[0;32m    365\u001b[0m \u001b[38;5;28;01mdef\u001b[39;00m \u001b[38;5;21mcreateDataFrame\u001b[39m(  \u001b[38;5;66;03m# type: ignore[misc]\u001b[39;00m\n\u001b[0;32m    366\u001b[0m     \u001b[38;5;28mself\u001b[39m,\n\u001b[0;32m    367\u001b[0m     data: Union[RDD[Any], Iterable[Any], \u001b[38;5;124m\"\u001b[39m\u001b[38;5;124mPandasDataFrameLike\u001b[39m\u001b[38;5;124m\"\u001b[39m],\n\u001b[1;32m   (...)\u001b[0m\n\u001b[0;32m    370\u001b[0m     verifySchema: \u001b[38;5;28mbool\u001b[39m \u001b[38;5;241m=\u001b[39m \u001b[38;5;28;01mTrue\u001b[39;00m,\n\u001b[0;32m    371\u001b[0m ) \u001b[38;5;241m-\u001b[39m\u001b[38;5;241m>\u001b[39m DataFrame:\n\u001b[0;32m    372\u001b[0m     \u001b[38;5;124;03m\"\"\"\u001b[39;00m\n\u001b[0;32m    373\u001b[0m \u001b[38;5;124;03m    Creates a :class:`DataFrame` from an :class:`RDD`, a list or a :class:`pandas.DataFrame`.\u001b[39;00m\n\u001b[0;32m    374\u001b[0m \n\u001b[1;32m   (...)\u001b[0m\n\u001b[0;32m    469\u001b[0m \u001b[38;5;124;03m    Py4JJavaError: ...\u001b[39;00m\n\u001b[0;32m    470\u001b[0m \u001b[38;5;124;03m    \"\"\"\u001b[39;00m\n\u001b[1;32m--> 471\u001b[0m     \u001b[38;5;28;01mreturn\u001b[39;00m \u001b[38;5;28;43mself\u001b[39;49m\u001b[38;5;241;43m.\u001b[39;49m\u001b[43msparkSession\u001b[49m\u001b[38;5;241;43m.\u001b[39;49m\u001b[43mcreateDataFrame\u001b[49m\u001b[43m(\u001b[49m\u001b[43m  \u001b[49m\u001b[38;5;66;43;03m# type: ignore[call-overload]\u001b[39;49;00m\n\u001b[0;32m    472\u001b[0m \u001b[43m        \u001b[49m\u001b[43mdata\u001b[49m\u001b[43m,\u001b[49m\u001b[43m \u001b[49m\u001b[43mschema\u001b[49m\u001b[43m,\u001b[49m\u001b[43m \u001b[49m\u001b[43msamplingRatio\u001b[49m\u001b[43m,\u001b[49m\u001b[43m \u001b[49m\u001b[43mverifySchema\u001b[49m\n\u001b[0;32m    473\u001b[0m \u001b[43m    \u001b[49m\u001b[43m)\u001b[49m\n",
      "File \u001b[1;32m~\\anaconda3\\lib\\site-packages\\pyspark\\sql\\session.py:894\u001b[0m, in \u001b[0;36mSparkSession.createDataFrame\u001b[1;34m(self, data, schema, samplingRatio, verifySchema)\u001b[0m\n\u001b[0;32m    889\u001b[0m \u001b[38;5;28;01mif\u001b[39;00m has_pandas \u001b[38;5;129;01mand\u001b[39;00m \u001b[38;5;28misinstance\u001b[39m(data, pandas\u001b[38;5;241m.\u001b[39mDataFrame):\n\u001b[0;32m    890\u001b[0m     \u001b[38;5;66;03m# Create a DataFrame from pandas DataFrame.\u001b[39;00m\n\u001b[0;32m    891\u001b[0m     \u001b[38;5;28;01mreturn\u001b[39;00m \u001b[38;5;28msuper\u001b[39m(SparkSession, \u001b[38;5;28mself\u001b[39m)\u001b[38;5;241m.\u001b[39mcreateDataFrame(  \u001b[38;5;66;03m# type: ignore[call-overload]\u001b[39;00m\n\u001b[0;32m    892\u001b[0m         data, schema, samplingRatio, verifySchema\n\u001b[0;32m    893\u001b[0m     )\n\u001b[1;32m--> 894\u001b[0m \u001b[38;5;28;01mreturn\u001b[39;00m \u001b[38;5;28;43mself\u001b[39;49m\u001b[38;5;241;43m.\u001b[39;49m\u001b[43m_create_dataframe\u001b[49m\u001b[43m(\u001b[49m\n\u001b[0;32m    895\u001b[0m \u001b[43m    \u001b[49m\u001b[43mdata\u001b[49m\u001b[43m,\u001b[49m\u001b[43m \u001b[49m\u001b[43mschema\u001b[49m\u001b[43m,\u001b[49m\u001b[43m \u001b[49m\u001b[43msamplingRatio\u001b[49m\u001b[43m,\u001b[49m\u001b[43m \u001b[49m\u001b[43mverifySchema\u001b[49m\u001b[43m  \u001b[49m\u001b[38;5;66;43;03m# type: ignore[arg-type]\u001b[39;49;00m\n\u001b[0;32m    896\u001b[0m \u001b[43m\u001b[49m\u001b[43m)\u001b[49m\n",
      "File \u001b[1;32m~\\anaconda3\\lib\\site-packages\\pyspark\\sql\\session.py:934\u001b[0m, in \u001b[0;36mSparkSession._create_dataframe\u001b[1;34m(self, data, schema, samplingRatio, verifySchema)\u001b[0m\n\u001b[0;32m    931\u001b[0m         \u001b[38;5;28;01mreturn\u001b[39;00m obj\n\u001b[0;32m    933\u001b[0m \u001b[38;5;28;01mif\u001b[39;00m \u001b[38;5;28misinstance\u001b[39m(data, RDD):\n\u001b[1;32m--> 934\u001b[0m     rdd, struct \u001b[38;5;241m=\u001b[39m \u001b[38;5;28;43mself\u001b[39;49m\u001b[38;5;241;43m.\u001b[39;49m\u001b[43m_createFromRDD\u001b[49m\u001b[43m(\u001b[49m\u001b[43mdata\u001b[49m\u001b[38;5;241;43m.\u001b[39;49m\u001b[43mmap\u001b[49m\u001b[43m(\u001b[49m\u001b[43mprepare\u001b[49m\u001b[43m)\u001b[49m\u001b[43m,\u001b[49m\u001b[43m \u001b[49m\u001b[43mschema\u001b[49m\u001b[43m,\u001b[49m\u001b[43m \u001b[49m\u001b[43msamplingRatio\u001b[49m\u001b[43m)\u001b[49m\n\u001b[0;32m    935\u001b[0m \u001b[38;5;28;01melse\u001b[39;00m:\n\u001b[0;32m    936\u001b[0m     rdd, struct \u001b[38;5;241m=\u001b[39m \u001b[38;5;28mself\u001b[39m\u001b[38;5;241m.\u001b[39m_createFromLocal(\u001b[38;5;28mmap\u001b[39m(prepare, data), schema)\n",
      "File \u001b[1;32m~\\anaconda3\\lib\\site-packages\\pyspark\\sql\\session.py:600\u001b[0m, in \u001b[0;36mSparkSession._createFromRDD\u001b[1;34m(self, rdd, schema, samplingRatio)\u001b[0m\n\u001b[0;32m    596\u001b[0m \u001b[38;5;124;03m\"\"\"\u001b[39;00m\n\u001b[0;32m    597\u001b[0m \u001b[38;5;124;03mCreate an RDD for DataFrame from an existing RDD, returns the RDD and schema.\u001b[39;00m\n\u001b[0;32m    598\u001b[0m \u001b[38;5;124;03m\"\"\"\u001b[39;00m\n\u001b[0;32m    599\u001b[0m \u001b[38;5;28;01mif\u001b[39;00m schema \u001b[38;5;129;01mis\u001b[39;00m \u001b[38;5;28;01mNone\u001b[39;00m \u001b[38;5;129;01mor\u001b[39;00m \u001b[38;5;28misinstance\u001b[39m(schema, (\u001b[38;5;28mlist\u001b[39m, \u001b[38;5;28mtuple\u001b[39m)):\n\u001b[1;32m--> 600\u001b[0m     struct \u001b[38;5;241m=\u001b[39m \u001b[38;5;28;43mself\u001b[39;49m\u001b[38;5;241;43m.\u001b[39;49m\u001b[43m_inferSchema\u001b[49m\u001b[43m(\u001b[49m\u001b[43mrdd\u001b[49m\u001b[43m,\u001b[49m\u001b[43m \u001b[49m\u001b[43msamplingRatio\u001b[49m\u001b[43m,\u001b[49m\u001b[43m \u001b[49m\u001b[43mnames\u001b[49m\u001b[38;5;241;43m=\u001b[39;49m\u001b[43mschema\u001b[49m\u001b[43m)\u001b[49m\n\u001b[0;32m    601\u001b[0m     converter \u001b[38;5;241m=\u001b[39m _create_converter(struct)\n\u001b[0;32m    602\u001b[0m     tupled_rdd \u001b[38;5;241m=\u001b[39m rdd\u001b[38;5;241m.\u001b[39mmap(converter)\n",
      "File \u001b[1;32m~\\anaconda3\\lib\\site-packages\\pyspark\\sql\\session.py:546\u001b[0m, in \u001b[0;36mSparkSession._inferSchema\u001b[1;34m(self, rdd, samplingRatio, names)\u001b[0m\n\u001b[0;32m    525\u001b[0m \u001b[38;5;28;01mdef\u001b[39;00m \u001b[38;5;21m_inferSchema\u001b[39m(\n\u001b[0;32m    526\u001b[0m     \u001b[38;5;28mself\u001b[39m,\n\u001b[0;32m    527\u001b[0m     rdd: RDD[Any],\n\u001b[0;32m    528\u001b[0m     samplingRatio: Optional[\u001b[38;5;28mfloat\u001b[39m] \u001b[38;5;241m=\u001b[39m \u001b[38;5;28;01mNone\u001b[39;00m,\n\u001b[0;32m    529\u001b[0m     names: Optional[List[\u001b[38;5;28mstr\u001b[39m]] \u001b[38;5;241m=\u001b[39m \u001b[38;5;28;01mNone\u001b[39;00m,\n\u001b[0;32m    530\u001b[0m ) \u001b[38;5;241m-\u001b[39m\u001b[38;5;241m>\u001b[39m StructType:\n\u001b[0;32m    531\u001b[0m     \u001b[38;5;124;03m\"\"\"\u001b[39;00m\n\u001b[0;32m    532\u001b[0m \u001b[38;5;124;03m    Infer schema from an RDD of Row, dict, or tuple.\u001b[39;00m\n\u001b[0;32m    533\u001b[0m \n\u001b[1;32m   (...)\u001b[0m\n\u001b[0;32m    544\u001b[0m \u001b[38;5;124;03m    :class:`pyspark.sql.types.StructType`\u001b[39;00m\n\u001b[0;32m    545\u001b[0m \u001b[38;5;124;03m    \"\"\"\u001b[39;00m\n\u001b[1;32m--> 546\u001b[0m     first \u001b[38;5;241m=\u001b[39m \u001b[43mrdd\u001b[49m\u001b[38;5;241;43m.\u001b[39;49m\u001b[43mfirst\u001b[49m\u001b[43m(\u001b[49m\u001b[43m)\u001b[49m\n\u001b[0;32m    547\u001b[0m     \u001b[38;5;28;01mif\u001b[39;00m \u001b[38;5;129;01mnot\u001b[39;00m first:\n\u001b[0;32m    548\u001b[0m         \u001b[38;5;28;01mraise\u001b[39;00m \u001b[38;5;167;01mValueError\u001b[39;00m(\u001b[38;5;124m\"\u001b[39m\u001b[38;5;124mThe first row in RDD is empty, \u001b[39m\u001b[38;5;124m\"\u001b[39m \u001b[38;5;124m\"\u001b[39m\u001b[38;5;124mcan not infer schema\u001b[39m\u001b[38;5;124m\"\u001b[39m)\n",
      "File \u001b[1;32m~\\anaconda3\\lib\\site-packages\\pyspark\\rdd.py:1903\u001b[0m, in \u001b[0;36mRDD.first\u001b[1;34m(self)\u001b[0m\n\u001b[0;32m   1890\u001b[0m \u001b[38;5;28;01mdef\u001b[39;00m \u001b[38;5;21mfirst\u001b[39m(\u001b[38;5;28mself\u001b[39m: \u001b[38;5;124m\"\u001b[39m\u001b[38;5;124mRDD[T]\u001b[39m\u001b[38;5;124m\"\u001b[39m) \u001b[38;5;241m-\u001b[39m\u001b[38;5;241m>\u001b[39m T:\n\u001b[0;32m   1891\u001b[0m     \u001b[38;5;124;03m\"\"\"\u001b[39;00m\n\u001b[0;32m   1892\u001b[0m \u001b[38;5;124;03m    Return the first element in this RDD.\u001b[39;00m\n\u001b[0;32m   1893\u001b[0m \n\u001b[1;32m   (...)\u001b[0m\n\u001b[0;32m   1901\u001b[0m \u001b[38;5;124;03m    ValueError: RDD is empty\u001b[39;00m\n\u001b[0;32m   1902\u001b[0m \u001b[38;5;124;03m    \"\"\"\u001b[39;00m\n\u001b[1;32m-> 1903\u001b[0m     rs \u001b[38;5;241m=\u001b[39m \u001b[38;5;28;43mself\u001b[39;49m\u001b[38;5;241;43m.\u001b[39;49m\u001b[43mtake\u001b[49m\u001b[43m(\u001b[49m\u001b[38;5;241;43m1\u001b[39;49m\u001b[43m)\u001b[49m\n\u001b[0;32m   1904\u001b[0m     \u001b[38;5;28;01mif\u001b[39;00m rs:\n\u001b[0;32m   1905\u001b[0m         \u001b[38;5;28;01mreturn\u001b[39;00m rs[\u001b[38;5;241m0\u001b[39m]\n",
      "File \u001b[1;32m~\\anaconda3\\lib\\site-packages\\pyspark\\rdd.py:1883\u001b[0m, in \u001b[0;36mRDD.take\u001b[1;34m(self, num)\u001b[0m\n\u001b[0;32m   1880\u001b[0m         taken \u001b[38;5;241m+\u001b[39m\u001b[38;5;241m=\u001b[39m \u001b[38;5;241m1\u001b[39m\n\u001b[0;32m   1882\u001b[0m p \u001b[38;5;241m=\u001b[39m \u001b[38;5;28mrange\u001b[39m(partsScanned, \u001b[38;5;28mmin\u001b[39m(partsScanned \u001b[38;5;241m+\u001b[39m numPartsToTry, totalParts))\n\u001b[1;32m-> 1883\u001b[0m res \u001b[38;5;241m=\u001b[39m \u001b[38;5;28;43mself\u001b[39;49m\u001b[38;5;241;43m.\u001b[39;49m\u001b[43mcontext\u001b[49m\u001b[38;5;241;43m.\u001b[39;49m\u001b[43mrunJob\u001b[49m\u001b[43m(\u001b[49m\u001b[38;5;28;43mself\u001b[39;49m\u001b[43m,\u001b[49m\u001b[43m \u001b[49m\u001b[43mtakeUpToNumLeft\u001b[49m\u001b[43m,\u001b[49m\u001b[43m \u001b[49m\u001b[43mp\u001b[49m\u001b[43m)\u001b[49m\n\u001b[0;32m   1885\u001b[0m items \u001b[38;5;241m+\u001b[39m\u001b[38;5;241m=\u001b[39m res\n\u001b[0;32m   1886\u001b[0m partsScanned \u001b[38;5;241m+\u001b[39m\u001b[38;5;241m=\u001b[39m numPartsToTry\n",
      "File \u001b[1;32m~\\anaconda3\\lib\\site-packages\\pyspark\\context.py:1486\u001b[0m, in \u001b[0;36mSparkContext.runJob\u001b[1;34m(self, rdd, partitionFunc, partitions, allowLocal)\u001b[0m\n\u001b[0;32m   1484\u001b[0m mappedRDD \u001b[38;5;241m=\u001b[39m rdd\u001b[38;5;241m.\u001b[39mmapPartitions(partitionFunc)\n\u001b[0;32m   1485\u001b[0m \u001b[38;5;28;01massert\u001b[39;00m \u001b[38;5;28mself\u001b[39m\u001b[38;5;241m.\u001b[39m_jvm \u001b[38;5;129;01mis\u001b[39;00m \u001b[38;5;129;01mnot\u001b[39;00m \u001b[38;5;28;01mNone\u001b[39;00m\n\u001b[1;32m-> 1486\u001b[0m sock_info \u001b[38;5;241m=\u001b[39m \u001b[38;5;28;43mself\u001b[39;49m\u001b[38;5;241;43m.\u001b[39;49m\u001b[43m_jvm\u001b[49m\u001b[38;5;241;43m.\u001b[39;49m\u001b[43mPythonRDD\u001b[49m\u001b[38;5;241;43m.\u001b[39;49m\u001b[43mrunJob\u001b[49m\u001b[43m(\u001b[49m\u001b[38;5;28;43mself\u001b[39;49m\u001b[38;5;241;43m.\u001b[39;49m\u001b[43m_jsc\u001b[49m\u001b[38;5;241;43m.\u001b[39;49m\u001b[43msc\u001b[49m\u001b[43m(\u001b[49m\u001b[43m)\u001b[49m\u001b[43m,\u001b[49m\u001b[43m \u001b[49m\u001b[43mmappedRDD\u001b[49m\u001b[38;5;241;43m.\u001b[39;49m\u001b[43m_jrdd\u001b[49m\u001b[43m,\u001b[49m\u001b[43m \u001b[49m\u001b[43mpartitions\u001b[49m\u001b[43m)\u001b[49m\n\u001b[0;32m   1487\u001b[0m \u001b[38;5;28;01mreturn\u001b[39;00m \u001b[38;5;28mlist\u001b[39m(_load_from_socket(sock_info, mappedRDD\u001b[38;5;241m.\u001b[39m_jrdd_deserializer))\n",
      "File \u001b[1;32m~\\anaconda3\\lib\\site-packages\\py4j\\java_gateway.py:1321\u001b[0m, in \u001b[0;36mJavaMember.__call__\u001b[1;34m(self, *args)\u001b[0m\n\u001b[0;32m   1315\u001b[0m command \u001b[38;5;241m=\u001b[39m proto\u001b[38;5;241m.\u001b[39mCALL_COMMAND_NAME \u001b[38;5;241m+\u001b[39m\\\n\u001b[0;32m   1316\u001b[0m     \u001b[38;5;28mself\u001b[39m\u001b[38;5;241m.\u001b[39mcommand_header \u001b[38;5;241m+\u001b[39m\\\n\u001b[0;32m   1317\u001b[0m     args_command \u001b[38;5;241m+\u001b[39m\\\n\u001b[0;32m   1318\u001b[0m     proto\u001b[38;5;241m.\u001b[39mEND_COMMAND_PART\n\u001b[0;32m   1320\u001b[0m answer \u001b[38;5;241m=\u001b[39m \u001b[38;5;28mself\u001b[39m\u001b[38;5;241m.\u001b[39mgateway_client\u001b[38;5;241m.\u001b[39msend_command(command)\n\u001b[1;32m-> 1321\u001b[0m return_value \u001b[38;5;241m=\u001b[39m \u001b[43mget_return_value\u001b[49m\u001b[43m(\u001b[49m\n\u001b[0;32m   1322\u001b[0m \u001b[43m    \u001b[49m\u001b[43manswer\u001b[49m\u001b[43m,\u001b[49m\u001b[43m \u001b[49m\u001b[38;5;28;43mself\u001b[39;49m\u001b[38;5;241;43m.\u001b[39;49m\u001b[43mgateway_client\u001b[49m\u001b[43m,\u001b[49m\u001b[43m \u001b[49m\u001b[38;5;28;43mself\u001b[39;49m\u001b[38;5;241;43m.\u001b[39;49m\u001b[43mtarget_id\u001b[49m\u001b[43m,\u001b[49m\u001b[43m \u001b[49m\u001b[38;5;28;43mself\u001b[39;49m\u001b[38;5;241;43m.\u001b[39;49m\u001b[43mname\u001b[49m\u001b[43m)\u001b[49m\n\u001b[0;32m   1324\u001b[0m \u001b[38;5;28;01mfor\u001b[39;00m temp_arg \u001b[38;5;129;01min\u001b[39;00m temp_args:\n\u001b[0;32m   1325\u001b[0m     temp_arg\u001b[38;5;241m.\u001b[39m_detach()\n",
      "File \u001b[1;32m~\\anaconda3\\lib\\site-packages\\pyspark\\sql\\utils.py:190\u001b[0m, in \u001b[0;36mcapture_sql_exception.<locals>.deco\u001b[1;34m(*a, **kw)\u001b[0m\n\u001b[0;32m    188\u001b[0m \u001b[38;5;28;01mdef\u001b[39;00m \u001b[38;5;21mdeco\u001b[39m(\u001b[38;5;241m*\u001b[39ma: Any, \u001b[38;5;241m*\u001b[39m\u001b[38;5;241m*\u001b[39mkw: Any) \u001b[38;5;241m-\u001b[39m\u001b[38;5;241m>\u001b[39m Any:\n\u001b[0;32m    189\u001b[0m     \u001b[38;5;28;01mtry\u001b[39;00m:\n\u001b[1;32m--> 190\u001b[0m         \u001b[38;5;28;01mreturn\u001b[39;00m f(\u001b[38;5;241m*\u001b[39ma, \u001b[38;5;241m*\u001b[39m\u001b[38;5;241m*\u001b[39mkw)\n\u001b[0;32m    191\u001b[0m     \u001b[38;5;28;01mexcept\u001b[39;00m Py4JJavaError \u001b[38;5;28;01mas\u001b[39;00m e:\n\u001b[0;32m    192\u001b[0m         converted \u001b[38;5;241m=\u001b[39m convert_exception(e\u001b[38;5;241m.\u001b[39mjava_exception)\n",
      "File \u001b[1;32m~\\anaconda3\\lib\\site-packages\\py4j\\protocol.py:326\u001b[0m, in \u001b[0;36mget_return_value\u001b[1;34m(answer, gateway_client, target_id, name)\u001b[0m\n\u001b[0;32m    324\u001b[0m value \u001b[38;5;241m=\u001b[39m OUTPUT_CONVERTER[\u001b[38;5;28mtype\u001b[39m](answer[\u001b[38;5;241m2\u001b[39m:], gateway_client)\n\u001b[0;32m    325\u001b[0m \u001b[38;5;28;01mif\u001b[39;00m answer[\u001b[38;5;241m1\u001b[39m] \u001b[38;5;241m==\u001b[39m REFERENCE_TYPE:\n\u001b[1;32m--> 326\u001b[0m     \u001b[38;5;28;01mraise\u001b[39;00m Py4JJavaError(\n\u001b[0;32m    327\u001b[0m         \u001b[38;5;124m\"\u001b[39m\u001b[38;5;124mAn error occurred while calling \u001b[39m\u001b[38;5;132;01m{0}\u001b[39;00m\u001b[38;5;132;01m{1}\u001b[39;00m\u001b[38;5;132;01m{2}\u001b[39;00m\u001b[38;5;124m.\u001b[39m\u001b[38;5;130;01m\\n\u001b[39;00m\u001b[38;5;124m\"\u001b[39m\u001b[38;5;241m.\u001b[39m\n\u001b[0;32m    328\u001b[0m         \u001b[38;5;28mformat\u001b[39m(target_id, \u001b[38;5;124m\"\u001b[39m\u001b[38;5;124m.\u001b[39m\u001b[38;5;124m\"\u001b[39m, name), value)\n\u001b[0;32m    329\u001b[0m \u001b[38;5;28;01melse\u001b[39;00m:\n\u001b[0;32m    330\u001b[0m     \u001b[38;5;28;01mraise\u001b[39;00m Py4JError(\n\u001b[0;32m    331\u001b[0m         \u001b[38;5;124m\"\u001b[39m\u001b[38;5;124mAn error occurred while calling \u001b[39m\u001b[38;5;132;01m{0}\u001b[39;00m\u001b[38;5;132;01m{1}\u001b[39;00m\u001b[38;5;132;01m{2}\u001b[39;00m\u001b[38;5;124m. Trace:\u001b[39m\u001b[38;5;130;01m\\n\u001b[39;00m\u001b[38;5;132;01m{3}\u001b[39;00m\u001b[38;5;130;01m\\n\u001b[39;00m\u001b[38;5;124m\"\u001b[39m\u001b[38;5;241m.\u001b[39m\n\u001b[0;32m    332\u001b[0m         \u001b[38;5;28mformat\u001b[39m(target_id, \u001b[38;5;124m\"\u001b[39m\u001b[38;5;124m.\u001b[39m\u001b[38;5;124m\"\u001b[39m, name, value))\n",
      "\u001b[1;31mPy4JJavaError\u001b[0m: An error occurred while calling z:org.apache.spark.api.python.PythonRDD.runJob.\n: org.apache.spark.SparkException: Job aborted due to stage failure: Task 0 in stage 1.0 failed 1 times, most recent failure: Lost task 0.0 in stage 1.0 (TID 1) (KKING executor driver): org.apache.spark.SparkException: Python worker failed to connect back.\r\n\tat org.apache.spark.api.python.PythonWorkerFactory.createSimpleWorker(PythonWorkerFactory.scala:189)\r\n\tat org.apache.spark.api.python.PythonWorkerFactory.create(PythonWorkerFactory.scala:109)\r\n\tat org.apache.spark.SparkEnv.createPythonWorker(SparkEnv.scala:124)\r\n\tat org.apache.spark.api.python.BasePythonRunner.compute(PythonRunner.scala:157)\r\n\tat org.apache.spark.api.python.PythonRDD.compute(PythonRDD.scala:65)\r\n\tat org.apache.spark.rdd.RDD.computeOrReadCheckpoint(RDD.scala:365)\r\n\tat org.apache.spark.rdd.RDD.iterator(RDD.scala:329)\r\n\tat org.apache.spark.scheduler.ResultTask.runTask(ResultTask.scala:90)\r\n\tat org.apache.spark.scheduler.Task.run(Task.scala:136)\r\n\tat org.apache.spark.executor.Executor$TaskRunner.$anonfun$run$3(Executor.scala:548)\r\n\tat org.apache.spark.util.Utils$.tryWithSafeFinally(Utils.scala:1504)\r\n\tat org.apache.spark.executor.Executor$TaskRunner.run(Executor.scala:551)\r\n\tat java.base/java.util.concurrent.ThreadPoolExecutor.runWorker(ThreadPoolExecutor.java:1144)\r\n\tat java.base/java.util.concurrent.ThreadPoolExecutor$Worker.run(ThreadPoolExecutor.java:642)\r\n\tat java.base/java.lang.Thread.run(Thread.java:1623)\r\nCaused by: java.net.SocketTimeoutException: Accept timed out\r\n\tat java.base/sun.nio.ch.NioSocketImpl.timedAccept(NioSocketImpl.java:694)\r\n\tat java.base/sun.nio.ch.NioSocketImpl.accept(NioSocketImpl.java:738)\r\n\tat java.base/java.net.ServerSocket.implAccept(ServerSocket.java:690)\r\n\tat java.base/java.net.ServerSocket.platformImplAccept(ServerSocket.java:655)\r\n\tat java.base/java.net.ServerSocket.implAccept(ServerSocket.java:631)\r\n\tat java.base/java.net.ServerSocket.implAccept(ServerSocket.java:588)\r\n\tat java.base/java.net.ServerSocket.accept(ServerSocket.java:546)\r\n\tat org.apache.spark.api.python.PythonWorkerFactory.createSimpleWorker(PythonWorkerFactory.scala:176)\r\n\t... 14 more\r\n\nDriver stacktrace:\r\n\tat org.apache.spark.scheduler.DAGScheduler.failJobAndIndependentStages(DAGScheduler.scala:2672)\r\n\tat org.apache.spark.scheduler.DAGScheduler.$anonfun$abortStage$2(DAGScheduler.scala:2608)\r\n\tat org.apache.spark.scheduler.DAGScheduler.$anonfun$abortStage$2$adapted(DAGScheduler.scala:2607)\r\n\tat scala.collection.mutable.ResizableArray.foreach(ResizableArray.scala:62)\r\n\tat scala.collection.mutable.ResizableArray.foreach$(ResizableArray.scala:55)\r\n\tat scala.collection.mutable.ArrayBuffer.foreach(ArrayBuffer.scala:49)\r\n\tat org.apache.spark.scheduler.DAGScheduler.abortStage(DAGScheduler.scala:2607)\r\n\tat org.apache.spark.scheduler.DAGScheduler.$anonfun$handleTaskSetFailed$1(DAGScheduler.scala:1182)\r\n\tat org.apache.spark.scheduler.DAGScheduler.$anonfun$handleTaskSetFailed$1$adapted(DAGScheduler.scala:1182)\r\n\tat scala.Option.foreach(Option.scala:407)\r\n\tat org.apache.spark.scheduler.DAGScheduler.handleTaskSetFailed(DAGScheduler.scala:1182)\r\n\tat org.apache.spark.scheduler.DAGSchedulerEventProcessLoop.doOnReceive(DAGScheduler.scala:2860)\r\n\tat org.apache.spark.scheduler.DAGSchedulerEventProcessLoop.onReceive(DAGScheduler.scala:2802)\r\n\tat org.apache.spark.scheduler.DAGSchedulerEventProcessLoop.onReceive(DAGScheduler.scala:2791)\r\n\tat org.apache.spark.util.EventLoop$$anon$1.run(EventLoop.scala:49)\r\n\tat org.apache.spark.scheduler.DAGScheduler.runJob(DAGScheduler.scala:952)\r\n\tat org.apache.spark.SparkContext.runJob(SparkContext.scala:2238)\r\n\tat org.apache.spark.SparkContext.runJob(SparkContext.scala:2259)\r\n\tat org.apache.spark.SparkContext.runJob(SparkContext.scala:2278)\r\n\tat org.apache.spark.api.python.PythonRDD$.runJob(PythonRDD.scala:166)\r\n\tat org.apache.spark.api.python.PythonRDD.runJob(PythonRDD.scala)\r\n\tat java.base/jdk.internal.reflect.DirectMethodHandleAccessor.invoke(DirectMethodHandleAccessor.java:104)\r\n\tat java.base/java.lang.reflect.Method.invoke(Method.java:578)\r\n\tat py4j.reflection.MethodInvoker.invoke(MethodInvoker.java:244)\r\n\tat py4j.reflection.ReflectionEngine.invoke(ReflectionEngine.java:357)\r\n\tat py4j.Gateway.invoke(Gateway.java:282)\r\n\tat py4j.commands.AbstractCommand.invokeMethod(AbstractCommand.java:132)\r\n\tat py4j.commands.CallCommand.execute(CallCommand.java:79)\r\n\tat py4j.ClientServerConnection.waitForCommands(ClientServerConnection.java:182)\r\n\tat py4j.ClientServerConnection.run(ClientServerConnection.java:106)\r\n\tat java.base/java.lang.Thread.run(Thread.java:1623)\r\nCaused by: org.apache.spark.SparkException: Python worker failed to connect back.\r\n\tat org.apache.spark.api.python.PythonWorkerFactory.createSimpleWorker(PythonWorkerFactory.scala:189)\r\n\tat org.apache.spark.api.python.PythonWorkerFactory.create(PythonWorkerFactory.scala:109)\r\n\tat org.apache.spark.SparkEnv.createPythonWorker(SparkEnv.scala:124)\r\n\tat org.apache.spark.api.python.BasePythonRunner.compute(PythonRunner.scala:157)\r\n\tat org.apache.spark.api.python.PythonRDD.compute(PythonRDD.scala:65)\r\n\tat org.apache.spark.rdd.RDD.computeOrReadCheckpoint(RDD.scala:365)\r\n\tat org.apache.spark.rdd.RDD.iterator(RDD.scala:329)\r\n\tat org.apache.spark.scheduler.ResultTask.runTask(ResultTask.scala:90)\r\n\tat org.apache.spark.scheduler.Task.run(Task.scala:136)\r\n\tat org.apache.spark.executor.Executor$TaskRunner.$anonfun$run$3(Executor.scala:548)\r\n\tat org.apache.spark.util.Utils$.tryWithSafeFinally(Utils.scala:1504)\r\n\tat org.apache.spark.executor.Executor$TaskRunner.run(Executor.scala:551)\r\n\tat java.base/java.util.concurrent.ThreadPoolExecutor.runWorker(ThreadPoolExecutor.java:1144)\r\n\tat java.base/java.util.concurrent.ThreadPoolExecutor$Worker.run(ThreadPoolExecutor.java:642)\r\n\t... 1 more\r\nCaused by: java.net.SocketTimeoutException: Accept timed out\r\n\tat java.base/sun.nio.ch.NioSocketImpl.timedAccept(NioSocketImpl.java:694)\r\n\tat java.base/sun.nio.ch.NioSocketImpl.accept(NioSocketImpl.java:738)\r\n\tat java.base/java.net.ServerSocket.implAccept(ServerSocket.java:690)\r\n\tat java.base/java.net.ServerSocket.platformImplAccept(ServerSocket.java:655)\r\n\tat java.base/java.net.ServerSocket.implAccept(ServerSocket.java:631)\r\n\tat java.base/java.net.ServerSocket.implAccept(ServerSocket.java:588)\r\n\tat java.base/java.net.ServerSocket.accept(ServerSocket.java:546)\r\n\tat org.apache.spark.api.python.PythonWorkerFactory.createSimpleWorker(PythonWorkerFactory.scala:176)\r\n\t... 14 more\r\n"
     ]
    }
   ],
   "source": [
    "data_df = sqlc.createDataFrame(data_rdd)\n",
    "data_df.show()"
   ]
  },
  {
   "cell_type": "markdown",
   "id": "8420f267-51a4-4dba-b823-6cbea24a0e13",
   "metadata": {},
   "source": [
    "#### LET'S CREATE A DATAFRAME FROM CSV FILE."
   ]
  },
  {
   "cell_type": "code",
   "execution_count": null,
   "id": "f9581cad-a8f8-4001-abbc-b97a5c45effa",
   "metadata": {},
   "outputs": [],
   "source": [
    "# Read file"
   ]
  },
  {
   "cell_type": "code",
   "execution_count": 13,
   "id": "8bd0619c-69c5-4de6-9939-c29212959401",
   "metadata": {},
   "outputs": [
    {
     "data": {
      "text/plain": [
       "pyspark.sql.dataframe.DataFrame"
      ]
     },
     "execution_count": 13,
     "metadata": {},
     "output_type": "execute_result"
    }
   ],
   "source": [
    "df = sqlc.read.format('com.databricks.spark.csv'). \\\n",
    "options(header = 'true', inferschema = 'true'). \\\n",
    "load ('./data/1000_Companies.csv')\n",
    "type(df)"
   ]
  },
  {
   "cell_type": "code",
   "execution_count": 11,
   "id": "1f578840-0fae-4e04-8ca3-28a62de0baa8",
   "metadata": {},
   "outputs": [],
   "source": [
    "# or\n",
    "df = sqlc.read.csv('./data/1000_Companies.csv')"
   ]
  },
  {
   "cell_type": "code",
   "execution_count": 14,
   "id": "70b5c116-b7a5-4c00-af09-26494b54aad4",
   "metadata": {},
   "outputs": [
    {
     "name": "stdout",
     "output_type": "stream",
     "text": [
      "+---------+--------------+---------------+----------+---------+\n",
      "|R&D Spend|Administration|Marketing Spend|     State|   Profit|\n",
      "+---------+--------------+---------------+----------+---------+\n",
      "| 165349.2|      136897.8|       471784.1|  New York|192261.83|\n",
      "| 162597.7|     151377.59|      443898.53|California|191792.06|\n",
      "|153441.51|     101145.55|      407934.54|   Florida|191050.39|\n",
      "|144372.41|     118671.85|      383199.62|  New York|182901.99|\n",
      "|142107.34|      91391.77|      366168.42|   Florida|166187.94|\n",
      "+---------+--------------+---------------+----------+---------+\n",
      "only showing top 5 rows\n",
      "\n"
     ]
    }
   ],
   "source": [
    "df.show(5)"
   ]
  },
  {
   "cell_type": "code",
   "execution_count": 15,
   "id": "4da7c138-3c6a-4d67-876d-b4a33588aa37",
   "metadata": {},
   "outputs": [
    {
     "name": "stdout",
     "output_type": "stream",
     "text": [
      "root\n",
      " |-- R&D Spend: double (nullable = true)\n",
      " |-- Administration: double (nullable = true)\n",
      " |-- Marketing Spend: double (nullable = true)\n",
      " |-- State: string (nullable = true)\n",
      " |-- Profit: double (nullable = true)\n",
      "\n"
     ]
    }
   ],
   "source": [
    "df.printSchema()"
   ]
  },
  {
   "cell_type": "code",
   "execution_count": 16,
   "id": "d63c6a55-84dc-4da5-8e0c-ad2cf698b06c",
   "metadata": {},
   "outputs": [
    {
     "data": {
      "text/plain": [
       "1000"
      ]
     },
     "execution_count": 16,
     "metadata": {},
     "output_type": "execute_result"
    }
   ],
   "source": [
    "#count number of rows or column\n",
    "\n",
    "df.count() #number of rows."
   ]
  },
  {
   "cell_type": "code",
   "execution_count": 17,
   "id": "4d836751-5cc0-4345-9f1f-dd9253da01a6",
   "metadata": {},
   "outputs": [
    {
     "data": {
      "text/plain": [
       "5"
      ]
     },
     "execution_count": 17,
     "metadata": {},
     "output_type": "execute_result"
    }
   ],
   "source": [
    "len(df.columns)"
   ]
  },
  {
   "cell_type": "code",
   "execution_count": 18,
   "id": "fe1d817f-c6b9-4819-b785-19bb2acbacdd",
   "metadata": {},
   "outputs": [
    {
     "name": "stdout",
     "output_type": "stream",
     "text": [
      "+-------+------------------+------------------+-----------------+----------+-----------------+\n",
      "|summary|         R&D Spend|    Administration|  Marketing Spend|     State|           Profit|\n",
      "+-------+------------------+------------------+-----------------+----------+-----------------+\n",
      "|  count|              1000|              1000|             1000|      1000|             1000|\n",
      "|   mean|        81668.9272|122963.89761169997|226205.0584188303|      null|119546.1646556102|\n",
      "| stddev|46537.567891489154|12613.927534630999|91578.39354210423|      null|42888.63384847687|\n",
      "|    min|               0.0|          51283.14|              0.0|California|          14681.4|\n",
      "|    max|          165349.2|         321652.14|         471784.1|  New York|        476485.43|\n",
      "+-------+------------------+------------------+-----------------+----------+-----------------+\n",
      "\n"
     ]
    }
   ],
   "source": [
    "df.describe().show()"
   ]
  },
  {
   "cell_type": "code",
   "execution_count": 16,
   "id": "04883236-759d-4936-b188-d8066fdb1d97",
   "metadata": {},
   "outputs": [
    {
     "name": "stdout",
     "output_type": "stream",
     "text": [
      "+-------+------------------+------------------+\n",
      "|summary|         R&D Spend|    Administration|\n",
      "+-------+------------------+------------------+\n",
      "|  count|              1000|              1000|\n",
      "|   mean|        81668.9272|122963.89761169997|\n",
      "| stddev|46537.567891489154|12613.927534630999|\n",
      "|    min|               0.0|          51283.14|\n",
      "|    max|          165349.2|         321652.14|\n",
      "+-------+------------------+------------------+\n",
      "\n"
     ]
    }
   ],
   "source": [
    "df.describe(['R&D Spend', 'Administration']). show()"
   ]
  },
  {
   "cell_type": "code",
   "execution_count": 17,
   "id": "d8c74c4e-29d0-4381-becb-020a23e5235b",
   "metadata": {},
   "outputs": [
    {
     "data": {
      "text/html": [
       "<div>\n",
       "<style scoped>\n",
       "    .dataframe tbody tr th:only-of-type {\n",
       "        vertical-align: middle;\n",
       "    }\n",
       "\n",
       "    .dataframe tbody tr th {\n",
       "        vertical-align: top;\n",
       "    }\n",
       "\n",
       "    .dataframe thead th {\n",
       "        text-align: right;\n",
       "    }\n",
       "</style>\n",
       "<table border=\"1\" class=\"dataframe\">\n",
       "  <thead>\n",
       "    <tr style=\"text-align: right;\">\n",
       "      <th></th>\n",
       "      <th>R&amp;D Spend</th>\n",
       "      <th>Administration</th>\n",
       "      <th>Marketing Spend</th>\n",
       "      <th>State</th>\n",
       "      <th>Profit</th>\n",
       "    </tr>\n",
       "  </thead>\n",
       "  <tbody>\n",
       "    <tr>\n",
       "      <th>0</th>\n",
       "      <td>165349.20</td>\n",
       "      <td>136897.800</td>\n",
       "      <td>471784.1000</td>\n",
       "      <td>New York</td>\n",
       "      <td>192261.83000</td>\n",
       "    </tr>\n",
       "    <tr>\n",
       "      <th>1</th>\n",
       "      <td>162597.70</td>\n",
       "      <td>151377.590</td>\n",
       "      <td>443898.5300</td>\n",
       "      <td>California</td>\n",
       "      <td>191792.06000</td>\n",
       "    </tr>\n",
       "    <tr>\n",
       "      <th>2</th>\n",
       "      <td>153441.51</td>\n",
       "      <td>101145.550</td>\n",
       "      <td>407934.5400</td>\n",
       "      <td>Florida</td>\n",
       "      <td>191050.39000</td>\n",
       "    </tr>\n",
       "    <tr>\n",
       "      <th>3</th>\n",
       "      <td>144372.41</td>\n",
       "      <td>118671.850</td>\n",
       "      <td>383199.6200</td>\n",
       "      <td>New York</td>\n",
       "      <td>182901.99000</td>\n",
       "    </tr>\n",
       "    <tr>\n",
       "      <th>4</th>\n",
       "      <td>142107.34</td>\n",
       "      <td>91391.770</td>\n",
       "      <td>366168.4200</td>\n",
       "      <td>Florida</td>\n",
       "      <td>166187.94000</td>\n",
       "    </tr>\n",
       "    <tr>\n",
       "      <th>...</th>\n",
       "      <td>...</td>\n",
       "      <td>...</td>\n",
       "      <td>...</td>\n",
       "      <td>...</td>\n",
       "      <td>...</td>\n",
       "    </tr>\n",
       "    <tr>\n",
       "      <th>995</th>\n",
       "      <td>54135.00</td>\n",
       "      <td>118451.999</td>\n",
       "      <td>173232.6695</td>\n",
       "      <td>California</td>\n",
       "      <td>95279.96251</td>\n",
       "    </tr>\n",
       "    <tr>\n",
       "      <th>996</th>\n",
       "      <td>134970.00</td>\n",
       "      <td>130390.080</td>\n",
       "      <td>329204.0228</td>\n",
       "      <td>California</td>\n",
       "      <td>164336.60550</td>\n",
       "    </tr>\n",
       "    <tr>\n",
       "      <th>997</th>\n",
       "      <td>100275.47</td>\n",
       "      <td>241926.310</td>\n",
       "      <td>227142.8200</td>\n",
       "      <td>California</td>\n",
       "      <td>413956.48000</td>\n",
       "    </tr>\n",
       "    <tr>\n",
       "      <th>998</th>\n",
       "      <td>128456.23</td>\n",
       "      <td>321652.140</td>\n",
       "      <td>281692.3200</td>\n",
       "      <td>California</td>\n",
       "      <td>333962.19000</td>\n",
       "    </tr>\n",
       "    <tr>\n",
       "      <th>999</th>\n",
       "      <td>161181.72</td>\n",
       "      <td>270939.860</td>\n",
       "      <td>295442.1700</td>\n",
       "      <td>New York</td>\n",
       "      <td>476485.43000</td>\n",
       "    </tr>\n",
       "  </tbody>\n",
       "</table>\n",
       "<p>1000 rows × 5 columns</p>\n",
       "</div>"
      ],
      "text/plain": [
       "     R&D Spend  Administration  Marketing Spend       State        Profit\n",
       "0    165349.20      136897.800      471784.1000    New York  192261.83000\n",
       "1    162597.70      151377.590      443898.5300  California  191792.06000\n",
       "2    153441.51      101145.550      407934.5400     Florida  191050.39000\n",
       "3    144372.41      118671.850      383199.6200    New York  182901.99000\n",
       "4    142107.34       91391.770      366168.4200     Florida  166187.94000\n",
       "..         ...             ...              ...         ...           ...\n",
       "995   54135.00      118451.999      173232.6695  California   95279.96251\n",
       "996  134970.00      130390.080      329204.0228  California  164336.60550\n",
       "997  100275.47      241926.310      227142.8200  California  413956.48000\n",
       "998  128456.23      321652.140      281692.3200  California  333962.19000\n",
       "999  161181.72      270939.860      295442.1700    New York  476485.43000\n",
       "\n",
       "[1000 rows x 5 columns]"
      ]
     },
     "execution_count": 17,
     "metadata": {},
     "output_type": "execute_result"
    }
   ],
   "source": [
    "# convert to pandas \n",
    "df.toPandas()"
   ]
  },
  {
   "cell_type": "markdown",
   "id": "82fc1ddb",
   "metadata": {},
   "source": [
    "# To check for null value"
   ]
  },
  {
   "cell_type": "code",
   "execution_count": 18,
   "id": "920ddd84",
   "metadata": {},
   "outputs": [
    {
     "name": "stdout",
     "output_type": "stream",
     "text": [
      "+---------+--------------+---------------+-----+------+\n",
      "|R&D Spend|Administration|Marketing Spend|State|Profit|\n",
      "+---------+--------------+---------------+-----+------+\n",
      "+---------+--------------+---------------+-----+------+\n",
      "\n"
     ]
    }
   ],
   "source": [
    "df.where(df['R&D Spend'].isNull()).show()"
   ]
  },
  {
   "cell_type": "code",
   "execution_count": 20,
   "id": "4ae677d9",
   "metadata": {},
   "outputs": [
    {
     "name": "stdout",
     "output_type": "stream",
     "text": [
      "+--------------+---------------+\n",
      "|Administration|Marketing Spend|\n",
      "+--------------+---------------+\n",
      "+--------------+---------------+\n",
      "\n"
     ]
    }
   ],
   "source": [
    "# Selection : this is where you pick particular column to show\n",
    "df1 = df['Administration', 'Marketing Spend']\n",
    "df1.where(df['R&D Spend'].isNull()).show()\n"
   ]
  },
  {
   "cell_type": "code",
   "execution_count": 19,
   "id": "67ec38b7-fb94-4ab5-9d6f-a4063f8c64e3",
   "metadata": {},
   "outputs": [],
   "source": [
    "# Let's run Iris.csv\n",
    "# for test cus it contains  null cells"
   ]
  },
  {
   "cell_type": "code",
   "execution_count": 20,
   "id": "ba3350fc",
   "metadata": {},
   "outputs": [
    {
     "name": "stdout",
     "output_type": "stream",
     "text": [
      "+---+-------------+------------+-------------+------------+-----------+\n",
      "| Id|SepalLengthCm|SepalWidthCm|PetalLengthCm|PetalWidthCm|    Species|\n",
      "+---+-------------+------------+-------------+------------+-----------+\n",
      "|  1|          5.1|         3.5|          1.4|         0.2|Iris-setosa|\n",
      "|  2|          4.9|           3|          1.4|         0.2|Iris-setosa|\n",
      "|  3|          4.7|         3.2|             |         0.2|Iris-setosa|\n",
      "|  4|             |         3.1|          1.5|         0.2|Iris-setosa|\n",
      "|  5|            5|         3.6|          1.4|         0.2|Iris-setosa|\n",
      "+---+-------------+------------+-------------+------------+-----------+\n",
      "only showing top 5 rows\n",
      "\n"
     ]
    }
   ],
   "source": [
    "dff2= sqlc.read.csv('C:/Users/Admin/DATA SCIENCE CLASS/data/iris_null.csv', header = True)\n",
    "dff2.show(5)"
   ]
  },
  {
   "cell_type": "code",
   "execution_count": 38,
   "id": "2e8ca296",
   "metadata": {
    "scrolled": true
   },
   "outputs": [
    {
     "name": "stdout",
     "output_type": "stream",
     "text": [
      "+---+-------------+------------+-------------+------------+-------+\n",
      "| Id|SepalLengthCm|SepalWidthCm|PetalLengthCm|PetalWidthCm|Species|\n",
      "+---+-------------+------------+-------------+------------+-------+\n",
      "+---+-------------+------------+-------------+------------+-------+\n",
      "\n"
     ]
    }
   ],
   "source": [
    "dff2.where(dff2['Id'].isNull()).show()"
   ]
  },
  {
   "cell_type": "code",
   "execution_count": null,
   "id": "89b11399-227b-41b8-a6d4-2d8a3d812c41",
   "metadata": {},
   "outputs": [],
   "source": [
    "# okay reading this all over again."
   ]
  },
  {
   "cell_type": "code",
   "execution_count": 22,
   "id": "078f691c",
   "metadata": {},
   "outputs": [
    {
     "name": "stdout",
     "output_type": "stream",
     "text": [
      "+---+-------------+------------+-------------+------------+-----------+\n",
      "| Id|SepalLengthCm|SepalWidthCm|PetalLengthCm|PetalWidthCm|    Species|\n",
      "+---+-------------+------------+-------------+------------+-----------+\n",
      "|  1|          5.1|         3.5|          1.4|         0.2|Iris-setosa|\n",
      "|  2|          4.9|           3|          1.4|         0.2|Iris-setosa|\n",
      "|  3|          4.7|         3.2|             |         0.2|Iris-setosa|\n",
      "|  4|             |         3.1|          1.5|         0.2|Iris-setosa|\n",
      "|  5|            5|         3.6|          1.4|         0.2|Iris-setosa|\n",
      "+---+-------------+------------+-------------+------------+-----------+\n",
      "only showing top 5 rows\n",
      "\n"
     ]
    }
   ],
   "source": [
    "dff3 = sqlc.read.csv('C:/Users/Admin/DATA SCIENCE CLASS/data/iris_null.csv', header = True)\n",
    "dff3.show(5)"
   ]
  },
  {
   "cell_type": "code",
   "execution_count": 32,
   "id": "9d3ea12f-8da0-4d8d-9708-f34319a2cd90",
   "metadata": {},
   "outputs": [
    {
     "name": "stdout",
     "output_type": "stream",
     "text": [
      "+---+-------------+------------+-------------+------------+-----------+\n",
      "| Id|SepalLengthCm|SepalWidthCm|PetalLengthCm|PetalWidthCm|    Species|\n",
      "+---+-------------+------------+-------------+------------+-----------+\n",
      "|  1|          5.1|         3.5|          1.4|         0.2|Iris-setosa|\n",
      "|  2|          4.9|           3|          1.4|         0.2|Iris-setosa|\n",
      "|  3|          4.7|         3.2|             |         0.2|Iris-setosa|\n",
      "|  4|             |         3.1|          1.5|         0.2|Iris-setosa|\n",
      "|  5|            5|         3.6|          1.4|         0.2|Iris-setosa|\n",
      "|  6|             |         3.9|          1.7|         0.4|Iris-setosa|\n",
      "|  7|          4.6|         3.4|          1.4|         0.3|Iris-setosa|\n",
      "|  8|             |         3.4|          1.5|         0.2|Iris-setosa|\n",
      "|  9|          4.4|         2.9|          1.4|         0.2|Iris-setosa|\n",
      "+---+-------------+------------+-------------+------------+-----------+\n",
      "only showing top 9 rows\n",
      "\n"
     ]
    }
   ],
   "source": [
    "# The first line dff3.where(dff3['SepallengthCm'].isNull()) is filtering the \n",
    "# rows of a DataFrame named dff3 where the value of the column 'SepallengthCm' is null or missing. \n",
    "# This will return a new DataFrame containing only the rows that satisfy this condition.\n",
    "\n",
    "dff3.where(dff3['SepalWidthCm'].isNull())\n",
    "dff3.show(9)"
   ]
  },
  {
   "cell_type": "code",
   "execution_count": 42,
   "id": "d2312282",
   "metadata": {},
   "outputs": [
    {
     "data": {
      "text/plain": [
       "150"
      ]
     },
     "execution_count": 42,
     "metadata": {},
     "output_type": "execute_result"
    }
   ],
   "source": [
    "dff3.select('Id').dropna().count()"
   ]
  },
  {
   "cell_type": "code",
   "execution_count": 41,
   "id": "f9e360a0",
   "metadata": {},
   "outputs": [
    {
     "data": {
      "text/plain": [
       "150"
      ]
     },
     "execution_count": 41,
     "metadata": {},
     "output_type": "execute_result"
    }
   ],
   "source": [
    "dff3.dropna().count()"
   ]
  },
  {
   "cell_type": "code",
   "execution_count": 43,
   "id": "4683ccf8",
   "metadata": {},
   "outputs": [
    {
     "data": {
      "text/plain": [
       "Column<'(Id IS NULL)'>"
      ]
     },
     "execution_count": 43,
     "metadata": {},
     "output_type": "execute_result"
    }
   ],
   "source": [
    "dff3['Id'].isNull()"
   ]
  },
  {
   "cell_type": "code",
   "execution_count": 44,
   "id": "9161210e",
   "metadata": {},
   "outputs": [
    {
     "data": {
      "text/html": [
       "<div>\n",
       "<style scoped>\n",
       "    .dataframe tbody tr th:only-of-type {\n",
       "        vertical-align: middle;\n",
       "    }\n",
       "\n",
       "    .dataframe tbody tr th {\n",
       "        vertical-align: top;\n",
       "    }\n",
       "\n",
       "    .dataframe thead th {\n",
       "        text-align: right;\n",
       "    }\n",
       "</style>\n",
       "<table border=\"1\" class=\"dataframe\">\n",
       "  <thead>\n",
       "    <tr style=\"text-align: right;\">\n",
       "      <th></th>\n",
       "      <th>Id</th>\n",
       "      <th>SepalLengthCm</th>\n",
       "      <th>SepalWidthCm</th>\n",
       "      <th>PetalLengthCm</th>\n",
       "      <th>PetalWidthCm</th>\n",
       "      <th>Species</th>\n",
       "    </tr>\n",
       "  </thead>\n",
       "  <tbody>\n",
       "    <tr>\n",
       "      <th>0</th>\n",
       "      <td>1</td>\n",
       "      <td>5.1</td>\n",
       "      <td>3.5</td>\n",
       "      <td>1.4</td>\n",
       "      <td>0.2</td>\n",
       "      <td>Iris-setosa</td>\n",
       "    </tr>\n",
       "    <tr>\n",
       "      <th>1</th>\n",
       "      <td>2</td>\n",
       "      <td>4.9</td>\n",
       "      <td>3</td>\n",
       "      <td>1.4</td>\n",
       "      <td>0.2</td>\n",
       "      <td>Iris-setosa</td>\n",
       "    </tr>\n",
       "    <tr>\n",
       "      <th>2</th>\n",
       "      <td>3</td>\n",
       "      <td>4.7</td>\n",
       "      <td>3.2</td>\n",
       "      <td>1.3</td>\n",
       "      <td>0.2</td>\n",
       "      <td>Iris-setosa</td>\n",
       "    </tr>\n",
       "    <tr>\n",
       "      <th>3</th>\n",
       "      <td>4</td>\n",
       "      <td>4.6</td>\n",
       "      <td>3.1</td>\n",
       "      <td>1.5</td>\n",
       "      <td>0.2</td>\n",
       "      <td>Iris-setosa</td>\n",
       "    </tr>\n",
       "    <tr>\n",
       "      <th>4</th>\n",
       "      <td>5</td>\n",
       "      <td>5</td>\n",
       "      <td>3.6</td>\n",
       "      <td>1.4</td>\n",
       "      <td>0.2</td>\n",
       "      <td>Iris-setosa</td>\n",
       "    </tr>\n",
       "  </tbody>\n",
       "</table>\n",
       "</div>"
      ],
      "text/plain": [
       "  Id SepalLengthCm SepalWidthCm PetalLengthCm PetalWidthCm      Species\n",
       "0  1           5.1          3.5           1.4          0.2  Iris-setosa\n",
       "1  2           4.9            3           1.4          0.2  Iris-setosa\n",
       "2  3           4.7          3.2           1.3          0.2  Iris-setosa\n",
       "3  4           4.6          3.1           1.5          0.2  Iris-setosa\n",
       "4  5             5          3.6           1.4          0.2  Iris-setosa"
      ]
     },
     "execution_count": 44,
     "metadata": {},
     "output_type": "execute_result"
    }
   ],
   "source": [
    "dff3_pandas = dff3.toPandas()\n",
    "dff3_pandas.head()"
   ]
  },
  {
   "cell_type": "code",
   "execution_count": 46,
   "id": "338ecb30",
   "metadata": {},
   "outputs": [
    {
     "data": {
      "text/html": [
       "<div>\n",
       "<style scoped>\n",
       "    .dataframe tbody tr th:only-of-type {\n",
       "        vertical-align: middle;\n",
       "    }\n",
       "\n",
       "    .dataframe tbody tr th {\n",
       "        vertical-align: top;\n",
       "    }\n",
       "\n",
       "    .dataframe thead th {\n",
       "        text-align: right;\n",
       "    }\n",
       "</style>\n",
       "<table border=\"1\" class=\"dataframe\">\n",
       "  <thead>\n",
       "    <tr style=\"text-align: right;\">\n",
       "      <th></th>\n",
       "      <th>Id</th>\n",
       "      <th>SepalLengthCm</th>\n",
       "      <th>SepalWidthCm</th>\n",
       "      <th>PetalLengthCm</th>\n",
       "      <th>PetalWidthCm</th>\n",
       "      <th>Species</th>\n",
       "    </tr>\n",
       "  </thead>\n",
       "  <tbody>\n",
       "    <tr>\n",
       "      <th>0</th>\n",
       "      <td>False</td>\n",
       "      <td>False</td>\n",
       "      <td>False</td>\n",
       "      <td>False</td>\n",
       "      <td>False</td>\n",
       "      <td>False</td>\n",
       "    </tr>\n",
       "    <tr>\n",
       "      <th>1</th>\n",
       "      <td>False</td>\n",
       "      <td>False</td>\n",
       "      <td>False</td>\n",
       "      <td>False</td>\n",
       "      <td>False</td>\n",
       "      <td>False</td>\n",
       "    </tr>\n",
       "    <tr>\n",
       "      <th>2</th>\n",
       "      <td>False</td>\n",
       "      <td>False</td>\n",
       "      <td>False</td>\n",
       "      <td>False</td>\n",
       "      <td>False</td>\n",
       "      <td>False</td>\n",
       "    </tr>\n",
       "    <tr>\n",
       "      <th>3</th>\n",
       "      <td>False</td>\n",
       "      <td>False</td>\n",
       "      <td>False</td>\n",
       "      <td>False</td>\n",
       "      <td>False</td>\n",
       "      <td>False</td>\n",
       "    </tr>\n",
       "    <tr>\n",
       "      <th>4</th>\n",
       "      <td>False</td>\n",
       "      <td>False</td>\n",
       "      <td>False</td>\n",
       "      <td>False</td>\n",
       "      <td>False</td>\n",
       "      <td>False</td>\n",
       "    </tr>\n",
       "    <tr>\n",
       "      <th>...</th>\n",
       "      <td>...</td>\n",
       "      <td>...</td>\n",
       "      <td>...</td>\n",
       "      <td>...</td>\n",
       "      <td>...</td>\n",
       "      <td>...</td>\n",
       "    </tr>\n",
       "    <tr>\n",
       "      <th>145</th>\n",
       "      <td>False</td>\n",
       "      <td>False</td>\n",
       "      <td>False</td>\n",
       "      <td>False</td>\n",
       "      <td>False</td>\n",
       "      <td>False</td>\n",
       "    </tr>\n",
       "    <tr>\n",
       "      <th>146</th>\n",
       "      <td>False</td>\n",
       "      <td>False</td>\n",
       "      <td>False</td>\n",
       "      <td>False</td>\n",
       "      <td>False</td>\n",
       "      <td>False</td>\n",
       "    </tr>\n",
       "    <tr>\n",
       "      <th>147</th>\n",
       "      <td>False</td>\n",
       "      <td>False</td>\n",
       "      <td>False</td>\n",
       "      <td>False</td>\n",
       "      <td>False</td>\n",
       "      <td>False</td>\n",
       "    </tr>\n",
       "    <tr>\n",
       "      <th>148</th>\n",
       "      <td>False</td>\n",
       "      <td>False</td>\n",
       "      <td>False</td>\n",
       "      <td>False</td>\n",
       "      <td>False</td>\n",
       "      <td>False</td>\n",
       "    </tr>\n",
       "    <tr>\n",
       "      <th>149</th>\n",
       "      <td>False</td>\n",
       "      <td>False</td>\n",
       "      <td>False</td>\n",
       "      <td>False</td>\n",
       "      <td>False</td>\n",
       "      <td>False</td>\n",
       "    </tr>\n",
       "  </tbody>\n",
       "</table>\n",
       "<p>150 rows × 6 columns</p>\n",
       "</div>"
      ],
      "text/plain": [
       "        Id  SepalLengthCm  SepalWidthCm  PetalLengthCm  PetalWidthCm  Species\n",
       "0    False          False         False          False         False    False\n",
       "1    False          False         False          False         False    False\n",
       "2    False          False         False          False         False    False\n",
       "3    False          False         False          False         False    False\n",
       "4    False          False         False          False         False    False\n",
       "..     ...            ...           ...            ...           ...      ...\n",
       "145  False          False         False          False         False    False\n",
       "146  False          False         False          False         False    False\n",
       "147  False          False         False          False         False    False\n",
       "148  False          False         False          False         False    False\n",
       "149  False          False         False          False         False    False\n",
       "\n",
       "[150 rows x 6 columns]"
      ]
     },
     "execution_count": 46,
     "metadata": {},
     "output_type": "execute_result"
    }
   ],
   "source": [
    "dff3_pandas.isnull()"
   ]
  },
  {
   "cell_type": "code",
   "execution_count": 63,
   "id": "ac2c0054",
   "metadata": {
    "scrolled": true
   },
   "outputs": [
    {
     "data": {
      "text/html": [
       "<div>\n",
       "<style scoped>\n",
       "    .dataframe tbody tr th:only-of-type {\n",
       "        vertical-align: middle;\n",
       "    }\n",
       "\n",
       "    .dataframe tbody tr th {\n",
       "        vertical-align: top;\n",
       "    }\n",
       "\n",
       "    .dataframe thead th {\n",
       "        text-align: right;\n",
       "    }\n",
       "</style>\n",
       "<table border=\"1\" class=\"dataframe\">\n",
       "  <thead>\n",
       "    <tr style=\"text-align: right;\">\n",
       "      <th></th>\n",
       "      <th>Id</th>\n",
       "      <th>SepalLengthCm</th>\n",
       "      <th>SepalWidthCm</th>\n",
       "      <th>PetalLengthCm</th>\n",
       "      <th>PetalWidthCm</th>\n",
       "      <th>Species</th>\n",
       "    </tr>\n",
       "  </thead>\n",
       "  <tbody>\n",
       "    <tr>\n",
       "      <th>0</th>\n",
       "      <td>NaN</td>\n",
       "      <td>NaN</td>\n",
       "      <td>NaN</td>\n",
       "      <td>NaN</td>\n",
       "      <td>NaN</td>\n",
       "      <td>NaN</td>\n",
       "    </tr>\n",
       "    <tr>\n",
       "      <th>1</th>\n",
       "      <td>NaN</td>\n",
       "      <td>NaN</td>\n",
       "      <td>NaN</td>\n",
       "      <td>NaN</td>\n",
       "      <td>NaN</td>\n",
       "      <td>NaN</td>\n",
       "    </tr>\n",
       "    <tr>\n",
       "      <th>2</th>\n",
       "      <td>NaN</td>\n",
       "      <td>NaN</td>\n",
       "      <td>NaN</td>\n",
       "      <td>NaN</td>\n",
       "      <td>NaN</td>\n",
       "      <td>NaN</td>\n",
       "    </tr>\n",
       "    <tr>\n",
       "      <th>3</th>\n",
       "      <td>NaN</td>\n",
       "      <td>NaN</td>\n",
       "      <td>NaN</td>\n",
       "      <td>NaN</td>\n",
       "      <td>NaN</td>\n",
       "      <td>NaN</td>\n",
       "    </tr>\n",
       "    <tr>\n",
       "      <th>4</th>\n",
       "      <td>NaN</td>\n",
       "      <td>NaN</td>\n",
       "      <td>NaN</td>\n",
       "      <td>NaN</td>\n",
       "      <td>NaN</td>\n",
       "      <td>NaN</td>\n",
       "    </tr>\n",
       "    <tr>\n",
       "      <th>...</th>\n",
       "      <td>...</td>\n",
       "      <td>...</td>\n",
       "      <td>...</td>\n",
       "      <td>...</td>\n",
       "      <td>...</td>\n",
       "      <td>...</td>\n",
       "    </tr>\n",
       "    <tr>\n",
       "      <th>145</th>\n",
       "      <td>NaN</td>\n",
       "      <td>NaN</td>\n",
       "      <td>NaN</td>\n",
       "      <td>NaN</td>\n",
       "      <td>NaN</td>\n",
       "      <td>NaN</td>\n",
       "    </tr>\n",
       "    <tr>\n",
       "      <th>146</th>\n",
       "      <td>NaN</td>\n",
       "      <td>NaN</td>\n",
       "      <td>NaN</td>\n",
       "      <td>NaN</td>\n",
       "      <td>NaN</td>\n",
       "      <td>NaN</td>\n",
       "    </tr>\n",
       "    <tr>\n",
       "      <th>147</th>\n",
       "      <td>NaN</td>\n",
       "      <td>NaN</td>\n",
       "      <td>NaN</td>\n",
       "      <td>NaN</td>\n",
       "      <td>NaN</td>\n",
       "      <td>NaN</td>\n",
       "    </tr>\n",
       "    <tr>\n",
       "      <th>148</th>\n",
       "      <td>NaN</td>\n",
       "      <td>NaN</td>\n",
       "      <td>NaN</td>\n",
       "      <td>NaN</td>\n",
       "      <td>NaN</td>\n",
       "      <td>NaN</td>\n",
       "    </tr>\n",
       "    <tr>\n",
       "      <th>149</th>\n",
       "      <td>NaN</td>\n",
       "      <td>NaN</td>\n",
       "      <td>NaN</td>\n",
       "      <td>NaN</td>\n",
       "      <td>NaN</td>\n",
       "      <td>NaN</td>\n",
       "    </tr>\n",
       "  </tbody>\n",
       "</table>\n",
       "<p>150 rows × 6 columns</p>\n",
       "</div>"
      ],
      "text/plain": [
       "      Id SepalLengthCm SepalWidthCm PetalLengthCm PetalWidthCm Species\n",
       "0    NaN           NaN          NaN           NaN          NaN     NaN\n",
       "1    NaN           NaN          NaN           NaN          NaN     NaN\n",
       "2    NaN           NaN          NaN           NaN          NaN     NaN\n",
       "3    NaN           NaN          NaN           NaN          NaN     NaN\n",
       "4    NaN           NaN          NaN           NaN          NaN     NaN\n",
       "..   ...           ...          ...           ...          ...     ...\n",
       "145  NaN           NaN          NaN           NaN          NaN     NaN\n",
       "146  NaN           NaN          NaN           NaN          NaN     NaN\n",
       "147  NaN           NaN          NaN           NaN          NaN     NaN\n",
       "148  NaN           NaN          NaN           NaN          NaN     NaN\n",
       "149  NaN           NaN          NaN           NaN          NaN     NaN\n",
       "\n",
       "[150 rows x 6 columns]"
      ]
     },
     "execution_count": 63,
     "metadata": {},
     "output_type": "execute_result"
    }
   ],
   "source": [
    "dff3_pandas.where(dff3_pandas['SepalLengthCm'].isnull())"
   ]
  },
  {
   "cell_type": "code",
   "execution_count": 65,
   "id": "4a3db794",
   "metadata": {},
   "outputs": [
    {
     "data": {
      "text/plain": [
       "150"
      ]
     },
     "execution_count": 65,
     "metadata": {},
     "output_type": "execute_result"
    }
   ],
   "source": [
    "dff3.select ('SepalLengthCm').dropna().count()"
   ]
  },
  {
   "cell_type": "code",
   "execution_count": 33,
   "id": "a52ed7fe",
   "metadata": {},
   "outputs": [
    {
     "data": {
      "text/plain": [
       "DataFrame[SepalLengthCm: string, SepalLengthCm: string]"
      ]
     },
     "execution_count": 33,
     "metadata": {},
     "output_type": "execute_result"
    }
   ],
   "source": [
    "dff3.select('SepalLengthCm', 'SepalLengthCm').fillna(1)"
   ]
  },
  {
   "cell_type": "code",
   "execution_count": 35,
   "id": "87954214",
   "metadata": {},
   "outputs": [
    {
     "name": "stdout",
     "output_type": "stream",
     "text": [
      "+-------------+\n",
      "|SepallengthCm|\n",
      "+-------------+\n",
      "|            0|\n",
      "+-------------+\n",
      "\n"
     ]
    }
   ],
   "source": [
    "# Assignment : To fill any null value on the column with 1. write the code\n",
    "    \n",
    "y = dff3.select('SepallengthCm').fillna('1')\n",
    "\n",
    "from pyspark.sql.functions import isnan, when, count, col\n",
    "\n",
    "y.select([count(when(isnan(i) | col(i).isNull(), i)).alias(i) for i in\n",
    "y.columns]).show()"
   ]
  },
  {
   "cell_type": "markdown",
   "id": "dd1b263a-9077-4eca-ba25-9c563a5f3217",
   "metadata": {},
   "source": [
    "The na.fill() method is used to replace all null or missing values in a DataFrame or Series with a specified value. In this case, the specified value is a dictionary containing column names and their respective replacement values."
   ]
  },
  {
   "cell_type": "code",
   "execution_count": 53,
   "id": "15956c6b",
   "metadata": {},
   "outputs": [],
   "source": [
    "# to assign different number to the null value to respective number.\n",
    "zee = dff3.fillna({'SepalLengthCm': 8, 'PetalWidthCm': 0.20, 'SepalWidthCm': 20})"
   ]
  },
  {
   "cell_type": "code",
   "execution_count": 54,
   "id": "584756d4",
   "metadata": {},
   "outputs": [
    {
     "name": "stdout",
     "output_type": "stream",
     "text": [
      "+---+-------------+------------+-------------+------------+-------+\n",
      "| Id|SepalLengthCm|SepalWidthCm|PetalLengthCm|PetalWidthCm|Species|\n",
      "+---+-------------+------------+-------------+------------+-------+\n",
      "|  0|            0|           0|            0|           0|      0|\n",
      "+---+-------------+------------+-------------+------------+-------+\n",
      "\n"
     ]
    }
   ],
   "source": [
    "from pyspark.sql.functions import isnan, when, count, col\n",
    "\n",
    "zee.select([count(when(isnan(i) | col(i).isNull(), i)).alias(i) for i in\n",
    "zee.columns]).show()"
   ]
  },
  {
   "cell_type": "code",
   "execution_count": null,
   "id": "81d5b418",
   "metadata": {},
   "outputs": [
    {
     "name": "stdout",
     "output_type": "stream",
     "text": [
      "+---+-------------+------------+-------------+------------+-----------+\n",
      "| Id|SepalLengthCm|SepalWidthCm|PetalLengthCm|PetalWidthCm|    Species|\n",
      "+---+-------------+------------+-------------+------------+-----------+\n",
      "|  1|          5.1|         3.5|          1.4|         0.2|Iris-setosa|\n",
      "|  2|          4.9|           3|          1.4|         0.2|Iris-setosa|\n",
      "|  3|          4.7|         3.2|             |         0.2|Iris-setosa|\n",
      "|  4|             |         3.1|          1.5|         0.2|Iris-setosa|\n",
      "|  5|            5|         3.6|          1.4|         0.2|Iris-setosa|\n",
      "|  6|             |         3.9|          1.7|         0.4|Iris-setosa|\n",
      "|  7|          4.6|         3.4|          1.4|         0.3|Iris-setosa|\n",
      "|  8|             |         3.4|          1.5|         0.2|Iris-setosa|\n",
      "|  9|          4.4|         2.9|          1.4|         0.2|Iris-setosa|\n",
      "| 10|          4.9|         3.1|          1.5|         0.1|Iris-setosa|\n",
      "| 11|          5.4|            |             |         0.2|Iris-setosa|\n",
      "| 12|          4.8|         3.4|          1.6|         0.2|Iris-setosa|\n",
      "| 13|             |           3|             |         0.1|Iris-setosa|\n",
      "| 14|          4.3|           3|          1.1|         0.1|Iris-setosa|\n",
      "| 15|          5.8|           4|          1.2|         0.2|Iris-setosa|\n",
      "| 16|          5.7|         4.4|          1.5|         0.4|Iris-setosa|\n",
      "| 17|          5.4|         3.9|          1.3|         0.4|Iris-setosa|\n",
      "| 18|          5.1|         3.5|          1.4|         0.3|Iris-setosa|\n",
      "| 19|          5.7|         3.8|          1.7|         0.3|Iris-setosa|\n",
      "| 20|          5.1|         3.8|          1.5|         0.3|Iris-setosa|\n",
      "+---+-------------+------------+-------------+------------+-----------+\n",
      "only showing top 20 rows\n",
      "\n"
     ]
    }
   ],
   "source": [
    "zee.show(20)"
   ]
  },
  {
   "cell_type": "code",
   "execution_count": null,
   "id": "e5a48762",
   "metadata": {},
   "outputs": [],
   "source": []
  },
  {
   "cell_type": "code",
   "execution_count": null,
   "id": "9a667e54",
   "metadata": {},
   "outputs": [],
   "source": []
  },
  {
   "cell_type": "code",
   "execution_count": 71,
   "id": "72adc002",
   "metadata": {},
   "outputs": [],
   "source": []
  },
  {
   "cell_type": "code",
   "execution_count": null,
   "id": "c2cdd753",
   "metadata": {},
   "outputs": [],
   "source": []
  },
  {
   "cell_type": "markdown",
   "id": "7d05f057-5901-4f5d-807e-02d14cc6b479",
   "metadata": {},
   "source": [
    "# CORRELATION"
   ]
  },
  {
   "cell_type": "code",
   "execution_count": 56,
   "id": "46247e23",
   "metadata": {},
   "outputs": [],
   "source": [
    "# # CORRELATION\n",
    "# it checks how two variable correlate between eachother\n",
    "# it checks the effect a change in variableA on variableB\n",
    "\n",
    "# it is called by \"Corr\""
   ]
  },
  {
   "cell_type": "markdown",
   "id": "703198b8-4137-4d8e-847a-425dc725ca02",
   "metadata": {},
   "source": [
    "The corr() method in PySpark is used to calculate the correlation between two columns in a DataFrame. The correlation coefficient is a measure of the strength and direction of the linear relationship between two variables. The corr() method can be used in several ways:\n",
    "\n",
    "Correlation between two columns in a DataFrame:\n"
   ]
  },
  {
   "cell_type": "code",
   "execution_count": 58,
   "id": "c59bf630",
   "metadata": {},
   "outputs": [
    {
     "name": "stdout",
     "output_type": "stream",
     "text": [
      "Correlation coefficient between col1 and col2: -0.09582879574532006\n"
     ]
    }
   ],
   "source": [
    "from pyspark.sql.functions import corr\n",
    "\n",
    "# Create a SparkSession object\n",
    "spark = SparkSession.builder.appName(\"MyApp\").getOrCreate()\n",
    "\n",
    "# Load the DataFrame\n",
    "df = spark.read.csv(\"C:/Users/Admin/DATA SCIENCE CLASS/data/iris_null.csv\", header=True, inferSchema=True)\n",
    "\n",
    "# Calculate the correlation between two columns\n",
    "corr_coeff = df.select(corr(\"SepalLengthCm\", \"SepalWidthCm\")).collect()[0][0]\n",
    "\n",
    "print(\"Correlation coefficient between col1 and col2:\", corr_coeff)\n"
   ]
  },
  {
   "cell_type": "code",
   "execution_count": null,
   "id": "27d44d56",
   "metadata": {},
   "outputs": [],
   "source": [
    "# Question: What does that correlation really mean. and what is it's usefulness.\n"
   ]
  },
  {
   "cell_type": "markdown",
   "id": "d8ccea5f-0fe1-4c19-994b-a65a3161647a",
   "metadata": {},
   "source": []
  },
  {
   "cell_type": "markdown",
   "id": "dbe745bb-8845-46e6-9067-d965a6ca721d",
   "metadata": {},
   "source": [
    "### EXAMPLES OF OTHER CORRELATION USES"
   ]
  },
  {
   "cell_type": "code",
   "execution_count": 62,
   "id": "a2745dbd-a724-452e-bf53-8667e779bb2f",
   "metadata": {},
   "outputs": [
    {
     "data": {
      "text/plain": [
       "-0.09582879574532006"
      ]
     },
     "execution_count": 62,
     "metadata": {},
     "output_type": "execute_result"
    }
   ],
   "source": [
    "# Calculate the correlation between two columns of a DataFrame:\n",
    "\n",
    "from pyspark.sql.functions import corr\n",
    "\n",
    "# Load the DataFrame\n",
    "df = spark.read.csv(\"C:/Users/Admin/DATA SCIENCE CLASS/data/iris_null.csv\", header=True, inferSchema=True)\n",
    "\n",
    "# Calculate the correlation between two columns\n",
    "corr_coeff = df.select(corr(\"SepalLengthCm\", \"SepalWidthCm\")).collect()[0][0]\n",
    "corr_coeff\n",
    "\n",
    "# This code reads a CSV file into a DataFrame using spark.read.csv, then \n",
    "# calculates the correlation between two columns using the corr function and \n",
    "# stores the result in the corr_coeff variable."
   ]
  },
  {
   "cell_type": "code",
   "execution_count": null,
   "id": "f2a10d32-e952-4a4e-bf29-358f6928c2cf",
   "metadata": {},
   "outputs": [],
   "source": []
  },
  {
   "cell_type": "code",
   "execution_count": 72,
   "id": "a0d7e839-81ca-4f69-b30a-1d7ccbf23f93",
   "metadata": {},
   "outputs": [
    {
     "data": {
      "text/plain": [
       "[Row(corr(SepalLengthCm, SepalWidthCm)=-0.09582879574532006, corr(SepalLengthCm, SepalWidthCm)=-0.09582879574532006, corr(SepalLengthCm, SepalWidthCm)=-0.09582879574532006, corr(SepalLengthCm, SepalWidthCm)=-0.09582879574532006, corr(SepalLengthCm, SepalWidthCm)=-0.09582879574532006, corr(SepalLengthCm, SepalWidthCm)=-0.09582879574532006, corr(SepalLengthCm, SepalWidthCm)=-0.09582879574532006, corr(SepalLengthCm, SepalWidthCm)=-0.09582879574532006, corr(SepalLengthCm, SepalWidthCm)=-0.09582879574532006, corr(SepalLengthCm, SepalWidthCm)=-0.09582879574532006, corr(SepalLengthCm, SepalWidthCm)=-0.09582879574532006, corr(SepalLengthCm, SepalWidthCm)=-0.09582879574532006, corr(SepalLengthCm, SepalWidthCm)=-0.09582879574532006, corr(SepalLengthCm, SepalWidthCm)=-0.09582879574532006, corr(SepalLengthCm, SepalWidthCm)=-0.09582879574532006, corr(SepalLengthCm, SepalWidthCm)=-0.09582879574532006, corr(SepalLengthCm, SepalWidthCm)=-0.09582879574532006, corr(SepalLengthCm, SepalWidthCm)=-0.09582879574532006, corr(SepalLengthCm, SepalWidthCm)=-0.09582879574532006, corr(SepalLengthCm, SepalWidthCm)=-0.09582879574532006, corr(SepalLengthCm, SepalWidthCm)=-0.09582879574532006, corr(SepalLengthCm, SepalWidthCm)=-0.09582879574532006, corr(SepalLengthCm, SepalWidthCm)=-0.09582879574532006, corr(SepalLengthCm, SepalWidthCm)=-0.09582879574532006, corr(SepalLengthCm, SepalWidthCm)=-0.09582879574532006, corr(SepalLengthCm, SepalWidthCm)=-0.09582879574532006, corr(SepalLengthCm, SepalWidthCm)=-0.09582879574532006, corr(SepalLengthCm, SepalWidthCm)=-0.09582879574532006, corr(SepalLengthCm, SepalWidthCm)=-0.09582879574532006, corr(SepalLengthCm, SepalWidthCm)=-0.09582879574532006, corr(SepalLengthCm, SepalWidthCm)=-0.09582879574532006, corr(SepalLengthCm, SepalWidthCm)=-0.09582879574532006, corr(SepalLengthCm, SepalWidthCm)=-0.09582879574532006, corr(SepalLengthCm, SepalWidthCm)=-0.09582879574532006, corr(SepalLengthCm, SepalWidthCm)=-0.09582879574532006, corr(SepalLengthCm, SepalWidthCm)=-0.09582879574532006)]"
      ]
     },
     "execution_count": 72,
     "metadata": {},
     "output_type": "execute_result"
    }
   ],
   "source": [
    "# Calculate the correlation between multiple columns of a DataFrame:\n",
    "\n",
    "from pyspark.sql.functions import corr\n",
    "\n",
    "# Load the DataFrame\n",
    "df = spark.read.csv(\"C:/Users/Admin/DATA SCIENCE CLASS/data/iris_null.csv\", header=True, inferSchema=True)\n",
    "\n",
    "# Calculate the correlation between multiple columns\n",
    "corr_coeffs = df.select([corr(\"SepalLengthCm\", \"SepalWidthCm\") for SepalLengthCm in df.columns for SepalWidthCm in df.columns]).collect()\n",
    "corr_coeffs\n",
    "# This code reads a CSV file into a DataFrame using spark.read.csv, \n",
    "# then calculates the correlation between each pair of columns using nested\n",
    "# list comprehension and the corr function. The result is stored in the \n",
    "# corr_coeffs variable as a list of correlation coefficients.\n"
   ]
  },
  {
   "cell_type": "code",
   "execution_count": 1,
   "id": "98b76f33-686a-462b-aa4b-e26220bce451",
   "metadata": {},
   "outputs": [],
   "source": [
    "#MACHINE LEARNING!!! #MACHINE LEARNING!! #MACHINE LEARNING!\n",
    "#May 9\n",
    "\n",
    "# ARTIFICIAL INTELLIGENCE\n"
   ]
  },
  {
   "cell_type": "code",
   "execution_count": null,
   "id": "1a484df7-024a-4cf6-84ab-24b78d03673d",
   "metadata": {},
   "outputs": [],
   "source": []
  }
 ],
 "metadata": {
  "kernelspec": {
   "display_name": "Python 3 (ipykernel)",
   "language": "python",
   "name": "python3"
  },
  "language_info": {
   "codemirror_mode": {
    "name": "ipython",
    "version": 3
   },
   "file_extension": ".py",
   "mimetype": "text/x-python",
   "name": "python",
   "nbconvert_exporter": "python",
   "pygments_lexer": "ipython3",
   "version": "3.9.12"
  },
  "widgets": {
   "application/vnd.jupyter.widget-state+json": {
    "state": {},
    "version_major": 2,
    "version_minor": 0
   }
  }
 },
 "nbformat": 4,
 "nbformat_minor": 5
}
